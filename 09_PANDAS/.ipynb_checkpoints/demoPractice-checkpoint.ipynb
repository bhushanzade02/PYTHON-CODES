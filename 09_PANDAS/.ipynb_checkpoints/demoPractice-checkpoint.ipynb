{
 "cells": [
  {
   "cell_type": "code",
   "execution_count": 41,
   "id": "75b751a4-df36-42b3-a161-6ea10674466d",
   "metadata": {},
   "outputs": [],
   "source": [
    "import pandas as pd \n",
    "data = pd.read_csv(\"D:/04_HOUSE PRICE PREDICTION/Pune house data.csv\")"
   ]
  },
  {
   "cell_type": "code",
   "execution_count": 3,
   "id": "11c0e95f-df15-4f83-880a-4fb6c0c77003",
   "metadata": {},
   "outputs": [
    {
     "name": "stdout",
     "output_type": "stream",
     "text": [
      "                  area_type   availability       size  society total_sqft  \\\n",
      "0      Super built-up  Area         19-Dec      2 BHK  Coomee        1056   \n",
      "1                Plot  Area  Ready To Move  4 Bedroom  Theanmp       2600   \n",
      "2            Built-up  Area  Ready To Move      3 BHK      NaN       1440   \n",
      "3      Super built-up  Area  Ready To Move      3 BHK  Soiewre       1521   \n",
      "4      Super built-up  Area  Ready To Move      2 BHK      NaN       1200   \n",
      "...                     ...            ...        ...      ...        ...   \n",
      "13315        Built-up  Area  Ready To Move  5 Bedroom  ArsiaEx       3453   \n",
      "13316  Super built-up  Area  Ready To Move      4 BHK      NaN       3600   \n",
      "13317        Built-up  Area  Ready To Move      2 BHK  Mahla T       1141   \n",
      "13318  Super built-up  Area         18-Jun      4 BHK  SollyCl       4689   \n",
      "13319  Super built-up  Area  Ready To Move      1 BHK      NaN        550   \n",
      "\n",
      "       bath  balcony   price         site_location  \n",
      "0       2.0      1.0   39.07           Alandi Road  \n",
      "1       5.0      3.0  120.00       Ambegaon Budruk  \n",
      "2       2.0      3.0   62.00            Anandnagar  \n",
      "3       3.0      1.0   95.00                 Aundh  \n",
      "4       2.0      1.0   51.00            Aundh Road  \n",
      "...     ...      ...     ...                   ...  \n",
      "13315   4.0      0.0  231.00                Pashan  \n",
      "13316   5.0      NaN  400.00             Paud Road  \n",
      "13317   2.0      1.0   60.00              Pirangut  \n",
      "13318   4.0      1.0  488.00          Prabhat Road  \n",
      "13319   1.0      1.0   17.00  Pune Railway Station  \n",
      "\n",
      "[13320 rows x 9 columns]\n"
     ]
    }
   ],
   "source": [
    "print(data)"
   ]
  },
  {
   "cell_type": "code",
   "execution_count": 4,
   "id": "2b3d1d05-125c-4f52-801a-5ca006c564bf",
   "metadata": {},
   "outputs": [
    {
     "name": "stdout",
     "output_type": "stream",
     "text": [
      "              area_type   availability       size  society total_sqft  bath  \\\n",
      "0  Super built-up  Area         19-Dec      2 BHK  Coomee        1056   2.0   \n",
      "1            Plot  Area  Ready To Move  4 Bedroom  Theanmp       2600   5.0   \n",
      "2        Built-up  Area  Ready To Move      3 BHK      NaN       1440   2.0   \n",
      "3  Super built-up  Area  Ready To Move      3 BHK  Soiewre       1521   3.0   \n",
      "4  Super built-up  Area  Ready To Move      2 BHK      NaN       1200   2.0   \n",
      "5  Super built-up  Area  Ready To Move      2 BHK  DuenaTa       1170   2.0   \n",
      "6  Super built-up  Area         18-May      4 BHK  Jaades        2732   4.0   \n",
      "7  Super built-up  Area  Ready To Move      4 BHK  Brway G       3300   4.0   \n",
      "8  Super built-up  Area  Ready To Move      3 BHK      NaN       1310   3.0   \n",
      "9            Plot  Area  Ready To Move  6 Bedroom      NaN       1020   6.0   \n",
      "\n",
      "   balcony   price    site_location  \n",
      "0      1.0   39.07      Alandi Road  \n",
      "1      3.0  120.00  Ambegaon Budruk  \n",
      "2      3.0   62.00       Anandnagar  \n",
      "3      1.0   95.00            Aundh  \n",
      "4      1.0   51.00       Aundh Road  \n",
      "5      1.0   38.00     Balaji Nagar  \n",
      "6      NaN  204.00            Baner  \n",
      "7      NaN  600.00       Baner road  \n",
      "8      1.0   63.25  Bhandarkar Road  \n",
      "9      NaN  370.00     Bhavani Peth  \n"
     ]
    }
   ],
   "source": [
    "print(data.head(10))"
   ]
  },
  {
   "cell_type": "code",
   "execution_count": 7,
   "id": "4f474b7e-5087-4ecd-8403-84df97a630ca",
   "metadata": {},
   "outputs": [
    {
     "data": {
      "text/plain": [
       "<bound method NDFrame.tail of                   area_type   availability       size  society total_sqft  \\\n",
       "0      Super built-up  Area         19-Dec      2 BHK  Coomee        1056   \n",
       "1                Plot  Area  Ready To Move  4 Bedroom  Theanmp       2600   \n",
       "2            Built-up  Area  Ready To Move      3 BHK      NaN       1440   \n",
       "3      Super built-up  Area  Ready To Move      3 BHK  Soiewre       1521   \n",
       "4      Super built-up  Area  Ready To Move      2 BHK      NaN       1200   \n",
       "...                     ...            ...        ...      ...        ...   \n",
       "13315        Built-up  Area  Ready To Move  5 Bedroom  ArsiaEx       3453   \n",
       "13316  Super built-up  Area  Ready To Move      4 BHK      NaN       3600   \n",
       "13317        Built-up  Area  Ready To Move      2 BHK  Mahla T       1141   \n",
       "13318  Super built-up  Area         18-Jun      4 BHK  SollyCl       4689   \n",
       "13319  Super built-up  Area  Ready To Move      1 BHK      NaN        550   \n",
       "\n",
       "       bath  balcony   price         site_location  \n",
       "0       2.0      1.0   39.07           Alandi Road  \n",
       "1       5.0      3.0  120.00       Ambegaon Budruk  \n",
       "2       2.0      3.0   62.00            Anandnagar  \n",
       "3       3.0      1.0   95.00                 Aundh  \n",
       "4       2.0      1.0   51.00            Aundh Road  \n",
       "...     ...      ...     ...                   ...  \n",
       "13315   4.0      0.0  231.00                Pashan  \n",
       "13316   5.0      NaN  400.00             Paud Road  \n",
       "13317   2.0      1.0   60.00              Pirangut  \n",
       "13318   4.0      1.0  488.00          Prabhat Road  \n",
       "13319   1.0      1.0   17.00  Pune Railway Station  \n",
       "\n",
       "[13320 rows x 9 columns]>"
      ]
     },
     "execution_count": 7,
     "metadata": {},
     "output_type": "execute_result"
    }
   ],
   "source": [
    "data.tail"
   ]
  },
  {
   "cell_type": "code",
   "execution_count": 9,
   "id": "0080d881-6257-4d66-b13d-60a69e2da795",
   "metadata": {},
   "outputs": [
    {
     "name": "stdout",
     "output_type": "stream",
     "text": [
      "<class 'pandas.core.frame.DataFrame'>\n",
      "RangeIndex: 13320 entries, 0 to 13319\n",
      "Data columns (total 9 columns):\n",
      " #   Column         Non-Null Count  Dtype  \n",
      "---  ------         --------------  -----  \n",
      " 0   area_type      13320 non-null  object \n",
      " 1   availability   13320 non-null  object \n",
      " 2   size           13304 non-null  object \n",
      " 3   society        7818 non-null   object \n",
      " 4   total_sqft     13320 non-null  object \n",
      " 5   bath           13247 non-null  float64\n",
      " 6   balcony        12711 non-null  float64\n",
      " 7   price          13320 non-null  float64\n",
      " 8   site_location  13319 non-null  object \n",
      "dtypes: float64(3), object(6)\n",
      "memory usage: 936.7+ KB\n",
      "None\n"
     ]
    }
   ],
   "source": [
    "print(data.info())"
   ]
  },
  {
   "cell_type": "code",
   "execution_count": 10,
   "id": "da857be6-b743-40df-954c-cc5fbaf24231",
   "metadata": {},
   "outputs": [
    {
     "data": {
      "text/html": [
       "<div>\n",
       "<style scoped>\n",
       "    .dataframe tbody tr th:only-of-type {\n",
       "        vertical-align: middle;\n",
       "    }\n",
       "\n",
       "    .dataframe tbody tr th {\n",
       "        vertical-align: top;\n",
       "    }\n",
       "\n",
       "    .dataframe thead th {\n",
       "        text-align: right;\n",
       "    }\n",
       "</style>\n",
       "<table border=\"1\" class=\"dataframe\">\n",
       "  <thead>\n",
       "    <tr style=\"text-align: right;\">\n",
       "      <th></th>\n",
       "      <th>bath</th>\n",
       "      <th>balcony</th>\n",
       "      <th>price</th>\n",
       "    </tr>\n",
       "  </thead>\n",
       "  <tbody>\n",
       "    <tr>\n",
       "      <th>count</th>\n",
       "      <td>13247.000000</td>\n",
       "      <td>12711.000000</td>\n",
       "      <td>13320.000000</td>\n",
       "    </tr>\n",
       "    <tr>\n",
       "      <th>mean</th>\n",
       "      <td>2.692610</td>\n",
       "      <td>1.584376</td>\n",
       "      <td>112.565627</td>\n",
       "    </tr>\n",
       "    <tr>\n",
       "      <th>std</th>\n",
       "      <td>1.341458</td>\n",
       "      <td>0.817263</td>\n",
       "      <td>148.971674</td>\n",
       "    </tr>\n",
       "    <tr>\n",
       "      <th>min</th>\n",
       "      <td>1.000000</td>\n",
       "      <td>0.000000</td>\n",
       "      <td>8.000000</td>\n",
       "    </tr>\n",
       "    <tr>\n",
       "      <th>25%</th>\n",
       "      <td>2.000000</td>\n",
       "      <td>1.000000</td>\n",
       "      <td>50.000000</td>\n",
       "    </tr>\n",
       "    <tr>\n",
       "      <th>50%</th>\n",
       "      <td>2.000000</td>\n",
       "      <td>2.000000</td>\n",
       "      <td>72.000000</td>\n",
       "    </tr>\n",
       "    <tr>\n",
       "      <th>75%</th>\n",
       "      <td>3.000000</td>\n",
       "      <td>2.000000</td>\n",
       "      <td>120.000000</td>\n",
       "    </tr>\n",
       "    <tr>\n",
       "      <th>max</th>\n",
       "      <td>40.000000</td>\n",
       "      <td>3.000000</td>\n",
       "      <td>3600.000000</td>\n",
       "    </tr>\n",
       "  </tbody>\n",
       "</table>\n",
       "</div>"
      ],
      "text/plain": [
       "               bath       balcony         price\n",
       "count  13247.000000  12711.000000  13320.000000\n",
       "mean       2.692610      1.584376    112.565627\n",
       "std        1.341458      0.817263    148.971674\n",
       "min        1.000000      0.000000      8.000000\n",
       "25%        2.000000      1.000000     50.000000\n",
       "50%        2.000000      2.000000     72.000000\n",
       "75%        3.000000      2.000000    120.000000\n",
       "max       40.000000      3.000000   3600.000000"
      ]
     },
     "execution_count": 10,
     "metadata": {},
     "output_type": "execute_result"
    }
   ],
   "source": [
    "data.describe()"
   ]
  },
  {
   "cell_type": "code",
   "execution_count": 14,
   "id": "ada475c4-8c90-44f4-a18f-ddc3c2d6d88e",
   "metadata": {},
   "outputs": [
    {
     "data": {
      "text/plain": [
       "area_type           0\n",
       "availability        0\n",
       "size               16\n",
       "society          5502\n",
       "total_sqft          0\n",
       "bath               73\n",
       "balcony           609\n",
       "price               0\n",
       "site_location       1\n",
       "dtype: int64"
      ]
     },
     "execution_count": 14,
     "metadata": {},
     "output_type": "execute_result"
    }
   ],
   "source": [
    "data.isnull().sum()"
   ]
  },
  {
   "cell_type": "code",
   "execution_count": 15,
   "id": "0297cf67-b793-4c4a-9a7a-35b81da8ad30",
   "metadata": {},
   "outputs": [
    {
     "name": "stdout",
     "output_type": "stream",
     "text": [
      "0        False\n",
      "1        False\n",
      "2        False\n",
      "3        False\n",
      "4        False\n",
      "         ...  \n",
      "13315    False\n",
      "13316    False\n",
      "13317    False\n",
      "13318    False\n",
      "13319    False\n",
      "Length: 13320, dtype: bool\n"
     ]
    }
   ],
   "source": [
    "print(data.duplicated())"
   ]
  },
  {
   "cell_type": "code",
   "execution_count": 18,
   "id": "8cb7ef51-0115-46bb-9615-322773f23076",
   "metadata": {},
   "outputs": [
    {
     "name": "stdout",
     "output_type": "stream",
     "text": [
      "10631\n"
     ]
    }
   ],
   "source": [
    "print(data[\"society\"].duplicated().sum())"
   ]
  },
  {
   "cell_type": "code",
   "execution_count": 19,
   "id": "d7f43018-f652-47aa-b468-30d0fc441926",
   "metadata": {},
   "outputs": [
    {
     "name": "stdout",
     "output_type": "stream",
     "text": [
      "13222\n"
     ]
    }
   ],
   "source": [
    "print(data[\"site_location\"].duplicated().sum())"
   ]
  },
  {
   "cell_type": "code",
   "execution_count": 20,
   "id": "4cd8e0e1-223e-47d5-be34-769731ae1d59",
   "metadata": {},
   "outputs": [
    {
     "name": "stdout",
     "output_type": "stream",
     "text": [
      "11326\n"
     ]
    }
   ],
   "source": [
    "print(data[\"price\"].duplicated().sum())"
   ]
  },
  {
   "cell_type": "code",
   "execution_count": 21,
   "id": "da77faef-488b-4661-9d2f-0a440ae4c4b7",
   "metadata": {},
   "outputs": [
    {
     "name": "stdout",
     "output_type": "stream",
     "text": [
      "13316\n"
     ]
    }
   ],
   "source": [
    "print(data[\"area_type\"].duplicated().sum())"
   ]
  },
  {
   "cell_type": "code",
   "execution_count": 24,
   "id": "40445ff1-3bd9-41b7-97e8-e6d07a5c2a87",
   "metadata": {},
   "outputs": [
    {
     "name": "stdout",
     "output_type": "stream",
     "text": [
      "13239\n"
     ]
    }
   ],
   "source": [
    "print(data[\"availability\"].duplicated().sum())"
   ]
  },
  {
   "cell_type": "code",
   "execution_count": 33,
   "id": "c441c2b4-4dab-4d66-b477-0d1ce351132a",
   "metadata": {},
   "outputs": [
    {
     "name": "stdout",
     "output_type": "stream",
     "text": [
      "                  area_type   availability       size  society total_sqft  \\\n",
      "0      Super built-up  Area         19-Dec      2 BHK  Coomee        1056   \n",
      "1                Plot  Area  Ready To Move  4 Bedroom  Theanmp       2600   \n",
      "6      Super built-up  Area         18-May      4 BHK  Jaades        2732   \n",
      "10     Super built-up  Area         18-Feb      3 BHK      NaN       1800   \n",
      "24     Super built-up  Area         18-Nov       1 RK  Bhe 2ko        510   \n",
      "...                     ...            ...        ...      ...        ...   \n",
      "10029  Super built-up  Area         17-Jan      3 BHK  Soitya        2087   \n",
      "10135  Super built-up  Area         16-Nov      2 BHK  Prs 2hi       1171   \n",
      "10550  Super built-up  Area         20-Apr      1 BHK  LendaVi        660   \n",
      "11759            Plot  Area         16-Jan  4 Bedroom  Saacesa       1240   \n",
      "11996        Built-up  Area         14-Jul      3 BHK  Shont F       1410   \n",
      "\n",
      "       bath  balcony   price           site_location  \n",
      "0       2.0      1.0   39.07             Alandi Road  \n",
      "1       5.0      3.0  120.00         Ambegaon Budruk  \n",
      "6       4.0      NaN  204.00                   Baner  \n",
      "10      2.0      2.0   70.00               Bibvewadi  \n",
      "24      1.0      0.0   25.25  Fergusson College Road  \n",
      "...     ...      ...     ...                     ...  \n",
      "10029   4.0      2.0  139.00                 Kondhwa  \n",
      "10135   2.0      2.0   39.00              Manik Bagh  \n",
      "10550   1.0      1.0   35.00              Tilak Road  \n",
      "11759   4.0      0.0  110.00           Kondhwa Khurd  \n",
      "11996   2.0      2.0   43.71                 Wagholi  \n",
      "\n",
      "[81 rows x 9 columns]\n"
     ]
    }
   ],
   "source": [
    "print(data.drop_duplicates(\"availability\"))"
   ]
  },
  {
   "cell_type": "code",
   "execution_count": 34,
   "id": "c455691f-6492-4efe-95d3-df26c92e0e65",
   "metadata": {},
   "outputs": [
    {
     "name": "stdout",
     "output_type": "stream",
     "text": [
      "13239\n"
     ]
    }
   ],
   "source": [
    "print(data[\"availability\"].duplicated().sum())"
   ]
  },
  {
   "cell_type": "code",
   "execution_count": 36,
   "id": "c0dafa7d-78af-4edc-85d8-370bb2950730",
   "metadata": {},
   "outputs": [
    {
     "data": {
      "text/html": [
       "<div>\n",
       "<style scoped>\n",
       "    .dataframe tbody tr th:only-of-type {\n",
       "        vertical-align: middle;\n",
       "    }\n",
       "\n",
       "    .dataframe tbody tr th {\n",
       "        vertical-align: top;\n",
       "    }\n",
       "\n",
       "    .dataframe thead th {\n",
       "        text-align: right;\n",
       "    }\n",
       "</style>\n",
       "<table border=\"1\" class=\"dataframe\">\n",
       "  <thead>\n",
       "    <tr style=\"text-align: right;\">\n",
       "      <th></th>\n",
       "      <th>area_type</th>\n",
       "      <th>availability</th>\n",
       "      <th>size</th>\n",
       "      <th>society</th>\n",
       "      <th>total_sqft</th>\n",
       "      <th>bath</th>\n",
       "      <th>balcony</th>\n",
       "      <th>price</th>\n",
       "      <th>site_location</th>\n",
       "    </tr>\n",
       "  </thead>\n",
       "  <tbody>\n",
       "    <tr>\n",
       "      <th>0</th>\n",
       "      <td>Super built-up  Area</td>\n",
       "      <td>19-Dec</td>\n",
       "      <td>2 BHK</td>\n",
       "      <td>Coomee</td>\n",
       "      <td>1056</td>\n",
       "      <td>2.0</td>\n",
       "      <td>1.0</td>\n",
       "      <td>39.07</td>\n",
       "      <td>Alandi Road</td>\n",
       "    </tr>\n",
       "    <tr>\n",
       "      <th>1</th>\n",
       "      <td>Plot  Area</td>\n",
       "      <td>Ready To Move</td>\n",
       "      <td>4 Bedroom</td>\n",
       "      <td>Theanmp</td>\n",
       "      <td>2600</td>\n",
       "      <td>5.0</td>\n",
       "      <td>3.0</td>\n",
       "      <td>120.00</td>\n",
       "      <td>Ambegaon Budruk</td>\n",
       "    </tr>\n",
       "    <tr>\n",
       "      <th>2</th>\n",
       "      <td>Built-up  Area</td>\n",
       "      <td>Ready To Move</td>\n",
       "      <td>3 BHK</td>\n",
       "      <td>NaN</td>\n",
       "      <td>1440</td>\n",
       "      <td>2.0</td>\n",
       "      <td>3.0</td>\n",
       "      <td>62.00</td>\n",
       "      <td>Anandnagar</td>\n",
       "    </tr>\n",
       "    <tr>\n",
       "      <th>3</th>\n",
       "      <td>Super built-up  Area</td>\n",
       "      <td>Ready To Move</td>\n",
       "      <td>3 BHK</td>\n",
       "      <td>Soiewre</td>\n",
       "      <td>1521</td>\n",
       "      <td>3.0</td>\n",
       "      <td>1.0</td>\n",
       "      <td>95.00</td>\n",
       "      <td>Aundh</td>\n",
       "    </tr>\n",
       "    <tr>\n",
       "      <th>4</th>\n",
       "      <td>Super built-up  Area</td>\n",
       "      <td>Ready To Move</td>\n",
       "      <td>2 BHK</td>\n",
       "      <td>NaN</td>\n",
       "      <td>1200</td>\n",
       "      <td>2.0</td>\n",
       "      <td>1.0</td>\n",
       "      <td>51.00</td>\n",
       "      <td>Aundh Road</td>\n",
       "    </tr>\n",
       "    <tr>\n",
       "      <th>...</th>\n",
       "      <td>...</td>\n",
       "      <td>...</td>\n",
       "      <td>...</td>\n",
       "      <td>...</td>\n",
       "      <td>...</td>\n",
       "      <td>...</td>\n",
       "      <td>...</td>\n",
       "      <td>...</td>\n",
       "      <td>...</td>\n",
       "    </tr>\n",
       "    <tr>\n",
       "      <th>13315</th>\n",
       "      <td>Built-up  Area</td>\n",
       "      <td>Ready To Move</td>\n",
       "      <td>5 Bedroom</td>\n",
       "      <td>ArsiaEx</td>\n",
       "      <td>3453</td>\n",
       "      <td>4.0</td>\n",
       "      <td>0.0</td>\n",
       "      <td>231.00</td>\n",
       "      <td>Pashan</td>\n",
       "    </tr>\n",
       "    <tr>\n",
       "      <th>13316</th>\n",
       "      <td>Super built-up  Area</td>\n",
       "      <td>Ready To Move</td>\n",
       "      <td>4 BHK</td>\n",
       "      <td>NaN</td>\n",
       "      <td>3600</td>\n",
       "      <td>5.0</td>\n",
       "      <td>NaN</td>\n",
       "      <td>400.00</td>\n",
       "      <td>Paud Road</td>\n",
       "    </tr>\n",
       "    <tr>\n",
       "      <th>13317</th>\n",
       "      <td>Built-up  Area</td>\n",
       "      <td>Ready To Move</td>\n",
       "      <td>2 BHK</td>\n",
       "      <td>Mahla T</td>\n",
       "      <td>1141</td>\n",
       "      <td>2.0</td>\n",
       "      <td>1.0</td>\n",
       "      <td>60.00</td>\n",
       "      <td>Pirangut</td>\n",
       "    </tr>\n",
       "    <tr>\n",
       "      <th>13318</th>\n",
       "      <td>Super built-up  Area</td>\n",
       "      <td>18-Jun</td>\n",
       "      <td>4 BHK</td>\n",
       "      <td>SollyCl</td>\n",
       "      <td>4689</td>\n",
       "      <td>4.0</td>\n",
       "      <td>1.0</td>\n",
       "      <td>488.00</td>\n",
       "      <td>Prabhat Road</td>\n",
       "    </tr>\n",
       "    <tr>\n",
       "      <th>13319</th>\n",
       "      <td>Super built-up  Area</td>\n",
       "      <td>Ready To Move</td>\n",
       "      <td>1 BHK</td>\n",
       "      <td>NaN</td>\n",
       "      <td>550</td>\n",
       "      <td>1.0</td>\n",
       "      <td>1.0</td>\n",
       "      <td>17.00</td>\n",
       "      <td>Pune Railway Station</td>\n",
       "    </tr>\n",
       "  </tbody>\n",
       "</table>\n",
       "<p>13320 rows × 9 columns</p>\n",
       "</div>"
      ],
      "text/plain": [
       "                  area_type   availability       size  society total_sqft  \\\n",
       "0      Super built-up  Area         19-Dec      2 BHK  Coomee        1056   \n",
       "1                Plot  Area  Ready To Move  4 Bedroom  Theanmp       2600   \n",
       "2            Built-up  Area  Ready To Move      3 BHK      NaN       1440   \n",
       "3      Super built-up  Area  Ready To Move      3 BHK  Soiewre       1521   \n",
       "4      Super built-up  Area  Ready To Move      2 BHK      NaN       1200   \n",
       "...                     ...            ...        ...      ...        ...   \n",
       "13315        Built-up  Area  Ready To Move  5 Bedroom  ArsiaEx       3453   \n",
       "13316  Super built-up  Area  Ready To Move      4 BHK      NaN       3600   \n",
       "13317        Built-up  Area  Ready To Move      2 BHK  Mahla T       1141   \n",
       "13318  Super built-up  Area         18-Jun      4 BHK  SollyCl       4689   \n",
       "13319  Super built-up  Area  Ready To Move      1 BHK      NaN        550   \n",
       "\n",
       "       bath  balcony   price         site_location  \n",
       "0       2.0      1.0   39.07           Alandi Road  \n",
       "1       5.0      3.0  120.00       Ambegaon Budruk  \n",
       "2       2.0      3.0   62.00            Anandnagar  \n",
       "3       3.0      1.0   95.00                 Aundh  \n",
       "4       2.0      1.0   51.00            Aundh Road  \n",
       "...     ...      ...     ...                   ...  \n",
       "13315   4.0      0.0  231.00                Pashan  \n",
       "13316   5.0      NaN  400.00             Paud Road  \n",
       "13317   2.0      1.0   60.00              Pirangut  \n",
       "13318   4.0      1.0  488.00          Prabhat Road  \n",
       "13319   1.0      1.0   17.00  Pune Railway Station  \n",
       "\n",
       "[13320 rows x 9 columns]"
      ]
     },
     "execution_count": 36,
     "metadata": {},
     "output_type": "execute_result"
    }
   ],
   "source": [
    "data\n"
   ]
  },
  {
   "cell_type": "code",
   "execution_count": 38,
   "id": "ef402bca-94ef-499e-b540-a886cd8a6a76",
   "metadata": {},
   "outputs": [
    {
     "name": "stdout",
     "output_type": "stream",
     "text": [
      "area_type           0\n",
      "availability        0\n",
      "size               16\n",
      "society          5502\n",
      "total_sqft          0\n",
      "bath               73\n",
      "balcony           609\n",
      "price               0\n",
      "site_location       1\n",
      "dtype: int64\n"
     ]
    }
   ],
   "source": [
    "print(data.isnull().sum())"
   ]
  },
  {
   "cell_type": "code",
   "execution_count": 39,
   "id": "0a574a78-02d3-4f06-af4c-0b9a6197fa28",
   "metadata": {},
   "outputs": [
    {
     "name": "stdout",
     "output_type": "stream",
     "text": [
      "                  area_type   availability       size  society total_sqft  \\\n",
      "0      Super built-up  Area         19-Dec      2 BHK  Coomee        1056   \n",
      "1                Plot  Area  Ready To Move  4 Bedroom  Theanmp       2600   \n",
      "3      Super built-up  Area  Ready To Move      3 BHK  Soiewre       1521   \n",
      "5      Super built-up  Area  Ready To Move      2 BHK  DuenaTa       1170   \n",
      "11               Plot  Area  Ready To Move  4 Bedroom  Prrry M       2785   \n",
      "...                     ...            ...        ...      ...        ...   \n",
      "13313  Super built-up  Area  Ready To Move      3 BHK  Aklia R       1345   \n",
      "13314  Super built-up  Area  Ready To Move      3 BHK  SoosePr       1715   \n",
      "13315        Built-up  Area  Ready To Move  5 Bedroom  ArsiaEx       3453   \n",
      "13317        Built-up  Area  Ready To Move      2 BHK  Mahla T       1141   \n",
      "13318  Super built-up  Area         18-Jun      4 BHK  SollyCl       4689   \n",
      "\n",
      "       bath  balcony   price    site_location  \n",
      "0       2.0      1.0   39.07      Alandi Road  \n",
      "1       5.0      3.0  120.00  Ambegaon Budruk  \n",
      "3       3.0      1.0   95.00            Aundh  \n",
      "5       2.0      1.0   38.00     Balaji Nagar  \n",
      "11      5.0      3.0  295.00           Bopodi  \n",
      "...     ...      ...     ...              ...  \n",
      "13313   2.0      1.0   57.00        Padmavati  \n",
      "13314   3.0      3.0  112.00  Parvati Darshan  \n",
      "13315   4.0      0.0  231.00           Pashan  \n",
      "13317   2.0      1.0   60.00         Pirangut  \n",
      "13318   4.0      1.0  488.00     Prabhat Road  \n",
      "\n",
      "[7496 rows x 9 columns]\n"
     ]
    }
   ],
   "source": [
    "print(data.dropna())"
   ]
  },
  {
   "cell_type": "code",
   "execution_count": 43,
   "id": "2cc33b46-9c26-451c-8fe4-f7609df74cb7",
   "metadata": {},
   "outputs": [
    {
     "name": "stdout",
     "output_type": "stream",
     "text": [
      "609\n"
     ]
    }
   ],
   "source": [
    "print(data[\"balcony\"].isnull().sum())"
   ]
  },
  {
   "cell_type": "code",
   "execution_count": 44,
   "id": "c4883a3d-2928-4288-97c1-ba20777bc9c9",
   "metadata": {},
   "outputs": [
    {
     "name": "stdout",
     "output_type": "stream",
     "text": [
      "1.5843757375501535\n"
     ]
    }
   ],
   "source": [
    "print(data[\"balcony\"].mean())"
   ]
  },
  {
   "cell_type": "code",
   "execution_count": 49,
   "id": "e7fd9ecb-d79b-4108-aa1f-62a831e930fe",
   "metadata": {},
   "outputs": [
    {
     "name": "stdout",
     "output_type": "stream",
     "text": [
      "                  area_type   availability       size  society total_sqft  \\\n",
      "0      Super built-up  Area         19-Dec      2 BHK  Coomee        1056   \n",
      "1                Plot  Area  Ready To Move  4 Bedroom  Theanmp       2600   \n",
      "2            Built-up  Area  Ready To Move      3 BHK      NaN       1440   \n",
      "3      Super built-up  Area  Ready To Move      3 BHK  Soiewre       1521   \n",
      "4      Super built-up  Area  Ready To Move      2 BHK      NaN       1200   \n",
      "...                     ...            ...        ...      ...        ...   \n",
      "13315        Built-up  Area  Ready To Move  5 Bedroom  ArsiaEx       3453   \n",
      "13316  Super built-up  Area  Ready To Move      4 BHK      NaN       3600   \n",
      "13317        Built-up  Area  Ready To Move      2 BHK  Mahla T       1141   \n",
      "13318  Super built-up  Area         18-Jun      4 BHK  SollyCl       4689   \n",
      "13319  Super built-up  Area  Ready To Move      1 BHK      NaN        550   \n",
      "\n",
      "       bath   balcony   price         site_location  \n",
      "0       2.0  1.000000   39.07           Alandi Road  \n",
      "1       5.0  3.000000  120.00       Ambegaon Budruk  \n",
      "2       2.0  3.000000   62.00            Anandnagar  \n",
      "3       3.0  1.000000   95.00                 Aundh  \n",
      "4       2.0  1.000000   51.00            Aundh Road  \n",
      "...     ...       ...     ...                   ...  \n",
      "13315   4.0  0.000000  231.00                Pashan  \n",
      "13316   5.0  1.584376  400.00             Paud Road  \n",
      "13317   2.0  1.000000   60.00              Pirangut  \n",
      "13318   4.0  1.000000  488.00          Prabhat Road  \n",
      "13319   1.0  1.000000   17.00  Pune Railway Station  \n",
      "\n",
      "[13320 rows x 9 columns]\n"
     ]
    }
   ],
   "source": [
    "import numpy as np\n",
    "data[\"balcony\"]= data[\"balcony\"].replace(np.nan,1.5843757375501535)\n",
    "print(data)"
   ]
  },
  {
   "cell_type": "code",
   "execution_count": 50,
   "id": "46790375-2f8d-4166-b522-6c3ffea06042",
   "metadata": {},
   "outputs": [
    {
     "name": "stdout",
     "output_type": "stream",
     "text": [
      "0\n"
     ]
    }
   ],
   "source": [
    "print(data[\"balcony\"].isnull().sum())"
   ]
  },
  {
   "cell_type": "code",
   "execution_count": 51,
   "id": "fb76e037-e9fd-4229-a85e-15c764663058",
   "metadata": {},
   "outputs": [
    {
     "name": "stdout",
     "output_type": "stream",
     "text": [
      "1.5843757375501537\n"
     ]
    }
   ],
   "source": [
    "print(data[\"balcony\"].mean())"
   ]
  },
  {
   "cell_type": "code",
   "execution_count": 1,
   "id": "3e97607b-090a-47b0-b2fb-8c66f61360aa",
   "metadata": {},
   "outputs": [],
   "source": [
    "import pandas as pd \n",
    "data = pd.read_csv(\"D:/04_HOUSE PRICE PREDICTION/Pune house data.csv\")"
   ]
  },
  {
   "cell_type": "code",
   "execution_count": 2,
   "id": "a6a6e58b-1084-4379-ab62-6db5fee256f5",
   "metadata": {},
   "outputs": [
    {
     "data": {
      "text/html": [
       "<div>\n",
       "<style scoped>\n",
       "    .dataframe tbody tr th:only-of-type {\n",
       "        vertical-align: middle;\n",
       "    }\n",
       "\n",
       "    .dataframe tbody tr th {\n",
       "        vertical-align: top;\n",
       "    }\n",
       "\n",
       "    .dataframe thead th {\n",
       "        text-align: right;\n",
       "    }\n",
       "</style>\n",
       "<table border=\"1\" class=\"dataframe\">\n",
       "  <thead>\n",
       "    <tr style=\"text-align: right;\">\n",
       "      <th></th>\n",
       "      <th>area_type</th>\n",
       "      <th>availability</th>\n",
       "      <th>size</th>\n",
       "      <th>society</th>\n",
       "      <th>total_sqft</th>\n",
       "      <th>bath</th>\n",
       "      <th>balcony</th>\n",
       "      <th>price</th>\n",
       "      <th>site_location</th>\n",
       "    </tr>\n",
       "  </thead>\n",
       "  <tbody>\n",
       "    <tr>\n",
       "      <th>0</th>\n",
       "      <td>Super built-up  Area</td>\n",
       "      <td>19-Dec</td>\n",
       "      <td>2 BHK</td>\n",
       "      <td>Coomee</td>\n",
       "      <td>1056</td>\n",
       "      <td>2.0</td>\n",
       "      <td>1.0</td>\n",
       "      <td>39.07</td>\n",
       "      <td>Alandi Road</td>\n",
       "    </tr>\n",
       "    <tr>\n",
       "      <th>1</th>\n",
       "      <td>Plot  Area</td>\n",
       "      <td>Ready To Move</td>\n",
       "      <td>4 Bedroom</td>\n",
       "      <td>Theanmp</td>\n",
       "      <td>2600</td>\n",
       "      <td>5.0</td>\n",
       "      <td>3.0</td>\n",
       "      <td>120.00</td>\n",
       "      <td>Ambegaon Budruk</td>\n",
       "    </tr>\n",
       "    <tr>\n",
       "      <th>2</th>\n",
       "      <td>Built-up  Area</td>\n",
       "      <td>Ready To Move</td>\n",
       "      <td>3 BHK</td>\n",
       "      <td>NaN</td>\n",
       "      <td>1440</td>\n",
       "      <td>2.0</td>\n",
       "      <td>3.0</td>\n",
       "      <td>62.00</td>\n",
       "      <td>Anandnagar</td>\n",
       "    </tr>\n",
       "    <tr>\n",
       "      <th>3</th>\n",
       "      <td>Super built-up  Area</td>\n",
       "      <td>Ready To Move</td>\n",
       "      <td>3 BHK</td>\n",
       "      <td>Soiewre</td>\n",
       "      <td>1521</td>\n",
       "      <td>3.0</td>\n",
       "      <td>1.0</td>\n",
       "      <td>95.00</td>\n",
       "      <td>Aundh</td>\n",
       "    </tr>\n",
       "    <tr>\n",
       "      <th>4</th>\n",
       "      <td>Super built-up  Area</td>\n",
       "      <td>Ready To Move</td>\n",
       "      <td>2 BHK</td>\n",
       "      <td>NaN</td>\n",
       "      <td>1200</td>\n",
       "      <td>2.0</td>\n",
       "      <td>1.0</td>\n",
       "      <td>51.00</td>\n",
       "      <td>Aundh Road</td>\n",
       "    </tr>\n",
       "    <tr>\n",
       "      <th>...</th>\n",
       "      <td>...</td>\n",
       "      <td>...</td>\n",
       "      <td>...</td>\n",
       "      <td>...</td>\n",
       "      <td>...</td>\n",
       "      <td>...</td>\n",
       "      <td>...</td>\n",
       "      <td>...</td>\n",
       "      <td>...</td>\n",
       "    </tr>\n",
       "    <tr>\n",
       "      <th>13315</th>\n",
       "      <td>Built-up  Area</td>\n",
       "      <td>Ready To Move</td>\n",
       "      <td>5 Bedroom</td>\n",
       "      <td>ArsiaEx</td>\n",
       "      <td>3453</td>\n",
       "      <td>4.0</td>\n",
       "      <td>0.0</td>\n",
       "      <td>231.00</td>\n",
       "      <td>Pashan</td>\n",
       "    </tr>\n",
       "    <tr>\n",
       "      <th>13316</th>\n",
       "      <td>Super built-up  Area</td>\n",
       "      <td>Ready To Move</td>\n",
       "      <td>4 BHK</td>\n",
       "      <td>NaN</td>\n",
       "      <td>3600</td>\n",
       "      <td>5.0</td>\n",
       "      <td>NaN</td>\n",
       "      <td>400.00</td>\n",
       "      <td>Paud Road</td>\n",
       "    </tr>\n",
       "    <tr>\n",
       "      <th>13317</th>\n",
       "      <td>Built-up  Area</td>\n",
       "      <td>Ready To Move</td>\n",
       "      <td>2 BHK</td>\n",
       "      <td>Mahla T</td>\n",
       "      <td>1141</td>\n",
       "      <td>2.0</td>\n",
       "      <td>1.0</td>\n",
       "      <td>60.00</td>\n",
       "      <td>Pirangut</td>\n",
       "    </tr>\n",
       "    <tr>\n",
       "      <th>13318</th>\n",
       "      <td>Super built-up  Area</td>\n",
       "      <td>18-Jun</td>\n",
       "      <td>4 BHK</td>\n",
       "      <td>SollyCl</td>\n",
       "      <td>4689</td>\n",
       "      <td>4.0</td>\n",
       "      <td>1.0</td>\n",
       "      <td>488.00</td>\n",
       "      <td>Prabhat Road</td>\n",
       "    </tr>\n",
       "    <tr>\n",
       "      <th>13319</th>\n",
       "      <td>Super built-up  Area</td>\n",
       "      <td>Ready To Move</td>\n",
       "      <td>1 BHK</td>\n",
       "      <td>NaN</td>\n",
       "      <td>550</td>\n",
       "      <td>1.0</td>\n",
       "      <td>1.0</td>\n",
       "      <td>17.00</td>\n",
       "      <td>Pune Railway Station</td>\n",
       "    </tr>\n",
       "  </tbody>\n",
       "</table>\n",
       "<p>13320 rows × 9 columns</p>\n",
       "</div>"
      ],
      "text/plain": [
       "                  area_type   availability       size  society total_sqft  \\\n",
       "0      Super built-up  Area         19-Dec      2 BHK  Coomee        1056   \n",
       "1                Plot  Area  Ready To Move  4 Bedroom  Theanmp       2600   \n",
       "2            Built-up  Area  Ready To Move      3 BHK      NaN       1440   \n",
       "3      Super built-up  Area  Ready To Move      3 BHK  Soiewre       1521   \n",
       "4      Super built-up  Area  Ready To Move      2 BHK      NaN       1200   \n",
       "...                     ...            ...        ...      ...        ...   \n",
       "13315        Built-up  Area  Ready To Move  5 Bedroom  ArsiaEx       3453   \n",
       "13316  Super built-up  Area  Ready To Move      4 BHK      NaN       3600   \n",
       "13317        Built-up  Area  Ready To Move      2 BHK  Mahla T       1141   \n",
       "13318  Super built-up  Area         18-Jun      4 BHK  SollyCl       4689   \n",
       "13319  Super built-up  Area  Ready To Move      1 BHK      NaN        550   \n",
       "\n",
       "       bath  balcony   price         site_location  \n",
       "0       2.0      1.0   39.07           Alandi Road  \n",
       "1       5.0      3.0  120.00       Ambegaon Budruk  \n",
       "2       2.0      3.0   62.00            Anandnagar  \n",
       "3       3.0      1.0   95.00                 Aundh  \n",
       "4       2.0      1.0   51.00            Aundh Road  \n",
       "...     ...      ...     ...                   ...  \n",
       "13315   4.0      0.0  231.00                Pashan  \n",
       "13316   5.0      NaN  400.00             Paud Road  \n",
       "13317   2.0      1.0   60.00              Pirangut  \n",
       "13318   4.0      1.0  488.00          Prabhat Road  \n",
       "13319   1.0      1.0   17.00  Pune Railway Station  \n",
       "\n",
       "[13320 rows x 9 columns]"
      ]
     },
     "execution_count": 2,
     "metadata": {},
     "output_type": "execute_result"
    }
   ],
   "source": [
    "data\n"
   ]
  },
  {
   "cell_type": "code",
   "execution_count": 4,
   "id": "9c445082-9c4e-420a-82e6-8ee0e83aa5d0",
   "metadata": {},
   "outputs": [
    {
     "name": "stdout",
     "output_type": "stream",
     "text": [
      "area_type           0\n",
      "availability        0\n",
      "size               16\n",
      "society          5502\n",
      "total_sqft          0\n",
      "bath               73\n",
      "balcony           609\n",
      "price               0\n",
      "site_location       1\n",
      "dtype: int64\n"
     ]
    }
   ],
   "source": [
    "print(data.isnull().sum())"
   ]
  },
  {
   "cell_type": "code",
   "execution_count": 6,
   "id": "466a272f-1a29-4317-ab0b-f5d4d040a033",
   "metadata": {},
   "outputs": [
    {
     "name": "stdout",
     "output_type": "stream",
     "text": [
      "                  area_type   availability       size  society total_sqft  \\\n",
      "0      Super built-up  Area         19-Dec      2 BHK  Coomee        1056   \n",
      "1                Plot  Area  Ready To Move  4 Bedroom  Theanmp       2600   \n",
      "3      Super built-up  Area  Ready To Move      3 BHK  Soiewre       1521   \n",
      "5      Super built-up  Area  Ready To Move      2 BHK  DuenaTa       1170   \n",
      "11               Plot  Area  Ready To Move  4 Bedroom  Prrry M       2785   \n",
      "...                     ...            ...        ...      ...        ...   \n",
      "13313  Super built-up  Area  Ready To Move      3 BHK  Aklia R       1345   \n",
      "13314  Super built-up  Area  Ready To Move      3 BHK  SoosePr       1715   \n",
      "13315        Built-up  Area  Ready To Move  5 Bedroom  ArsiaEx       3453   \n",
      "13317        Built-up  Area  Ready To Move      2 BHK  Mahla T       1141   \n",
      "13318  Super built-up  Area         18-Jun      4 BHK  SollyCl       4689   \n",
      "\n",
      "       bath  balcony   price    site_location  \n",
      "0       2.0      1.0   39.07      Alandi Road  \n",
      "1       5.0      3.0  120.00  Ambegaon Budruk  \n",
      "3       3.0      1.0   95.00            Aundh  \n",
      "5       2.0      1.0   38.00     Balaji Nagar  \n",
      "11      5.0      3.0  295.00           Bopodi  \n",
      "...     ...      ...     ...              ...  \n",
      "13313   2.0      1.0   57.00        Padmavati  \n",
      "13314   3.0      3.0  112.00  Parvati Darshan  \n",
      "13315   4.0      0.0  231.00           Pashan  \n",
      "13317   2.0      1.0   60.00         Pirangut  \n",
      "13318   4.0      1.0  488.00     Prabhat Road  \n",
      "\n",
      "[7496 rows x 9 columns]\n"
     ]
    }
   ],
   "source": [
    "print(data.dropna())"
   ]
  },
  {
   "cell_type": "code",
   "execution_count": 25,
   "id": "22d2868f-3eef-4e7f-b2bb-eb15b530ca37",
   "metadata": {},
   "outputs": [],
   "source": [
    "import pandas as pd \n",
    "data = pd.read_csv(\"D:/04_HOUSE PRICE PREDICTION/Pune house data.csv\")"
   ]
  },
  {
   "cell_type": "code",
   "execution_count": 8,
   "id": "fd71b25f-2507-431d-979a-8faaf18a034e",
   "metadata": {},
   "outputs": [
    {
     "name": "stdout",
     "output_type": "stream",
     "text": [
      "              area_type   availability       size  society total_sqft  bath  \\\n",
      "0  Super built-up  Area         19-Dec      2 BHK  Coomee        1056   2.0   \n",
      "1            Plot  Area  Ready To Move  4 Bedroom  Theanmp       2600   5.0   \n",
      "2        Built-up  Area  Ready To Move      3 BHK      NaN       1440   2.0   \n",
      "3  Super built-up  Area  Ready To Move      3 BHK  Soiewre       1521   3.0   \n",
      "4  Super built-up  Area  Ready To Move      2 BHK      NaN       1200   2.0   \n",
      "\n",
      "   balcony   price    site_location  \n",
      "0      1.0   39.07      Alandi Road  \n",
      "1      3.0  120.00  Ambegaon Budruk  \n",
      "2      3.0   62.00       Anandnagar  \n",
      "3      1.0   95.00            Aundh  \n",
      "4      1.0   51.00       Aundh Road  \n"
     ]
    }
   ],
   "source": [
    "print(data.head())"
   ]
  },
  {
   "cell_type": "code",
   "execution_count": 9,
   "id": "5226408e-f7fa-4a7e-99d5-cad529629fa8",
   "metadata": {},
   "outputs": [
    {
     "name": "stdout",
     "output_type": "stream",
     "text": [
      "area_type           0\n",
      "availability        0\n",
      "size               16\n",
      "society          5502\n",
      "total_sqft          0\n",
      "bath               73\n",
      "balcony           609\n",
      "price               0\n",
      "site_location       1\n",
      "dtype: int64\n"
     ]
    }
   ],
   "source": [
    "print(data.isnull().sum())"
   ]
  },
  {
   "cell_type": "code",
   "execution_count": 12,
   "id": "7c4af565-6488-4046-89e2-4e6a0f243cc3",
   "metadata": {},
   "outputs": [
    {
     "data": {
      "text/html": [
       "<div>\n",
       "<style scoped>\n",
       "    .dataframe tbody tr th:only-of-type {\n",
       "        vertical-align: middle;\n",
       "    }\n",
       "\n",
       "    .dataframe tbody tr th {\n",
       "        vertical-align: top;\n",
       "    }\n",
       "\n",
       "    .dataframe thead th {\n",
       "        text-align: right;\n",
       "    }\n",
       "</style>\n",
       "<table border=\"1\" class=\"dataframe\">\n",
       "  <thead>\n",
       "    <tr style=\"text-align: right;\">\n",
       "      <th></th>\n",
       "      <th>bath</th>\n",
       "      <th>balcony</th>\n",
       "      <th>price</th>\n",
       "    </tr>\n",
       "  </thead>\n",
       "  <tbody>\n",
       "    <tr>\n",
       "      <th>count</th>\n",
       "      <td>13247.000000</td>\n",
       "      <td>12711.000000</td>\n",
       "      <td>13320.000000</td>\n",
       "    </tr>\n",
       "    <tr>\n",
       "      <th>mean</th>\n",
       "      <td>2.692610</td>\n",
       "      <td>1.584376</td>\n",
       "      <td>112.565627</td>\n",
       "    </tr>\n",
       "    <tr>\n",
       "      <th>std</th>\n",
       "      <td>1.341458</td>\n",
       "      <td>0.817263</td>\n",
       "      <td>148.971674</td>\n",
       "    </tr>\n",
       "    <tr>\n",
       "      <th>min</th>\n",
       "      <td>1.000000</td>\n",
       "      <td>0.000000</td>\n",
       "      <td>8.000000</td>\n",
       "    </tr>\n",
       "    <tr>\n",
       "      <th>25%</th>\n",
       "      <td>2.000000</td>\n",
       "      <td>1.000000</td>\n",
       "      <td>50.000000</td>\n",
       "    </tr>\n",
       "    <tr>\n",
       "      <th>50%</th>\n",
       "      <td>2.000000</td>\n",
       "      <td>2.000000</td>\n",
       "      <td>72.000000</td>\n",
       "    </tr>\n",
       "    <tr>\n",
       "      <th>75%</th>\n",
       "      <td>3.000000</td>\n",
       "      <td>2.000000</td>\n",
       "      <td>120.000000</td>\n",
       "    </tr>\n",
       "    <tr>\n",
       "      <th>max</th>\n",
       "      <td>40.000000</td>\n",
       "      <td>3.000000</td>\n",
       "      <td>3600.000000</td>\n",
       "    </tr>\n",
       "  </tbody>\n",
       "</table>\n",
       "</div>"
      ],
      "text/plain": [
       "               bath       balcony         price\n",
       "count  13247.000000  12711.000000  13320.000000\n",
       "mean       2.692610      1.584376    112.565627\n",
       "std        1.341458      0.817263    148.971674\n",
       "min        1.000000      0.000000      8.000000\n",
       "25%        2.000000      1.000000     50.000000\n",
       "50%        2.000000      2.000000     72.000000\n",
       "75%        3.000000      2.000000    120.000000\n",
       "max       40.000000      3.000000   3600.000000"
      ]
     },
     "execution_count": 12,
     "metadata": {},
     "output_type": "execute_result"
    }
   ],
   "source": [
    "data.describe()"
   ]
  },
  {
   "cell_type": "code",
   "execution_count": 13,
   "id": "4ac87501-fbc2-4b79-b06a-1a0774264a54",
   "metadata": {},
   "outputs": [
    {
     "name": "stdout",
     "output_type": "stream",
     "text": [
      "<class 'pandas.core.frame.DataFrame'>\n",
      "RangeIndex: 13320 entries, 0 to 13319\n",
      "Data columns (total 9 columns):\n",
      " #   Column         Non-Null Count  Dtype  \n",
      "---  ------         --------------  -----  \n",
      " 0   area_type      13320 non-null  object \n",
      " 1   availability   13320 non-null  object \n",
      " 2   size           13304 non-null  object \n",
      " 3   society        7818 non-null   object \n",
      " 4   total_sqft     13320 non-null  object \n",
      " 5   bath           13247 non-null  float64\n",
      " 6   balcony        12711 non-null  float64\n",
      " 7   price          13320 non-null  float64\n",
      " 8   site_location  13319 non-null  object \n",
      "dtypes: float64(3), object(6)\n",
      "memory usage: 936.7+ KB\n"
     ]
    }
   ],
   "source": [
    "data.info()"
   ]
  },
  {
   "cell_type": "code",
   "execution_count": 14,
   "id": "10cd8005-f21d-43df-90b8-24f74e91d03e",
   "metadata": {},
   "outputs": [
    {
     "name": "stdout",
     "output_type": "stream",
     "text": [
      "                  area_type   availability       size  society total_sqft  \\\n",
      "0      Super built-up  Area         19-Dec      2 BHK  Coomee        1056   \n",
      "1                Plot  Area  Ready To Move  4 Bedroom  Theanmp       2600   \n",
      "2            Built-up  Area  Ready To Move      3 BHK      NaN       1440   \n",
      "3      Super built-up  Area  Ready To Move      3 BHK  Soiewre       1521   \n",
      "4      Super built-up  Area  Ready To Move      2 BHK      NaN       1200   \n",
      "...                     ...            ...        ...      ...        ...   \n",
      "13315        Built-up  Area  Ready To Move  5 Bedroom  ArsiaEx       3453   \n",
      "13316  Super built-up  Area  Ready To Move      4 BHK      NaN       3600   \n",
      "13317        Built-up  Area  Ready To Move      2 BHK  Mahla T       1141   \n",
      "13318  Super built-up  Area         18-Jun      4 BHK  SollyCl       4689   \n",
      "13319  Super built-up  Area  Ready To Move      1 BHK      NaN        550   \n",
      "\n",
      "       bath  balcony   price         site_location  \n",
      "0       2.0      1.0   39.07           Alandi Road  \n",
      "1       5.0      3.0  120.00       Ambegaon Budruk  \n",
      "2       2.0      3.0   62.00            Anandnagar  \n",
      "3       3.0      1.0   95.00                 Aundh  \n",
      "4       2.0      1.0   51.00            Aundh Road  \n",
      "...     ...      ...     ...                   ...  \n",
      "13315   4.0      0.0  231.00                Pashan  \n",
      "13316   5.0      NaN  400.00             Paud Road  \n",
      "13317   2.0      1.0   60.00              Pirangut  \n",
      "13318   4.0      1.0  488.00          Prabhat Road  \n",
      "13319   1.0      1.0   17.00  Pune Railway Station  \n",
      "\n",
      "[13320 rows x 9 columns]\n"
     ]
    }
   ],
   "source": [
    "print(data)"
   ]
  },
  {
   "cell_type": "code",
   "execution_count": 15,
   "id": "d3311a4c-65a1-4c1d-8e8e-e1aa3abb50e4",
   "metadata": {},
   "outputs": [
    {
     "name": "stdout",
     "output_type": "stream",
     "text": [
      "area_type           0\n",
      "availability        0\n",
      "size               16\n",
      "society          5502\n",
      "total_sqft          0\n",
      "bath               73\n",
      "balcony           609\n",
      "price               0\n",
      "site_location       1\n",
      "dtype: int64\n"
     ]
    }
   ],
   "source": [
    "print(data.isnull().sum())"
   ]
  },
  {
   "cell_type": "code",
   "execution_count": 20,
   "id": "f14d2c7b-5cbd-40aa-b08e-61b2a1fb3e8d",
   "metadata": {},
   "outputs": [
    {
     "name": "stdout",
     "output_type": "stream",
     "text": [
      "112.5656265015015\n"
     ]
    }
   ],
   "source": [
    "print(data[\"price\"].mean())"
   ]
  },
  {
   "cell_type": "code",
   "execution_count": 26,
   "id": "1168989d-c478-4acd-bbec-73d91ae0c6e8",
   "metadata": {
    "scrolled": true
   },
   "outputs": [
    {
     "name": "stdout",
     "output_type": "stream",
     "text": [
      "1.5843757375501535\n"
     ]
    }
   ],
   "source": [
    "print(data[\"balcony\"].mean())"
   ]
  },
  {
   "cell_type": "code",
   "execution_count": 27,
   "id": "a8347e07-4cdc-41b0-8eee-959b4abfeec6",
   "metadata": {},
   "outputs": [],
   "source": [
    "data[\"balcony\"]=data[\"balcony\"].replace(np.nan,1.5843757375501535)"
   ]
  },
  {
   "cell_type": "code",
   "execution_count": 28,
   "id": "1ff0c6a2-0e51-4e62-9f72-ee06cc31acb3",
   "metadata": {},
   "outputs": [
    {
     "name": "stdout",
     "output_type": "stream",
     "text": [
      "1.5843757375501537\n"
     ]
    }
   ],
   "source": [
    "print(data[\"balcony\"].mean())"
   ]
  },
  {
   "cell_type": "code",
   "execution_count": 29,
   "id": "8a9aa1de-de36-4382-9c83-674920120ee0",
   "metadata": {
    "scrolled": true
   },
   "outputs": [
    {
     "name": "stdout",
     "output_type": "stream",
     "text": [
      "area_type           0\n",
      "availability        0\n",
      "size               16\n",
      "society          5502\n",
      "total_sqft          0\n",
      "bath               73\n",
      "balcony             0\n",
      "price               0\n",
      "site_location       1\n",
      "dtype: int64\n"
     ]
    }
   ],
   "source": [
    "print(data.isnull().sum())"
   ]
  },
  {
   "cell_type": "code",
   "execution_count": 33,
   "id": "d05fa0a5-ddf5-4bce-ad26-aa2fb5a88d92",
   "metadata": {},
   "outputs": [],
   "source": [
    "most_frequent= data[\"society\"].mode()[0]\n",
    "data[\"society\"].fillna(most_frequent, inplace=True)"
   ]
  },
  {
   "cell_type": "markdown",
   "id": "f35e5255-dafe-43c3-8166-e410ef216941",
   "metadata": {},
   "source": [
    "## the end"
   ]
  },
  {
   "cell_type": "code",
   "execution_count": null,
   "id": "bc201ae8-6f51-4798-9a26-67fc868bc055",
   "metadata": {},
   "outputs": [],
   "source": []
  }
 ],
 "metadata": {
  "kernelspec": {
   "display_name": "Python 3 (ipykernel)",
   "language": "python",
   "name": "python3"
  },
  "language_info": {
   "codemirror_mode": {
    "name": "ipython",
    "version": 3
   },
   "file_extension": ".py",
   "mimetype": "text/x-python",
   "name": "python",
   "nbconvert_exporter": "python",
   "pygments_lexer": "ipython3",
   "version": "3.13.0"
  }
 },
 "nbformat": 4,
 "nbformat_minor": 5
}
