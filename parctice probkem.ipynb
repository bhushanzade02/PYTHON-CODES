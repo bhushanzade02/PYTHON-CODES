{
 "cells": [
  {
   "cell_type": "markdown",
   "id": "dab73481-a448-4b98-a173-6162e84974ee",
   "metadata": {},
   "source": [
    "## write a ufnction to find maximum of "
   ]
  },
  {
   "cell_type": "code",
   "execution_count": 1,
   "id": "3b960440-8c0b-4893-80e6-8401ca7b746c",
   "metadata": {},
   "outputs": [
    {
     "name": "stdout",
     "output_type": "stream",
     "text": [
      "val1 is greatest 12\n"
     ]
    }
   ],
   "source": [
    "def maximum_value(val1,val2,val3):\n",
    "    if val1>val2 and val1>val2:\n",
    "        print(\"val1 is greatest\",val1)\n",
    "    elif val2>val1 and val2>val3:\n",
    "        print(\"the val2 is greatest\",val2)\n",
    "    elif val3>val1 and val3>val1:\n",
    "        print(\"the val3 is greatest\",val3)\n",
    "maximum_value(12,5,7)"
   ]
  },
  {
   "cell_type": "code",
   "execution_count": 3,
   "id": "3615e33d-ceb8-4cd7-a573-881fe8ed4dab",
   "metadata": {},
   "outputs": [
    {
     "name": "stdout",
     "output_type": "stream",
     "text": [
      "[1, 4, 9, 16, 25, 36, 49, 64, 81, 100, 121, 144, 169, 196, 225, 256, 289, 324, 361, 400, 441, 484, 529, 576, 625, 676, 729, 784, 841, 900]\n"
     ]
    }
   ],
   "source": [
    "def bhushan():\n",
    "    l=[]\n",
    "    for i in range(1,31):\n",
    "        l.append(i**2)\n",
    "    return l\n",
    "print(bhushan())"
   ]
  },
  {
   "cell_type": "markdown",
   "id": "dd038320-f79f-49f0-a716-a6ed92300fa7",
   "metadata": {},
   "source": [
    "## check whether no is prime "
   ]
  },
  {
   "cell_type": "code",
   "execution_count": 15,
   "id": "1af7b79d-4d2b-49c8-936b-c9b628e75837",
   "metadata": {},
   "outputs": [
    {
     "name": "stdout",
     "output_type": "stream",
     "text": [
      "It is not a prime number\n",
      "It is a prime number\n",
      "It is a prime number\n"
     ]
    }
   ],
   "source": [
    "def checkprime(num):\n",
    "    if num <= 1:\n",
    "        print(\"It is not a prime number\")\n",
    "    elif num == 2:\n",
    "        print(\"It is a prime number\")\n",
    "    else:\n",
    "        for i in range(2, num):\n",
    "            if num % i == 0:  # Check if num is divisible by i\n",
    "                print(\"It is not a prime number\")\n",
    "                break\n",
    "        else:  # If no divisors are found, the number is prime\n",
    "            print(\"It is a prime number\")\n",
    "\n",
    "# Example usage\n",
    "checkprime(6)  # It will print \"It is not a prime number\"\n",
    "checkprime(7)  # It will print \"It is a prime number\"\n",
    "checkprime(2)  # It will print \"It is a prime number\"\n"
   ]
  },
  {
   "cell_type": "code",
   "execution_count": 20,
   "id": "7d10733f-aea4-47da-b854-d402b1b4cce7",
   "metadata": {},
   "outputs": [
    {
     "name": "stdout",
     "output_type": "stream",
     "text": [
      "hello\n"
     ]
    }
   ],
   "source": [
    "print(\"hello\")"
   ]
  },
  {
   "cell_type": "code",
   "execution_count": null,
   "id": "303aa7b6-08bb-44a7-8d14-65dc53526c67",
   "metadata": {},
   "outputs": [],
   "source": []
  }
 ],
 "metadata": {
  "kernelspec": {
   "display_name": "Python 3 (ipykernel)",
   "language": "python",
   "name": "python3"
  },
  "language_info": {
   "codemirror_mode": {
    "name": "ipython",
    "version": 3
   },
   "file_extension": ".py",
   "mimetype": "text/x-python",
   "name": "python",
   "nbconvert_exporter": "python",
   "pygments_lexer": "ipython3",
   "version": "3.13.0"
  }
 },
 "nbformat": 4,
 "nbformat_minor": 5
}
