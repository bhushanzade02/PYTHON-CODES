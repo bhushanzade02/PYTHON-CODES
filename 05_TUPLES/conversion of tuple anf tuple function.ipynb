{
 "cells": [
  {
   "cell_type": "markdown",
   "id": "1c9aeecb-c656-49b9-bcc7-cd2abd0de8e0",
   "metadata": {},
   "source": [
    "# conversion of tuples and tuple function"
   ]
  },
  {
   "cell_type": "code",
   "execution_count": 10,
   "id": "360ddf15-9a6f-4319-b004-0d7d8f76ffd0",
   "metadata": {},
   "outputs": [],
   "source": [
    "a=\"oneplus\",\"vivo\",\"redmi\","
   ]
  },
  {
   "cell_type": "code",
   "execution_count": 12,
   "id": "ec418e4e-09d2-4db5-8c2f-28648642e023",
   "metadata": {},
   "outputs": [
    {
     "name": "stdout",
     "output_type": "stream",
     "text": [
      "<class 'tuple'>\n",
      "<class 'list'>\n",
      "['oneplus', 'bhushan', 'bhushan', 'vivo', 'redmi']\n",
      "<class 'tuple'>\n",
      "('oneplus', 'bhushan', 'bhushan', 'vivo', 'redmi')\n"
     ]
    }
   ],
   "source": [
    "\n",
    "print(type(a))\n",
    "a=list(a)\n",
    "print(type(a))\n",
    "a.insert(1,\"bhushan\")\n",
    "print(a)\n",
    "a=tuple(a)\n",
    "print(type(a))\n",
    "print(a)\n"
   ]
  },
  {
   "cell_type": "markdown",
   "id": "059efb6c-e819-4cf2-9bc5-3abe89c53ff9",
   "metadata": {},
   "source": [
    "## count method in tuple"
   ]
  },
  {
   "cell_type": "code",
   "execution_count": 15,
   "id": "9b7120a3-313b-42b6-b35d-ca0ca508b482",
   "metadata": {},
   "outputs": [
    {
     "name": "stdout",
     "output_type": "stream",
     "text": [
      "2\n"
     ]
    }
   ],
   "source": [
    "print(a.count(\"bhushan\"))"
   ]
  },
  {
   "cell_type": "markdown",
   "id": "ba4831f9-61e8-426b-9314-4fe090bf1749",
   "metadata": {},
   "source": [
    "## index method method in tuple"
   ]
  },
  {
   "cell_type": "code",
   "execution_count": 16,
   "id": "177855b6-232d-41d7-bb01-f790b34db581",
   "metadata": {},
   "outputs": [
    {
     "name": "stdout",
     "output_type": "stream",
     "text": [
      "3\n"
     ]
    }
   ],
   "source": [
    "print(a.index(\"vivo\"))"
   ]
  },
  {
   "cell_type": "code",
   "execution_count": null,
   "id": "498df510-14cf-4ddd-9d4e-dae737ea69ec",
   "metadata": {},
   "outputs": [],
   "source": []
  }
 ],
 "metadata": {
  "kernelspec": {
   "display_name": "Python 3 (ipykernel)",
   "language": "python",
   "name": "python3"
  },
  "language_info": {
   "codemirror_mode": {
    "name": "ipython",
    "version": 3
   },
   "file_extension": ".py",
   "mimetype": "text/x-python",
   "name": "python",
   "nbconvert_exporter": "python",
   "pygments_lexer": "ipython3",
   "version": "3.13.0"
  }
 },
 "nbformat": 4,
 "nbformat_minor": 5
}
