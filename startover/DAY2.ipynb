{
 "cells": [
  {
   "cell_type": "markdown",
   "id": "d2573c9d-a999-48ef-a870-707462dbf6ec",
   "metadata": {},
   "source": [
    "# Write a Python program that takes an integer N as input and uses a for loop to calculate the sum of the first N natural numbers"
   ]
  },
  {
   "cell_type": "code",
   "execution_count": 25,
   "id": "bb342973-0fe3-4300-a93e-65e41ab45400",
   "metadata": {},
   "outputs": [
    {
     "name": "stdin",
     "output_type": "stream",
     "text": [
      "enter a number 5\n"
     ]
    },
    {
     "name": "stdout",
     "output_type": "stream",
     "text": [
      "15\n"
     ]
    }
   ],
   "source": [
    "num=int(input('enter a number'))\n",
    "count=1;\n",
    "for i in range(1,num):\n",
    "    count+=i;\n",
    "    count+=1;\n",
    "print(count)"
   ]
  },
  {
   "cell_type": "markdown",
   "id": "6dac87df-e1d4-484a-b100-f8b30a159445",
   "metadata": {},
   "source": [
    "## Write a Python program that takes an integer N and prints all even numbers from 1 to N using a for loop."
   ]
  },
  {
   "cell_type": "code",
   "execution_count": 33,
   "id": "eaf49d6e-ff5e-4e1d-a47a-875b6b5b90c7",
   "metadata": {},
   "outputs": [
    {
     "name": "stdin",
     "output_type": "stream",
     "text": [
      "enter a number 10\n"
     ]
    },
    {
     "name": "stdout",
     "output_type": "stream",
     "text": [
      "2\n",
      "4\n",
      "6\n",
      "8\n",
      "10\n"
     ]
    }
   ],
   "source": [
    "num=int(input('enter a number'))\n",
    "for i in range(1,num+1):\n",
    "    if i%2==0:\n",
    "        print(i);\n",
    "    \n",
    "\n"
   ]
  },
  {
   "cell_type": "markdown",
   "id": "4414cff6-0a65-49ae-9e20-4bc509f289f6",
   "metadata": {},
   "source": [
    "## Write a Python program that takes a string as input and prints the reverse of the string using a for loop."
   ]
  },
  {
   "cell_type": "code",
   "execution_count": 56,
   "id": "283299bb-c4f2-456d-aa91-4c46953d0a1f",
   "metadata": {},
   "outputs": [
    {
     "name": "stdin",
     "output_type": "stream",
     "text": [
      "entr a string zade\n"
     ]
    },
    {
     "name": "stdout",
     "output_type": "stream",
     "text": [
      "edaz\n"
     ]
    }
   ],
   "source": [
    "text=input('entr a string')\n",
    "rev=\"\";\n",
    "for char in text:\n",
    "    rev=char+rev;\n",
    "print(rev)"
   ]
  },
  {
   "cell_type": "markdown",
   "id": "89933fb8-1236-4fda-97ab-a9f2c9c37c0c",
   "metadata": {},
   "source": [
    "## Write a Python program that takes an integer N and calculates its factorial using a for loop."
   ]
  },
  {
   "cell_type": "code",
   "execution_count": 63,
   "id": "cb48db2a-80ea-4d44-80b0-c73a112ecb69",
   "metadata": {},
   "outputs": [
    {
     "name": "stdin",
     "output_type": "stream",
     "text": [
      "enter a number 5\n"
     ]
    },
    {
     "name": "stdout",
     "output_type": "stream",
     "text": [
      "120\n"
     ]
    }
   ],
   "source": [
    "num=int(input(\"enter a number\"))\n",
    "fact=1;\n",
    "for i in range(1,num+1):\n",
    "    fact*=i;\n",
    "print(fact)\n"
   ]
  },
  {
   "cell_type": "code",
   "execution_count": 68,
   "id": "0f3b486d-9a47-4511-a53f-235aa27461a3",
   "metadata": {},
   "outputs": [
    {
     "name": "stdin",
     "output_type": "stream",
     "text": [
      "enter a number 4\n"
     ]
    },
    {
     "name": "stdout",
     "output_type": "stream",
     "text": [
      "4 X 1 = 4\n",
      "4 X 2 = 8\n",
      "4 X 3 = 12\n",
      "4 X 4 = 16\n",
      "4 X 5 = 20\n",
      "4 X 6 = 24\n",
      "4 X 7 = 28\n",
      "4 X 8 = 32\n",
      "4 X 9 = 36\n",
      "4 X 10 = 40\n"
     ]
    }
   ],
   "source": [
    "mul=int(input(\"enter a number\"))\n",
    "for i in range (1,11):\n",
    "    print(mul,\"X\",i,\"=\",mul*i)"
   ]
  },
  {
   "cell_type": "markdown",
   "id": "8504e3c5-ca5a-4889-8e3b-45111e147562",
   "metadata": {},
   "source": [
    "## while loop"
   ]
  },
  {
   "cell_type": "code",
   "execution_count": 88,
   "id": "d638d637-5dd5-4e73-b69d-8cf330093440",
   "metadata": {},
   "outputs": [
    {
     "name": "stdin",
     "output_type": "stream",
     "text": [
      "enter a number 5\n"
     ]
    },
    {
     "name": "stdout",
     "output_type": "stream",
     "text": [
      "15\n"
     ]
    }
   ],
   "source": [
    "b=int(input(\"enter a number\"))\n",
    "cnt=0;\n",
    "i=1;\n",
    "while (i<b+1):\n",
    "    cnt+=i;\n",
    "    i+=1;\n",
    "print(cnt)"
   ]
  },
  {
   "cell_type": "code",
   "execution_count": null,
   "id": "35a7ecf3-0f3c-4d5b-a0b1-d2dd01c84ceb",
   "metadata": {},
   "outputs": [],
   "source": [
    "\n",
    "for i in range(1,21):\n",
    "    if i%3==0 and i%5==0:\n",
    "        print(\"bUZZfizz\");\n",
    "    elif i%3==0:\n",
    "        print(\"FIZZ\");\n",
    "    elif i%5==0:\n",
    "        print(\"buzz\");\n",
    "    else:\n",
    "        print(i)\n",
    "\n",
    "    \n",
    "    \n",
    "    "
   ]
  },
  {
   "cell_type": "code",
   "execution_count": null,
   "id": "3cbe4e98-1b28-4a39-adbc-8e2a9634459b",
   "metadata": {},
   "outputs": [],
   "source": [
    "for i in range(1, 21):\n",
    "    if i % 3 == 0 and i % 5 == 0:\n",
    "        print(\"FizzBuzz\")  # Standard case\n",
    "    elif i % 3 == 0:\n",
    "        print(\"Fizz\")\n",
    "    elif i % 5 == 0:\n",
    "        print(\"Buzz\")\n",
    "    else:\n",
    "        print(i)\n"
   ]
  },
  {
   "cell_type": "code",
   "execution_count": 18,
   "id": "6d34206c-ebb9-4023-8bde-25920335e694",
   "metadata": {},
   "outputs": [
    {
     "name": "stdout",
     "output_type": "stream",
     "text": [
      "17\n",
      "2\n",
      "Hello how are you\n",
      "hello how are you\n",
      "HELLO HOW ARE YOU\n",
      "hello how are you\n",
      "6\n",
      "hello how are you\n"
     ]
    }
   ],
   "source": [
    "a=\"hello how are you\"\n",
    "print(len(a))\n",
    "print(a.count(\"h\"))\n",
    "print(a.capitalize())\n",
    "print(a.casefold())\n",
    "print(a.upper())\n",
    "print(a.lower())\n",
    "print(a.index('how'))\n",
    "print(a.center(4,\"*\"))\n"
   ]
  },
  {
   "cell_type": "code",
   "execution_count": 19,
   "id": "5bc8d397-1a0f-4876-9103-ecac12764e65",
   "metadata": {},
   "outputs": [
    {
     "name": "stdout",
     "output_type": "stream",
     "text": [
      "my name is john\n"
     ]
    }
   ],
   "source": [
    "name=\"john\"\n",
    "a=\"my name is {}\"\n",
    "print(a.format(name))"
   ]
  },
  {
   "cell_type": "code",
   "execution_count": 33,
   "id": "b3eacf60-ca32-4495-8356-262794aff5cd",
   "metadata": {},
   "outputs": [
    {
     "data": {
      "text/plain": [
       "True"
      ]
     },
     "execution_count": 33,
     "metadata": {},
     "output_type": "execute_result"
    }
   ],
   "source": [
    "a=\"123\"\n",
    "a.isdigit()\n",
    "a.isalpha()\n",
    "a.isdecimal()\n"
   ]
  },
  {
   "cell_type": "code",
   "execution_count": 34,
   "id": "9b099dbe-8a4d-4bb8-a1b4-8a75a871bc68",
   "metadata": {},
   "outputs": [
    {
     "data": {
      "text/plain": [
       "True"
      ]
     },
     "execution_count": 34,
     "metadata": {},
     "output_type": "execute_result"
    }
   ],
   "source": [
    "a=\"23 21\"\n",
    "a.isnumeric()\n"
   ]
  },
  {
   "cell_type": "code",
   "execution_count": 36,
   "id": "4518168e-a83e-4300-84c8-c0d5e235cf51",
   "metadata": {},
   "outputs": [
    {
     "data": {
      "text/plain": [
       "False"
      ]
     },
     "execution_count": 36,
     "metadata": {},
     "output_type": "execute_result"
    }
   ],
   "source": [
    "a=\"23 21\"\n",
    "a.isspace()"
   ]
  },
  {
   "cell_type": "code",
   "execution_count": 37,
   "id": "73e63063-4bac-45e8-98b7-bc233cb09800",
   "metadata": {},
   "outputs": [
    {
     "data": {
      "text/plain": [
       "False"
      ]
     },
     "execution_count": 37,
     "metadata": {},
     "output_type": "execute_result"
    }
   ],
   "source": [
    "a=\"HELLO POTTER\"\n",
    "a.istitle()"
   ]
  },
  {
   "cell_type": "code",
   "execution_count": 45,
   "id": "0acdacd6-2b4a-4479-b8ce-46aadc5e820e",
   "metadata": {},
   "outputs": [
    {
     "name": "stdout",
     "output_type": "stream",
     "text": [
      "True\n"
     ]
    }
   ],
   "source": [
    "a=\"harry pot\"\n",
    "print(a.endswith(\"t\",6,9))\n"
   ]
  },
  {
   "cell_type": "code",
   "execution_count": 47,
   "id": "6d96f894-71d6-4117-b1af-4bcfd0c94ff1",
   "metadata": {},
   "outputs": [
    {
     "name": "stdout",
     "output_type": "stream",
     "text": [
      "True\n"
     ]
    }
   ],
   "source": [
    "a=\"bhsuham\"\n",
    "print(a.endswith(\"m\",1,7))"
   ]
  },
  {
   "cell_type": "code",
   "execution_count": 51,
   "id": "80698d5d-f189-4371-ad4d-be42ea515859",
   "metadata": {},
   "outputs": [
    {
     "name": "stdout",
     "output_type": "stream",
     "text": [
      "14\n"
     ]
    }
   ],
   "source": [
    "a=\"hello how are you i am fine\"\n",
    "print(a.rfind('you'))"
   ]
  },
  {
   "cell_type": "code",
   "execution_count": 56,
   "id": "98635a46-319d-40c0-94fb-663b4ced4756",
   "metadata": {},
   "outputs": [
    {
     "name": "stdout",
     "output_type": "stream",
     "text": [
      "harry\n"
     ]
    }
   ],
   "source": [
    "a=\"harry potter and goblet of the fire\"\n",
    "\n",
    "print(a[0:5])"
   ]
  },
  {
   "cell_type": "code",
   "execution_count": 59,
   "id": "b07d1f5c-2132-4b91-b595-609324add932",
   "metadata": {},
   "outputs": [
    {
     "name": "stdout",
     "output_type": "stream",
     "text": [
      "ry p\n"
     ]
    }
   ],
   "source": [
    "a=\"harry potter and goblet of the fire\"\n",
    "print(a[3:7])"
   ]
  },
  {
   "cell_type": "code",
   "execution_count": 61,
   "id": "28203ba4-0062-4789-803d-45781a9782f0",
   "metadata": {},
   "outputs": [
    {
     "name": "stdout",
     "output_type": "stream",
     "text": [
      "harry potter and goblet of t\n"
     ]
    }
   ],
   "source": [
    "a=\"harry potter and goblet of the fire\"\n",
    "print(a[0:28])"
   ]
  },
  {
   "cell_type": "code",
   "execution_count": 62,
   "id": "57607524-8159-4a7a-91b5-0d93515c4657",
   "metadata": {},
   "outputs": [
    {
     "data": {
      "text/plain": [
       "35"
      ]
     },
     "execution_count": 62,
     "metadata": {},
     "output_type": "execute_result"
    }
   ],
   "source": [
    "a=\"harry potter and goblet of the fire\"\n",
    "len(a)"
   ]
  },
  {
   "cell_type": "code",
   "execution_count": 64,
   "id": "27273bde-c599-4adf-b830-32bac2a70afe",
   "metadata": {},
   "outputs": [
    {
     "name": "stdout",
     "output_type": "stream",
     "text": [
      "\n"
     ]
    }
   ],
   "source": [
    "a=\"harry potter and goblet of the fire\"\n",
    "print(a[-4:0])"
   ]
  },
  {
   "cell_type": "code",
   "execution_count": 68,
   "id": "9ce25ac6-4fca-441b-9ade-b913db93e6e7",
   "metadata": {},
   "outputs": [],
   "source": [
    "import numpy as np\n",
    "import pandas as pd"
   ]
  },
  {
   "cell_type": "code",
   "execution_count": 70,
   "id": "12c83e1f-03b1-4cbe-81e8-48f6d2ac9452",
   "metadata": {},
   "outputs": [
    {
     "name": "stdout",
     "output_type": "stream",
     "text": [
      "[ 1  2  3  4  5  6  7  8  9 10]\n"
     ]
    }
   ],
   "source": [
    "a=np.arange(1,11)\n",
    "\n",
    "print(a)"
   ]
  },
  {
   "cell_type": "code",
   "execution_count": 75,
   "id": "a939e88e-f8b3-4245-abcd-1807b6556ec8",
   "metadata": {},
   "outputs": [
    {
     "name": "stdout",
     "output_type": "stream",
     "text": [
      "0369\n"
     ]
    }
   ],
   "source": [
    "b=\"01234567890\"\n",
    "print(b[::3])"
   ]
  },
  {
   "cell_type": "code",
   "execution_count": 77,
   "id": "1e2e4980-6b62-4865-a6c1-16ceabb13aba",
   "metadata": {},
   "outputs": [
    {
     "name": "stdout",
     "output_type": "stream",
     "text": [
      "258\n"
     ]
    }
   ],
   "source": [
    "b=\"01234567890\"\n",
    "print(b[2:9:3])"
   ]
  },
  {
   "cell_type": "code",
   "execution_count": 78,
   "id": "2e636347-7aae-4c5d-927d-fe4a79d8ad54",
   "metadata": {},
   "outputs": [
    {
     "name": "stdout",
     "output_type": "stream",
     "text": [
      "09876543210\n"
     ]
    }
   ],
   "source": [
    "b=\"01234567890\"\n",
    "print(b[::-1])"
   ]
  },
  {
   "cell_type": "code",
   "execution_count": null,
   "id": "0bb334e9-6e02-4911-a662-431711ba631d",
   "metadata": {},
   "outputs": [],
   "source": [
    "a=\"bhsuhan\"\n",
    "print()"
   ]
  }
 ],
 "metadata": {
  "kernelspec": {
   "display_name": "Python 3 (ipykernel)",
   "language": "python",
   "name": "python3"
  },
  "language_info": {
   "codemirror_mode": {
    "name": "ipython",
    "version": 3
   },
   "file_extension": ".py",
   "mimetype": "text/x-python",
   "name": "python",
   "nbconvert_exporter": "python",
   "pygments_lexer": "ipython3",
   "version": "3.13.0"
  }
 },
 "nbformat": 4,
 "nbformat_minor": 5
}
