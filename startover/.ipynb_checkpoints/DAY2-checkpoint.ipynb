{
 "cells": [
  {
   "cell_type": "markdown",
   "id": "d2573c9d-a999-48ef-a870-707462dbf6ec",
   "metadata": {},
   "source": [
    "# Write a Python program that takes an integer N as input and uses a for loop to calculate the sum of the first N natural numbers"
   ]
  },
  {
   "cell_type": "code",
   "execution_count": 25,
   "id": "bb342973-0fe3-4300-a93e-65e41ab45400",
   "metadata": {},
   "outputs": [
    {
     "name": "stdin",
     "output_type": "stream",
     "text": [
      "enter a number 5\n"
     ]
    },
    {
     "name": "stdout",
     "output_type": "stream",
     "text": [
      "15\n"
     ]
    }
   ],
   "source": [
    "num=int(input('enter a number'))\n",
    "count=1;\n",
    "for i in range(1,num):\n",
    "    count+=i;\n",
    "    count+=1;\n",
    "print(count)"
   ]
  },
  {
   "cell_type": "markdown",
   "id": "6dac87df-e1d4-484a-b100-f8b30a159445",
   "metadata": {},
   "source": [
    "## Write a Python program that takes an integer N and prints all even numbers from 1 to N using a for loop."
   ]
  },
  {
   "cell_type": "code",
   "execution_count": 33,
   "id": "eaf49d6e-ff5e-4e1d-a47a-875b6b5b90c7",
   "metadata": {},
   "outputs": [
    {
     "name": "stdin",
     "output_type": "stream",
     "text": [
      "enter a number 10\n"
     ]
    },
    {
     "name": "stdout",
     "output_type": "stream",
     "text": [
      "2\n",
      "4\n",
      "6\n",
      "8\n",
      "10\n"
     ]
    }
   ],
   "source": [
    "num=int(input('enter a number'))\n",
    "for i in range(1,num+1):\n",
    "    if i%2==0:\n",
    "        print(i);\n",
    "    \n",
    "\n"
   ]
  },
  {
   "cell_type": "markdown",
   "id": "4414cff6-0a65-49ae-9e20-4bc509f289f6",
   "metadata": {},
   "source": [
    "## Write a Python program that takes a string as input and prints the reverse of the string using a for loop."
   ]
  },
  {
   "cell_type": "code",
   "execution_count": 56,
   "id": "283299bb-c4f2-456d-aa91-4c46953d0a1f",
   "metadata": {},
   "outputs": [
    {
     "name": "stdin",
     "output_type": "stream",
     "text": [
      "entr a string zade\n"
     ]
    },
    {
     "name": "stdout",
     "output_type": "stream",
     "text": [
      "edaz\n"
     ]
    }
   ],
   "source": [
    "text=input('entr a string')\n",
    "rev=\"\";\n",
    "for char in text:\n",
    "    rev=char+rev;\n",
    "print(rev)"
   ]
  },
  {
   "cell_type": "markdown",
   "id": "89933fb8-1236-4fda-97ab-a9f2c9c37c0c",
   "metadata": {},
   "source": [
    "## Write a Python program that takes an integer N and calculates its factorial using a for loop."
   ]
  },
  {
   "cell_type": "code",
   "execution_count": 63,
   "id": "cb48db2a-80ea-4d44-80b0-c73a112ecb69",
   "metadata": {},
   "outputs": [
    {
     "name": "stdin",
     "output_type": "stream",
     "text": [
      "enter a number 5\n"
     ]
    },
    {
     "name": "stdout",
     "output_type": "stream",
     "text": [
      "120\n"
     ]
    }
   ],
   "source": [
    "num=int(input(\"enter a number\"))\n",
    "fact=1;\n",
    "for i in range(1,num+1):\n",
    "    fact*=i;\n",
    "print(fact)\n"
   ]
  },
  {
   "cell_type": "code",
   "execution_count": 68,
   "id": "0f3b486d-9a47-4511-a53f-235aa27461a3",
   "metadata": {},
   "outputs": [
    {
     "name": "stdin",
     "output_type": "stream",
     "text": [
      "enter a number 4\n"
     ]
    },
    {
     "name": "stdout",
     "output_type": "stream",
     "text": [
      "4 X 1 = 4\n",
      "4 X 2 = 8\n",
      "4 X 3 = 12\n",
      "4 X 4 = 16\n",
      "4 X 5 = 20\n",
      "4 X 6 = 24\n",
      "4 X 7 = 28\n",
      "4 X 8 = 32\n",
      "4 X 9 = 36\n",
      "4 X 10 = 40\n"
     ]
    }
   ],
   "source": [
    "mul=int(input(\"enter a number\"))\n",
    "for i in range (1,11):\n",
    "    print(mul,\"X\",i,\"=\",mul*i)"
   ]
  },
  {
   "cell_type": "markdown",
   "id": "8504e3c5-ca5a-4889-8e3b-45111e147562",
   "metadata": {},
   "source": [
    "## while loop"
   ]
  },
  {
   "cell_type": "code",
   "execution_count": 88,
   "id": "d638d637-5dd5-4e73-b69d-8cf330093440",
   "metadata": {},
   "outputs": [
    {
     "name": "stdin",
     "output_type": "stream",
     "text": [
      "enter a number 5\n"
     ]
    },
    {
     "name": "stdout",
     "output_type": "stream",
     "text": [
      "15\n"
     ]
    }
   ],
   "source": [
    "b=int(input(\"enter a number\"))\n",
    "cnt=0;\n",
    "i=1;\n",
    "while (i<b+1):\n",
    "    cnt+=i;\n",
    "    i+=1;\n",
    "print(cnt)"
   ]
  },
  {
   "cell_type": "code",
   "execution_count": null,
   "id": "35a7ecf3-0f3c-4d5b-a0b1-d2dd01c84ceb",
   "metadata": {},
   "outputs": [],
   "source": [
    "\n",
    "for i in range(1,21):\n",
    "    if i%3==0 and i%5==0:\n",
    "        print(\"bUZZfizz\");\n",
    "    elif i%3==0:\n",
    "        print(\"FIZZ\");\n",
    "    elif i%5==0:\n",
    "        print(\"buzz\");\n",
    "    else:\n",
    "        print(i)\n",
    "\n",
    "    \n",
    "    \n",
    "    "
   ]
  },
  {
   "cell_type": "code",
   "execution_count": null,
   "id": "3cbe4e98-1b28-4a39-adbc-8e2a9634459b",
   "metadata": {},
   "outputs": [],
   "source": [
    "for i in range(1, 21):\n",
    "    if i % 3 == 0 and i % 5 == 0:\n",
    "        print(\"FizzBuzz\")  # Standard case\n",
    "    elif i % 3 == 0:\n",
    "        print(\"Fizz\")\n",
    "    elif i % 5 == 0:\n",
    "        print(\"Buzz\")\n",
    "    else:\n",
    "        print(i)\n"
   ]
  },
  {
   "cell_type": "code",
   "execution_count": null,
   "id": "6d34206c-ebb9-4023-8bde-25920335e694",
   "metadata": {},
   "outputs": [],
   "source": []
  }
 ],
 "metadata": {
  "kernelspec": {
   "display_name": "Python 3 (ipykernel)",
   "language": "python",
   "name": "python3"
  },
  "language_info": {
   "codemirror_mode": {
    "name": "ipython",
    "version": 3
   },
   "file_extension": ".py",
   "mimetype": "text/x-python",
   "name": "python",
   "nbconvert_exporter": "python",
   "pygments_lexer": "ipython3",
   "version": "3.13.0"
  }
 },
 "nbformat": 4,
 "nbformat_minor": 5
}
