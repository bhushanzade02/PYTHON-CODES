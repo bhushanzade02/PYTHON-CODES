{
 "cells": [
  {
   "cell_type": "markdown",
   "id": "23bbf6b1-1f58-4845-8b30-13f51ca76b55",
   "metadata": {},
   "source": [
    "## write a program for even / odd number"
   ]
  },
  {
   "cell_type": "code",
   "execution_count": 18,
   "id": "55d4fad9-428d-409a-8185-b05017cc5c20",
   "metadata": {},
   "outputs": [
    {
     "name": "stdin",
     "output_type": "stream",
     "text": [
      "enter a number 23\n"
     ]
    },
    {
     "name": "stdout",
     "output_type": "stream",
     "text": [
      "odd\n"
     ]
    }
   ],
   "source": [
    "num=int(input(\"enter a number\"));\n",
    "if num %2 ==0:\n",
    "    print(\"even\");\n",
    "else:\n",
    "    print(\"odd\")\n"
   ]
  },
  {
   "cell_type": "markdown",
   "id": "7f251714-350e-4a39-87dc-2f5e3b78b903",
   "metadata": {},
   "source": [
    "## Write a program to input two numbers. If the first number is greater than the second number, print \"The first number is greater.\" Otherwise, print \"The second number is greater or equal.\""
   ]
  },
  {
   "cell_type": "code",
   "execution_count": 27,
   "id": "91a924fe-7e20-4e63-83ac-299369c91d79",
   "metadata": {},
   "outputs": [
    {
     "name": "stdin",
     "output_type": "stream",
     "text": [
      "enter a number 122\n",
      "enter a 2nd number 23\n"
     ]
    },
    {
     "name": "stdout",
     "output_type": "stream",
     "text": [
      "n1 is greater\n"
     ]
    }
   ],
   "source": [
    " n1=int(input('enter a number'))\n",
    "n2=int(input('enter a 2nd number'))\n",
    "if n1 >=n2:\n",
    "    print('n1 is greater')\n",
    "else:\n",
    "    print('n2 is graeter')"
   ]
  },
  {
   "cell_type": "markdown",
   "id": "0401a2a8-29a8-4c2f-882c-6bb8bdf61b0a",
   "metadata": {},
   "source": [
    "Write a Python function that takes an integer as input and:\n",
    "\n",
    "Prints \"Divisible by 5\" if the number is divisible by 5.\n",
    "Prints \"Not Divisible by 5\" otherwise.\n"
   ]
  },
  {
   "cell_type": "code",
   "execution_count": 30,
   "id": "f76fc979-0a5b-44b3-b2da-ed4ab69a0531",
   "metadata": {},
   "outputs": [
    {
     "name": "stdin",
     "output_type": "stream",
     "text": [
      "enter a number 23\n"
     ]
    },
    {
     "name": "stdout",
     "output_type": "stream",
     "text": [
      "not ok\n"
     ]
    }
   ],
   "source": [
    "num=int(input('enter a number'))\n",
    "if num %5==0:\n",
    "        print(\"ok\");\n",
    "else:\n",
    "    print(\"not ok\")\n"
   ]
  },
  {
   "cell_type": "markdown",
   "id": "9e19df53-5f2b-4291-b7cd-7c77db6078b8",
   "metadata": {},
   "source": [
    "# Write a program to input three integers and check if:\n",
    "Write a program to input three integers and check if:\n",
    "\n",
    "All three numbers are positive.\n",
    "If yes, print \"All numbers are positive.\"\n",
    "Otherwise, print \"Not all numbers are positive.\"\n"
   ]
  },
  {
   "cell_type": "code",
   "execution_count": 35,
   "id": "6e1203ba-3f2e-4254-b508-06c892c7972f",
   "metadata": {},
   "outputs": [
    {
     "name": "stdin",
     "output_type": "stream",
     "text": [
      "enter anumber  23\n",
      "enter anumber  -4\n",
      "enter anumber  42\n"
     ]
    },
    {
     "name": "stdout",
     "output_type": "stream",
     "text": [
      "number are not positive\n"
     ]
    }
   ],
   "source": [
    "n1=int(input('enter anumber '))\n",
    "n2=int(input('enter anumber '))\n",
    "n3=int(input('enter anumber '))\n",
    "if (n1>0 and n2>0 and n3 >0):\n",
    "    print('all three no is +ve ')\n",
    "else:\n",
    "    print(\"number are not positive\")"
   ]
  },
  {
   "cell_type": "markdown",
   "id": "6a040d04-2e19-4eeb-bc57-5740c62914cf",
   "metadata": {},
   "source": [
    "## Write a program to input a number and check:\n",
    "\n",
    "If the number is greater than 100, print \"High.\"\n",
    "If the number is between 50 and 100 (inclusive), print \"Medium.\"\n",
    "Otherwise, print \"Low.\""
   ]
  },
  {
   "cell_type": "code",
   "execution_count": 41,
   "id": "c783ea09-72b0-469c-a15d-c0d4806a4f65",
   "metadata": {},
   "outputs": [
    {
     "name": "stdin",
     "output_type": "stream",
     "text": [
      "enter a number 12\n"
     ]
    },
    {
     "name": "stdout",
     "output_type": "stream",
     "text": [
      "no is low\n"
     ]
    }
   ],
   "source": [
    "num=int(input(\"enter a number\"))\n",
    "if num >100:\n",
    "    print(\"high\")\n",
    "elif (50 < num<100):\n",
    "    print(\"medium\");\n",
    "else:\n",
    "    print(\"no is low\")\n",
    "\n",
    "    "
   ]
  },
  {
   "cell_type": "markdown",
   "id": "a3ca6cb5-32c5-4563-8c8a-1fcacc6284c5",
   "metadata": {},
   "source": [
    "## Write a Python program to input a year and check if it's a leap year. Use the following conditions:\n",
    "\n",
    "A year is a leap year if it's divisible by\n",
    "4 but not divisible by 100 unless it is also divisible by 400.\n",
    "Print \"Leap Year\" or \"Not a Leap Year\" accordingly.\n"
   ]
  },
  {
   "cell_type": "code",
   "execution_count": 47,
   "id": "8d1fe107-0188-471c-83fe-b462670d8461",
   "metadata": {},
   "outputs": [
    {
     "name": "stdin",
     "output_type": "stream",
     "text": [
      "enter a year 2000\n"
     ]
    },
    {
     "name": "stdout",
     "output_type": "stream",
     "text": [
      "year is not leap year\n"
     ]
    }
   ],
   "source": [
    "year=int(input(\"enter a year\"))\n",
    "if (year%4==0 and year%100!=0):\n",
    "    print('year is leap year')\n",
    "else :\n",
    "    print(\"year is not leap year\")"
   ]
  },
  {
   "cell_type": "markdown",
   "id": "76daf711-c1a5-4a4a-afb3-705ebb4a6af9",
   "metadata": {},
   "source": [
    "Write a program that takes a person's age as input and categorizes them into:\n",
    "\n",
    "\"Child\" if age is less than 13.\n",
    "\"Teenager\" if age is between 13 and 19.\n",
    "\"Adult\" if age is between 20 and 59.\n",
    "\"Senior\" if age is 60 or above."
   ]
  },
  {
   "cell_type": "code",
   "execution_count": 51,
   "id": "53cfe5d3-e119-48ac-8126-0279e933d7b8",
   "metadata": {},
   "outputs": [
    {
     "name": "stdin",
     "output_type": "stream",
     "text": [
      "enter a age 1\n"
     ]
    },
    {
     "name": "stdout",
     "output_type": "stream",
     "text": [
      "child\n"
     ]
    }
   ],
   "source": [
    "age=int(input(\"enter a age\"))\n",
    "if age <13:\n",
    "    print('child');\n",
    "elif ( 13<age<19):\n",
    "    print('teenager')\n",
    "elif (20<age<59):\n",
    "    print('adult');\n",
    "else:\n",
    "    print(\"senior\")"
   ]
  },
  {
   "cell_type": "markdown",
   "id": "f34995a8-ca41-411c-aad9-ecab05db915e",
   "metadata": {},
   "source": [
    "## Write a program that accepts three integers representing the sides of a triangle and determines its type:\n",
    "\n",
    "If all three sides are equal, print \"Equilateral Triangle.\"\n",
    "If two sides are equal, print \"Isosceles Triangle.\"\n",
    "If no sides are equal, print \"Scalene Triangle.\"\n"
   ]
  },
  {
   "cell_type": "code",
   "execution_count": 54,
   "id": "d9881dac-3c41-455d-a76e-35c53a55bb0d",
   "metadata": {},
   "outputs": [
    {
     "name": "stdin",
     "output_type": "stream",
     "text": [
      "enter a side 1  11\n",
      "enter a side 2 23\n",
      "enter a side 3 45\n"
     ]
    },
    {
     "name": "stdout",
     "output_type": "stream",
     "text": [
      "scalene\n"
     ]
    }
   ],
   "source": [
    "s1=int(input('enter a side 1 '))\n",
    "s2=int(input('enter a side 2'))\n",
    "s3=int(input('enter a side 3'))\n",
    "if s1==s2 and s2==s3 and s3==s1:\n",
    "    print(\"t is equi\");\n",
    "elif (s1==s2 or s2==s3 or s3==s1):\n",
    "    print(\"isos\");\n",
    "elif (s1!=s2 and s2!=s3 and s3!=s1):\n",
    "    print(\"scalene\");\n",
    "else:\n",
    "    print(\"bullshit\")\n",
    "\n",
    "    \n",
    "\n",
    "\n",
    "\n"
   ]
  },
  {
   "cell_type": "markdown",
   "id": "18ac8b2c-170d-47d4-be81-5b9962aee5db",
   "metadata": {},
   "source": [
    "<!-- ##Write a program that accepts the name of a month (e.g., \"January\", \"February\") and prints:\n",
    "\n",
    "\"28 or 29 days\" if the month is \"February.\"\n",
    "\"30 days\" if the month is \"April\", \"June\", \"September\", or \"November.\"\n",
    "\"31 days\" for all other months. -->"
   ]
  },
  {
   "cell_type": "code",
   "execution_count": null,
   "id": "1fdc0946-714a-428b-b7a1-d16640293855",
   "metadata": {},
   "outputs": [],
   "source": [
    "# Question 5: Days in a Month\n",
    "# Write a program that accepts the name of a month (e.g., \"January\", \"February\") and prints:\n",
    "\n",
    "# \"28 or 29 days\" if the month is \"February.\"\n",
    "# \"30 days\" if the month is \"April\", \"June\", \"September\", or \"November.\"\n",
    "# \"31 days\" for all other months.\n"
   ]
  },
  {
   "cell_type": "code",
   "execution_count": 59,
   "id": "c05e413d-f97a-49e2-9295-fd809d922376",
   "metadata": {},
   "outputs": [
    {
     "name": "stdin",
     "output_type": "stream",
     "text": [
      "enter a month jan\n"
     ]
    },
    {
     "name": "stdout",
     "output_type": "stream",
     "text": [
      "31 days\n"
     ]
    }
   ],
   "source": [
    "month=str(input('enter a month'))\n",
    "if month in (\"apr\",\"june \",\"sept\",\"nov\"):\n",
    "    print(\"30 days \");\n",
    "elif month in (\"feb\"):\n",
    "    print(\"29 days\");\n",
    "else:\n",
    "    print(\"31 days\")"
   ]
  },
  {
   "cell_type": "code",
   "execution_count": 60,
   "id": "a91df3c2-d7dc-4600-bbad-85ee120a4130",
   "metadata": {},
   "outputs": [],
   "source": [
    "## nested if statement"
   ]
  },
  {
   "cell_type": "raw",
   "id": "4f6c3a89-b574-475a-99a7-84e2ccc1dc4e",
   "metadata": {},
   "source": [
    "Question 1: Student Scholarship Eligibility\n",
    "Write a program to determine if a student is eligible for a scholarship. The criteria are:\n",
    "\n",
    "The student must score above 85 marks.\n",
    "If marks are above 90, the student gets a \"Full Scholarship.\"\n",
    "If marks are between 85 and 90 (inclusive), check if the student has a good attendance record (above 75%):\n",
    "If yes, they get a \"Partial Scholarship.\"\n",
    "Otherwise, they get \"No Scholarship.\""
   ]
  },
  {
   "cell_type": "code",
   "execution_count": 69,
   "id": "8ee000af-4609-4ed2-9081-171f95a195a1",
   "metadata": {},
   "outputs": [
    {
     "name": "stdout",
     "output_type": "stream",
     "text": [
      "7 odd\n",
      "2 even\n",
      "7 odd\n",
      "4 even\n",
      "7 odd\n",
      "6 even\n",
      "7 odd\n",
      "8 even\n",
      "7 odd\n",
      "10 even\n"
     ]
    }
   ],
   "source": [
    "n=7;\n",
    "for i in range (1,11):\n",
    "    if(i%2==0):\n",
    "        print(i,\"even\");\n",
    "    elif(i%2!=0):\n",
    "        print(n,\"odd\")"
   ]
  },
  {
   "cell_type": "raw",
   "id": "6deb60d6-f19c-4e0e-b801-c3d4e6462d5c",
   "metadata": {},
   "source": [
    "Write a Python program that calculates the sum of all numbers from 1 to 100 using a while loop"
   ]
  },
  {
   "cell_type": "code",
   "execution_count": 79,
   "id": "cf323a55-84c8-4ddc-b558-fe45049e5bab",
   "metadata": {},
   "outputs": [
    {
     "name": "stdout",
     "output_type": "stream",
     "text": [
      "46\n"
     ]
    }
   ],
   "source": [
    "num=10;\n",
    "addf=1;\n",
    "i=1;\n",
    "while(i<num):\n",
    "    addf+=i;\n",
    "    i+=1;\n",
    "print(addf)"
   ]
  },
  {
   "cell_type": "raw",
   "id": "2f204146-9a67-4276-b253-13e7c20152aa",
   "metadata": {},
   "source": [
    "Write a Python program that counts how many times the number 7 appears in a list of numbers using a for loop.\n",
    "\n"
   ]
  },
  {
   "cell_type": "code",
   "execution_count": null,
   "id": "0cfd57c3-0703-4b7c-91e5-80f8e2e10616",
   "metadata": {},
   "outputs": [],
   "source": [
    "count=0;\n",
    "num=int(input(\"enter a number\"))\n",
    "for i in range(num):\n",
    "    value=int(input(i+1))\n",
    "    if value==7:\n",
    "        count+=1;\n",
    "print(count)"
   ]
  },
  {
   "cell_type": "code",
   "execution_count": null,
   "id": "50110659-47b1-4442-ad9b-2faf15141e6e",
   "metadata": {},
   "outputs": [],
   "source": []
  },
  {
   "cell_type": "markdown",
   "id": "edc792f4-fdb9-496d-8914-2d00e646a841",
   "metadata": {},
   "source": [
    "Write a program that takes an integer N as input and prints numbers from 1 to N.`"
   ]
  },
  {
   "cell_type": "code",
   "execution_count": 20,
   "id": "14699b04-7dc9-4352-87ed-f81ea79388d2",
   "metadata": {},
   "outputs": [
    {
     "name": "stdin",
     "output_type": "stream",
     "text": [
      "enter a value 10\n"
     ]
    },
    {
     "name": "stdout",
     "output_type": "stream",
     "text": [
      "1\n",
      "2\n",
      "3\n",
      "4\n",
      "5\n",
      "6\n",
      "7\n",
      "8\n",
      "9\n",
      "10\n"
     ]
    }
   ],
   "source": [
    "N=int(input(\"enter a value\"))\n",
    "for i in range(N):\n",
    "    i+=1;\n",
    "    print(i)"
   ]
  },
  {
   "cell_type": "markdown",
   "id": "cd8099f7-239c-4ae9-a0d1-047c62fed859",
   "metadata": {},
   "source": [
    "Write a program that calculates the sum of the first N natural numbers using a loop.`"
   ]
  },
  {
   "cell_type": "code",
   "execution_count": 32,
   "id": "4d17e18c-71be-4445-911d-fb4b5ef50977",
   "metadata": {},
   "outputs": [
    {
     "name": "stdin",
     "output_type": "stream",
     "text": [
      "enter a number 5\n"
     ]
    },
    {
     "name": "stdout",
     "output_type": "stream",
     "text": [
      "15\n"
     ]
    }
   ],
   "source": [
    "\n",
    "N=int(input(\"enter a number\"))\n",
    "value=0;\n",
    "for i in range(1,N+1):\n",
    "    value+=i;\n",
    "print(value)"
   ]
  },
  {
   "cell_type": "markdown",
   "id": "832e5d5c-4fa1-44c9-b033-2cdf02ba7423",
   "metadata": {},
   "source": [
    "Write a program that takes a number as input and prints its multiplication table up to 10."
   ]
  },
  {
   "cell_type": "code",
   "execution_count": 39,
   "id": "f75b2ff5-b646-4bf2-bc46-cc7ed4a7cda2",
   "metadata": {},
   "outputs": [
    {
     "name": "stdin",
     "output_type": "stream",
     "text": [
      "enter a table 6\n"
     ]
    },
    {
     "name": "stdout",
     "output_type": "stream",
     "text": [
      "6 X 1 = 6\n",
      "6 X 2 = 12\n",
      "6 X 3 = 18\n",
      "6 X 4 = 24\n",
      "6 X 5 = 30\n",
      "6 X 6 = 36\n",
      "6 X 7 = 42\n",
      "6 X 8 = 48\n",
      "6 X 9 = 54\n",
      "6 X 10 = 60\n"
     ]
    }
   ],
   "source": [
    "tab=int(input(\"enter a table\"))\n",
    "for i in range(1,11):\n",
    "    print(tab,\"X\", i ,\"=\",tab*i)"
   ]
  },
  {
   "cell_type": "markdown",
   "id": "975ca361-6044-45ab-bb4b-720378553600",
   "metadata": {},
   "source": [
    "Write a program to print all even numbers between 1 and N."
   ]
  },
  {
   "cell_type": "code",
   "execution_count": 52,
   "id": "43f3934b-e809-4834-9a3e-8292bdc1bf08",
   "metadata": {},
   "outputs": [
    {
     "name": "stdin",
     "output_type": "stream",
     "text": [
      "enter a number 10\n"
     ]
    },
    {
     "name": "stdout",
     "output_type": "stream",
     "text": [
      "2\n",
      "4\n",
      "6\n",
      "8\n"
     ]
    }
   ],
   "source": [
    "num=int(input(\"enter a number\"))\n",
    "for i in range(1,num):\n",
    "    if i%2==0:\n",
    "        print(i)"
   ]
  },
  {
   "cell_type": "markdown",
   "id": "a3536e7f-7162-46fd-93b4-cabf18b8e445",
   "metadata": {},
   "source": [
    "Write a program that prints numbers from N down to 1 in reverse order."
   ]
  },
  {
   "cell_type": "code",
   "execution_count": 54,
   "id": "6e624a81-8111-4852-917d-97c4178f8634",
   "metadata": {},
   "outputs": [
    {
     "name": "stdout",
     "output_type": "stream",
     "text": [
      "10\n",
      "9\n",
      "8\n",
      "7\n",
      "6\n",
      "5\n",
      "4\n",
      "3\n",
      "2\n",
      "1\n"
     ]
    }
   ],
   "source": [
    "n=10;\n",
    "for i in range(n,0,-1):\n",
    "    print(--i);"
   ]
  },
  {
   "cell_type": "code",
   "execution_count": null,
   "id": "99120731-e05c-47b7-ac3c-038f066f9288",
   "metadata": {},
   "outputs": [],
   "source": []
  }
 ],
 "metadata": {
  "kernelspec": {
   "display_name": "Python 3 (ipykernel)",
   "language": "python",
   "name": "python3"
  },
  "language_info": {
   "codemirror_mode": {
    "name": "ipython",
    "version": 3
   },
   "file_extension": ".py",
   "mimetype": "text/x-python",
   "name": "python",
   "nbconvert_exporter": "python",
   "pygments_lexer": "ipython3",
   "version": "3.13.0"
  }
 },
 "nbformat": 4,
 "nbformat_minor": 5
}
