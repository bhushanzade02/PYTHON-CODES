{
 "cells": [
  {
   "cell_type": "code",
   "execution_count": 1,
   "id": "11719b8e-46e0-4f11-83fd-b82128f444a0",
   "metadata": {},
   "outputs": [
    {
     "ename": "NameError",
     "evalue": "name 'siddhoi' is not defined",
     "output_type": "error",
     "traceback": [
      "\u001b[1;31m---------------------------------------------------------------------------\u001b[0m",
      "\u001b[1;31mNameError\u001b[0m                                 Traceback (most recent call last)",
      "Cell \u001b[1;32mIn[1], line 1\u001b[0m\n\u001b[1;32m----> 1\u001b[0m \u001b[43msiddhoi\u001b[49m\n",
      "\u001b[1;31mNameError\u001b[0m: name 'siddhoi' is not defined"
     ]
    }
   ],
   "source": [
    "sidd"
   ]
  },
  {
   "cell_type": "code",
   "execution_count": null,
   "id": "de7de8f7-f3e7-48be-b585-11f8398f6b7c",
   "metadata": {},
   "outputs": [],
   "source": []
  }
 ],
 "metadata": {
  "kernelspec": {
   "display_name": "Python 3 (ipykernel)",
   "language": "python",
   "name": "python3"
  },
  "language_info": {
   "codemirror_mode": {
    "name": "ipython",
    "version": 3
   },
   "file_extension": ".py",
   "mimetype": "text/x-python",
   "name": "python",
   "nbconvert_exporter": "python",
   "pygments_lexer": "ipython3",
   "version": "3.13.0"
  }
 },
 "nbformat": 4,
 "nbformat_minor": 5
}
