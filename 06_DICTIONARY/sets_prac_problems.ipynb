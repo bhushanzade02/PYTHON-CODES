{
 "cells": [
  {
   "cell_type": "markdown",
   "id": "a1c686c6-5122-4423-a697-9227489045e1",
   "metadata": {},
   "source": [
    "## write a code to find a max or min value"
   ]
  },
  {
   "cell_type": "code",
   "execution_count": 2,
   "id": "e06d4c56-1634-43e6-9001-c22269e7fce4",
   "metadata": {},
   "outputs": [
    {
     "name": "stdout",
     "output_type": "stream",
     "text": [
      "the maximum value is 81\n",
      "the minimum value is 2\n"
     ]
    }
   ],
   "source": [
    "a={23,36,2,45,81,11,2,5,7}\n",
    "maximum=max(a)\n",
    "minimum=min(a)\n",
    "print(\"the maximum value is\",maximum)\n",
    "print(\"the minimum value is\",minimum)"
   ]
  },
  {
   "cell_type": "markdown",
   "id": "1f98e774-4be9-434d-a813-ddfc34fe4b82",
   "metadata": {},
   "source": [
    "### find the common value"
   ]
  },
  {
   "cell_type": "code",
   "execution_count": 3,
   "id": "1199fefb-8da4-4af4-9e0f-3bef7a80587d",
   "metadata": {},
   "outputs": [
    {
     "name": "stdout",
     "output_type": "stream",
     "text": [
      "{5, 6}\n"
     ]
    }
   ],
   "source": [
    "a=[1,5,6,8,2]\n",
    "b=[4,5,6,7]\n",
    "c=[1,9,6,2,5]\n",
    "print(set(a) & set(b) & set(c))\n"
   ]
  },
  {
   "cell_type": "markdown",
   "id": "3b147a49-3f87-4dcd-a3e2-777e5c584f7e",
   "metadata": {},
   "source": [
    "### write a program to fiand a differenec between two sets"
   ]
  },
  {
   "cell_type": "code",
   "execution_count": 6,
   "id": "819b6388-0a97-4145-892b-c6b65839235e",
   "metadata": {},
   "outputs": [
    {
     "name": "stdout",
     "output_type": "stream",
     "text": [
      "{1, 9}\n"
     ]
    }
   ],
   "source": [
    "a={1,3,5,8,9}\n",
    "b={7,5,3,8,4}\n",
    "print(a.difference(b))"
   ]
  },
  {
   "cell_type": "markdown",
   "id": "3d1fa3c4-1e92-4f15-b8d6-f64d2d9278c1",
   "metadata": {},
   "source": [
    "### write a program to remove from a set"
   ]
  },
  {
   "cell_type": "code",
   "execution_count": 7,
   "id": "b5e51f8c-a824-4f0a-90ab-9860ecf30daa",
   "metadata": {},
   "outputs": [
    {
     "name": "stdout",
     "output_type": "stream",
     "text": [
      "{1, 3, 4, 5, 7}\n"
     ]
    }
   ],
   "source": [
    "a={1,4,5,7,9,3,5}\n",
    "a.discard(9)\n",
    "print(a)"
   ]
  },
  {
   "cell_type": "code",
   "execution_count": 10,
   "id": "ee7969f1-1d28-4c7b-9686-d691676d6f20",
   "metadata": {},
   "outputs": [
    {
     "name": "stdout",
     "output_type": "stream",
     "text": [
      "True\n"
     ]
    }
   ],
   "source": [
    "a={1,5,6,8,2}\n",
    "b={5,6,8}\n",
    "print(a.issuperset(b))"
   ]
  },
  {
   "cell_type": "code",
   "execution_count": 13,
   "id": "feb8957b-9bed-45d7-ae53-085b35bd0b82",
   "metadata": {},
   "outputs": [
    {
     "name": "stdout",
     "output_type": "stream",
     "text": [
      "56\n"
     ]
    }
   ],
   "source": [
    "def add():\n",
    "    x=33\n",
    "    y=23\n",
    "    print(x+y)\n",
    "add()"
   ]
  },
  {
   "cell_type": "code",
   "execution_count": null,
   "id": "7024b742-d94a-4f03-bf7c-5fedad177ec5",
   "metadata": {},
   "outputs": [],
   "source": []
  }
 ],
 "metadata": {
  "kernelspec": {
   "display_name": "Python 3 (ipykernel)",
   "language": "python",
   "name": "python3"
  },
  "language_info": {
   "codemirror_mode": {
    "name": "ipython",
    "version": 3
   },
   "file_extension": ".py",
   "mimetype": "text/x-python",
   "name": "python",
   "nbconvert_exporter": "python",
   "pygments_lexer": "ipython3",
   "version": "3.13.0"
  }
 },
 "nbformat": 4,
 "nbformat_minor": 5
}
