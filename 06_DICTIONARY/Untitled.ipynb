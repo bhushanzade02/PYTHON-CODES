{
 "cells": [
  {
   "cell_type": "markdown",
   "id": "1f319d18-a941-456e-862a-39accd71b120",
   "metadata": {},
   "source": [
    "# function"
   ]
  },
  {
   "cell_type": "code",
   "execution_count": 2,
   "id": "5732f84c-e74b-4731-914f-dee69e9b050e",
   "metadata": {},
   "outputs": [
    {
     "name": "stdout",
     "output_type": "stream",
     "text": [
      "56\n"
     ]
    }
   ],
   "source": [
    "def add():\n",
    "    x=33\n",
    "    y=23\n",
    "    print(x+y)\n",
    "add()"
   ]
  },
  {
   "cell_type": "code",
   "execution_count": 3,
   "id": "8159ee82-37ce-42f8-b69f-c72be2d63caa",
   "metadata": {},
   "outputs": [
    {
     "name": "stdout",
     "output_type": "stream",
     "text": [
      "5\n"
     ]
    }
   ],
   "source": [
    "def add(x,y):\n",
    "    print(x+y)\n",
    "add(3,2)"
   ]
  },
  {
   "cell_type": "code",
   "execution_count": 4,
   "id": "421d45f4-463d-4e43-9ac0-a0a7cc9406f5",
   "metadata": {},
   "outputs": [
    {
     "name": "stdout",
     "output_type": "stream",
     "text": [
      "374585\n"
     ]
    }
   ],
   "source": [
    "add(287237,87348)"
   ]
  },
  {
   "cell_type": "code",
   "execution_count": 7,
   "id": "7ad96392-4f8f-4fe9-9eb7-75fdb8a12279",
   "metadata": {},
   "outputs": [
    {
     "name": "stdout",
     "output_type": "stream",
     "text": [
      "Area of Rectangle 30\n"
     ]
    }
   ],
   "source": [
    "def area(length,breadth):\n",
    "    print(\"Area of Rectangle\",length*breadth)\n",
    "area(6,5)"
   ]
  },
  {
   "cell_type": "code",
   "execution_count": 9,
   "id": "e10291b7-2dcc-447a-b937-68f4bd534260",
   "metadata": {},
   "outputs": [
    {
     "name": "stdout",
     "output_type": "stream",
     "text": [
      "my name is  bhushan\n"
     ]
    }
   ],
   "source": [
    "def hello(name):\n",
    "    print(\"my name is \",name)\n",
    "hello(\"bhushan\")"
   ]
  },
  {
   "cell_type": "code",
   "execution_count": 14,
   "id": "3939de93-2688-44f0-91e0-c0c2752eebaf",
   "metadata": {},
   "outputs": [
    {
     "name": "stdout",
     "output_type": "stream",
     "text": [
      "hello my name is peter\n"
     ]
    }
   ],
   "source": [
    "def hello(*name):\n",
    "    print(\"hello my name is\",name[2])\n",
    "hello(\"john\",\"lisa\",\"peter\")"
   ]
  },
  {
   "cell_type": "markdown",
   "id": "b1f45abb-b680-4cb1-904c-0773dff9b3c6",
   "metadata": {},
   "source": [
    "## return statement"
   ]
  },
  {
   "cell_type": "code",
   "execution_count": 15,
   "id": "13059806-4ae6-4030-87b0-63c6781b7225",
   "metadata": {},
   "outputs": [
    {
     "name": "stdout",
     "output_type": "stream",
     "text": [
      "17\n"
     ]
    }
   ],
   "source": [
    "def add(a,b):\n",
    "    return(a+b)\n",
    "print(add(13,4))"
   ]
  },
  {
   "cell_type": "code",
   "execution_count": 18,
   "id": "22db79bf-4ed1-4216-85c5-61cbb19bc9e4",
   "metadata": {},
   "outputs": [
    {
     "name": "stdout",
     "output_type": "stream",
     "text": [
      "hello world\n"
     ]
    }
   ],
   "source": [
    "def hello():\n",
    "    return(\"hello world\")\n",
    "print(hello())"
   ]
  },
  {
   "cell_type": "code",
   "execution_count": null,
   "id": "c11c7301-e228-4db8-b51d-93c181b53438",
   "metadata": {},
   "outputs": [],
   "source": []
  }
 ],
 "metadata": {
  "kernelspec": {
   "display_name": "Python 3 (ipykernel)",
   "language": "python",
   "name": "python3"
  },
  "language_info": {
   "codemirror_mode": {
    "name": "ipython",
    "version": 3
   },
   "file_extension": ".py",
   "mimetype": "text/x-python",
   "name": "python",
   "nbconvert_exporter": "python",
   "pygments_lexer": "ipython3",
   "version": "3.13.0"
  }
 },
 "nbformat": 4,
 "nbformat_minor": 5
}
