{
 "cells": [
  {
   "cell_type": "code",
   "execution_count": 1,
   "id": "8eb59f37-aa90-4346-9f65-432444f25669",
   "metadata": {},
   "outputs": [
    {
     "name": "stdout",
     "output_type": "stream",
     "text": [
      "{'ironman', 'thor', 'hulk', 'captain america'}\n"
     ]
    }
   ],
   "source": [
    "a={\"ironman\",\"hulk\",\"thor\",\"captain america\"}\n",
    "print(a)"
   ]
  },
  {
   "cell_type": "code",
   "execution_count": 2,
   "id": "86df4086-cfee-432b-b921-500b04654d6d",
   "metadata": {},
   "outputs": [
    {
     "name": "stdout",
     "output_type": "stream",
     "text": [
      "<class 'set'>\n"
     ]
    }
   ],
   "source": [
    "print(type(a))"
   ]
  },
  {
   "cell_type": "code",
   "execution_count": 5,
   "id": "370ae014-1c3d-4b12-86ff-e3ea98a1de8a",
   "metadata": {},
   "outputs": [
    {
     "name": "stdout",
     "output_type": "stream",
     "text": [
      "ironman\n",
      "thor\n",
      "hulk\n",
      "captain america\n"
     ]
    }
   ],
   "source": [
    "for i in a:\n",
    "    print(i)"
   ]
  },
  {
   "cell_type": "markdown",
   "id": "e41bd771-3ce8-4e0e-b398-4aa9cf8c2300",
   "metadata": {},
   "source": [
    "## sets function"
   ]
  },
  {
   "cell_type": "markdown",
   "id": "b3c23214-d57b-4d1c-9b19-fb7c04fad2f1",
   "metadata": {},
   "source": [
    "### add"
   ]
  },
  {
   "cell_type": "code",
   "execution_count": 12,
   "id": "b325793c-9375-4581-9184-3edb09d943f5",
   "metadata": {},
   "outputs": [
    {
     "name": "stdout",
     "output_type": "stream",
     "text": [
      "{'ironman', 'captian america', 'bhushan', 'spiderman', 'hulk'}\n"
     ]
    }
   ],
   "source": [
    "a={\"ironman\",\"spiderman\",\"hulk\",\"captian america\"}\n",
    "a.add(\"bhushan\")\n",
    "print(a)"
   ]
  },
  {
   "cell_type": "code",
   "execution_count": 13,
   "id": "386102e3-571a-4945-a5cc-09b4cdb705bc",
   "metadata": {},
   "outputs": [
    {
     "name": "stdout",
     "output_type": "stream",
     "text": [
      "{'captian america', 'bhushan', 'spiderman', 'hulk'}\n"
     ]
    }
   ],
   "source": [
    "a.pop()\n",
    "print(a)"
   ]
  },
  {
   "cell_type": "markdown",
   "id": "491ecc70-4d2f-47cd-b6bb-4618f3f17372",
   "metadata": {},
   "source": [
    "### remove"
   ]
  },
  {
   "cell_type": "code",
   "execution_count": 14,
   "id": "c89a581f-1890-4688-8a8b-08fa6a042654",
   "metadata": {},
   "outputs": [
    {
     "name": "stdout",
     "output_type": "stream",
     "text": [
      "{'captian america', 'spiderman', 'hulk'}\n"
     ]
    }
   ],
   "source": [
    "a.remove(\"bhushan\")\n",
    "print(a)"
   ]
  },
  {
   "cell_type": "markdown",
   "id": "950de403-053d-4a4a-bd68-1ba045d9485f",
   "metadata": {},
   "source": [
    "### discard"
   ]
  },
  {
   "cell_type": "code",
   "execution_count": 15,
   "id": "858796ca-89bf-44a6-809e-789ca9267687",
   "metadata": {},
   "outputs": [
    {
     "name": "stdout",
     "output_type": "stream",
     "text": [
      "{'captian america', 'spiderman'}\n"
     ]
    }
   ],
   "source": [
    "a.discard(\"hulk\")\n",
    "print(a)"
   ]
  },
  {
   "cell_type": "markdown",
   "id": "7463d112-ca36-464e-8c62-f80d357f76a4",
   "metadata": {},
   "source": [
    "### copy"
   ]
  },
  {
   "cell_type": "code",
   "execution_count": 16,
   "id": "1c7426a3-ea13-4072-bb75-ddcbbcd876a5",
   "metadata": {},
   "outputs": [
    {
     "name": "stdout",
     "output_type": "stream",
     "text": [
      "{'spiderman', 'captian america'}\n"
     ]
    }
   ],
   "source": [
    "b=a.copy()\n",
    "print(b)"
   ]
  },
  {
   "cell_type": "markdown",
   "id": "a326d0f4-6994-4eae-a229-dd34162b737c",
   "metadata": {},
   "source": [
    "## isdisjoint issupset issuperset update clear"
   ]
  },
  {
   "cell_type": "markdown",
   "id": "0d7f0132-f628-41bd-9821-acd14df36e87",
   "metadata": {},
   "source": [
    "### union"
   ]
  },
  {
   "cell_type": "code",
   "execution_count": 35,
   "id": "29b36d26-8e9a-42f0-8199-c43832710a1e",
   "metadata": {},
   "outputs": [],
   "source": [
    "a={\"ironman\",\"hulk\",\"thor\",\"captain america\"}\n",
    "b={\"superman\",\"batman\",\"wonder-woman\"}\n",
    "c={\"hulk\",\"thor\",\"spiderman\"}\n"
   ]
  },
  {
   "cell_type": "markdown",
   "id": "0e191612-f918-4468-8839-40bc10e4ce05",
   "metadata": {},
   "source": [
    "### union"
   ]
  },
  {
   "cell_type": "code",
   "execution_count": 22,
   "id": "01b33a4d-bdc5-4b16-990d-70f5d3448679",
   "metadata": {},
   "outputs": [
    {
     "name": "stdout",
     "output_type": "stream",
     "text": [
      "{'ironman', 'captain america', 'spiderman', 'thor', 'hulk'}\n"
     ]
    }
   ],
   "source": [
    "print(a.union(c))"
   ]
  },
  {
   "cell_type": "markdown",
   "id": "ba674672-a979-4185-b2a1-1fde9de849ab",
   "metadata": {},
   "source": [
    "### difference"
   ]
  },
  {
   "cell_type": "code",
   "execution_count": 23,
   "id": "7fde1511-f933-4f23-884a-35a801a5aa4b",
   "metadata": {},
   "outputs": [
    {
     "name": "stdout",
     "output_type": "stream",
     "text": [
      "{'ironman', 'captain america'}\n"
     ]
    }
   ],
   "source": [
    "print(a.difference(c))"
   ]
  },
  {
   "cell_type": "markdown",
   "id": "7078a348-504b-45f0-918f-946c1802654d",
   "metadata": {},
   "source": [
    "### differenec update"
   ]
  },
  {
   "cell_type": "code",
   "execution_count": 25,
   "id": "bb7355aa-6c74-4ecb-867d-a8928df3ec48",
   "metadata": {},
   "outputs": [
    {
     "name": "stdout",
     "output_type": "stream",
     "text": [
      "{'ironman', 'thor', 'hulk', 'captain america'}\n"
     ]
    }
   ],
   "source": [
    "a.difference_update()\n",
    "print(a)"
   ]
  },
  {
   "cell_type": "markdown",
   "id": "1dec00a5-11d8-499c-b521-7bd817c6b17d",
   "metadata": {},
   "source": [
    "### intersection "
   ]
  },
  {
   "cell_type": "code",
   "execution_count": 26,
   "id": "63d2fe35-f8fc-41c3-a71c-fffe02962db2",
   "metadata": {},
   "outputs": [
    {
     "name": "stdout",
     "output_type": "stream",
     "text": [
      "{'thor', 'hulk'}\n"
     ]
    }
   ],
   "source": [
    "x=a.intersection(c)\n",
    "print(x)"
   ]
  },
  {
   "cell_type": "code",
   "execution_count": 27,
   "id": "35d884fd-1952-4894-bd04-fa1a1fb3af32",
   "metadata": {},
   "outputs": [
    {
     "name": "stdout",
     "output_type": "stream",
     "text": [
      "{'thor', 'hulk'}\n"
     ]
    }
   ],
   "source": [
    "print(a.intersection(c))"
   ]
  },
  {
   "cell_type": "markdown",
   "id": "5148554a-106c-4588-a2fe-ff1e5c760ce3",
   "metadata": {},
   "source": [
    "### intersectiom-update"
   ]
  },
  {
   "cell_type": "code",
   "execution_count": 30,
   "id": "109abdc7-0b94-4e6b-bdca-bc1b1d753b5b",
   "metadata": {},
   "outputs": [
    {
     "name": "stdout",
     "output_type": "stream",
     "text": [
      "{'spiderman', 'thor', 'hulk'}\n"
     ]
    }
   ],
   "source": [
    "a.intersection_update(c)\n",
    "print(c)"
   ]
  },
  {
   "cell_type": "code",
   "execution_count": 33,
   "id": "a61ad27d-0e6a-4658-8d50-b9e6267cfd13",
   "metadata": {},
   "outputs": [
    {
     "name": "stdout",
     "output_type": "stream",
     "text": [
      "{'ironman', 'captain america', 'spiderman'}\n"
     ]
    }
   ],
   "source": [
    "c=a.symmetric_difference(c)\n",
    "print(c)"
   ]
  },
  {
   "cell_type": "markdown",
   "id": "46eb1536-ffe3-4aea-bc68-184aa4f57239",
   "metadata": {},
   "source": [
    "### symmetric_update"
   ]
  },
  {
   "cell_type": "code",
   "execution_count": 37,
   "id": "02087581-68ab-4e69-8c95-8e2bdb2d5bf1",
   "metadata": {},
   "outputs": [
    {
     "name": "stdout",
     "output_type": "stream",
     "text": [
      "{'ironman', 'spiderman', 'captain america'}\n"
     ]
    }
   ],
   "source": [
    "a.symmetric_difference_update(c)\n",
    "print(a)"
   ]
  },
  {
   "cell_type": "code",
   "execution_count": null,
   "id": "56f93776-de52-48fc-ad3f-53856945292f",
   "metadata": {},
   "outputs": [],
   "source": []
  }
 ],
 "metadata": {
  "kernelspec": {
   "display_name": "Python 3 (ipykernel)",
   "language": "python",
   "name": "python3"
  },
  "language_info": {
   "codemirror_mode": {
    "name": "ipython",
    "version": 3
   },
   "file_extension": ".py",
   "mimetype": "text/x-python",
   "name": "python",
   "nbconvert_exporter": "python",
   "pygments_lexer": "ipython3",
   "version": "3.13.0"
  }
 },
 "nbformat": 4,
 "nbformat_minor": 5
}
