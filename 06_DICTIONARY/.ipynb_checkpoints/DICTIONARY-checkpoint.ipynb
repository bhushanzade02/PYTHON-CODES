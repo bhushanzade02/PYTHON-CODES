{
 "cells": [
  {
   "cell_type": "code",
   "execution_count": 21,
   "id": "03550ffc-7bee-453a-be31-bc51835cc77a",
   "metadata": {},
   "outputs": [
    {
     "name": "stdout",
     "output_type": "stream",
     "text": [
      "{'name': 'john', 'class': '6th', 'rollno': 23}\n"
     ]
    },
    {
     "data": {
      "text/plain": [
       "dict"
      ]
     },
     "execution_count": 21,
     "metadata": {},
     "output_type": "execute_result"
    }
   ],
   "source": [
    "studen={\"name\":\"john\",\"class\":\"6th\",\"rollno\":23}\n",
    "print(studen)\n",
    "type(studen)"
   ]
  },
  {
   "cell_type": "markdown",
   "id": "b9a5a992-b4bd-4447-8587-4f1dee86aec0",
   "metadata": {},
   "source": [
    "## Iteration In Dictionary\n"
   ]
  },
  {
   "cell_type": "code",
   "execution_count": 3,
   "id": "82da72c6-dc58-4070-a738-780abc30f45a",
   "metadata": {},
   "outputs": [
    {
     "name": "stdout",
     "output_type": "stream",
     "text": [
      "name\n",
      "class\n",
      "rollno\n"
     ]
    }
   ],
   "source": [
    "for i in studen:\n",
    "    print(i)"
   ]
  },
  {
   "cell_type": "code",
   "execution_count": 4,
   "id": "b5a4ea7a-eec9-45ce-83fc-0fa2e7195ff9",
   "metadata": {},
   "outputs": [
    {
     "name": "stdout",
     "output_type": "stream",
     "text": [
      "john\n",
      "6th\n",
      "23\n"
     ]
    }
   ],
   "source": [
    "for i in studen:\n",
    "    print(studen[i])"
   ]
  },
  {
   "cell_type": "code",
   "execution_count": 6,
   "id": "f16deb04-888e-441f-886b-0aff449fc3c9",
   "metadata": {},
   "outputs": [
    {
     "name": "stdout",
     "output_type": "stream",
     "text": [
      "john\n",
      "6th\n",
      "23\n"
     ]
    }
   ],
   "source": [
    "for i in studen.values():\n",
    "    print(i)"
   ]
  },
  {
   "cell_type": "code",
   "execution_count": 8,
   "id": "2b9638cc-abfc-42f6-abad-7d7a54d1d480",
   "metadata": {},
   "outputs": [
    {
     "name": "stdout",
     "output_type": "stream",
     "text": [
      "name john\n",
      "class 6th\n",
      "rollno 23\n"
     ]
    }
   ],
   "source": [
    "for i,j in studen.items():\n",
    "    print(i,j)"
   ]
  },
  {
   "cell_type": "markdown",
   "id": "ccf602a6-e9df-4c7f-8cdf-ce507995e321",
   "metadata": {},
   "source": [
    "## DICTIONARY FUNCTION "
   ]
  },
  {
   "cell_type": "code",
   "execution_count": 46,
   "id": "cd9d6731-77f7-42c4-93f0-5dd81653ca1c",
   "metadata": {},
   "outputs": [],
   "source": [
    "studen={\"name\":\"john\",\"class\":\"6th\",\"rollno\":23}"
   ]
  },
  {
   "cell_type": "markdown",
   "id": "5528eb29-b67b-4520-bd17-0c54c28da70f",
   "metadata": {},
   "source": [
    "### Get"
   ]
  },
  {
   "cell_type": "code",
   "execution_count": 10,
   "id": "350549f8-95fa-42c1-a4aa-e80f49241787",
   "metadata": {},
   "outputs": [
    {
     "name": "stdout",
     "output_type": "stream",
     "text": [
      "23\n"
     ]
    }
   ],
   "source": [
    "x=studen.get(\"rollno\")\n",
    "print(x)"
   ]
  },
  {
   "cell_type": "markdown",
   "id": "0828eeb1-cb5c-4202-8f12-1be16c27f401",
   "metadata": {},
   "source": [
    "### Items "
   ]
  },
  {
   "cell_type": "code",
   "execution_count": 12,
   "id": "b44d47fc-2f6e-466f-85c3-cf3b53fd0732",
   "metadata": {},
   "outputs": [
    {
     "name": "stdout",
     "output_type": "stream",
     "text": [
      "dict_items([('name', 'john'), ('class', '6th'), ('rollno', 23)])\n"
     ]
    }
   ],
   "source": [
    "y=studen.items()\n",
    "print(y)"
   ]
  },
  {
   "cell_type": "markdown",
   "id": "45937b0e-9306-4cb2-88d9-9e91ba98b8f3",
   "metadata": {},
   "source": [
    "### keys"
   ]
  },
  {
   "cell_type": "code",
   "execution_count": 15,
   "id": "822464ef-eb75-4eeb-a4f4-ff0decb6d6ef",
   "metadata": {},
   "outputs": [
    {
     "name": "stdout",
     "output_type": "stream",
     "text": [
      "dict_keys(['name', 'class', 'rollno'])\n"
     ]
    }
   ],
   "source": [
    "z=studen.keys()\n",
    "print(z)"
   ]
  },
  {
   "cell_type": "markdown",
   "id": "e2512e71-c152-4ab4-99ed-1f1a34f2df89",
   "metadata": {},
   "source": [
    "### values"
   ]
  },
  {
   "cell_type": "code",
   "execution_count": 16,
   "id": "0ee9651a-dcbd-4415-bd8a-3da117a0e6c9",
   "metadata": {},
   "outputs": [
    {
     "name": "stdout",
     "output_type": "stream",
     "text": [
      "dict_values(['john', '6th', 23])\n"
     ]
    }
   ],
   "source": [
    "d=studen.values()\n",
    "print(d)"
   ]
  },
  {
   "cell_type": "markdown",
   "id": "6a4c145a-1041-4e98-96fd-b40a05feb927",
   "metadata": {},
   "source": [
    "### copy"
   ]
  },
  {
   "cell_type": "code",
   "execution_count": 18,
   "id": "2309faf9-b20e-40c3-b88a-d00d56514d40",
   "metadata": {},
   "outputs": [
    {
     "name": "stdout",
     "output_type": "stream",
     "text": [
      "{'name': 'john', 'class': '6th', 'rollno': 23}\n"
     ]
    }
   ],
   "source": [
    "f=studen.copy()\n",
    "print(f)"
   ]
  },
  {
   "cell_type": "markdown",
   "id": "ad3bf9fe-1158-4c58-a1ac-3c06de13d95b",
   "metadata": {},
   "source": [
    "### update"
   ]
  },
  {
   "cell_type": "code",
   "execution_count": 29,
   "id": "61802822-404d-42da-adc1-c297f51e6481",
   "metadata": {},
   "outputs": [
    {
     "name": "stdout",
     "output_type": "stream",
     "text": [
      "23\n",
      "{'name': 'john', 'class': '6th', 'rollno': 23}\n"
     ]
    }
   ],
   "source": [
    "studen={\"name\":\"john\",\"class\":\"6th\",\"rollno\":23}\n",
    "x=studen.setdefault(\"rollno\",24)\n",
    "print(x)\n",
    "print(studen)"
   ]
  },
  {
   "cell_type": "markdown",
   "id": "48ef339d-5d18-4cad-82be-0b95b9295bb6",
   "metadata": {},
   "source": [
    "### pop"
   ]
  },
  {
   "cell_type": "code",
   "execution_count": 31,
   "id": "c07665d7-bca3-4fa0-9488-dc42cb685933",
   "metadata": {},
   "outputs": [
    {
     "name": "stdout",
     "output_type": "stream",
     "text": [
      "{'name': 'john', 'class': '6th', 'rollno': 23, 'age': 23}\n"
     ]
    }
   ],
   "source": [
    "studen = {\"name\": \"john\", \"class\": \"6th\", \"rollno\": 23}\n",
    "\n",
    "# Correct usage: passing a dictionary\n",
    "studen.update({\"age\": 23})\n",
    "\n",
    "print(studen)\n"
   ]
  },
  {
   "cell_type": "markdown",
   "id": "aed06348-45ad-4224-912d-dc854fadd0e4",
   "metadata": {},
   "source": [
    "## nested Dictionary "
   ]
  },
  {
   "cell_type": "code",
   "execution_count": 45,
   "id": "cb69b15b-0424-40eb-8f36-c21296fb2828",
   "metadata": {},
   "outputs": [
    {
     "name": "stdout",
     "output_type": "stream",
     "text": [
      "{1: {'name': 'john', 'age': 23, 'gender': 'male'}, 2: {'name': 'lisa', 'age': 21, 'gender': 'female'}, 3: {'name': 'jpeter', 'age': 24, 'gender': 'male'}}\n"
     ]
    }
   ],
   "source": [
    "emp={1:{\"name\":\"john\",\"age\":23,\"gender\":\"male\"},2:{\"name\":\"lisa\",\"age\":21,\"gender\":\"female\"},3:{\"name\":\"jpeter\",\"age\":24,\"gender\":\"male\"}}\n",
    "print(emp)\n",
    "                                                                                                     "
   ]
  },
  {
   "cell_type": "code",
   "execution_count": 41,
   "id": "fa15273f-1966-471e-b922-99daa11e0334",
   "metadata": {},
   "outputs": [
    {
     "name": "stdout",
     "output_type": "stream",
     "text": [
      "21\n"
     ]
    }
   ],
   "source": [
    "print(emp[2][\"age\"])"
   ]
  },
  {
   "cell_type": "code",
   "execution_count": 43,
   "id": "81ada90d-54fb-42a3-b5a2-dfd31ad70400",
   "metadata": {},
   "outputs": [
    {
     "name": "stdout",
     "output_type": "stream",
     "text": [
      "24\n"
     ]
    }
   ],
   "source": [
    "print(emp[3][\"age\"])"
   ]
  },
  {
   "cell_type": "code",
   "execution_count": 44,
   "id": "6476fe23-feab-4e40-ae1b-98b8c3235856",
   "metadata": {},
   "outputs": [
    {
     "name": "stdout",
     "output_type": "stream",
     "text": [
      "{'name': 'jpeter', 'age': 24, 'gender': 'male'}\n"
     ]
    }
   ],
   "source": [
    "print(emp[3])"
   ]
  },
  {
   "cell_type": "markdown",
   "id": "a54aa0df-5acc-4bad-9910-bcb761f770aa",
   "metadata": {},
   "source": [
    "### write down a program to sort a dictionary value"
   ]
  },
  {
   "cell_type": "code",
   "execution_count": 48,
   "id": "a0a684ed-877f-4439-b0dd-51beff2588da",
   "metadata": {},
   "outputs": [
    {
     "name": "stdout",
     "output_type": "stream",
     "text": [
      "{'a': 12, 'b': 23, 'c': 6, 'd': 91, 'e': 45}\n"
     ]
    }
   ],
   "source": [
    "a={\"a\":12,\"b\":23,\"c\":6,\"d\":91,\"e\":45}\n",
    "print(a)"
   ]
  },
  {
   "cell_type": "code",
   "execution_count": 50,
   "id": "91fb1bb1-dc47-4068-8b8c-154c44768e44",
   "metadata": {},
   "outputs": [
    {
     "name": "stdout",
     "output_type": "stream",
     "text": [
      "[6, 12, 23, 45, 91]\n"
     ]
    }
   ],
   "source": [
    "a=sorted(a.values())\n",
    "print(a)"
   ]
  },
  {
   "cell_type": "markdown",
   "id": "4883df29-1523-4b8a-85cf-cd7c36a63617",
   "metadata": {},
   "source": [
    "### write a prog to print a dictionary where the keys are no between 1 and 15 and the values are square of keys"
   ]
  },
  {
   "cell_type": "code",
   "execution_count": 55,
   "id": "022cc1c7-fbe9-47fa-8e80-de5c8329d32a",
   "metadata": {},
   "outputs": [
    {
     "name": "stdout",
     "output_type": "stream",
     "text": [
      "{1: 1, 2: 4, 3: 9, 4: 16, 5: 25, 6: 36, 7: 49, 8: 64, 9: 81}\n"
     ]
    }
   ],
   "source": [
    "a={}\n",
    "for i in range(1,10):\n",
    "    a[i]=i**2\n",
    "print(a)\n"
   ]
  },
  {
   "cell_type": "markdown",
   "id": "3a7418d2-91ad-4398-b23c-76f3e9206e4c",
   "metadata": {},
   "source": [
    "### write a prog to mulitply all the lines in dictionary "
   ]
  },
  {
   "cell_type": "code",
   "execution_count": 60,
   "id": "f170db47-125c-4404-bbd5-a0d92391c86a",
   "metadata": {},
   "outputs": [
    {
     "name": "stdout",
     "output_type": "stream",
     "text": [
      "120\n"
     ]
    }
   ],
   "source": [
    "a={\"a\":5,\"b\":4,\"c\":3,\"d\":2,\"e\":1}\n",
    "product=1\n",
    "for i in a:\n",
    "    product*=a[i]\n",
    "print(product)\n",
    "  "
   ]
  },
  {
   "cell_type": "code",
   "execution_count": 61,
   "id": "d39e0f08-9782-4014-8430-37da836194d7",
   "metadata": {},
   "outputs": [],
   "source": [
    "### write a sort a dictionary by keyM"
   ]
  },
  {
   "cell_type": "code",
   "execution_count": 63,
   "id": "cf81c8cb-68f9-43dc-83ed-96ec3c4745ca",
   "metadata": {},
   "outputs": [
    {
     "name": "stdout",
     "output_type": "stream",
     "text": [
      "['a', 'b', 'c', 'd', 'e']\n"
     ]
    }
   ],
   "source": [
    "a=sorted(a.keys())\n",
    "print(a)"
   ]
  },
  {
   "cell_type": "code",
   "execution_count": null,
   "id": "ce223577-bc14-4712-8f83-02aad739e6d9",
   "metadata": {},
   "outputs": [],
   "source": []
  }
 ],
 "metadata": {
  "kernelspec": {
   "display_name": "Python 3 (ipykernel)",
   "language": "python",
   "name": "python3"
  },
  "language_info": {
   "codemirror_mode": {
    "name": "ipython",
    "version": 3
   },
   "file_extension": ".py",
   "mimetype": "text/x-python",
   "name": "python",
   "nbconvert_exporter": "python",
   "pygments_lexer": "ipython3",
   "version": "3.13.0"
  }
 },
 "nbformat": 4,
 "nbformat_minor": 5
}
