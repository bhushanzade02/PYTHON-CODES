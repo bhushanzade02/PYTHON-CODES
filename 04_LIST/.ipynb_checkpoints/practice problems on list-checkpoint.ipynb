{
 "cells": [
  {
   "cell_type": "markdown",
   "id": "58843542-de6f-420e-b756-24bfc0565a76",
   "metadata": {},
   "source": [
    "# Practice problem "
   ]
  },
  {
   "cell_type": "code",
   "execution_count": 9,
   "id": "fb3f69ae-1100-4798-9b6a-14034921f15c",
   "metadata": {},
   "outputs": [
    {
     "name": "stdout",
     "output_type": "stream",
     "text": [
      "['Ross', 'Rachel', 'Monica', 'Joe']\n"
     ]
    }
   ],
   "source": [
    " a= [\"Ross\",\"Rachel\",\"Monica\",\"Joe\"]\n",
    "print(a)\n"
   ]
  },
  {
   "cell_type": "markdown",
   "id": "a21ab661-5a0b-42dc-b4f5-94a664e542ac",
   "metadata": {},
   "source": [
    "## write aprogram to swap1st and 4Th elemt"
   ]
  },
  {
   "cell_type": "code",
   "execution_count": 11,
   "id": "0c73a4c7-91c3-4890-9330-88f472fad54b",
   "metadata": {},
   "outputs": [
    {
     "name": "stdout",
     "output_type": "stream",
     "text": [
      "['Ross', 'Rachel', 'Monica', 'Joe']\n"
     ]
    }
   ],
   "source": [
    "a[0],a[3]=a[3],a[0]\n",
    "print(a)"
   ]
  },
  {
   "cell_type": "markdown",
   "id": "e30a0580-dfa9-42f0-b49a-90413fc579b5",
   "metadata": {},
   "source": [
    "## wriete a progarm to add new value in 2nd position"
   ]
  },
  {
   "cell_type": "code",
   "execution_count": 7,
   "id": "9be99e51-dfdf-41d1-99d9-88dff126da11",
   "metadata": {},
   "outputs": [
    {
     "name": "stdout",
     "output_type": "stream",
     "text": [
      "['Ross', 'buhshan', 'Rachel', 'Monica', 'Joe']\n"
     ]
    }
   ],
   "source": [
    "a.insert(1,\"buhshan\")\n",
    "print(a)"
   ]
  },
  {
   "cell_type": "markdown",
   "id": "a03adf12-7861-4846-897a-b4513e997313",
   "metadata": {},
   "source": [
    "## write a progarm to delete value from 3rd position"
   ]
  },
  {
   "cell_type": "code",
   "execution_count": 8,
   "id": "dcaa2f78-36f8-4eec-a238-30664ba4bcb4",
   "metadata": {},
   "outputs": [
    {
     "name": "stdout",
     "output_type": "stream",
     "text": [
      "Rachel\n",
      "['Ross', 'buhshan', 'Monica', 'Joe']\n"
     ]
    }
   ],
   "source": [
    "print(a.pop(2))\n",
    "print(a)"
   ]
  },
  {
   "cell_type": "markdown",
   "id": "96c2195d-9216-49cf-a371-da3134401879",
   "metadata": {},
   "source": [
    "# practise problem 2"
   ]
  },
  {
   "cell_type": "markdown",
   "id": "0ee341b9-191b-4954-9b33-1dafd5628ab4",
   "metadata": {},
   "source": [
    "## mulitply all the memebers in the list"
   ]
  },
  {
   "cell_type": "code",
   "execution_count": 14,
   "id": "3efe08f6-5207-4e65-a331-c3807a7bde39",
   "metadata": {},
   "outputs": [
    {
     "name": "stdout",
     "output_type": "stream",
     "text": [
      "13\n",
      "91\n",
      "1092\n",
      "10920\n",
      "final ans is : 10920\n"
     ]
    }
   ],
   "source": [
    "b=[13,7,12,10]\n",
    "mul =1\n",
    "for i in (b):\n",
    "    mul=mul*i\n",
    "    print(mul)\n",
    "print(\"final ans is :\",mul)"
   ]
  },
  {
   "cell_type": "code",
   "execution_count": 17,
   "id": "105adb61-d309-4a8c-a3ff-514c0e857823",
   "metadata": {},
   "outputs": [
    {
     "name": "stdout",
     "output_type": "stream",
     "text": [
      "[7, 10, 12, 13]\n",
      "The largest value is : 13\n",
      "The largest value is : 7\n"
     ]
    }
   ],
   "source": [
    "b=[13,7,12,10]\n",
    "b.sort()\n",
    "print(b)\n",
    "print(\"The largest value is :\",b[-1])\n",
    "print(\"The largest value is :\",b[0])"
   ]
  },
  {
   "cell_type": "code",
   "execution_count": null,
   "id": "7bdf6b6c-c738-4ee8-a38d-6dea27b380c9",
   "metadata": {},
   "outputs": [],
   "source": []
  }
 ],
 "metadata": {
  "kernelspec": {
   "display_name": "Python 3 (ipykernel)",
   "language": "python",
   "name": "python3"
  },
  "language_info": {
   "codemirror_mode": {
    "name": "ipython",
    "version": 3
   },
   "file_extension": ".py",
   "mimetype": "text/x-python",
   "name": "python",
   "nbconvert_exporter": "python",
   "pygments_lexer": "ipython3",
   "version": "3.13.0"
  }
 },
 "nbformat": 4,
 "nbformat_minor": 5
}
