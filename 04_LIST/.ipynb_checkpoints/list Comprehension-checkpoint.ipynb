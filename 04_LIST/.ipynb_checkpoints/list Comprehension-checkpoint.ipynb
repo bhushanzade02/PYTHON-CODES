{
 "cells": [
  {
   "cell_type": "markdown",
   "id": "968a1b48-d990-42ec-91ac-56f0fc22f9ca",
   "metadata": {},
   "source": [
    "# LIST COMPREHENSION"
   ]
  },
  {
   "cell_type": "code",
   "execution_count": 11,
   "id": "8c3c1e90-fb66-437c-af2b-98e5c6074c02",
   "metadata": {},
   "outputs": [
    {
     "name": "stdout",
     "output_type": "stream",
     "text": [
      "[20, 30, 50, 60, 48]\n"
     ]
    }
   ],
   "source": [
    "l1=[20,30,50,60,48]\n",
    "l2=[]\n",
    "for i in l1: \n",
    "        l2.append(i)\n",
    "print(l2)"
   ]
  },
  {
   "cell_type": "markdown",
   "id": "25faee32-a05e-44d5-b2e3-ad3982a50f16",
   "metadata": {},
   "source": [
    "### same example with condition"
   ]
  },
  {
   "cell_type": "code",
   "execution_count": 8,
   "id": "be52a707-2508-42be-b101-55b2478dea2a",
   "metadata": {},
   "outputs": [
    {
     "name": "stdout",
     "output_type": "stream",
     "text": [
      "[50, 60, 48]\n"
     ]
    }
   ],
   "source": [
    "l1=[20,30,50,60,48]\n",
    "l2=[]\n",
    "for i in l1:\n",
    "    if i>45:\n",
    "        l2.append(i)\n",
    "print(l2)"
   ]
  },
  {
   "cell_type": "markdown",
   "id": "60848dd4-622f-45e9-b116-a5bebf00a50b",
   "metadata": {},
   "source": [
    "# list comprehension"
   ]
  },
  {
   "cell_type": "code",
   "execution_count": 9,
   "id": "f226be8e-27fc-4df9-a778-a6e7a1aa39ef",
   "metadata": {},
   "outputs": [
    {
     "name": "stdout",
     "output_type": "stream",
     "text": [
      "[20, 30, 50, 60, 48]\n"
     ]
    }
   ],
   "source": [
    "l3=[i for i in l1]\n",
    "print(l3)"
   ]
  },
  {
   "cell_type": "markdown",
   "id": "faa55695-008c-4783-82f9-7ac3c733361d",
   "metadata": {},
   "source": [
    "# above four lines of code in single line is called list comprehension"
   ]
  },
  {
   "cell_type": "code",
   "execution_count": 15,
   "id": "90f96410-b9a4-4413-81de-a84b0d4d3b60",
   "metadata": {},
   "outputs": [
    {
     "name": "stdout",
     "output_type": "stream",
     "text": [
      "[50, 60, 48]\n"
     ]
    }
   ],
   "source": [
    "l3=[i for i in l1 if i > 45]\n",
    "print(l3)"
   ]
  },
  {
   "cell_type": "code",
   "execution_count": null,
   "id": "5daa6a40-45bb-44fb-9b46-fd6cae1286a5",
   "metadata": {},
   "outputs": [],
   "source": []
  }
 ],
 "metadata": {
  "kernelspec": {
   "display_name": "Python 3 (ipykernel)",
   "language": "python",
   "name": "python3"
  },
  "language_info": {
   "codemirror_mode": {
    "name": "ipython",
    "version": 3
   },
   "file_extension": ".py",
   "mimetype": "text/x-python",
   "name": "python",
   "nbconvert_exporter": "python",
   "pygments_lexer": "ipython3",
   "version": "3.13.0"
  }
 },
 "nbformat": 4,
 "nbformat_minor": 5
}
