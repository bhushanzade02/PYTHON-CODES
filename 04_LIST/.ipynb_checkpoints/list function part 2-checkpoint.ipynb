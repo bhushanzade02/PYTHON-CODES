{
 "cells": [
  {
   "cell_type": "markdown",
   "id": "701aa32c-7f70-4b70-9d56-3423ba6d9324",
   "metadata": {},
   "source": [
    "## list function part 2"
   ]
  },
  {
   "cell_type": "code",
   "execution_count": 16,
   "id": "fd6fb497-0808-43c4-bb94-6849718a2500",
   "metadata": {},
   "outputs": [],
   "source": [
    "a=[\"thor\",\"hulk\",\"iron man\",\"captain america\"]"
   ]
  },
  {
   "cell_type": "markdown",
   "id": "34d775dd-f5bf-456c-a4f9-38580a5acd55",
   "metadata": {},
   "source": [
    "### copy"
   ]
  },
  {
   "cell_type": "code",
   "execution_count": 2,
   "id": "de98b063-a1cd-411e-a3ab-37a5c2b1f541",
   "metadata": {},
   "outputs": [
    {
     "name": "stdout",
     "output_type": "stream",
     "text": [
      "[]\n"
     ]
    }
   ],
   "source": [
    "b=[]\n",
    "print(b)"
   ]
  },
  {
   "cell_type": "code",
   "execution_count": 5,
   "id": "93428f9b-4dec-45c8-b020-4c106eb0890f",
   "metadata": {},
   "outputs": [
    {
     "name": "stdout",
     "output_type": "stream",
     "text": [
      "b= ['thor', 'hulk', 'iron man', 'captain america']\n"
     ]
    }
   ],
   "source": [
    "b=a.copy()\n",
    "print(\"b=\",a)"
   ]
  },
  {
   "cell_type": "markdown",
   "id": "1b416e0e-f485-47f8-a2c5-1ce537d97879",
   "metadata": {},
   "source": [
    "### inddex"
   ]
  },
  {
   "cell_type": "code",
   "execution_count": 8,
   "id": "8f65f4a4-9505-43f1-b73e-5a07009d9878",
   "metadata": {},
   "outputs": [
    {
     "name": "stdout",
     "output_type": "stream",
     "text": [
      "1\n"
     ]
    }
   ],
   "source": [
    "print(a.index(\"hulk\"))\n"
   ]
  },
  {
   "cell_type": "markdown",
   "id": "ea5f77b3-0a5f-4c46-9eaf-4840c4ee8744",
   "metadata": {},
   "source": [
    "### to the extend the list"
   ]
  },
  {
   "cell_type": "code",
   "execution_count": 9,
   "id": "c133c24b-0dbf-4e1f-a479-fa6db345a123",
   "metadata": {},
   "outputs": [
    {
     "name": "stdout",
     "output_type": "stream",
     "text": [
      "['thor', 'hulk', 'iron man', 'captain america', 'vision', 'spiderman']\n"
     ]
    }
   ],
   "source": [
    "c=[\"vision\",\"spiderman\"]\n",
    "a.extend(c)\n",
    "print(a)"
   ]
  },
  {
   "cell_type": "markdown",
   "id": "65d6a595-f853-43d1-9db5-1bad16d1e91e",
   "metadata": {},
   "source": [
    "### to reverse the list"
   ]
  },
  {
   "cell_type": "code",
   "execution_count": 15,
   "id": "92af6e51-1d94-4c86-9e96-f97f9c5dcd40",
   "metadata": {},
   "outputs": [
    {
     "name": "stdout",
     "output_type": "stream",
     "text": [
      "['captain america', 'iron man', 'hulk', 'thor']\n"
     ]
    }
   ],
   "source": [
    "a.reverse()\n",
    "print(a)"
   ]
  },
  {
   "cell_type": "markdown",
   "id": "3e078d9f-c6fe-4b4f-963a-098167920522",
   "metadata": {},
   "source": [
    "### to sort "
   ]
  },
  {
   "cell_type": "code",
   "execution_count": null,
   "id": "2ded8956-7ec1-4ea1-a048-fab174bb862c",
   "metadata": {},
   "outputs": [],
   "source": [
    "a.sort()\n",
    "print(a)"
   ]
  },
  {
   "cell_type": "markdown",
   "id": "a673c9c4-064d-457c-aea2-bb45ce9977fa",
   "metadata": {},
   "source": [
    "### to clear the list"
   ]
  },
  {
   "cell_type": "code",
   "execution_count": 19,
   "id": "d4a88baf-2288-4bca-9d1e-3a7150447a19",
   "metadata": {},
   "outputs": [
    {
     "name": "stdout",
     "output_type": "stream",
     "text": [
      "[]\n"
     ]
    }
   ],
   "source": [
    "a.clear()\n",
    "print(a)"
   ]
  },
  {
   "cell_type": "code",
   "execution_count": null,
   "id": "c8284a03-10c1-40af-8dff-f7706f78bc41",
   "metadata": {},
   "outputs": [],
   "source": []
  }
 ],
 "metadata": {
  "kernelspec": {
   "display_name": "Python 3 (ipykernel)",
   "language": "python",
   "name": "python3"
  },
  "language_info": {
   "codemirror_mode": {
    "name": "ipython",
    "version": 3
   },
   "file_extension": ".py",
   "mimetype": "text/x-python",
   "name": "python",
   "nbconvert_exporter": "python",
   "pygments_lexer": "ipython3",
   "version": "3.13.0"
  }
 },
 "nbformat": 4,
 "nbformat_minor": 5
}
