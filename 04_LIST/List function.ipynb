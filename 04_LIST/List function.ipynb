{
 "cells": [
  {
   "cell_type": "markdown",
   "id": "e4082f5e-5c4c-4a4d-b2b5-c798787cdbf4",
   "metadata": {},
   "source": [
    "## list function"
   ]
  },
  {
   "cell_type": "code",
   "execution_count": 6,
   "id": "09fff111-47d6-408a-861c-3150a82c6f92",
   "metadata": {},
   "outputs": [],
   "source": [
    "a = [\"Thor\",\"Hulk\",\"Iron man\",\"Captain America\",\"Hulk\"]"
   ]
  },
  {
   "cell_type": "markdown",
   "id": "49f0ffa4-6967-422a-8530-d938bd18dcc9",
   "metadata": {},
   "source": [
    "### to find the length of the string"
   ]
  },
  {
   "cell_type": "code",
   "execution_count": 7,
   "id": "c99bafdc-b0c8-4f89-bcce-1a1995a7b18f",
   "metadata": {},
   "outputs": [
    {
     "name": "stdout",
     "output_type": "stream",
     "text": [
      "5\n"
     ]
    }
   ],
   "source": [
    "print(len(a))"
   ]
  },
  {
   "cell_type": "markdown",
   "id": "a3a0d380-7641-4fe8-b5d5-30136ede7079",
   "metadata": {},
   "source": [
    "### to count occurence of particular element"
   ]
  },
  {
   "cell_type": "code",
   "execution_count": 8,
   "id": "d525144f-bbb3-4c5f-af4b-d96495979bbf",
   "metadata": {},
   "outputs": [
    {
     "name": "stdout",
     "output_type": "stream",
     "text": [
      "2\n"
     ]
    }
   ],
   "source": [
    "print(a.count(\"Hulk\"))"
   ]
  },
  {
   "cell_type": "markdown",
   "id": "ba538a3b-8acc-43ca-8406-9cc83937e02d",
   "metadata": {},
   "source": [
    "### to add a element"
   ]
  },
  {
   "cell_type": "code",
   "execution_count": 11,
   "id": "4623f9da-7734-46da-a2a2-191b81087d4a",
   "metadata": {},
   "outputs": [
    {
     "name": "stdout",
     "output_type": "stream",
     "text": [
      "['Thor', 'Hulk', 'Iron man', 'Captain America', 'Hulk', 'bhushan']\n"
     ]
    }
   ],
   "source": [
    "a.append(\"bhushan\")\n",
    "print(a)"
   ]
  },
  {
   "cell_type": "markdown",
   "id": "0001fb6a-54fe-4e84-b156-53c9f480d9bf",
   "metadata": {},
   "source": [
    "### to add a specific location"
   ]
  },
  {
   "cell_type": "code",
   "execution_count": 12,
   "id": "601a160b-0b3f-47bf-9666-10ea3b05fed5",
   "metadata": {},
   "outputs": [
    {
     "name": "stdout",
     "output_type": "stream",
     "text": [
      "['Thor', 'Hulk', 'Iron man', 'rahul', 'Captain America', 'Hulk', 'bhushan']\n"
     ]
    }
   ],
   "source": [
    "a.insert(3,\"rahul\")\n",
    "print(a)"
   ]
  },
  {
   "cell_type": "markdown",
   "id": "c863a3fd-f6b6-4154-968c-58410e880b7a",
   "metadata": {},
   "source": [
    "### to remove a element"
   ]
  },
  {
   "cell_type": "code",
   "execution_count": 13,
   "id": "78221975-75af-47d5-b162-acb705ccbbc6",
   "metadata": {},
   "outputs": [
    {
     "name": "stdout",
     "output_type": "stream",
     "text": [
      "['Thor', 'Hulk', 'Iron man', 'Captain America', 'Hulk', 'bhushan']\n"
     ]
    }
   ],
   "source": [
    "a.remove(\"rahul\")\n",
    "print(a)"
   ]
  },
  {
   "cell_type": "markdown",
   "id": "5d2a7189-1dd8-4821-8815-a55bb08efa18",
   "metadata": {},
   "source": [
    "### to remove from certain locatin (when elemenet name doesnt know but index is known from we have to delete)"
   ]
  },
  {
   "cell_type": "code",
   "execution_count": 16,
   "id": "34995f8f-6d5d-4b10-b6e5-8ab4544775ea",
   "metadata": {},
   "outputs": [
    {
     "name": "stdout",
     "output_type": "stream",
     "text": [
      "['Thor', 'Iron man', 'Captain America', 'Hulk', 'bhushan']\n"
     ]
    }
   ],
   "source": [
    "a.pop(1)\n",
    "print(a)"
   ]
  },
  {
   "cell_type": "code",
   "execution_count": null,
   "id": "188e5bc2-7934-40c0-a8b2-187e9ada1ca0",
   "metadata": {},
   "outputs": [],
   "source": []
  }
 ],
 "metadata": {
  "kernelspec": {
   "display_name": "Python 3 (ipykernel)",
   "language": "python",
   "name": "python3"
  },
  "language_info": {
   "codemirror_mode": {
    "name": "ipython",
    "version": 3
   },
   "file_extension": ".py",
   "mimetype": "text/x-python",
   "name": "python",
   "nbconvert_exporter": "python",
   "pygments_lexer": "ipython3",
   "version": "3.13.0"
  }
 },
 "nbformat": 4,
 "nbformat_minor": 5
}
