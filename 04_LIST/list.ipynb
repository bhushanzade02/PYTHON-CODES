{
 "cells": [
  {
   "cell_type": "code",
   "execution_count": 35,
   "id": "438efb50-ee38-47f3-adca-947427c5ecb5",
   "metadata": {},
   "outputs": [
    {
     "name": "stdout",
     "output_type": "stream",
     "text": [
      "['Thor', 'Captain America']\n",
      "['Ironman', 'Thor']\n",
      "['Thor', 'Captain America', 'Hulk']\n",
      "['Ironman', 'Captain America']\n",
      "['Thor', 'Captain America']\n",
      "['Hulk', 'Captain America', 'Thor', 'Ironman']\n",
      "['Hulk', 'Captain America', 'Thor']\n",
      "['Thor', 'Captain America']\n"
     ]
    }
   ],
   "source": [
    "a=[\"Ironman\",\"Thor\",\"Captain America\",\"Hulk\"]\n",
    "\n",
    "print(a[1:3])\n",
    "print(a[:2])\n",
    "print(a[1:])\n",
    "print(a[::2])\n",
    "print(a[-3:-1])\n",
    "print(a[::-1])\n",
    "print(a[-1:-4:-1])\n",
    "print(a[-3:-1])"
   ]
  },
  {
   "cell_type": "markdown",
   "id": "d0b95c49-d53b-4ebd-a582-2e180cc95e94",
   "metadata": {},
   "source": [
    "### LIST ITERATION"
   ]
  },
  {
   "cell_type": "markdown",
   "id": "701e0326-c4b0-44df-b5e1-930eebc6950d",
   "metadata": {},
   "source": [
    "### ITERATION USING FOR LOOP"
   ]
  },
  {
   "cell_type": "code",
   "execution_count": 33,
   "id": "364f60b9-8d54-4bbf-8e5d-95636b4f6dd5",
   "metadata": {},
   "outputs": [
    {
     "name": "stdout",
     "output_type": "stream",
     "text": [
      "hulk\n",
      "Thor\n",
      "Ironman\n",
      "Captain America\n"
     ]
    }
   ],
   "source": [
    "a=[\"hulk\",\"Thor\",\"Ironman\",\"Captain America\"]\n",
    "\n",
    "for i in a:\n",
    "    print(i)"
   ]
  },
  {
   "cell_type": "markdown",
   "id": "fb6cae22-e0b6-42eb-9b24-e727cdb2a4c3",
   "metadata": {},
   "source": [
    "### for loop using range and len function"
   ]
  },
  {
   "cell_type": "code",
   "execution_count": null,
   "id": "117ed523-a2b6-4fdb-b4e5-2490468294a4",
   "metadata": {},
   "outputs": [],
   "source": [
    "for i in range(len(a)-1):\n",
    "    print(a[i])"
   ]
  },
  {
   "cell_type": "markdown",
   "id": "15bfac2d-91b5-4a25-9c64-117727de4336",
   "metadata": {},
   "source": [
    "### iteration using while loop"
   ]
  },
  {
   "cell_type": "code",
   "execution_count": 39,
   "id": "b3fd8480-030a-4045-bd41-09a2694f052b",
   "metadata": {},
   "outputs": [],
   "source": [
    "while i < (len(a)):\n",
    "    print(a[i])\n",
    "    i+=1"
   ]
  },
  {
   "cell_type": "raw",
   "id": "c966ae6c-ffab-4fb8-b9b4-9cf1fd381d36",
   "metadata": {},
   "source": [
    "a=[\"hulk\",\"Thor\",\"Ironman\",\"Captain America\"]\n"
   ]
  },
  {
   "cell_type": "markdown",
   "id": "e67dd2cc-45e4-4a9a-a51a-2bc2996f3cf1",
   "metadata": {},
   "source": [
    "### short han dfor loop"
   ]
  },
  {
   "cell_type": "code",
   "execution_count": 41,
   "id": "9982e1fb-522c-42d7-858d-c2a23a167305",
   "metadata": {},
   "outputs": [
    {
     "name": "stdout",
     "output_type": "stream",
     "text": [
      "Ironman\n",
      "Thor\n",
      "Captain America\n",
      "Hulk\n"
     ]
    },
    {
     "data": {
      "text/plain": [
       "[None, None, None, None]"
      ]
     },
     "execution_count": 41,
     "metadata": {},
     "output_type": "execute_result"
    }
   ],
   "source": [
    "[print(i) for i in a]"
   ]
  },
  {
   "cell_type": "code",
   "execution_count": null,
   "id": "a53e1bd1-ee8c-460a-b4c1-d5bce35cb760",
   "metadata": {},
   "outputs": [],
   "source": []
  }
 ],
 "metadata": {
  "kernelspec": {
   "display_name": "Python 3 (ipykernel)",
   "language": "python",
   "name": "python3"
  },
  "language_info": {
   "codemirror_mode": {
    "name": "ipython",
    "version": 3
   },
   "file_extension": ".py",
   "mimetype": "text/x-python",
   "name": "python",
   "nbconvert_exporter": "python",
   "pygments_lexer": "ipython3",
   "version": "3.13.0"
  }
 },
 "nbformat": 4,
 "nbformat_minor": 5
}
