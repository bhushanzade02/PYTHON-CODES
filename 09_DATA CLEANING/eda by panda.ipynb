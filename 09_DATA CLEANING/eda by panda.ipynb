{
 "cells": [
  {
   "cell_type": "code",
   "execution_count": 8,
   "id": "5bd553e4-b7be-4971-b704-519db96ca48e",
   "metadata": {},
   "outputs": [],
   "source": [
    "import pandas as pd\n"
   ]
  },
  {
   "cell_type": "code",
   "execution_count": 9,
   "id": "635601d0-0da0-418b-b11f-924c26ee6d07",
   "metadata": {},
   "outputs": [],
   "source": [
    "data=pd.read_csv(\"D:/05_DATA CLEANING AND PREPROCESSING/Employee_Salary_Dataset.csv\")\n",
    "\n",
    "\n"
   ]
  },
  {
   "cell_type": "code",
   "execution_count": 4,
   "id": "b4cd6f3b-ec9f-48e3-993a-fb2a987a6845",
   "metadata": {},
   "outputs": [
    {
     "name": "stdout",
     "output_type": "stream",
     "text": [
      "    ID  Experience_Years  Age  Gender    Salary\n",
      "0    1                 5   28  Female    250000\n",
      "1    2                 1   21    Male     50000\n",
      "2    3                 3   23  Female    170000\n",
      "3    4                 2   22    Male     25000\n",
      "4    5                 1   17    Male     10000\n",
      "5    6                25   62    Male   5001000\n",
      "6    7                19   54  Female    800000\n",
      "7    8                 2   21  Female      9000\n",
      "8    9                10   36  Female     61500\n",
      "9   10                15   54  Female    650000\n",
      "10  11                 4   26  Female    250000\n",
      "11  12                 6   29    Male   1400000\n",
      "12  13                14   39    Male   6000050\n",
      "13  14                11   40    Male    220100\n",
      "14  15                 2   23    Male      7500\n",
      "15  16                 4   27  Female     87000\n",
      "16  17                10   34  Female    930000\n",
      "17  18                15   54  Female   7900000\n",
      "18  19                 2   21    Male     15000\n",
      "19  20                10   36    Male    330000\n",
      "20  21                15   54    Male   6570000\n",
      "21  22                 4   26    Male     25000\n",
      "22  23                 5   29    Male   6845000\n",
      "23  24                 1   21  Female      6000\n",
      "24  25                 4   23  Female      8900\n",
      "25  26                 3   22  Female     20000\n",
      "26  27                 1   18    Male      3000\n",
      "27  28                27   62  Female  10000000\n",
      "28  29                19   54  Female   5000000\n",
      "29  30                 2   21  Female      6100\n",
      "30  31                10   34    Male     80000\n",
      "31  32                15   54    Male    900000\n",
      "32  33                20   55  Female   1540000\n",
      "33  34                19   53  Female   9300000\n",
      "34  35                16   49    Male   7600000\n"
     ]
    }
   ],
   "source": [
    "print(data)"
   ]
  },
  {
   "cell_type": "code",
   "execution_count": 5,
   "id": "84f84dd0-ea66-4229-ada9-7e9472bb629f",
   "metadata": {},
   "outputs": [
    {
     "name": "stdout",
     "output_type": "stream",
     "text": [
      "   ID  Experience_Years  Age  Gender   Salary\n",
      "0   1                 5   28  Female   250000\n",
      "1   2                 1   21    Male    50000\n",
      "2   3                 3   23  Female   170000\n",
      "3   4                 2   22    Male    25000\n",
      "4   5                 1   17    Male    10000\n",
      "5   6                25   62    Male  5001000\n",
      "6   7                19   54  Female   800000\n",
      "7   8                 2   21  Female     9000\n",
      "8   9                10   36  Female    61500\n",
      "9  10                15   54  Female   650000\n"
     ]
    }
   ],
   "source": [
    "print(data.head(10))"
   ]
  },
  {
   "cell_type": "code",
   "execution_count": 6,
   "id": "216d79ee-ede1-4436-8e5a-2c9a5266a63b",
   "metadata": {},
   "outputs": [
    {
     "name": "stdout",
     "output_type": "stream",
     "text": [
      "    ID  Experience_Years  Age  Gender    Salary\n",
      "25  26                 3   22  Female     20000\n",
      "26  27                 1   18    Male      3000\n",
      "27  28                27   62  Female  10000000\n",
      "28  29                19   54  Female   5000000\n",
      "29  30                 2   21  Female      6100\n",
      "30  31                10   34    Male     80000\n",
      "31  32                15   54    Male    900000\n",
      "32  33                20   55  Female   1540000\n",
      "33  34                19   53  Female   9300000\n",
      "34  35                16   49    Male   7600000\n"
     ]
    }
   ],
   "source": [
    "print(data.tail(10))"
   ]
  },
  {
   "cell_type": "code",
   "execution_count": 7,
   "id": "1bdc01af-7cb4-4b8a-b29b-0f16de6ff704",
   "metadata": {},
   "outputs": [
    {
     "name": "stdout",
     "output_type": "stream",
     "text": [
      "<class 'pandas.core.frame.DataFrame'>\n",
      "RangeIndex: 35 entries, 0 to 34\n",
      "Data columns (total 5 columns):\n",
      " #   Column            Non-Null Count  Dtype \n",
      "---  ------            --------------  ----- \n",
      " 0   ID                35 non-null     int64 \n",
      " 1   Experience_Years  35 non-null     int64 \n",
      " 2   Age               35 non-null     int64 \n",
      " 3   Gender            35 non-null     object\n",
      " 4   Salary            35 non-null     int64 \n",
      "dtypes: int64(4), object(1)\n",
      "memory usage: 1.5+ KB\n",
      "None\n"
     ]
    }
   ],
   "source": [
    "print(data.info())"
   ]
  },
  {
   "cell_type": "code",
   "execution_count": 10,
   "id": "8e22ada7-bf5f-4c49-80f9-d8825f9b757b",
   "metadata": {},
   "outputs": [
    {
     "name": "stdout",
     "output_type": "stream",
     "text": [
      "    ID  Experience_Years  Age  Gender    Salary\n",
      "0    1                 5   28  Female    250000\n",
      "1    2                 1   21    Male     50000\n",
      "2    3                 3   23  Female    170000\n",
      "3    4                 2   22    Male     25000\n",
      "4    5                 1   17    Male     10000\n",
      "5    6                25   62    Male   5001000\n",
      "6    7                19   54  Female    800000\n",
      "7    8                 2   21  Female      9000\n",
      "8    9                10   36  Female     61500\n",
      "9   10                15   54  Female    650000\n",
      "10  11                 4   26  Female    250000\n",
      "11  12                 6   29    Male   1400000\n",
      "12  13                14   39    Male   6000050\n",
      "13  14                11   40    Male    220100\n",
      "14  15                 2   23    Male      7500\n",
      "15  16                 4   27  Female     87000\n",
      "16  17                10   34  Female    930000\n",
      "17  18                15   54  Female   7900000\n",
      "18  19                 2   21    Male     15000\n",
      "19  20                10   36    Male    330000\n",
      "20  21                15   54    Male   6570000\n",
      "21  22                 4   26    Male     25000\n",
      "22  23                 5   29    Male   6845000\n",
      "23  24                 1   21  Female      6000\n",
      "24  25                 4   23  Female      8900\n",
      "25  26                 3   22  Female     20000\n",
      "26  27                 1   18    Male      3000\n",
      "27  28                27   62  Female  10000000\n",
      "28  29                19   54  Female   5000000\n",
      "29  30                 2   21  Female      6100\n",
      "30  31                10   34    Male     80000\n",
      "31  32                15   54    Male    900000\n",
      "32  33                20   55  Female   1540000\n",
      "33  34                19   53  Female   9300000\n",
      "34  35                16   49    Male   7600000\n"
     ]
    }
   ],
   "source": [
    "print(data)"
   ]
  },
  {
   "cell_type": "code",
   "execution_count": 11,
   "id": "898b0aaf-6332-407e-b3e1-41d0bca694d5",
   "metadata": {},
   "outputs": [
    {
     "name": "stdout",
     "output_type": "stream",
     "text": [
      "   ID  Experience_Years  Age  Gender   Salary\n",
      "0   1                 5   28  Female   250000\n",
      "1   2                 1   21    Male    50000\n",
      "2   3                 3   23  Female   170000\n",
      "3   4                 2   22    Male    25000\n",
      "4   5                 1   17    Male    10000\n",
      "5   6                25   62    Male  5001000\n",
      "6   7                19   54  Female   800000\n",
      "7   8                 2   21  Female     9000\n",
      "8   9                10   36  Female    61500\n",
      "9  10                15   54  Female   650000\n"
     ]
    }
   ],
   "source": [
    "print(data.head(10))"
   ]
  },
  {
   "cell_type": "code",
   "execution_count": 12,
   "id": "19c18047-9c8f-4f8e-8869-fc0b354d7a4a",
   "metadata": {},
   "outputs": [
    {
     "name": "stdout",
     "output_type": "stream",
     "text": [
      "    ID  Experience_Years  Age  Gender    Salary\n",
      "25  26                 3   22  Female     20000\n",
      "26  27                 1   18    Male      3000\n",
      "27  28                27   62  Female  10000000\n",
      "28  29                19   54  Female   5000000\n",
      "29  30                 2   21  Female      6100\n",
      "30  31                10   34    Male     80000\n",
      "31  32                15   54    Male    900000\n",
      "32  33                20   55  Female   1540000\n",
      "33  34                19   53  Female   9300000\n",
      "34  35                16   49    Male   7600000\n"
     ]
    }
   ],
   "source": [
    "print(data.tail(10))"
   ]
  },
  {
   "cell_type": "code",
   "execution_count": 14,
   "id": "bc0e7802-a183-4538-a9b0-96a0fde10777",
   "metadata": {},
   "outputs": [
    {
     "name": "stdout",
     "output_type": "stream",
     "text": [
      "   ID  Experience_Years  Age  Gender   Salary\n",
      "0   1                 5   28  Female   250000\n",
      "1   2                 1   21    Male    50000\n",
      "2   3                 3   23  Female   170000\n",
      "3   4                 2   22    Male    25000\n",
      "4   5                 1   17    Male    10000\n",
      "5   6                25   62    Male  5001000\n",
      "6   7                19   54  Female   800000\n",
      "7   8                 2   21  Female     9000\n",
      "8   9                10   36  Female    61500\n",
      "9  10                15   54  Female   650000\n",
      "    ID  Experience_Years  Age  Gender    Salary\n",
      "25  26                 3   22  Female     20000\n",
      "26  27                 1   18    Male      3000\n",
      "27  28                27   62  Female  10000000\n",
      "28  29                19   54  Female   5000000\n",
      "29  30                 2   21  Female      6100\n",
      "30  31                10   34    Male     80000\n",
      "31  32                15   54    Male    900000\n",
      "32  33                20   55  Female   1540000\n",
      "33  34                19   53  Female   9300000\n",
      "34  35                16   49    Male   7600000\n"
     ]
    }
   ],
   "source": [
    "print(data.head(10))\n",
    "print(data.tail(10))"
   ]
  },
  {
   "cell_type": "code",
   "execution_count": 15,
   "id": "398ca097-7bda-44e5-8eab-90020014b225",
   "metadata": {},
   "outputs": [
    {
     "name": "stdout",
     "output_type": "stream",
     "text": [
      "   ID  Experience_Years  Age  Gender  Salary\n",
      "0   1                 5   28  Female  250000\n",
      "1   2                 1   21    Male   50000\n",
      "2   3                 3   23  Female  170000\n",
      "3   4                 2   22    Male   25000\n",
      "4   5                 1   17    Male   10000\n",
      "    ID  Experience_Years  Age  Gender   Salary\n",
      "30  31                10   34    Male    80000\n",
      "31  32                15   54    Male   900000\n",
      "32  33                20   55  Female  1540000\n",
      "33  34                19   53  Female  9300000\n",
      "34  35                16   49    Male  7600000\n"
     ]
    }
   ],
   "source": [
    "print(data.head(5))\n",
    "print(data.tail(5))"
   ]
  },
  {
   "cell_type": "code",
   "execution_count": 17,
   "id": "a50b7cdd-2a77-420f-a208-a14fe556e460",
   "metadata": {},
   "outputs": [
    {
     "name": "stdout",
     "output_type": "stream",
     "text": [
      "<class 'pandas.core.frame.DataFrame'>\n",
      "RangeIndex: 35 entries, 0 to 34\n",
      "Data columns (total 5 columns):\n",
      " #   Column            Non-Null Count  Dtype \n",
      "---  ------            --------------  ----- \n",
      " 0   ID                35 non-null     int64 \n",
      " 1   Experience_Years  35 non-null     int64 \n",
      " 2   Age               35 non-null     int64 \n",
      " 3   Gender            35 non-null     object\n",
      " 4   Salary            35 non-null     int64 \n",
      "dtypes: int64(4), object(1)\n",
      "memory usage: 1.5+ KB\n",
      "None\n"
     ]
    }
   ],
   "source": [
    "print(data.info())"
   ]
  },
  {
   "cell_type": "code",
   "execution_count": 18,
   "id": "9d582469-ddd8-4ecb-b0bd-049e12c2504d",
   "metadata": {},
   "outputs": [
    {
     "data": {
      "text/html": [
       "<div>\n",
       "<style scoped>\n",
       "    .dataframe tbody tr th:only-of-type {\n",
       "        vertical-align: middle;\n",
       "    }\n",
       "\n",
       "    .dataframe tbody tr th {\n",
       "        vertical-align: top;\n",
       "    }\n",
       "\n",
       "    .dataframe thead th {\n",
       "        text-align: right;\n",
       "    }\n",
       "</style>\n",
       "<table border=\"1\" class=\"dataframe\">\n",
       "  <thead>\n",
       "    <tr style=\"text-align: right;\">\n",
       "      <th></th>\n",
       "      <th>ID</th>\n",
       "      <th>Experience_Years</th>\n",
       "      <th>Age</th>\n",
       "      <th>Salary</th>\n",
       "    </tr>\n",
       "  </thead>\n",
       "  <tbody>\n",
       "    <tr>\n",
       "      <th>count</th>\n",
       "      <td>35.000000</td>\n",
       "      <td>35.00000</td>\n",
       "      <td>35.000000</td>\n",
       "      <td>3.500000e+01</td>\n",
       "    </tr>\n",
       "    <tr>\n",
       "      <th>mean</th>\n",
       "      <td>18.000000</td>\n",
       "      <td>9.20000</td>\n",
       "      <td>35.485714</td>\n",
       "      <td>2.059147e+06</td>\n",
       "    </tr>\n",
       "    <tr>\n",
       "      <th>std</th>\n",
       "      <td>10.246951</td>\n",
       "      <td>7.55295</td>\n",
       "      <td>14.643552</td>\n",
       "      <td>3.170124e+06</td>\n",
       "    </tr>\n",
       "    <tr>\n",
       "      <th>min</th>\n",
       "      <td>1.000000</td>\n",
       "      <td>1.00000</td>\n",
       "      <td>17.000000</td>\n",
       "      <td>3.000000e+03</td>\n",
       "    </tr>\n",
       "    <tr>\n",
       "      <th>25%</th>\n",
       "      <td>9.500000</td>\n",
       "      <td>2.50000</td>\n",
       "      <td>22.500000</td>\n",
       "      <td>2.250000e+04</td>\n",
       "    </tr>\n",
       "    <tr>\n",
       "      <th>50%</th>\n",
       "      <td>18.000000</td>\n",
       "      <td>6.00000</td>\n",
       "      <td>29.000000</td>\n",
       "      <td>2.500000e+05</td>\n",
       "    </tr>\n",
       "    <tr>\n",
       "      <th>75%</th>\n",
       "      <td>26.500000</td>\n",
       "      <td>15.00000</td>\n",
       "      <td>53.500000</td>\n",
       "      <td>3.270000e+06</td>\n",
       "    </tr>\n",
       "    <tr>\n",
       "      <th>max</th>\n",
       "      <td>35.000000</td>\n",
       "      <td>27.00000</td>\n",
       "      <td>62.000000</td>\n",
       "      <td>1.000000e+07</td>\n",
       "    </tr>\n",
       "  </tbody>\n",
       "</table>\n",
       "</div>"
      ],
      "text/plain": [
       "              ID  Experience_Years        Age        Salary\n",
       "count  35.000000          35.00000  35.000000  3.500000e+01\n",
       "mean   18.000000           9.20000  35.485714  2.059147e+06\n",
       "std    10.246951           7.55295  14.643552  3.170124e+06\n",
       "min     1.000000           1.00000  17.000000  3.000000e+03\n",
       "25%     9.500000           2.50000  22.500000  2.250000e+04\n",
       "50%    18.000000           6.00000  29.000000  2.500000e+05\n",
       "75%    26.500000          15.00000  53.500000  3.270000e+06\n",
       "max    35.000000          27.00000  62.000000  1.000000e+07"
      ]
     },
     "execution_count": 18,
     "metadata": {},
     "output_type": "execute_result"
    }
   ],
   "source": [
    "data.describe()"
   ]
  },
  {
   "cell_type": "code",
   "execution_count": 20,
   "id": "2fb2943e-95af-4612-900d-139fdfabdb1f",
   "metadata": {},
   "outputs": [
    {
     "data": {
      "text/html": [
       "<div>\n",
       "<style scoped>\n",
       "    .dataframe tbody tr th:only-of-type {\n",
       "        vertical-align: middle;\n",
       "    }\n",
       "\n",
       "    .dataframe tbody tr th {\n",
       "        vertical-align: top;\n",
       "    }\n",
       "\n",
       "    .dataframe thead th {\n",
       "        text-align: right;\n",
       "    }\n",
       "</style>\n",
       "<table border=\"1\" class=\"dataframe\">\n",
       "  <thead>\n",
       "    <tr style=\"text-align: right;\">\n",
       "      <th></th>\n",
       "      <th>ID</th>\n",
       "      <th>Experience_Years</th>\n",
       "      <th>Age</th>\n",
       "      <th>Salary</th>\n",
       "    </tr>\n",
       "  </thead>\n",
       "  <tbody>\n",
       "    <tr>\n",
       "      <th>count</th>\n",
       "      <td>35.000000</td>\n",
       "      <td>35.00000</td>\n",
       "      <td>35.000000</td>\n",
       "      <td>3.500000e+01</td>\n",
       "    </tr>\n",
       "    <tr>\n",
       "      <th>mean</th>\n",
       "      <td>18.000000</td>\n",
       "      <td>9.20000</td>\n",
       "      <td>35.485714</td>\n",
       "      <td>2.059147e+06</td>\n",
       "    </tr>\n",
       "    <tr>\n",
       "      <th>std</th>\n",
       "      <td>10.246951</td>\n",
       "      <td>7.55295</td>\n",
       "      <td>14.643552</td>\n",
       "      <td>3.170124e+06</td>\n",
       "    </tr>\n",
       "    <tr>\n",
       "      <th>min</th>\n",
       "      <td>1.000000</td>\n",
       "      <td>1.00000</td>\n",
       "      <td>17.000000</td>\n",
       "      <td>3.000000e+03</td>\n",
       "    </tr>\n",
       "    <tr>\n",
       "      <th>25%</th>\n",
       "      <td>9.500000</td>\n",
       "      <td>2.50000</td>\n",
       "      <td>22.500000</td>\n",
       "      <td>2.250000e+04</td>\n",
       "    </tr>\n",
       "    <tr>\n",
       "      <th>50%</th>\n",
       "      <td>18.000000</td>\n",
       "      <td>6.00000</td>\n",
       "      <td>29.000000</td>\n",
       "      <td>2.500000e+05</td>\n",
       "    </tr>\n",
       "    <tr>\n",
       "      <th>75%</th>\n",
       "      <td>26.500000</td>\n",
       "      <td>15.00000</td>\n",
       "      <td>53.500000</td>\n",
       "      <td>3.270000e+06</td>\n",
       "    </tr>\n",
       "    <tr>\n",
       "      <th>max</th>\n",
       "      <td>35.000000</td>\n",
       "      <td>27.00000</td>\n",
       "      <td>62.000000</td>\n",
       "      <td>1.000000e+07</td>\n",
       "    </tr>\n",
       "  </tbody>\n",
       "</table>\n",
       "</div>"
      ],
      "text/plain": [
       "              ID  Experience_Years        Age        Salary\n",
       "count  35.000000          35.00000  35.000000  3.500000e+01\n",
       "mean   18.000000           9.20000  35.485714  2.059147e+06\n",
       "std    10.246951           7.55295  14.643552  3.170124e+06\n",
       "min     1.000000           1.00000  17.000000  3.000000e+03\n",
       "25%     9.500000           2.50000  22.500000  2.250000e+04\n",
       "50%    18.000000           6.00000  29.000000  2.500000e+05\n",
       "75%    26.500000          15.00000  53.500000  3.270000e+06\n",
       "max    35.000000          27.00000  62.000000  1.000000e+07"
      ]
     },
     "execution_count": 20,
     "metadata": {},
     "output_type": "execute_result"
    }
   ],
   "source": [
    "data.describe()"
   ]
  },
  {
   "cell_type": "code",
   "execution_count": 21,
   "id": "14eeb7b5-0088-4ecf-84af-ba52a7bf0b83",
   "metadata": {},
   "outputs": [
    {
     "name": "stdout",
     "output_type": "stream",
     "text": [
      "<class 'pandas.core.frame.DataFrame'>\n",
      "RangeIndex: 35 entries, 0 to 34\n",
      "Data columns (total 5 columns):\n",
      " #   Column            Non-Null Count  Dtype \n",
      "---  ------            --------------  ----- \n",
      " 0   ID                35 non-null     int64 \n",
      " 1   Experience_Years  35 non-null     int64 \n",
      " 2   Age               35 non-null     int64 \n",
      " 3   Gender            35 non-null     object\n",
      " 4   Salary            35 non-null     int64 \n",
      "dtypes: int64(4), object(1)\n",
      "memory usage: 1.5+ KB\n"
     ]
    }
   ],
   "source": [
    "data.info()\n"
   ]
  },
  {
   "cell_type": "code",
   "execution_count": 22,
   "id": "f7eb267c-b38a-4297-9ea8-fca1c591fa2d",
   "metadata": {},
   "outputs": [
    {
     "name": "stdout",
     "output_type": "stream",
     "text": [
      "       ID  Experience_Years    Age  Gender  Salary\n",
      "0   False             False  False   False   False\n",
      "1   False             False  False   False   False\n",
      "2   False             False  False   False   False\n",
      "3   False             False  False   False   False\n",
      "4   False             False  False   False   False\n",
      "5   False             False  False   False   False\n",
      "6   False             False  False   False   False\n",
      "7   False             False  False   False   False\n",
      "8   False             False  False   False   False\n",
      "9   False             False  False   False   False\n",
      "10  False             False  False   False   False\n",
      "11  False             False  False   False   False\n",
      "12  False             False  False   False   False\n",
      "13  False             False  False   False   False\n",
      "14  False             False  False   False   False\n",
      "15  False             False  False   False   False\n",
      "16  False             False  False   False   False\n",
      "17  False             False  False   False   False\n",
      "18  False             False  False   False   False\n",
      "19  False             False  False   False   False\n",
      "20  False             False  False   False   False\n",
      "21  False             False  False   False   False\n",
      "22  False             False  False   False   False\n",
      "23  False             False  False   False   False\n",
      "24  False             False  False   False   False\n",
      "25  False             False  False   False   False\n",
      "26  False             False  False   False   False\n",
      "27  False             False  False   False   False\n",
      "28  False             False  False   False   False\n",
      "29  False             False  False   False   False\n",
      "30  False             False  False   False   False\n",
      "31  False             False  False   False   False\n",
      "32  False             False  False   False   False\n",
      "33  False             False  False   False   False\n",
      "34  False             False  False   False   False\n"
     ]
    }
   ],
   "source": [
    "print(data.isnull())"
   ]
  },
  {
   "cell_type": "code",
   "execution_count": 23,
   "id": "8145d6e0-5504-4025-9ee6-21b560936612",
   "metadata": {},
   "outputs": [
    {
     "name": "stdout",
     "output_type": "stream",
     "text": [
      "ID                  0\n",
      "Experience_Years    0\n",
      "Age                 0\n",
      "Gender              0\n",
      "Salary              0\n",
      "dtype: int64\n"
     ]
    }
   ],
   "source": [
    "print(data.isnull().sum())"
   ]
  },
  {
   "cell_type": "code",
   "execution_count": 24,
   "id": "ff6a3821-3e53-428d-a27e-f080e3603bb8",
   "metadata": {},
   "outputs": [],
   "source": [
    "import numpy as np"
   ]
  },
  {
   "cell_type": "code",
   "execution_count": 26,
   "id": "9bbc6e3c-4022-4b97-9825-92ec7edd0580",
   "metadata": {},
   "outputs": [
    {
     "data": {
      "text/html": [
       "<div>\n",
       "<style scoped>\n",
       "    .dataframe tbody tr th:only-of-type {\n",
       "        vertical-align: middle;\n",
       "    }\n",
       "\n",
       "    .dataframe tbody tr th {\n",
       "        vertical-align: top;\n",
       "    }\n",
       "\n",
       "    .dataframe thead th {\n",
       "        text-align: right;\n",
       "    }\n",
       "</style>\n",
       "<table border=\"1\" class=\"dataframe\">\n",
       "  <thead>\n",
       "    <tr style=\"text-align: right;\">\n",
       "      <th></th>\n",
       "      <th>ID</th>\n",
       "      <th>Experience_Years</th>\n",
       "      <th>Age</th>\n",
       "      <th>Salary</th>\n",
       "    </tr>\n",
       "  </thead>\n",
       "  <tbody>\n",
       "    <tr>\n",
       "      <th>count</th>\n",
       "      <td>35.000000</td>\n",
       "      <td>35.00000</td>\n",
       "      <td>35.000000</td>\n",
       "      <td>3.500000e+01</td>\n",
       "    </tr>\n",
       "    <tr>\n",
       "      <th>mean</th>\n",
       "      <td>18.000000</td>\n",
       "      <td>9.20000</td>\n",
       "      <td>35.485714</td>\n",
       "      <td>2.059147e+06</td>\n",
       "    </tr>\n",
       "    <tr>\n",
       "      <th>std</th>\n",
       "      <td>10.246951</td>\n",
       "      <td>7.55295</td>\n",
       "      <td>14.643552</td>\n",
       "      <td>3.170124e+06</td>\n",
       "    </tr>\n",
       "    <tr>\n",
       "      <th>min</th>\n",
       "      <td>1.000000</td>\n",
       "      <td>1.00000</td>\n",
       "      <td>17.000000</td>\n",
       "      <td>3.000000e+03</td>\n",
       "    </tr>\n",
       "    <tr>\n",
       "      <th>25%</th>\n",
       "      <td>9.500000</td>\n",
       "      <td>2.50000</td>\n",
       "      <td>22.500000</td>\n",
       "      <td>2.250000e+04</td>\n",
       "    </tr>\n",
       "    <tr>\n",
       "      <th>50%</th>\n",
       "      <td>18.000000</td>\n",
       "      <td>6.00000</td>\n",
       "      <td>29.000000</td>\n",
       "      <td>2.500000e+05</td>\n",
       "    </tr>\n",
       "    <tr>\n",
       "      <th>75%</th>\n",
       "      <td>26.500000</td>\n",
       "      <td>15.00000</td>\n",
       "      <td>53.500000</td>\n",
       "      <td>3.270000e+06</td>\n",
       "    </tr>\n",
       "    <tr>\n",
       "      <th>max</th>\n",
       "      <td>35.000000</td>\n",
       "      <td>27.00000</td>\n",
       "      <td>62.000000</td>\n",
       "      <td>1.000000e+07</td>\n",
       "    </tr>\n",
       "  </tbody>\n",
       "</table>\n",
       "</div>"
      ],
      "text/plain": [
       "              ID  Experience_Years        Age        Salary\n",
       "count  35.000000          35.00000  35.000000  3.500000e+01\n",
       "mean   18.000000           9.20000  35.485714  2.059147e+06\n",
       "std    10.246951           7.55295  14.643552  3.170124e+06\n",
       "min     1.000000           1.00000  17.000000  3.000000e+03\n",
       "25%     9.500000           2.50000  22.500000  2.250000e+04\n",
       "50%    18.000000           6.00000  29.000000  2.500000e+05\n",
       "75%    26.500000          15.00000  53.500000  3.270000e+06\n",
       "max    35.000000          27.00000  62.000000  1.000000e+07"
      ]
     },
     "execution_count": 26,
     "metadata": {},
     "output_type": "execute_result"
    }
   ],
   "source": [
    "data.describe()"
   ]
  },
  {
   "cell_type": "code",
   "execution_count": 27,
   "id": "5fc29e0f-448a-4636-9bc7-d661ccc53be0",
   "metadata": {},
   "outputs": [
    {
     "name": "stdout",
     "output_type": "stream",
     "text": [
      "<class 'pandas.core.frame.DataFrame'>\n",
      "RangeIndex: 35 entries, 0 to 34\n",
      "Data columns (total 5 columns):\n",
      " #   Column            Non-Null Count  Dtype \n",
      "---  ------            --------------  ----- \n",
      " 0   ID                35 non-null     int64 \n",
      " 1   Experience_Years  35 non-null     int64 \n",
      " 2   Age               35 non-null     int64 \n",
      " 3   Gender            35 non-null     object\n",
      " 4   Salary            35 non-null     int64 \n",
      "dtypes: int64(4), object(1)\n",
      "memory usage: 1.5+ KB\n"
     ]
    }
   ],
   "source": [
    "data.info()\n"
   ]
  },
  {
   "cell_type": "code",
   "execution_count": 2,
   "id": "c6173d4d-214e-4576-a512-7cdb8b239af9",
   "metadata": {},
   "outputs": [
    {
     "ename": "NameError",
     "evalue": "name 'pd' is not defined",
     "output_type": "error",
     "traceback": [
      "\u001b[1;31m---------------------------------------------------------------------------\u001b[0m",
      "\u001b[1;31mNameError\u001b[0m                                 Traceback (most recent call last)",
      "Cell \u001b[1;32mIn[2], line 1\u001b[0m\n\u001b[1;32m----> 1\u001b[0m data\u001b[38;5;241m=\u001b[39m\u001b[43mpd\u001b[49m\u001b[38;5;241m.\u001b[39mread_csv(\u001b[38;5;124m\"\u001b[39m\u001b[38;5;124mD:/05_DATA CLEANING AND PREPROCESSING/Pune house data.csv\u001b[39m\u001b[38;5;124m\"\u001b[39m)\n",
      "\u001b[1;31mNameError\u001b[0m: name 'pd' is not defined"
     ]
    }
   ],
   "source": [
    "data=pd.read_csv(\"D:/05_DATA CLEANING AND PREPROCESSING/Pune house data.csv\")"
   ]
  },
  {
   "cell_type": "code",
   "execution_count": 30,
   "id": "f4e73a50-e75e-4130-b34c-f4b68a5ab419",
   "metadata": {},
   "outputs": [
    {
     "name": "stdout",
     "output_type": "stream",
     "text": [
      "              area_type   availability       size  society total_sqft  bath  \\\n",
      "0  Super built-up  Area         19-Dec      2 BHK  Coomee        1056   2.0   \n",
      "1            Plot  Area  Ready To Move  4 Bedroom  Theanmp       2600   5.0   \n",
      "2        Built-up  Area  Ready To Move      3 BHK      NaN       1440   2.0   \n",
      "3  Super built-up  Area  Ready To Move      3 BHK  Soiewre       1521   3.0   \n",
      "4  Super built-up  Area  Ready To Move      2 BHK      NaN       1200   2.0   \n",
      "5  Super built-up  Area  Ready To Move      2 BHK  DuenaTa       1170   2.0   \n",
      "6  Super built-up  Area         18-May      4 BHK  Jaades        2732   4.0   \n",
      "7  Super built-up  Area  Ready To Move      4 BHK  Brway G       3300   4.0   \n",
      "8  Super built-up  Area  Ready To Move      3 BHK      NaN       1310   3.0   \n",
      "9            Plot  Area  Ready To Move  6 Bedroom      NaN       1020   6.0   \n",
      "\n",
      "   balcony   price    site_location  \n",
      "0      1.0   39.07      Alandi Road  \n",
      "1      3.0  120.00  Ambegaon Budruk  \n",
      "2      3.0   62.00       Anandnagar  \n",
      "3      1.0   95.00            Aundh  \n",
      "4      1.0   51.00       Aundh Road  \n",
      "5      1.0   38.00     Balaji Nagar  \n",
      "6      NaN  204.00            Baner  \n",
      "7      NaN  600.00       Baner road  \n",
      "8      1.0   63.25  Bhandarkar Road  \n",
      "9      NaN  370.00     Bhavani Peth  \n"
     ]
    }
   ],
   "source": [
    "print(data.head(10))"
   ]
  },
  {
   "cell_type": "code",
   "execution_count": 31,
   "id": "e9df93d3-7ba0-4475-9742-209264782799",
   "metadata": {},
   "outputs": [
    {
     "name": "stdout",
     "output_type": "stream",
     "text": [
      "       area_type  availability   size  society  total_sqft   bath  balcony  \\\n",
      "0          False         False  False    False       False  False    False   \n",
      "1          False         False  False    False       False  False    False   \n",
      "2          False         False  False     True       False  False    False   \n",
      "3          False         False  False    False       False  False    False   \n",
      "4          False         False  False     True       False  False    False   \n",
      "...          ...           ...    ...      ...         ...    ...      ...   \n",
      "13315      False         False  False    False       False  False    False   \n",
      "13316      False         False  False     True       False  False     True   \n",
      "13317      False         False  False    False       False  False    False   \n",
      "13318      False         False  False    False       False  False    False   \n",
      "13319      False         False  False     True       False  False    False   \n",
      "\n",
      "       price  site_location  \n",
      "0      False          False  \n",
      "1      False          False  \n",
      "2      False          False  \n",
      "3      False          False  \n",
      "4      False          False  \n",
      "...      ...            ...  \n",
      "13315  False          False  \n",
      "13316  False          False  \n",
      "13317  False          False  \n",
      "13318  False          False  \n",
      "13319  False          False  \n",
      "\n",
      "[13320 rows x 9 columns]\n"
     ]
    }
   ],
   "source": [
    "print(data.isnull())"
   ]
  },
  {
   "cell_type": "code",
   "execution_count": 32,
   "id": "c41bc0cf-0635-4d78-bd8e-7c8603080260",
   "metadata": {},
   "outputs": [
    {
     "name": "stdout",
     "output_type": "stream",
     "text": [
      "area_type           0\n",
      "availability        0\n",
      "size               16\n",
      "society          5502\n",
      "total_sqft          0\n",
      "bath               73\n",
      "balcony           609\n",
      "price               0\n",
      "site_location       1\n",
      "dtype: int64\n"
     ]
    }
   ],
   "source": [
    "print(data.isnull().sum())"
   ]
  },
  {
   "cell_type": "code",
   "execution_count": 33,
   "id": "35815f29-1f15-4c86-84a7-38f890b4cb76",
   "metadata": {},
   "outputs": [
    {
     "data": {
      "text/plain": [
       "<bound method DataFrame.info of                   area_type   availability       size  society total_sqft  \\\n",
       "0      Super built-up  Area         19-Dec      2 BHK  Coomee        1056   \n",
       "1                Plot  Area  Ready To Move  4 Bedroom  Theanmp       2600   \n",
       "2            Built-up  Area  Ready To Move      3 BHK      NaN       1440   \n",
       "3      Super built-up  Area  Ready To Move      3 BHK  Soiewre       1521   \n",
       "4      Super built-up  Area  Ready To Move      2 BHK      NaN       1200   \n",
       "...                     ...            ...        ...      ...        ...   \n",
       "13315        Built-up  Area  Ready To Move  5 Bedroom  ArsiaEx       3453   \n",
       "13316  Super built-up  Area  Ready To Move      4 BHK      NaN       3600   \n",
       "13317        Built-up  Area  Ready To Move      2 BHK  Mahla T       1141   \n",
       "13318  Super built-up  Area         18-Jun      4 BHK  SollyCl       4689   \n",
       "13319  Super built-up  Area  Ready To Move      1 BHK      NaN        550   \n",
       "\n",
       "       bath  balcony   price         site_location  \n",
       "0       2.0      1.0   39.07           Alandi Road  \n",
       "1       5.0      3.0  120.00       Ambegaon Budruk  \n",
       "2       2.0      3.0   62.00            Anandnagar  \n",
       "3       3.0      1.0   95.00                 Aundh  \n",
       "4       2.0      1.0   51.00            Aundh Road  \n",
       "...     ...      ...     ...                   ...  \n",
       "13315   4.0      0.0  231.00                Pashan  \n",
       "13316   5.0      NaN  400.00             Paud Road  \n",
       "13317   2.0      1.0   60.00              Pirangut  \n",
       "13318   4.0      1.0  488.00          Prabhat Road  \n",
       "13319   1.0      1.0   17.00  Pune Railway Station  \n",
       "\n",
       "[13320 rows x 9 columns]>"
      ]
     },
     "execution_count": 33,
     "metadata": {},
     "output_type": "execute_result"
    }
   ],
   "source": [
    "data.info\n"
   ]
  },
  {
   "cell_type": "code",
   "execution_count": 35,
   "id": "d0bb969f-57c1-4a3e-b120-2aae993e56e4",
   "metadata": {},
   "outputs": [
    {
     "name": "stdout",
     "output_type": "stream",
     "text": [
      "<bound method NDFrame.describe of                   area_type   availability       size  society total_sqft  \\\n",
      "0      Super built-up  Area         19-Dec      2 BHK  Coomee        1056   \n",
      "1                Plot  Area  Ready To Move  4 Bedroom  Theanmp       2600   \n",
      "2            Built-up  Area  Ready To Move      3 BHK      NaN       1440   \n",
      "3      Super built-up  Area  Ready To Move      3 BHK  Soiewre       1521   \n",
      "4      Super built-up  Area  Ready To Move      2 BHK      NaN       1200   \n",
      "...                     ...            ...        ...      ...        ...   \n",
      "13315        Built-up  Area  Ready To Move  5 Bedroom  ArsiaEx       3453   \n",
      "13316  Super built-up  Area  Ready To Move      4 BHK      NaN       3600   \n",
      "13317        Built-up  Area  Ready To Move      2 BHK  Mahla T       1141   \n",
      "13318  Super built-up  Area         18-Jun      4 BHK  SollyCl       4689   \n",
      "13319  Super built-up  Area  Ready To Move      1 BHK      NaN        550   \n",
      "\n",
      "       bath  balcony   price         site_location  \n",
      "0       2.0      1.0   39.07           Alandi Road  \n",
      "1       5.0      3.0  120.00       Ambegaon Budruk  \n",
      "2       2.0      3.0   62.00            Anandnagar  \n",
      "3       3.0      1.0   95.00                 Aundh  \n",
      "4       2.0      1.0   51.00            Aundh Road  \n",
      "...     ...      ...     ...                   ...  \n",
      "13315   4.0      0.0  231.00                Pashan  \n",
      "13316   5.0      NaN  400.00             Paud Road  \n",
      "13317   2.0      1.0   60.00              Pirangut  \n",
      "13318   4.0      1.0  488.00          Prabhat Road  \n",
      "13319   1.0      1.0   17.00  Pune Railway Station  \n",
      "\n",
      "[13320 rows x 9 columns]>\n"
     ]
    }
   ],
   "source": [
    "print(data.describe)"
   ]
  },
  {
   "cell_type": "code",
   "execution_count": 36,
   "id": "ec047235-82f6-43f3-895b-7cd31a85d093",
   "metadata": {},
   "outputs": [
    {
     "data": {
      "text/html": [
       "<div>\n",
       "<style scoped>\n",
       "    .dataframe tbody tr th:only-of-type {\n",
       "        vertical-align: middle;\n",
       "    }\n",
       "\n",
       "    .dataframe tbody tr th {\n",
       "        vertical-align: top;\n",
       "    }\n",
       "\n",
       "    .dataframe thead th {\n",
       "        text-align: right;\n",
       "    }\n",
       "</style>\n",
       "<table border=\"1\" class=\"dataframe\">\n",
       "  <thead>\n",
       "    <tr style=\"text-align: right;\">\n",
       "      <th></th>\n",
       "      <th>bath</th>\n",
       "      <th>balcony</th>\n",
       "      <th>price</th>\n",
       "    </tr>\n",
       "  </thead>\n",
       "  <tbody>\n",
       "    <tr>\n",
       "      <th>count</th>\n",
       "      <td>13247.000000</td>\n",
       "      <td>12711.000000</td>\n",
       "      <td>13320.000000</td>\n",
       "    </tr>\n",
       "    <tr>\n",
       "      <th>mean</th>\n",
       "      <td>2.692610</td>\n",
       "      <td>1.584376</td>\n",
       "      <td>112.565627</td>\n",
       "    </tr>\n",
       "    <tr>\n",
       "      <th>std</th>\n",
       "      <td>1.341458</td>\n",
       "      <td>0.817263</td>\n",
       "      <td>148.971674</td>\n",
       "    </tr>\n",
       "    <tr>\n",
       "      <th>min</th>\n",
       "      <td>1.000000</td>\n",
       "      <td>0.000000</td>\n",
       "      <td>8.000000</td>\n",
       "    </tr>\n",
       "    <tr>\n",
       "      <th>25%</th>\n",
       "      <td>2.000000</td>\n",
       "      <td>1.000000</td>\n",
       "      <td>50.000000</td>\n",
       "    </tr>\n",
       "    <tr>\n",
       "      <th>50%</th>\n",
       "      <td>2.000000</td>\n",
       "      <td>2.000000</td>\n",
       "      <td>72.000000</td>\n",
       "    </tr>\n",
       "    <tr>\n",
       "      <th>75%</th>\n",
       "      <td>3.000000</td>\n",
       "      <td>2.000000</td>\n",
       "      <td>120.000000</td>\n",
       "    </tr>\n",
       "    <tr>\n",
       "      <th>max</th>\n",
       "      <td>40.000000</td>\n",
       "      <td>3.000000</td>\n",
       "      <td>3600.000000</td>\n",
       "    </tr>\n",
       "  </tbody>\n",
       "</table>\n",
       "</div>"
      ],
      "text/plain": [
       "               bath       balcony         price\n",
       "count  13247.000000  12711.000000  13320.000000\n",
       "mean       2.692610      1.584376    112.565627\n",
       "std        1.341458      0.817263    148.971674\n",
       "min        1.000000      0.000000      8.000000\n",
       "25%        2.000000      1.000000     50.000000\n",
       "50%        2.000000      2.000000     72.000000\n",
       "75%        3.000000      2.000000    120.000000\n",
       "max       40.000000      3.000000   3600.000000"
      ]
     },
     "execution_count": 36,
     "metadata": {},
     "output_type": "execute_result"
    }
   ],
   "source": [
    "data.describe()"
   ]
  },
  {
   "cell_type": "code",
   "execution_count": 37,
   "id": "1096dbbe-815b-4a95-8a4b-18515d75294e",
   "metadata": {},
   "outputs": [
    {
     "name": "stdout",
     "output_type": "stream",
     "text": [
      "<class 'pandas.core.frame.DataFrame'>\n",
      "RangeIndex: 13320 entries, 0 to 13319\n",
      "Data columns (total 9 columns):\n",
      " #   Column         Non-Null Count  Dtype  \n",
      "---  ------         --------------  -----  \n",
      " 0   area_type      13320 non-null  object \n",
      " 1   availability   13320 non-null  object \n",
      " 2   size           13304 non-null  object \n",
      " 3   society        7818 non-null   object \n",
      " 4   total_sqft     13320 non-null  object \n",
      " 5   bath           13247 non-null  float64\n",
      " 6   balcony        12711 non-null  float64\n",
      " 7   price          13320 non-null  float64\n",
      " 8   site_location  13319 non-null  object \n",
      "dtypes: float64(3), object(6)\n",
      "memory usage: 936.7+ KB\n",
      "None\n"
     ]
    }
   ],
   "source": [
    "print(data.info())"
   ]
  },
  {
   "cell_type": "code",
   "execution_count": 39,
   "id": "f70bea24-75ee-49ab-893b-4c612e219ee5",
   "metadata": {},
   "outputs": [
    {
     "name": "stdout",
     "output_type": "stream",
     "text": [
      "       area_type  availability   size  society  total_sqft   bath  balcony  \\\n",
      "0          False         False  False    False       False  False    False   \n",
      "1          False         False  False    False       False  False    False   \n",
      "2          False         False  False     True       False  False    False   \n",
      "3          False         False  False    False       False  False    False   \n",
      "4          False         False  False     True       False  False    False   \n",
      "...          ...           ...    ...      ...         ...    ...      ...   \n",
      "13315      False         False  False    False       False  False    False   \n",
      "13316      False         False  False     True       False  False     True   \n",
      "13317      False         False  False    False       False  False    False   \n",
      "13318      False         False  False    False       False  False    False   \n",
      "13319      False         False  False     True       False  False    False   \n",
      "\n",
      "       price  site_location  \n",
      "0      False          False  \n",
      "1      False          False  \n",
      "2      False          False  \n",
      "3      False          False  \n",
      "4      False          False  \n",
      "...      ...            ...  \n",
      "13315  False          False  \n",
      "13316  False          False  \n",
      "13317  False          False  \n",
      "13318  False          False  \n",
      "13319  False          False  \n",
      "\n",
      "[13320 rows x 9 columns]\n"
     ]
    }
   ],
   "source": [
    "print(data.isnull())"
   ]
  },
  {
   "cell_type": "code",
   "execution_count": 40,
   "id": "b1e29b06-acba-4d27-ad2f-2e4698c06a04",
   "metadata": {},
   "outputs": [
    {
     "name": "stdout",
     "output_type": "stream",
     "text": [
      "area_type           0\n",
      "availability        0\n",
      "size               16\n",
      "society          5502\n",
      "total_sqft          0\n",
      "bath               73\n",
      "balcony           609\n",
      "price               0\n",
      "site_location       1\n",
      "dtype: int64\n"
     ]
    }
   ],
   "source": [
    "print(data.isnull().sum())"
   ]
  },
  {
   "cell_type": "code",
   "execution_count": 4,
   "id": "bf19ac0a-5ab2-4132-b575-97774a69e82b",
   "metadata": {},
   "outputs": [],
   "source": [
    "import pandas as pd\n",
    "data=pd.read_csv(\"D:/05_DATA CLEANING AND PREPROCESSING/Pune house data.csv\")"
   ]
  },
  {
   "cell_type": "code",
   "execution_count": 5,
   "id": "1546846d-1ded-4cdd-900f-12b733fac856",
   "metadata": {},
   "outputs": [
    {
     "name": "stdout",
     "output_type": "stream",
     "text": [
      "              area_type   availability       size  society total_sqft  bath  \\\n",
      "0  Super built-up  Area         19-Dec      2 BHK  Coomee        1056   2.0   \n",
      "1            Plot  Area  Ready To Move  4 Bedroom  Theanmp       2600   5.0   \n",
      "2        Built-up  Area  Ready To Move      3 BHK      NaN       1440   2.0   \n",
      "3  Super built-up  Area  Ready To Move      3 BHK  Soiewre       1521   3.0   \n",
      "4  Super built-up  Area  Ready To Move      2 BHK      NaN       1200   2.0   \n",
      "5  Super built-up  Area  Ready To Move      2 BHK  DuenaTa       1170   2.0   \n",
      "6  Super built-up  Area         18-May      4 BHK  Jaades        2732   4.0   \n",
      "7  Super built-up  Area  Ready To Move      4 BHK  Brway G       3300   4.0   \n",
      "8  Super built-up  Area  Ready To Move      3 BHK      NaN       1310   3.0   \n",
      "9            Plot  Area  Ready To Move  6 Bedroom      NaN       1020   6.0   \n",
      "\n",
      "   balcony   price    site_location  \n",
      "0      1.0   39.07      Alandi Road  \n",
      "1      3.0  120.00  Ambegaon Budruk  \n",
      "2      3.0   62.00       Anandnagar  \n",
      "3      1.0   95.00            Aundh  \n",
      "4      1.0   51.00       Aundh Road  \n",
      "5      1.0   38.00     Balaji Nagar  \n",
      "6      NaN  204.00            Baner  \n",
      "7      NaN  600.00       Baner road  \n",
      "8      1.0   63.25  Bhandarkar Road  \n",
      "9      NaN  370.00     Bhavani Peth  \n"
     ]
    }
   ],
   "source": [
    "print(data.head(10))"
   ]
  },
  {
   "cell_type": "code",
   "execution_count": 6,
   "id": "39fc7860-19f1-4566-bb7e-df1aa0f8ce6f",
   "metadata": {},
   "outputs": [
    {
     "name": "stdout",
     "output_type": "stream",
     "text": [
      "0        False\n",
      "1        False\n",
      "2        False\n",
      "3        False\n",
      "4        False\n",
      "         ...  \n",
      "13315    False\n",
      "13316    False\n",
      "13317    False\n",
      "13318    False\n",
      "13319    False\n",
      "Length: 13320, dtype: bool\n"
     ]
    }
   ],
   "source": [
    "print(data.duplicated())"
   ]
  },
  {
   "cell_type": "code",
   "execution_count": 7,
   "id": "3641417a-0136-4491-888d-5ad4b280937e",
   "metadata": {},
   "outputs": [
    {
     "name": "stdout",
     "output_type": "stream",
     "text": [
      "0        False\n",
      "1        False\n",
      "2        False\n",
      "3         True\n",
      "4         True\n",
      "         ...  \n",
      "13315     True\n",
      "13316     True\n",
      "13317     True\n",
      "13318     True\n",
      "13319     True\n",
      "Name: area_type, Length: 13320, dtype: bool\n"
     ]
    }
   ],
   "source": [
    "print(data[\"area_type\"].duplicated())"
   ]
  },
  {
   "cell_type": "code",
   "execution_count": 8,
   "id": "896a4f8a-a4ba-45c4-a7d8-c9f008f36a26",
   "metadata": {},
   "outputs": [
    {
     "name": "stdout",
     "output_type": "stream",
     "text": [
      "0        False\n",
      "1        False\n",
      "2        False\n",
      "3        False\n",
      "4        False\n",
      "         ...  \n",
      "13315    False\n",
      "13316     True\n",
      "13317     True\n",
      "13318    False\n",
      "13319     True\n",
      "Name: price, Length: 13320, dtype: bool\n"
     ]
    }
   ],
   "source": [
    "print(data[\"price\"].duplicated())"
   ]
  },
  {
   "cell_type": "code",
   "execution_count": 9,
   "id": "155b7a9c-08a6-44f4-a119-9846c9c9ca60",
   "metadata": {},
   "outputs": [
    {
     "name": "stdout",
     "output_type": "stream",
     "text": [
      "13316\n"
     ]
    }
   ],
   "source": [
    "print(data[\"area_type\"].duplicated().sum())"
   ]
  },
  {
   "cell_type": "code",
   "execution_count": 10,
   "id": "b6b8d129-c3e0-453d-bbbf-34b82a291b77",
   "metadata": {},
   "outputs": [
    {
     "name": "stdout",
     "output_type": "stream",
     "text": [
      "                  area_type   availability       size  society total_sqft  \\\n",
      "0      Super built-up  Area         19-Dec      2 BHK  Coomee        1056   \n",
      "1                Plot  Area  Ready To Move  4 Bedroom  Theanmp       2600   \n",
      "2            Built-up  Area  Ready To Move      3 BHK      NaN       1440   \n",
      "3      Super built-up  Area  Ready To Move      3 BHK  Soiewre       1521   \n",
      "4      Super built-up  Area  Ready To Move      2 BHK      NaN       1200   \n",
      "...                     ...            ...        ...      ...        ...   \n",
      "13315        Built-up  Area  Ready To Move  5 Bedroom  ArsiaEx       3453   \n",
      "13316  Super built-up  Area  Ready To Move      4 BHK      NaN       3600   \n",
      "13317        Built-up  Area  Ready To Move      2 BHK  Mahla T       1141   \n",
      "13318  Super built-up  Area         18-Jun      4 BHK  SollyCl       4689   \n",
      "13319  Super built-up  Area  Ready To Move      1 BHK      NaN        550   \n",
      "\n",
      "       bath  balcony   price         site_location  \n",
      "0       2.0      1.0   39.07           Alandi Road  \n",
      "1       5.0      3.0  120.00       Ambegaon Budruk  \n",
      "2       2.0      3.0   62.00            Anandnagar  \n",
      "3       3.0      1.0   95.00                 Aundh  \n",
      "4       2.0      1.0   51.00            Aundh Road  \n",
      "...     ...      ...     ...                   ...  \n",
      "13315   4.0      0.0  231.00                Pashan  \n",
      "13316   5.0      NaN  400.00             Paud Road  \n",
      "13317   2.0      1.0   60.00              Pirangut  \n",
      "13318   4.0      1.0  488.00          Prabhat Road  \n",
      "13319   1.0      1.0   17.00  Pune Railway Station  \n",
      "\n",
      "[13320 rows x 9 columns]\n"
     ]
    }
   ],
   "source": [
    "print(data)\n"
   ]
  },
  {
   "cell_type": "code",
   "execution_count": 13,
   "id": "f961762f-1d46-4535-9cd3-ede436655adb",
   "metadata": {},
   "outputs": [
    {
     "name": "stdout",
     "output_type": "stream",
     "text": [
      "0        False\n",
      "1        False\n",
      "2        False\n",
      "3        False\n",
      "4        False\n",
      "         ...  \n",
      "13315    False\n",
      "13316     True\n",
      "13317     True\n",
      "13318    False\n",
      "13319     True\n",
      "Name: price, Length: 13320, dtype: bool\n"
     ]
    }
   ],
   "source": [
    "print(data[\"price\"].duplicated())"
   ]
  },
  {
   "cell_type": "code",
   "execution_count": 15,
   "id": "362f3950-9966-4005-a2fd-2b51563bebb6",
   "metadata": {},
   "outputs": [
    {
     "name": "stdout",
     "output_type": "stream",
     "text": [
      "11326\n"
     ]
    }
   ],
   "source": [
    "print(data[\"price\"].duplicated().sum())"
   ]
  },
  {
   "cell_type": "code",
   "execution_count": 17,
   "id": "e03a7752-eaea-4671-90f9-949cc26e64b8",
   "metadata": {},
   "outputs": [
    {
     "name": "stdout",
     "output_type": "stream",
     "text": [
      "       area_type  availability   size  society  total_sqft   bath  balcony  \\\n",
      "0          False         False  False    False       False  False    False   \n",
      "1          False         False  False    False       False  False    False   \n",
      "2          False         False  False     True       False  False    False   \n",
      "3          False         False  False    False       False  False    False   \n",
      "4          False         False  False     True       False  False    False   \n",
      "...          ...           ...    ...      ...         ...    ...      ...   \n",
      "13315      False         False  False    False       False  False    False   \n",
      "13316      False         False  False     True       False  False     True   \n",
      "13317      False         False  False    False       False  False    False   \n",
      "13318      False         False  False    False       False  False    False   \n",
      "13319      False         False  False     True       False  False    False   \n",
      "\n",
      "       price  site_location  \n",
      "0      False          False  \n",
      "1      False          False  \n",
      "2      False          False  \n",
      "3      False          False  \n",
      "4      False          False  \n",
      "...      ...            ...  \n",
      "13315  False          False  \n",
      "13316  False          False  \n",
      "13317  False          False  \n",
      "13318  False          False  \n",
      "13319  False          False  \n",
      "\n",
      "[13320 rows x 9 columns]\n"
     ]
    }
   ],
   "source": [
    "print(data.isnull())"
   ]
  },
  {
   "cell_type": "code",
   "execution_count": 18,
   "id": "2fd11ee9-ec6b-48aa-9dc9-e6337e661fb0",
   "metadata": {},
   "outputs": [
    {
     "name": "stdout",
     "output_type": "stream",
     "text": [
      "area_type           0\n",
      "availability        0\n",
      "size               16\n",
      "society          5502\n",
      "total_sqft          0\n",
      "bath               73\n",
      "balcony           609\n",
      "price               0\n",
      "site_location       1\n",
      "dtype: int64\n"
     ]
    }
   ],
   "source": [
    "print(data.isnull().sum())"
   ]
  },
  {
   "cell_type": "code",
   "execution_count": 19,
   "id": "a794dc36-dcb9-424d-b238-0df84f981f97",
   "metadata": {},
   "outputs": [
    {
     "name": "stdout",
     "output_type": "stream",
     "text": [
      "area_type           0\n",
      "availability        0\n",
      "size               16\n",
      "society          5502\n",
      "total_sqft          0\n",
      "bath               73\n",
      "balcony           609\n",
      "price               0\n",
      "site_location       1\n",
      "dtype: int64\n"
     ]
    }
   ],
   "source": [
    "print(data.isnull().sum())\n"
   ]
  },
  {
   "cell_type": "code",
   "execution_count": 22,
   "id": "5071b6df-53b2-4955-aeb2-62799f8dff4d",
   "metadata": {},
   "outputs": [
    {
     "name": "stdout",
     "output_type": "stream",
     "text": [
      "                  area_type   availability       size  society total_sqft  \\\n",
      "0      Super built-up  Area         19-Dec      2 BHK  Coomee        1056   \n",
      "1                Plot  Area  Ready To Move  4 Bedroom  Theanmp       2600   \n",
      "2            Built-up  Area  Ready To Move      3 BHK      NaN       1440   \n",
      "3      Super built-up  Area  Ready To Move      3 BHK  Soiewre       1521   \n",
      "4      Super built-up  Area  Ready To Move      2 BHK      NaN       1200   \n",
      "...                     ...            ...        ...      ...        ...   \n",
      "13315        Built-up  Area  Ready To Move  5 Bedroom  ArsiaEx       3453   \n",
      "13316  Super built-up  Area  Ready To Move      4 BHK      NaN       3600   \n",
      "13317        Built-up  Area  Ready To Move      2 BHK  Mahla T       1141   \n",
      "13318  Super built-up  Area         18-Jun      4 BHK  SollyCl       4689   \n",
      "13319  Super built-up  Area  Ready To Move      1 BHK      NaN        550   \n",
      "\n",
      "       bath  balcony   price         site_location  \n",
      "0       2.0      1.0   39.07           Alandi Road  \n",
      "1       5.0      3.0  120.00       Ambegaon Budruk  \n",
      "2       2.0      3.0   62.00            Anandnagar  \n",
      "3       3.0      1.0   95.00                 Aundh  \n",
      "4       2.0      1.0   51.00            Aundh Road  \n",
      "...     ...      ...     ...                   ...  \n",
      "13315   4.0      0.0  231.00                Pashan  \n",
      "13316   5.0      NaN  400.00             Paud Road  \n",
      "13317   2.0      1.0   60.00              Pirangut  \n",
      "13318   4.0      1.0  488.00          Prabhat Road  \n",
      "13319   1.0      1.0   17.00  Pune Railway Station  \n",
      "\n",
      "[13320 rows x 9 columns]\n"
     ]
    }
   ],
   "source": [
    "print(data)"
   ]
  },
  {
   "cell_type": "code",
   "execution_count": 23,
   "id": "1a854767-1bfa-4296-9fea-4611eb9f63f1",
   "metadata": {},
   "outputs": [
    {
     "name": "stdout",
     "output_type": "stream",
     "text": [
      "0        False\n",
      "1        False\n",
      "2        False\n",
      "3         True\n",
      "4         True\n",
      "         ...  \n",
      "13315     True\n",
      "13316     True\n",
      "13317     True\n",
      "13318     True\n",
      "13319     True\n",
      "Name: area_type, Length: 13320, dtype: bool\n"
     ]
    }
   ],
   "source": [
    "print(data[\"area_type\"].duplicated())"
   ]
  },
  {
   "cell_type": "code",
   "execution_count": 24,
   "id": "80c0463a-ca00-4cb9-9d29-36bdba9ed727",
   "metadata": {},
   "outputs": [
    {
     "name": "stdout",
     "output_type": "stream",
     "text": [
      "11326\n"
     ]
    }
   ],
   "source": [
    "print(data[\"price\"].duplicated().sum())"
   ]
  },
  {
   "cell_type": "code",
   "execution_count": 27,
   "id": "0f048228-c0be-4288-8384-ca188229f5e7",
   "metadata": {},
   "outputs": [
    {
     "name": "stdout",
     "output_type": "stream",
     "text": [
      "<class 'pandas.core.frame.DataFrame'>\n",
      "RangeIndex: 13320 entries, 0 to 13319\n",
      "Data columns (total 9 columns):\n",
      " #   Column         Non-Null Count  Dtype  \n",
      "---  ------         --------------  -----  \n",
      " 0   area_type      13320 non-null  object \n",
      " 1   availability   13320 non-null  object \n",
      " 2   size           13304 non-null  object \n",
      " 3   society        7818 non-null   object \n",
      " 4   total_sqft     13320 non-null  object \n",
      " 5   bath           13247 non-null  float64\n",
      " 6   balcony        12711 non-null  float64\n",
      " 7   price          13320 non-null  float64\n",
      " 8   site_location  13319 non-null  object \n",
      "dtypes: float64(3), object(6)\n",
      "memory usage: 936.7+ KB\n",
      "None\n"
     ]
    }
   ],
   "source": [
    "print(data.info())"
   ]
  },
  {
   "cell_type": "code",
   "execution_count": 28,
   "id": "cefbcd2f-9a34-4367-8571-5ea77600c61f",
   "metadata": {},
   "outputs": [
    {
     "data": {
      "text/html": [
       "<div>\n",
       "<style scoped>\n",
       "    .dataframe tbody tr th:only-of-type {\n",
       "        vertical-align: middle;\n",
       "    }\n",
       "\n",
       "    .dataframe tbody tr th {\n",
       "        vertical-align: top;\n",
       "    }\n",
       "\n",
       "    .dataframe thead th {\n",
       "        text-align: right;\n",
       "    }\n",
       "</style>\n",
       "<table border=\"1\" class=\"dataframe\">\n",
       "  <thead>\n",
       "    <tr style=\"text-align: right;\">\n",
       "      <th></th>\n",
       "      <th>bath</th>\n",
       "      <th>balcony</th>\n",
       "      <th>price</th>\n",
       "    </tr>\n",
       "  </thead>\n",
       "  <tbody>\n",
       "    <tr>\n",
       "      <th>count</th>\n",
       "      <td>13247.000000</td>\n",
       "      <td>12711.000000</td>\n",
       "      <td>13320.000000</td>\n",
       "    </tr>\n",
       "    <tr>\n",
       "      <th>mean</th>\n",
       "      <td>2.692610</td>\n",
       "      <td>1.584376</td>\n",
       "      <td>112.565627</td>\n",
       "    </tr>\n",
       "    <tr>\n",
       "      <th>std</th>\n",
       "      <td>1.341458</td>\n",
       "      <td>0.817263</td>\n",
       "      <td>148.971674</td>\n",
       "    </tr>\n",
       "    <tr>\n",
       "      <th>min</th>\n",
       "      <td>1.000000</td>\n",
       "      <td>0.000000</td>\n",
       "      <td>8.000000</td>\n",
       "    </tr>\n",
       "    <tr>\n",
       "      <th>25%</th>\n",
       "      <td>2.000000</td>\n",
       "      <td>1.000000</td>\n",
       "      <td>50.000000</td>\n",
       "    </tr>\n",
       "    <tr>\n",
       "      <th>50%</th>\n",
       "      <td>2.000000</td>\n",
       "      <td>2.000000</td>\n",
       "      <td>72.000000</td>\n",
       "    </tr>\n",
       "    <tr>\n",
       "      <th>75%</th>\n",
       "      <td>3.000000</td>\n",
       "      <td>2.000000</td>\n",
       "      <td>120.000000</td>\n",
       "    </tr>\n",
       "    <tr>\n",
       "      <th>max</th>\n",
       "      <td>40.000000</td>\n",
       "      <td>3.000000</td>\n",
       "      <td>3600.000000</td>\n",
       "    </tr>\n",
       "  </tbody>\n",
       "</table>\n",
       "</div>"
      ],
      "text/plain": [
       "               bath       balcony         price\n",
       "count  13247.000000  12711.000000  13320.000000\n",
       "mean       2.692610      1.584376    112.565627\n",
       "std        1.341458      0.817263    148.971674\n",
       "min        1.000000      0.000000      8.000000\n",
       "25%        2.000000      1.000000     50.000000\n",
       "50%        2.000000      2.000000     72.000000\n",
       "75%        3.000000      2.000000    120.000000\n",
       "max       40.000000      3.000000   3600.000000"
      ]
     },
     "execution_count": 28,
     "metadata": {},
     "output_type": "execute_result"
    }
   ],
   "source": [
    "data.describe()\n"
   ]
  },
  {
   "cell_type": "code",
   "execution_count": 29,
   "id": "b584f36a-224e-4800-87c7-864986c2b199",
   "metadata": {},
   "outputs": [
    {
     "name": "stdout",
     "output_type": "stream",
     "text": [
      "              area_type   availability       size  society total_sqft  bath  \\\n",
      "0  Super built-up  Area         19-Dec      2 BHK  Coomee        1056   2.0   \n",
      "1            Plot  Area  Ready To Move  4 Bedroom  Theanmp       2600   5.0   \n",
      "2        Built-up  Area  Ready To Move      3 BHK      NaN       1440   2.0   \n",
      "3  Super built-up  Area  Ready To Move      3 BHK  Soiewre       1521   3.0   \n",
      "4  Super built-up  Area  Ready To Move      2 BHK      NaN       1200   2.0   \n",
      "5  Super built-up  Area  Ready To Move      2 BHK  DuenaTa       1170   2.0   \n",
      "6  Super built-up  Area         18-May      4 BHK  Jaades        2732   4.0   \n",
      "7  Super built-up  Area  Ready To Move      4 BHK  Brway G       3300   4.0   \n",
      "8  Super built-up  Area  Ready To Move      3 BHK      NaN       1310   3.0   \n",
      "\n",
      "   balcony   price    site_location  \n",
      "0      1.0   39.07      Alandi Road  \n",
      "1      3.0  120.00  Ambegaon Budruk  \n",
      "2      3.0   62.00       Anandnagar  \n",
      "3      1.0   95.00            Aundh  \n",
      "4      1.0   51.00       Aundh Road  \n",
      "5      1.0   38.00     Balaji Nagar  \n",
      "6      NaN  204.00            Baner  \n",
      "7      NaN  600.00       Baner road  \n",
      "8      1.0   63.25  Bhandarkar Road  \n"
     ]
    }
   ],
   "source": [
    "print(data.head(9))"
   ]
  },
  {
   "cell_type": "code",
   "execution_count": 30,
   "id": "33381904-213e-4039-be74-c8bb7f1901a0",
   "metadata": {},
   "outputs": [
    {
     "name": "stdout",
     "output_type": "stream",
     "text": [
      "                  area_type   availability       size  society   total_sqft  \\\n",
      "13297  Super built-up  Area  Ready To Move      2 BHK  GMown E         1060   \n",
      "13298  Super built-up  Area  Ready To Move      2 BHK  AriosPa         1015   \n",
      "13299  Super built-up  Area         18-Dec      4 BHK  Prtates  2830 - 2882   \n",
      "13300            Plot  Area  Ready To Move  5 Bedroom      NaN         1500   \n",
      "13301  Super built-up  Area  Ready To Move      3 BHK      NaN         1454   \n",
      "13302  Super built-up  Area  Ready To Move      2 BHK      NaN         1075   \n",
      "13303            Plot  Area  Ready To Move  5 Bedroom      NaN          774   \n",
      "13304  Super built-up  Area  Ready To Move      2 BHK  GrrvaGr         1187   \n",
      "13305          Carpet  Area  Ready To Move      1 BHK      NaN          500   \n",
      "13306            Plot  Area  Ready To Move  4 Bedroom      NaN         1200   \n",
      "13307        Built-up  Area  Ready To Move      3 BHK      NaN         1805   \n",
      "13308        Built-up  Area  Ready To Move      3 BHK  Baanise         1527   \n",
      "13309  Super built-up  Area  Ready To Move      3 BHK  IBityin         1675   \n",
      "13310  Super built-up  Area  Ready To Move      2 BHK      NaN         1050   \n",
      "13311            Plot  Area  Ready To Move  7 Bedroom      NaN         1500   \n",
      "13312  Super built-up  Area  Ready To Move      2 BHK      NaN         1262   \n",
      "13313  Super built-up  Area  Ready To Move      3 BHK  Aklia R         1345   \n",
      "13314  Super built-up  Area  Ready To Move      3 BHK  SoosePr         1715   \n",
      "13315        Built-up  Area  Ready To Move  5 Bedroom  ArsiaEx         3453   \n",
      "13316  Super built-up  Area  Ready To Move      4 BHK      NaN         3600   \n",
      "13317        Built-up  Area  Ready To Move      2 BHK  Mahla T         1141   \n",
      "13318  Super built-up  Area         18-Jun      4 BHK  SollyCl         4689   \n",
      "13319  Super built-up  Area  Ready To Move      1 BHK      NaN          550   \n",
      "\n",
      "       bath  balcony   price         site_location  \n",
      "13297   2.0      1.0   52.00               Kothrud  \n",
      "13298   2.0      2.0   60.00      Law College Road  \n",
      "13299   5.0      0.0  154.50            Laxmi Road  \n",
      "13300   6.0      2.0  145.00           Lulla Nagar  \n",
      "13301   3.0      3.0   71.50   Mahatma Gandhi Road  \n",
      "13302   2.0      2.0   48.00        Mangalwar peth  \n",
      "13303   5.0      3.0   70.00            Manik Bagh  \n",
      "13304   2.0      2.0   40.14           Market yard  \n",
      "13305   1.0      3.0  220.00          Model colony  \n",
      "13306   5.0      NaN  325.00          Mukund Nagar  \n",
      "13307   3.0      3.0  134.00              Mundhawa  \n",
      "13308   3.0      1.0  142.00            Nagar Road  \n",
      "13309   3.0      NaN   92.13             Nana Peth  \n",
      "13310   2.0      2.0   52.71          Narayan Peth  \n",
      "13311   9.0      2.0  250.00           Narayangaon  \n",
      "13312   2.0      2.0   47.00             Navi Peth  \n",
      "13313   2.0      1.0   57.00             Padmavati  \n",
      "13314   3.0      3.0  112.00       Parvati Darshan  \n",
      "13315   4.0      0.0  231.00                Pashan  \n",
      "13316   5.0      NaN  400.00             Paud Road  \n",
      "13317   2.0      1.0   60.00              Pirangut  \n",
      "13318   4.0      1.0  488.00          Prabhat Road  \n",
      "13319   1.0      1.0   17.00  Pune Railway Station  \n"
     ]
    }
   ],
   "source": [
    "print(data.tail(23))"
   ]
  },
  {
   "cell_type": "code",
   "execution_count": 31,
   "id": "c9042e8d-1473-428e-ab20-36c314022dbd",
   "metadata": {},
   "outputs": [
    {
     "name": "stdout",
     "output_type": "stream",
     "text": [
      "<bound method DataFrame.isnull of                   area_type   availability       size  society total_sqft  \\\n",
      "0      Super built-up  Area         19-Dec      2 BHK  Coomee        1056   \n",
      "1                Plot  Area  Ready To Move  4 Bedroom  Theanmp       2600   \n",
      "2            Built-up  Area  Ready To Move      3 BHK      NaN       1440   \n",
      "3      Super built-up  Area  Ready To Move      3 BHK  Soiewre       1521   \n",
      "4      Super built-up  Area  Ready To Move      2 BHK      NaN       1200   \n",
      "...                     ...            ...        ...      ...        ...   \n",
      "13315        Built-up  Area  Ready To Move  5 Bedroom  ArsiaEx       3453   \n",
      "13316  Super built-up  Area  Ready To Move      4 BHK      NaN       3600   \n",
      "13317        Built-up  Area  Ready To Move      2 BHK  Mahla T       1141   \n",
      "13318  Super built-up  Area         18-Jun      4 BHK  SollyCl       4689   \n",
      "13319  Super built-up  Area  Ready To Move      1 BHK      NaN        550   \n",
      "\n",
      "       bath  balcony   price         site_location  \n",
      "0       2.0      1.0   39.07           Alandi Road  \n",
      "1       5.0      3.0  120.00       Ambegaon Budruk  \n",
      "2       2.0      3.0   62.00            Anandnagar  \n",
      "3       3.0      1.0   95.00                 Aundh  \n",
      "4       2.0      1.0   51.00            Aundh Road  \n",
      "...     ...      ...     ...                   ...  \n",
      "13315   4.0      0.0  231.00                Pashan  \n",
      "13316   5.0      NaN  400.00             Paud Road  \n",
      "13317   2.0      1.0   60.00              Pirangut  \n",
      "13318   4.0      1.0  488.00          Prabhat Road  \n",
      "13319   1.0      1.0   17.00  Pune Railway Station  \n",
      "\n",
      "[13320 rows x 9 columns]>\n"
     ]
    }
   ],
   "source": [
    "print(data.isnull)"
   ]
  },
  {
   "cell_type": "code",
   "execution_count": 37,
   "id": "893e225a-728e-41d8-a319-79173e6a4088",
   "metadata": {},
   "outputs": [
    {
     "name": "stdout",
     "output_type": "stream",
     "text": [
      "area_type           0\n",
      "availability        0\n",
      "size               16\n",
      "society          5502\n",
      "total_sqft          0\n",
      "bath               73\n",
      "balcony           609\n",
      "price               0\n",
      "site_location       1\n",
      "dtype: int64\n"
     ]
    }
   ],
   "source": [
    "print(data.isnull().sum())"
   ]
  },
  {
   "cell_type": "code",
   "execution_count": 38,
   "id": "fa4a4ee0-41d1-47fa-8550-a1380cac4b0e",
   "metadata": {},
   "outputs": [
    {
     "name": "stdout",
     "output_type": "stream",
     "text": [
      "0        False\n",
      "1        False\n",
      "2        False\n",
      "3        False\n",
      "4        False\n",
      "         ...  \n",
      "13315    False\n",
      "13316    False\n",
      "13317    False\n",
      "13318    False\n",
      "13319    False\n",
      "Length: 13320, dtype: bool\n"
     ]
    }
   ],
   "source": [
    "print(data.duplicated())"
   ]
  },
  {
   "cell_type": "code",
   "execution_count": 39,
   "id": "4fef004d-3751-4e67-a637-14f761f18253",
   "metadata": {},
   "outputs": [
    {
     "name": "stdout",
     "output_type": "stream",
     "text": [
      "11\n"
     ]
    }
   ],
   "source": [
    "print(data.duplicated().sum())"
   ]
  },
  {
   "cell_type": "code",
   "execution_count": 40,
   "id": "3811bafc-0c15-41bf-a03a-614cd1d3e762",
   "metadata": {},
   "outputs": [
    {
     "name": "stdout",
     "output_type": "stream",
     "text": [
      "               bath       balcony         price\n",
      "count  13247.000000  12711.000000  13320.000000\n",
      "mean       2.692610      1.584376    112.565627\n",
      "std        1.341458      0.817263    148.971674\n",
      "min        1.000000      0.000000      8.000000\n",
      "25%        2.000000      1.000000     50.000000\n",
      "50%        2.000000      2.000000     72.000000\n",
      "75%        3.000000      2.000000    120.000000\n",
      "max       40.000000      3.000000   3600.000000\n"
     ]
    }
   ],
   "source": [
    "print(data.describe())"
   ]
  },
  {
   "cell_type": "code",
   "execution_count": 41,
   "id": "acb924a8-df65-48e3-83fa-935f18b31eeb",
   "metadata": {},
   "outputs": [
    {
     "data": {
      "text/plain": [
       "<bound method DataFrame.info of                   area_type   availability       size  society total_sqft  \\\n",
       "0      Super built-up  Area         19-Dec      2 BHK  Coomee        1056   \n",
       "1                Plot  Area  Ready To Move  4 Bedroom  Theanmp       2600   \n",
       "2            Built-up  Area  Ready To Move      3 BHK      NaN       1440   \n",
       "3      Super built-up  Area  Ready To Move      3 BHK  Soiewre       1521   \n",
       "4      Super built-up  Area  Ready To Move      2 BHK      NaN       1200   \n",
       "...                     ...            ...        ...      ...        ...   \n",
       "13315        Built-up  Area  Ready To Move  5 Bedroom  ArsiaEx       3453   \n",
       "13316  Super built-up  Area  Ready To Move      4 BHK      NaN       3600   \n",
       "13317        Built-up  Area  Ready To Move      2 BHK  Mahla T       1141   \n",
       "13318  Super built-up  Area         18-Jun      4 BHK  SollyCl       4689   \n",
       "13319  Super built-up  Area  Ready To Move      1 BHK      NaN        550   \n",
       "\n",
       "       bath  balcony   price         site_location  \n",
       "0       2.0      1.0   39.07           Alandi Road  \n",
       "1       5.0      3.0  120.00       Ambegaon Budruk  \n",
       "2       2.0      3.0   62.00            Anandnagar  \n",
       "3       3.0      1.0   95.00                 Aundh  \n",
       "4       2.0      1.0   51.00            Aundh Road  \n",
       "...     ...      ...     ...                   ...  \n",
       "13315   4.0      0.0  231.00                Pashan  \n",
       "13316   5.0      NaN  400.00             Paud Road  \n",
       "13317   2.0      1.0   60.00              Pirangut  \n",
       "13318   4.0      1.0  488.00          Prabhat Road  \n",
       "13319   1.0      1.0   17.00  Pune Railway Station  \n",
       "\n",
       "[13320 rows x 9 columns]>"
      ]
     },
     "execution_count": 41,
     "metadata": {},
     "output_type": "execute_result"
    }
   ],
   "source": [
    "data.info"
   ]
  },
  {
   "cell_type": "code",
   "execution_count": 42,
   "id": "54841748-cd26-4256-8c28-e486a97f38f8",
   "metadata": {},
   "outputs": [
    {
     "name": "stdout",
     "output_type": "stream",
     "text": [
      "13222\n"
     ]
    }
   ],
   "source": [
    "print(data[\"site_location\"].duplicated().sum())"
   ]
  },
  {
   "cell_type": "code",
   "execution_count": 43,
   "id": "51544dc0-0bd4-4832-9c70-fc001802b877",
   "metadata": {},
   "outputs": [],
   "source": [
    "import numpy as np"
   ]
  },
  {
   "cell_type": "code",
   "execution_count": 44,
   "id": "81f377bd-b496-43a0-ab46-a9c0bcafc328",
   "metadata": {},
   "outputs": [],
   "source": [
    "bak_food=[200,234,94,244,564,345]\n",
    "a=np.array(bak_food)\n"
   ]
  },
  {
   "cell_type": "code",
   "execution_count": 46,
   "id": "2aa46f9e-1ee4-4815-b315-d6413b5e0333",
   "metadata": {},
   "outputs": [
    {
     "name": "stdout",
     "output_type": "stream",
     "text": [
      "280.1666666666667\n"
     ]
    }
   ],
   "source": [
    "print(np.mean(bak_food))\n",
    "      "
   ]
  },
  {
   "cell_type": "code",
   "execution_count": 48,
   "id": "9017af1b-85cd-4854-b4a9-ab3bc96183a3",
   "metadata": {},
   "outputs": [
    {
     "name": "stdout",
     "output_type": "stream",
     "text": [
      "[200 345 846 732 946]\n",
      "613.8\n",
      "732.0\n",
      "290.42341503398103\n",
      "84345.76\n"
     ]
    }
   ],
   "source": [
    "import numpy as np\n",
    "bak_food=[200,345,846,732,946]\n",
    "a=np.array(bak_food)\n",
    "print(a)\n",
    "print(np.mean(bak_food))\n",
    "print(np.median(bak_food))\n",
    "print(np.std(bak_food))\n",
    "print(np.var(bak_food))\n"
   ]
  },
  {
   "cell_type": "code",
   "execution_count": 49,
   "id": "b8a607e0-6563-4cdd-9048-f33b0a3fec1e",
   "metadata": {},
   "outputs": [],
   "source": [
    "data=pd.read_csv(\"D:/05_DATA CLEANING AND PREPROCESSING/Pune house data.csv\")"
   ]
  },
  {
   "cell_type": "code",
   "execution_count": 50,
   "id": "7c363cb1-6aa9-4e10-97b5-45fc6cd9540a",
   "metadata": {},
   "outputs": [
    {
     "name": "stdout",
     "output_type": "stream",
     "text": [
      "                  area_type   availability       size  society total_sqft  \\\n",
      "0      Super built-up  Area         19-Dec      2 BHK  Coomee        1056   \n",
      "1                Plot  Area  Ready To Move  4 Bedroom  Theanmp       2600   \n",
      "2            Built-up  Area  Ready To Move      3 BHK      NaN       1440   \n",
      "3      Super built-up  Area  Ready To Move      3 BHK  Soiewre       1521   \n",
      "4      Super built-up  Area  Ready To Move      2 BHK      NaN       1200   \n",
      "...                     ...            ...        ...      ...        ...   \n",
      "13315        Built-up  Area  Ready To Move  5 Bedroom  ArsiaEx       3453   \n",
      "13316  Super built-up  Area  Ready To Move      4 BHK      NaN       3600   \n",
      "13317        Built-up  Area  Ready To Move      2 BHK  Mahla T       1141   \n",
      "13318  Super built-up  Area         18-Jun      4 BHK  SollyCl       4689   \n",
      "13319  Super built-up  Area  Ready To Move      1 BHK      NaN        550   \n",
      "\n",
      "       bath  balcony   price         site_location  \n",
      "0       2.0      1.0   39.07           Alandi Road  \n",
      "1       5.0      3.0  120.00       Ambegaon Budruk  \n",
      "2       2.0      3.0   62.00            Anandnagar  \n",
      "3       3.0      1.0   95.00                 Aundh  \n",
      "4       2.0      1.0   51.00            Aundh Road  \n",
      "...     ...      ...     ...                   ...  \n",
      "13315   4.0      0.0  231.00                Pashan  \n",
      "13316   5.0      NaN  400.00             Paud Road  \n",
      "13317   2.0      1.0   60.00              Pirangut  \n",
      "13318   4.0      1.0  488.00          Prabhat Road  \n",
      "13319   1.0      1.0   17.00  Pune Railway Station  \n",
      "\n",
      "[13320 rows x 9 columns]\n"
     ]
    }
   ],
   "source": [
    "print(data)"
   ]
  },
  {
   "cell_type": "raw",
   "id": "cdf58f48-2fa1-4cec-a8f5-7a898fd19a8d",
   "metadata": {},
   "source": [
    "print(data.describe())"
   ]
  },
  {
   "cell_type": "code",
   "execution_count": 52,
   "id": "424a4705-2e1f-4afa-9db7-d3b9af2f78a8",
   "metadata": {},
   "outputs": [
    {
     "name": "stdout",
     "output_type": "stream",
     "text": [
      "area_type           0\n",
      "availability        0\n",
      "size               16\n",
      "society          5502\n",
      "total_sqft          0\n",
      "bath               73\n",
      "balcony           609\n",
      "price               0\n",
      "site_location       1\n",
      "dtype: int64\n"
     ]
    }
   ],
   "source": [
    "print(data.isnull().sum())"
   ]
  },
  {
   "cell_type": "code",
   "execution_count": 53,
   "id": "d139a448-b56e-49ed-ba79-37ec6acea53d",
   "metadata": {},
   "outputs": [
    {
     "name": "stdout",
     "output_type": "stream",
     "text": [
      "0        False\n",
      "1        False\n",
      "2        False\n",
      "3        False\n",
      "4        False\n",
      "         ...  \n",
      "13315    False\n",
      "13316    False\n",
      "13317    False\n",
      "13318    False\n",
      "13319    False\n",
      "Length: 13320, dtype: bool\n"
     ]
    }
   ],
   "source": [
    "print(data.duplicated())"
   ]
  },
  {
   "cell_type": "code",
   "execution_count": 54,
   "id": "9f39c4bb-61f5-42ee-a42c-b044e0c04f93",
   "metadata": {},
   "outputs": [
    {
     "name": "stdout",
     "output_type": "stream",
     "text": [
      "                  area_type   availability       size  society total_sqft  \\\n",
      "13310  Super built-up  Area  Ready To Move      2 BHK      NaN       1050   \n",
      "13311            Plot  Area  Ready To Move  7 Bedroom      NaN       1500   \n",
      "13312  Super built-up  Area  Ready To Move      2 BHK      NaN       1262   \n",
      "13313  Super built-up  Area  Ready To Move      3 BHK  Aklia R       1345   \n",
      "13314  Super built-up  Area  Ready To Move      3 BHK  SoosePr       1715   \n",
      "13315        Built-up  Area  Ready To Move  5 Bedroom  ArsiaEx       3453   \n",
      "13316  Super built-up  Area  Ready To Move      4 BHK      NaN       3600   \n",
      "13317        Built-up  Area  Ready To Move      2 BHK  Mahla T       1141   \n",
      "13318  Super built-up  Area         18-Jun      4 BHK  SollyCl       4689   \n",
      "13319  Super built-up  Area  Ready To Move      1 BHK      NaN        550   \n",
      "\n",
      "       bath  balcony   price         site_location  \n",
      "13310   2.0      2.0   52.71          Narayan Peth  \n",
      "13311   9.0      2.0  250.00           Narayangaon  \n",
      "13312   2.0      2.0   47.00             Navi Peth  \n",
      "13313   2.0      1.0   57.00             Padmavati  \n",
      "13314   3.0      3.0  112.00       Parvati Darshan  \n",
      "13315   4.0      0.0  231.00                Pashan  \n",
      "13316   5.0      NaN  400.00             Paud Road  \n",
      "13317   2.0      1.0   60.00              Pirangut  \n",
      "13318   4.0      1.0  488.00          Prabhat Road  \n",
      "13319   1.0      1.0   17.00  Pune Railway Station  \n"
     ]
    }
   ],
   "source": [
    "print(data.tail(10))"
   ]
  },
  {
   "cell_type": "code",
   "execution_count": 55,
   "id": "76ae9713-801a-46fe-8ea6-6eaaaabb3873",
   "metadata": {},
   "outputs": [
    {
     "name": "stdout",
     "output_type": "stream",
     "text": [
      "               bath       balcony         price\n",
      "count  13247.000000  12711.000000  13320.000000\n",
      "mean       2.692610      1.584376    112.565627\n",
      "std        1.341458      0.817263    148.971674\n",
      "min        1.000000      0.000000      8.000000\n",
      "25%        2.000000      1.000000     50.000000\n",
      "50%        2.000000      2.000000     72.000000\n",
      "75%        3.000000      2.000000    120.000000\n",
      "max       40.000000      3.000000   3600.000000\n"
     ]
    }
   ],
   "source": [
    "print(data.describe())"
   ]
  },
  {
   "cell_type": "code",
   "execution_count": 56,
   "id": "9e999c3e-cd0d-4b20-9caf-41dc945421af",
   "metadata": {},
   "outputs": [
    {
     "name": "stdout",
     "output_type": "stream",
     "text": [
      "0        False\n",
      "1        False\n",
      "2        False\n",
      "3        False\n",
      "4        False\n",
      "         ...  \n",
      "13315    False\n",
      "13316    False\n",
      "13317    False\n",
      "13318    False\n",
      "13319    False\n",
      "Length: 13320, dtype: bool\n"
     ]
    }
   ],
   "source": [
    "print(data.duplicated())"
   ]
  },
  {
   "cell_type": "code",
   "execution_count": 59,
   "id": "3733a295-da98-4c14-933c-e260bb64597d",
   "metadata": {},
   "outputs": [
    {
     "name": "stdout",
     "output_type": "stream",
     "text": [
      "                  area_type   availability       size  society total_sqft  \\\n",
      "0      Super built-up  Area         19-Dec      2 BHK  Coomee        1056   \n",
      "1                Plot  Area  Ready To Move  4 Bedroom  Theanmp       2600   \n",
      "2            Built-up  Area  Ready To Move      3 BHK      NaN       1440   \n",
      "3      Super built-up  Area  Ready To Move      3 BHK  Soiewre       1521   \n",
      "4      Super built-up  Area  Ready To Move      2 BHK      NaN       1200   \n",
      "...                     ...            ...        ...      ...        ...   \n",
      "13315        Built-up  Area  Ready To Move  5 Bedroom  ArsiaEx       3453   \n",
      "13316  Super built-up  Area  Ready To Move      4 BHK      NaN       3600   \n",
      "13317        Built-up  Area  Ready To Move      2 BHK  Mahla T       1141   \n",
      "13318  Super built-up  Area         18-Jun      4 BHK  SollyCl       4689   \n",
      "13319  Super built-up  Area  Ready To Move      1 BHK      NaN        550   \n",
      "\n",
      "       bath  balcony   price         site_location  \n",
      "0       2.0      1.0   39.07           Alandi Road  \n",
      "1       5.0      3.0  120.00       Ambegaon Budruk  \n",
      "2       2.0      3.0   62.00            Anandnagar  \n",
      "3       3.0      1.0   95.00                 Aundh  \n",
      "4       2.0      1.0   51.00            Aundh Road  \n",
      "...     ...      ...     ...                   ...  \n",
      "13315   4.0      0.0  231.00                Pashan  \n",
      "13316   5.0      NaN  400.00             Paud Road  \n",
      "13317   2.0      1.0   60.00              Pirangut  \n",
      "13318   4.0      1.0  488.00          Prabhat Road  \n",
      "13319   1.0      1.0   17.00  Pune Railway Station  \n",
      "\n",
      "[13320 rows x 9 columns]\n"
     ]
    }
   ],
   "source": [
    "print(data)"
   ]
  },
  {
   "cell_type": "code",
   "execution_count": 60,
   "id": "8b3890b5-c1cc-4ab9-b846-d8ad0ccadd76",
   "metadata": {},
   "outputs": [
    {
     "name": "stdout",
     "output_type": "stream",
     "text": [
      "                  area_type   availability       size  society total_sqft  \\\n",
      "0      Super built-up  Area         19-Dec      2 BHK  Coomee        1056   \n",
      "1                Plot  Area  Ready To Move  4 Bedroom  Theanmp       2600   \n",
      "2            Built-up  Area  Ready To Move      3 BHK      NaN       1440   \n",
      "3      Super built-up  Area  Ready To Move      3 BHK  Soiewre       1521   \n",
      "4      Super built-up  Area  Ready To Move      2 BHK      NaN       1200   \n",
      "...                     ...            ...        ...      ...        ...   \n",
      "13315        Built-up  Area  Ready To Move  5 Bedroom  ArsiaEx       3453   \n",
      "13316  Super built-up  Area  Ready To Move      4 BHK      NaN       3600   \n",
      "13317        Built-up  Area  Ready To Move      2 BHK  Mahla T       1141   \n",
      "13318  Super built-up  Area         18-Jun      4 BHK  SollyCl       4689   \n",
      "13319  Super built-up  Area  Ready To Move      1 BHK      NaN        550   \n",
      "\n",
      "       bath  balcony   price         site_location  \n",
      "0       2.0      1.0   39.07           Alandi Road  \n",
      "1       5.0      3.0  120.00       Ambegaon Budruk  \n",
      "2       2.0      3.0   62.00            Anandnagar  \n",
      "3       3.0      1.0   95.00                 Aundh  \n",
      "4       2.0      1.0   51.00            Aundh Road  \n",
      "...     ...      ...     ...                   ...  \n",
      "13315   4.0      0.0  231.00                Pashan  \n",
      "13316   5.0      NaN  400.00             Paud Road  \n",
      "13317   2.0      1.0   60.00              Pirangut  \n",
      "13318   4.0      1.0  488.00          Prabhat Road  \n",
      "13319   1.0      1.0   17.00  Pune Railway Station  \n",
      "\n",
      "[13320 rows x 9 columns]\n"
     ]
    }
   ],
   "source": [
    "print(data)"
   ]
  },
  {
   "cell_type": "code",
   "execution_count": 64,
   "id": "f9a63d3f-6084-47f6-87ae-8f054fe336b1",
   "metadata": {},
   "outputs": [
    {
     "name": "stdout",
     "output_type": "stream",
     "text": [
      "13316\n"
     ]
    }
   ],
   "source": [
    "print(data[\"area_type\"].duplicated().sum())"
   ]
  },
  {
   "cell_type": "code",
   "execution_count": 66,
   "id": "a01325e6-21d0-42f5-a99e-1fa652e4ebb3",
   "metadata": {},
   "outputs": [
    {
     "name": "stdout",
     "output_type": "stream",
     "text": [
      "13222\n"
     ]
    }
   ],
   "source": [
    "print(data[\"site_location\"].duplicated().sum())"
   ]
  },
  {
   "cell_type": "code",
   "execution_count": 19,
   "id": "23a6d608-a8a6-46dd-9c32-b932e45bf538",
   "metadata": {},
   "outputs": [
    {
     "name": "stdout",
     "output_type": "stream",
     "text": [
      "   ID  Experience_Years  Age  Gender   Salary\n",
      "0   1                 5   28  Female   250000\n",
      "1   2                 1   21    Male    50000\n",
      "2   3                 3   23  Female   170000\n",
      "3   4                 2   22    Male    25000\n",
      "4   5                 1   17    Male    10000\n",
      "5   6                25   62    Male  5001000\n",
      "6   7                19   54  Female   800000\n",
      "7   8                 2   21  Female     9000\n",
      "8   9                10   36  Female    61500\n",
      "9  10                15   54  Female   650000\n"
     ]
    }
   ],
   "source": [
    "import pandas as pd \n",
    "import numpy as np\n",
    "data=pd.read_csv(\"D:/05_DATA CLEANING AND PREPROCESSING/Employee_Salary_Dataset.csv\")\n",
    "print(data.head(10))"
   ]
  },
  {
   "cell_type": "code",
   "execution_count": 16,
   "id": "0e0daf26-9249-49fd-8cc2-76ee8c3ef721",
   "metadata": {},
   "outputs": [
    {
     "name": "stdout",
     "output_type": "stream",
     "text": [
      "17\n"
     ]
    }
   ],
   "source": [
    "print(data[\"Age\"].duplicated().sum())"
   ]
  },
  {
   "cell_type": "code",
   "execution_count": 17,
   "id": "2c23a6c2-8060-40e6-a449-ff09960cfa36",
   "metadata": {},
   "outputs": [
    {
     "name": "stdout",
     "output_type": "stream",
     "text": [
      "    ID  Experience_Years  Age  Gender   Salary\n",
      "0    1                 5   28  Female   250000\n",
      "1    2                 1   21    Male    50000\n",
      "2    3                 3   23  Female   170000\n",
      "3    4                 2   22    Male    25000\n",
      "4    5                 1   17    Male    10000\n",
      "5    6                25   62    Male  5001000\n",
      "6    7                19   54  Female   800000\n",
      "8    9                10   36  Female    61500\n",
      "10  11                 4   26  Female   250000\n",
      "11  12                 6   29    Male  1400000\n",
      "12  13                14   39    Male  6000050\n",
      "13  14                11   40    Male   220100\n",
      "15  16                 4   27  Female    87000\n",
      "16  17                10   34  Female   930000\n",
      "26  27                 1   18    Male     3000\n",
      "32  33                20   55  Female  1540000\n",
      "33  34                19   53  Female  9300000\n",
      "34  35                16   49    Male  7600000\n"
     ]
    }
   ],
   "source": [
    "print(data.drop_duplicates(\"Age\"))"
   ]
  },
  {
   "cell_type": "code",
   "execution_count": 18,
   "id": "1fc7283a-5d41-45dc-a30f-c78afc9838a3",
   "metadata": {},
   "outputs": [
    {
     "name": "stdout",
     "output_type": "stream",
     "text": [
      "17\n"
     ]
    }
   ],
   "source": [
    "print(data[\"Age\"].duplicated().sum())"
   ]
  },
  {
   "cell_type": "code",
   "execution_count": 41,
   "id": "8d33ed95-acc7-469a-9b0c-64bde4d3f816",
   "metadata": {},
   "outputs": [
    {
     "name": "stdout",
     "output_type": "stream",
     "text": [
      "              area_type   availability       size  society total_sqft  bath  \\\n",
      "0  Super built-up  Area         19-Dec      2 BHK  Coomee        1056   2.0   \n",
      "1            Plot  Area  Ready To Move  4 Bedroom  Theanmp       2600   5.0   \n",
      "2        Built-up  Area  Ready To Move      3 BHK      NaN       1440   2.0   \n",
      "3  Super built-up  Area  Ready To Move      3 BHK  Soiewre       1521   3.0   \n",
      "4  Super built-up  Area  Ready To Move      2 BHK      NaN       1200   2.0   \n",
      "5  Super built-up  Area  Ready To Move      2 BHK  DuenaTa       1170   2.0   \n",
      "6  Super built-up  Area         18-May      4 BHK  Jaades        2732   4.0   \n",
      "7  Super built-up  Area  Ready To Move      4 BHK  Brway G       3300   4.0   \n",
      "8  Super built-up  Area  Ready To Move      3 BHK      NaN       1310   3.0   \n",
      "9            Plot  Area  Ready To Move  6 Bedroom      NaN       1020   6.0   \n",
      "\n",
      "   balcony   price    site_location  \n",
      "0      1.0   39.07      Alandi Road  \n",
      "1      3.0  120.00  Ambegaon Budruk  \n",
      "2      3.0   62.00       Anandnagar  \n",
      "3      1.0   95.00            Aundh  \n",
      "4      1.0   51.00       Aundh Road  \n",
      "5      1.0   38.00     Balaji Nagar  \n",
      "6      NaN  204.00            Baner  \n",
      "7      NaN  600.00       Baner road  \n",
      "8      1.0   63.25  Bhandarkar Road  \n",
      "9      NaN  370.00     Bhavani Peth  \n"
     ]
    }
   ],
   "source": [
    "import pandas as pd \n",
    "import numpy as np\n",
    "data=pd.read_csv(\"D:/05_DATA CLEANING AND PREPROCESSING/Pune house data.csv\")\n",
    "print(data.head(10))"
   ]
  },
  {
   "cell_type": "code",
   "execution_count": 24,
   "id": "52face66-0ca0-4cd9-9f73-6a18ee38c0ed",
   "metadata": {},
   "outputs": [
    {
     "name": "stdout",
     "output_type": "stream",
     "text": [
      "area_type           0\n",
      "availability        0\n",
      "size               16\n",
      "society          5502\n",
      "total_sqft          0\n",
      "bath               73\n",
      "balcony           609\n",
      "price               0\n",
      "site_location       1\n",
      "dtype: int64\n"
     ]
    }
   ],
   "source": [
    "print(data.isnull().sum())"
   ]
  },
  {
   "cell_type": "code",
   "execution_count": 26,
   "id": "67d197d2-21dd-4ab8-b4c6-16864e865acf",
   "metadata": {},
   "outputs": [
    {
     "name": "stdout",
     "output_type": "stream",
     "text": [
      "                  area_type   availability       size  society total_sqft  \\\n",
      "0      Super built-up  Area         19-Dec      2 BHK  Coomee        1056   \n",
      "1                Plot  Area  Ready To Move  4 Bedroom  Theanmp       2600   \n",
      "2            Built-up  Area  Ready To Move      3 BHK      NaN       1440   \n",
      "3      Super built-up  Area  Ready To Move      3 BHK  Soiewre       1521   \n",
      "4      Super built-up  Area  Ready To Move      2 BHK      NaN       1200   \n",
      "...                     ...            ...        ...      ...        ...   \n",
      "13315        Built-up  Area  Ready To Move  5 Bedroom  ArsiaEx       3453   \n",
      "13316  Super built-up  Area  Ready To Move      4 BHK      NaN       3600   \n",
      "13317        Built-up  Area  Ready To Move      2 BHK  Mahla T       1141   \n",
      "13318  Super built-up  Area         18-Jun      4 BHK  SollyCl       4689   \n",
      "13319  Super built-up  Area  Ready To Move      1 BHK      NaN        550   \n",
      "\n",
      "       bath  balcony   price         site_location  \n",
      "0       2.0      1.0   39.07           Alandi Road  \n",
      "1       5.0      3.0  120.00       Ambegaon Budruk  \n",
      "2       2.0      3.0   62.00            Anandnagar  \n",
      "3       3.0      1.0   95.00                 Aundh  \n",
      "4       2.0      1.0   51.00            Aundh Road  \n",
      "...     ...      ...     ...                   ...  \n",
      "13315   4.0      0.0  231.00                Pashan  \n",
      "13316   5.0      NaN  400.00             Paud Road  \n",
      "13317   2.0      1.0   60.00              Pirangut  \n",
      "13318   4.0      1.0  488.00          Prabhat Road  \n",
      "13319   1.0      1.0   17.00  Pune Railway Station  \n",
      "\n",
      "[13320 rows x 9 columns]\n"
     ]
    }
   ],
   "source": [
    "print(data)"
   ]
  },
  {
   "cell_type": "code",
   "execution_count": 27,
   "id": "5a4993e6-dd50-46a6-9d50-afe08ef9c07a",
   "metadata": {},
   "outputs": [
    {
     "name": "stdout",
     "output_type": "stream",
     "text": [
      "                  area_type   availability       size  society total_sqft  \\\n",
      "0      Super built-up  Area         19-Dec      2 BHK  Coomee        1056   \n",
      "1                Plot  Area  Ready To Move  4 Bedroom  Theanmp       2600   \n",
      "3      Super built-up  Area  Ready To Move      3 BHK  Soiewre       1521   \n",
      "5      Super built-up  Area  Ready To Move      2 BHK  DuenaTa       1170   \n",
      "11               Plot  Area  Ready To Move  4 Bedroom  Prrry M       2785   \n",
      "...                     ...            ...        ...      ...        ...   \n",
      "13313  Super built-up  Area  Ready To Move      3 BHK  Aklia R       1345   \n",
      "13314  Super built-up  Area  Ready To Move      3 BHK  SoosePr       1715   \n",
      "13315        Built-up  Area  Ready To Move  5 Bedroom  ArsiaEx       3453   \n",
      "13317        Built-up  Area  Ready To Move      2 BHK  Mahla T       1141   \n",
      "13318  Super built-up  Area         18-Jun      4 BHK  SollyCl       4689   \n",
      "\n",
      "       bath  balcony   price    site_location  \n",
      "0       2.0      1.0   39.07      Alandi Road  \n",
      "1       5.0      3.0  120.00  Ambegaon Budruk  \n",
      "3       3.0      1.0   95.00            Aundh  \n",
      "5       2.0      1.0   38.00     Balaji Nagar  \n",
      "11      5.0      3.0  295.00           Bopodi  \n",
      "...     ...      ...     ...              ...  \n",
      "13313   2.0      1.0   57.00        Padmavati  \n",
      "13314   3.0      3.0  112.00  Parvati Darshan  \n",
      "13315   4.0      0.0  231.00           Pashan  \n",
      "13317   2.0      1.0   60.00         Pirangut  \n",
      "13318   4.0      1.0  488.00     Prabhat Road  \n",
      "\n",
      "[7496 rows x 9 columns]\n"
     ]
    }
   ],
   "source": [
    "print(data.dropna())"
   ]
  },
  {
   "cell_type": "code",
   "execution_count": 28,
   "id": "2627addb-8eb2-4210-89f2-e7cfdd6a1c51",
   "metadata": {},
   "outputs": [
    {
     "name": "stdout",
     "output_type": "stream",
     "text": [
      "       area_type  availability   size  society  total_sqft   bath  balcony  \\\n",
      "0          False         False  False    False       False  False    False   \n",
      "1          False         False  False    False       False  False    False   \n",
      "2          False         False  False     True       False  False    False   \n",
      "3          False         False  False    False       False  False    False   \n",
      "4          False         False  False     True       False  False    False   \n",
      "...          ...           ...    ...      ...         ...    ...      ...   \n",
      "13315      False         False  False    False       False  False    False   \n",
      "13316      False         False  False     True       False  False     True   \n",
      "13317      False         False  False    False       False  False    False   \n",
      "13318      False         False  False    False       False  False    False   \n",
      "13319      False         False  False     True       False  False    False   \n",
      "\n",
      "       price  site_location  \n",
      "0      False          False  \n",
      "1      False          False  \n",
      "2      False          False  \n",
      "3      False          False  \n",
      "4      False          False  \n",
      "...      ...            ...  \n",
      "13315  False          False  \n",
      "13316  False          False  \n",
      "13317  False          False  \n",
      "13318  False          False  \n",
      "13319  False          False  \n",
      "\n",
      "[13320 rows x 9 columns]\n"
     ]
    }
   ],
   "source": [
    "print(data.isnull())"
   ]
  },
  {
   "cell_type": "code",
   "execution_count": 35,
   "id": "1b9d09dd-4b80-4082-bd93-ca67b9920b58",
   "metadata": {},
   "outputs": [
    {
     "name": "stdout",
     "output_type": "stream",
     "text": [
      "               area_type   availability       size  society total_sqft  bath  \\\n",
      "0   Super built-up  Area         19-Dec      2 BHK  Coomee        1056   2.0   \n",
      "1             Plot  Area  Ready To Move  4 Bedroom  Theanmp       2600   5.0   \n",
      "2         Built-up  Area  Ready To Move      3 BHK      NaN       1440   2.0   \n",
      "3   Super built-up  Area  Ready To Move      3 BHK  Soiewre       1521   3.0   \n",
      "4   Super built-up  Area  Ready To Move      2 BHK      NaN       1200   2.0   \n",
      "5   Super built-up  Area  Ready To Move      2 BHK  DuenaTa       1170   2.0   \n",
      "6   Super built-up  Area         18-May      4 BHK  Jaades        2732   4.0   \n",
      "7   Super built-up  Area  Ready To Move      4 BHK  Brway G       3300   4.0   \n",
      "8   Super built-up  Area  Ready To Move      3 BHK      NaN       1310   3.0   \n",
      "9             Plot  Area  Ready To Move  6 Bedroom      NaN       1020   6.0   \n",
      "10  Super built-up  Area         18-Feb      3 BHK      NaN       1800   2.0   \n",
      "\n",
      "    balcony   price    site_location  \n",
      "0       1.0   39.07      Alandi Road  \n",
      "1       3.0  120.00  Ambegaon Budruk  \n",
      "2       3.0   62.00       Anandnagar  \n",
      "3       1.0   95.00            Aundh  \n",
      "4       1.0   51.00       Aundh Road  \n",
      "5       1.0   38.00     Balaji Nagar  \n",
      "6       NaN  204.00            Baner  \n",
      "7       NaN  600.00       Baner road  \n",
      "8       1.0   63.25  Bhandarkar Road  \n",
      "9       NaN  370.00     Bhavani Peth  \n",
      "10      2.0   70.00        Bibvewadi  \n"
     ]
    }
   ],
   "source": [
    "print(data.head(11))"
   ]
  },
  {
   "cell_type": "code",
   "execution_count": 36,
   "id": "af77621f-b046-45c7-89b4-e1591801f173",
   "metadata": {},
   "outputs": [],
   "source": [
    "import numpy as np"
   ]
  },
  {
   "cell_type": "code",
   "execution_count": 38,
   "id": "60030da2-3784-4864-80c0-bfbf8f2b8039",
   "metadata": {},
   "outputs": [
    {
     "name": "stdout",
     "output_type": "stream",
     "text": [
      "                  area_type   availability       size         society  \\\n",
      "0      Super built-up  Area         19-Dec      2 BHK         Coomee    \n",
      "1                Plot  Area  Ready To Move  4 Bedroom         Theanmp   \n",
      "2            Built-up  Area  Ready To Move      3 BHK  **************   \n",
      "3      Super built-up  Area  Ready To Move      3 BHK         Soiewre   \n",
      "4      Super built-up  Area  Ready To Move      2 BHK  **************   \n",
      "...                     ...            ...        ...             ...   \n",
      "13315        Built-up  Area  Ready To Move  5 Bedroom         ArsiaEx   \n",
      "13316  Super built-up  Area  Ready To Move      4 BHK  **************   \n",
      "13317        Built-up  Area  Ready To Move      2 BHK         Mahla T   \n",
      "13318  Super built-up  Area         18-Jun      4 BHK         SollyCl   \n",
      "13319  Super built-up  Area  Ready To Move      1 BHK  **************   \n",
      "\n",
      "      total_sqft bath         balcony   price         site_location  \n",
      "0           1056  2.0             1.0   39.07           Alandi Road  \n",
      "1           2600  5.0             3.0  120.00       Ambegaon Budruk  \n",
      "2           1440  2.0             3.0   62.00            Anandnagar  \n",
      "3           1521  3.0             1.0   95.00                 Aundh  \n",
      "4           1200  2.0             1.0   51.00            Aundh Road  \n",
      "...          ...  ...             ...     ...                   ...  \n",
      "13315       3453  4.0             0.0  231.00                Pashan  \n",
      "13316       3600  5.0  **************  400.00             Paud Road  \n",
      "13317       1141  2.0             1.0   60.00              Pirangut  \n",
      "13318       4689  4.0             1.0  488.00          Prabhat Road  \n",
      "13319        550  1.0             1.0   17.00  Pune Railway Station  \n",
      "\n",
      "[13320 rows x 9 columns]\n"
     ]
    }
   ],
   "source": [
    "print(data.replace(np.nan,\"**************\"))"
   ]
  },
  {
   "cell_type": "code",
   "execution_count": 40,
   "id": "788a93dd-61e9-49e1-b10d-e8ed28098fe1",
   "metadata": {},
   "outputs": [
    {
     "name": "stdout",
     "output_type": "stream",
     "text": [
      "                  area_type   availability       size            society  \\\n",
      "0      Super built-up  Area         19-Dec      2 BHK            Coomee    \n",
      "1                Plot  Area  Ready To Move  4 Bedroom            Theanmp   \n",
      "2            Built-up  Area  Ready To Move      3 BHK  bhushansanjayzade   \n",
      "3      Super built-up  Area  Ready To Move      3 BHK            Soiewre   \n",
      "4      Super built-up  Area  Ready To Move      2 BHK  bhushansanjayzade   \n",
      "...                     ...            ...        ...                ...   \n",
      "13315        Built-up  Area  Ready To Move  5 Bedroom            ArsiaEx   \n",
      "13316  Super built-up  Area  Ready To Move      4 BHK  bhushansanjayzade   \n",
      "13317        Built-up  Area  Ready To Move      2 BHK            Mahla T   \n",
      "13318  Super built-up  Area         18-Jun      4 BHK            SollyCl   \n",
      "13319  Super built-up  Area  Ready To Move      1 BHK  bhushansanjayzade   \n",
      "\n",
      "      total_sqft  bath  balcony   price         site_location  \n",
      "0           1056   2.0      1.0   39.07           Alandi Road  \n",
      "1           2600   5.0      3.0  120.00       Ambegaon Budruk  \n",
      "2           1440   2.0      3.0   62.00            Anandnagar  \n",
      "3           1521   3.0      1.0   95.00                 Aundh  \n",
      "4           1200   2.0      1.0   51.00            Aundh Road  \n",
      "...          ...   ...      ...     ...                   ...  \n",
      "13315       3453   4.0      0.0  231.00                Pashan  \n",
      "13316       3600   5.0      NaN  400.00             Paud Road  \n",
      "13317       1141   2.0      1.0   60.00              Pirangut  \n",
      "13318       4689   4.0      1.0  488.00          Prabhat Road  \n",
      "13319        550   1.0      1.0   17.00  Pune Railway Station  \n",
      "\n",
      "[13320 rows x 9 columns]\n"
     ]
    }
   ],
   "source": [
    "data[\"society\"]=data[\"society\"].replace(np.nan,\"bhushansanjayzade\")\n",
    "print(data)"
   ]
  },
  {
   "cell_type": "code",
   "execution_count": 42,
   "id": "aafa54eb-27ee-43ac-a9d1-53a5314a9900",
   "metadata": {},
   "outputs": [
    {
     "name": "stdout",
     "output_type": "stream",
     "text": [
      "              area_type   availability       size  society total_sqft  bath  \\\n",
      "0  Super built-up  Area         19-Dec      2 BHK  Coomee        1056   2.0   \n",
      "1            Plot  Area  Ready To Move  4 Bedroom  Theanmp       2600   5.0   \n",
      "2        Built-up  Area  Ready To Move      3 BHK      NaN       1440   2.0   \n",
      "3  Super built-up  Area  Ready To Move      3 BHK  Soiewre       1521   3.0   \n",
      "4  Super built-up  Area  Ready To Move      2 BHK      NaN       1200   2.0   \n",
      "5  Super built-up  Area  Ready To Move      2 BHK  DuenaTa       1170   2.0   \n",
      "6  Super built-up  Area         18-May      4 BHK  Jaades        2732   4.0   \n",
      "7  Super built-up  Area  Ready To Move      4 BHK  Brway G       3300   4.0   \n",
      "8  Super built-up  Area  Ready To Move      3 BHK      NaN       1310   3.0   \n",
      "9            Plot  Area  Ready To Move  6 Bedroom      NaN       1020   6.0   \n",
      "\n",
      "   balcony   price    site_location  \n",
      "0      1.0   39.07      Alandi Road  \n",
      "1      3.0  120.00  Ambegaon Budruk  \n",
      "2      3.0   62.00       Anandnagar  \n",
      "3      1.0   95.00            Aundh  \n",
      "4      1.0   51.00       Aundh Road  \n",
      "5      1.0   38.00     Balaji Nagar  \n",
      "6      NaN  204.00            Baner  \n",
      "7      NaN  600.00       Baner road  \n",
      "8      1.0   63.25  Bhandarkar Road  \n",
      "9      NaN  370.00     Bhavani Peth  \n"
     ]
    }
   ],
   "source": [
    "import pandas as pd \n",
    "import numpy as np\n",
    "data=pd.read_csv(\"D:/05_DATA CLEANING AND PREPROCESSING/Pune house data.csv\")\n",
    "print(data.head(10))"
   ]
  },
  {
   "cell_type": "code",
   "execution_count": 44,
   "id": "cbf698fd-607f-4f8b-96e6-e3a604a845b0",
   "metadata": {},
   "outputs": [
    {
     "name": "stdout",
     "output_type": "stream",
     "text": [
      "   Education  JoiningYear       City  PaymentTier  Age  Gender EverBenched  \\\n",
      "0  Bachelors         2017  Bangalore            3   34    Male          No   \n",
      "1  Bachelors         2013       Pune            1   28  Female          No   \n",
      "2  Bachelors         2014  New Delhi            3   38  Female          No   \n",
      "3    Masters         2016  Bangalore            3   27    Male          No   \n",
      "4    Masters         2017       Pune            3   24    Male         Yes   \n",
      "5  Bachelors         2016  Bangalore            3   22    Male          No   \n",
      "6  Bachelors         2015  New Delhi            3   38    Male          No   \n",
      "7  Bachelors         2016  Bangalore            3   34  Female          No   \n",
      "8  Bachelors         2016       Pune            3   23    Male          No   \n",
      "9    Masters         2017  New Delhi            2   37    Male          No   \n",
      "\n",
      "   ExperienceInCurrentDomain  LeaveOrNot  \n",
      "0                          0           0  \n",
      "1                          3           1  \n",
      "2                          2           0  \n",
      "3                          5           1  \n",
      "4                          2           1  \n",
      "5                          0           0  \n",
      "6                          0           0  \n",
      "7                          2           1  \n",
      "8                          1           0  \n",
      "9                          2           0  \n"
     ]
    }
   ],
   "source": [
    "import pandas as pd\n",
    "import numpy as np\n",
    "data=pd.read_csv(\"D:/05_DATA CLEANING AND PREPROCESSING/eMPLYOEE RAW.csv\")\n",
    "print(data.head(10))"
   ]
  },
  {
   "cell_type": "code",
   "execution_count": 45,
   "id": "59d05f15-006e-4b0d-a5f4-796aed6fa703",
   "metadata": {},
   "outputs": [
    {
     "name": "stdout",
     "output_type": "stream",
     "text": [
      "      Education  JoiningYear   City  PaymentTier    Age  Gender  EverBenched  \\\n",
      "0         False        False  False        False  False   False        False   \n",
      "1         False        False  False        False  False   False        False   \n",
      "2         False        False  False        False  False   False        False   \n",
      "3         False        False  False        False  False   False        False   \n",
      "4         False        False  False        False  False   False        False   \n",
      "...         ...          ...    ...          ...    ...     ...          ...   \n",
      "4648      False        False  False        False  False   False        False   \n",
      "4649      False        False  False        False  False   False        False   \n",
      "4650      False        False  False        False  False   False        False   \n",
      "4651      False        False  False        False  False   False        False   \n",
      "4652      False        False  False        False  False   False        False   \n",
      "\n",
      "      ExperienceInCurrentDomain  LeaveOrNot  \n",
      "0                         False       False  \n",
      "1                         False       False  \n",
      "2                         False       False  \n",
      "3                         False       False  \n",
      "4                         False       False  \n",
      "...                         ...         ...  \n",
      "4648                      False       False  \n",
      "4649                      False       False  \n",
      "4650                      False       False  \n",
      "4651                      False       False  \n",
      "4652                      False       False  \n",
      "\n",
      "[4653 rows x 9 columns]\n"
     ]
    }
   ],
   "source": [
    "print(data.isnull())"
   ]
  },
  {
   "cell_type": "code",
   "execution_count": 46,
   "id": "609bb830-29bb-4d7f-9fb7-5c5962597dc0",
   "metadata": {},
   "outputs": [
    {
     "name": "stdout",
     "output_type": "stream",
     "text": [
      "Education                    0\n",
      "JoiningYear                  0\n",
      "City                         0\n",
      "PaymentTier                  0\n",
      "Age                          0\n",
      "Gender                       0\n",
      "EverBenched                  0\n",
      "ExperienceInCurrentDomain    0\n",
      "LeaveOrNot                   0\n",
      "dtype: int64\n"
     ]
    }
   ],
   "source": [
    "print(data.isnull().sum())"
   ]
  },
  {
   "cell_type": "code",
   "execution_count": 47,
   "id": "980fda27-103d-4fed-82fe-a78813d52799",
   "metadata": {},
   "outputs": [],
   "source": [
    "import pandas as pd\n",
    "import numpy as np\n",
    "data=pd.read_csv(\"D:/05_DATA CLEANING AND PREPROCESSING/eMPLYOEE RAW.csv\")"
   ]
  },
  {
   "cell_type": "code",
   "execution_count": 48,
   "id": "7819da8c-6b92-4322-bdfc-b2d42d593bdc",
   "metadata": {},
   "outputs": [
    {
     "name": "stdout",
     "output_type": "stream",
     "text": [
      "    Education  JoiningYear       City  PaymentTier  Age  Gender EverBenched  \\\n",
      "0   Bachelors         2017  Bangalore            3   34    Male          No   \n",
      "1   Bachelors         2013       Pune            1   28  Female          No   \n",
      "2   Bachelors         2014  New Delhi            3   38  Female          No   \n",
      "3     Masters         2016  Bangalore            3   27    Male          No   \n",
      "4     Masters         2017       Pune            3   24    Male         Yes   \n",
      "5   Bachelors         2016  Bangalore            3   22    Male          No   \n",
      "6   Bachelors         2015  New Delhi            3   38    Male          No   \n",
      "7   Bachelors         2016  Bangalore            3   34  Female          No   \n",
      "8   Bachelors         2016       Pune            3   23    Male          No   \n",
      "9     Masters         2017  New Delhi            2   37    Male          No   \n",
      "10    Masters         2012  Bangalore            3   27    Male          No   \n",
      "11  Bachelors         2016       Pune            3   34    Male          No   \n",
      "12  Bachelors         2018       Pune            3   32    Male         Yes   \n",
      "13  Bachelors         2016  Bangalore            3   39    Male          No   \n",
      "\n",
      "    ExperienceInCurrentDomain  LeaveOrNot  \n",
      "0                           0           0  \n",
      "1                           3           1  \n",
      "2                           2           0  \n",
      "3                           5           1  \n",
      "4                           2           1  \n",
      "5                           0           0  \n",
      "6                           0           0  \n",
      "7                           2           1  \n",
      "8                           1           0  \n",
      "9                           2           0  \n",
      "10                          5           1  \n",
      "11                          3           0  \n",
      "12                          5           1  \n",
      "13                          2           0  \n"
     ]
    }
   ],
   "source": [
    "print(data.head(14))"
   ]
  },
  {
   "cell_type": "code",
   "execution_count": 49,
   "id": "602b0d9e-e751-415e-aa10-35e63eedc1bd",
   "metadata": {},
   "outputs": [
    {
     "name": "stdout",
     "output_type": "stream",
     "text": [
      "      Education  JoiningYear   City  PaymentTier    Age  Gender  EverBenched  \\\n",
      "0         False        False  False        False  False   False        False   \n",
      "1         False        False  False        False  False   False        False   \n",
      "2         False        False  False        False  False   False        False   \n",
      "3         False        False  False        False  False   False        False   \n",
      "4         False        False  False        False  False   False        False   \n",
      "...         ...          ...    ...          ...    ...     ...          ...   \n",
      "4648      False        False  False        False  False   False        False   \n",
      "4649      False        False  False        False  False   False        False   \n",
      "4650      False        False  False        False  False   False        False   \n",
      "4651      False        False  False        False  False   False        False   \n",
      "4652      False        False  False        False  False   False        False   \n",
      "\n",
      "      ExperienceInCurrentDomain  LeaveOrNot  \n",
      "0                         False       False  \n",
      "1                         False       False  \n",
      "2                         False       False  \n",
      "3                         False       False  \n",
      "4                         False       False  \n",
      "...                         ...         ...  \n",
      "4648                      False       False  \n",
      "4649                      False       False  \n",
      "4650                      False       False  \n",
      "4651                      False       False  \n",
      "4652                      False       False  \n",
      "\n",
      "[4653 rows x 9 columns]\n"
     ]
    }
   ],
   "source": [
    "print(data.isnull())"
   ]
  },
  {
   "cell_type": "code",
   "execution_count": 59,
   "id": "098d9d50-6cf8-42b8-b289-8662ac376ce2",
   "metadata": {},
   "outputs": [],
   "source": [
    "import pandas as pd\n",
    "import numpy as np\n",
    "data=pd.read_csv(\"D:/05_DATA CLEANING AND PREPROCESSING/bengaluru_house_prices.csv\")"
   ]
  },
  {
   "cell_type": "code",
   "execution_count": 55,
   "id": "80539e03-311e-4874-87bf-82821674d224",
   "metadata": {},
   "outputs": [
    {
     "name": "stdout",
     "output_type": "stream",
     "text": [
      "              area_type   availability                  location       size  \\\n",
      "0  Super built-up  Area         19-Dec  Electronic City Phase II      2 BHK   \n",
      "1            Plot  Area  Ready To Move          Chikka Tirupathi  4 Bedroom   \n",
      "2        Built-up  Area  Ready To Move               Uttarahalli      3 BHK   \n",
      "3  Super built-up  Area  Ready To Move        Lingadheeranahalli      3 BHK   \n",
      "4  Super built-up  Area  Ready To Move                  Kothanur      2 BHK   \n",
      "5  Super built-up  Area  Ready To Move                Whitefield      2 BHK   \n",
      "6  Super built-up  Area         18-May          Old Airport Road      4 BHK   \n",
      "7  Super built-up  Area  Ready To Move              Rajaji Nagar      4 BHK   \n",
      "8  Super built-up  Area  Ready To Move              Marathahalli      3 BHK   \n",
      "9            Plot  Area  Ready To Move              Gandhi Bazar  6 Bedroom   \n",
      "\n",
      "   society total_sqft  bath  balcony   price  \n",
      "0  Coomee        1056   2.0      1.0   39.07  \n",
      "1  Theanmp       2600   5.0      3.0  120.00  \n",
      "2      NaN       1440   2.0      3.0   62.00  \n",
      "3  Soiewre       1521   3.0      1.0   95.00  \n",
      "4      NaN       1200   2.0      1.0   51.00  \n",
      "5  DuenaTa       1170   2.0      1.0   38.00  \n",
      "6  Jaades        2732   4.0      NaN  204.00  \n",
      "7  Brway G       3300   4.0      NaN  600.00  \n",
      "8      NaN       1310   3.0      1.0   63.25  \n",
      "9      NaN       1020   6.0      NaN  370.00  \n"
     ]
    }
   ],
   "source": [
    "print(data.head(10))"
   ]
  },
  {
   "cell_type": "code",
   "execution_count": 54,
   "id": "d9b2635f-acd1-45a8-b752-5c3c890096df",
   "metadata": {},
   "outputs": [
    {
     "name": "stdout",
     "output_type": "stream",
     "text": [
      "       area_type  availability  location   size  society  total_sqft   bath  \\\n",
      "0          False         False     False  False    False       False  False   \n",
      "1          False         False     False  False    False       False  False   \n",
      "2          False         False     False  False     True       False  False   \n",
      "3          False         False     False  False    False       False  False   \n",
      "4          False         False     False  False     True       False  False   \n",
      "...          ...           ...       ...    ...      ...         ...    ...   \n",
      "13315      False         False     False  False    False       False  False   \n",
      "13316      False         False     False  False     True       False  False   \n",
      "13317      False         False     False  False    False       False  False   \n",
      "13318      False         False     False  False    False       False  False   \n",
      "13319      False         False     False  False     True       False  False   \n",
      "\n",
      "       balcony  price  \n",
      "0        False  False  \n",
      "1        False  False  \n",
      "2        False  False  \n",
      "3        False  False  \n",
      "4        False  False  \n",
      "...        ...    ...  \n",
      "13315    False  False  \n",
      "13316     True  False  \n",
      "13317    False  False  \n",
      "13318    False  False  \n",
      "13319    False  False  \n",
      "\n",
      "[13320 rows x 9 columns]\n"
     ]
    }
   ],
   "source": [
    "print(data.isnull())"
   ]
  },
  {
   "cell_type": "code",
   "execution_count": 56,
   "id": "05299375-2e88-437c-9083-aa4c65ec9e2c",
   "metadata": {},
   "outputs": [
    {
     "name": "stdout",
     "output_type": "stream",
     "text": [
      "              area_type   availability                  location       size  \\\n",
      "0  Super built-up  Area         19-Dec  Electronic City Phase II      2 BHK   \n",
      "1            Plot  Area  Ready To Move          Chikka Tirupathi  4 Bedroom   \n",
      "2        Built-up  Area  Ready To Move               Uttarahalli      3 BHK   \n",
      "3  Super built-up  Area  Ready To Move        Lingadheeranahalli      3 BHK   \n",
      "4  Super built-up  Area  Ready To Move                  Kothanur      2 BHK   \n",
      "5  Super built-up  Area  Ready To Move                Whitefield      2 BHK   \n",
      "6  Super built-up  Area         18-May          Old Airport Road      4 BHK   \n",
      "7  Super built-up  Area  Ready To Move              Rajaji Nagar      4 BHK   \n",
      "8  Super built-up  Area  Ready To Move              Marathahalli      3 BHK   \n",
      "9            Plot  Area  Ready To Move              Gandhi Bazar  6 Bedroom   \n",
      "\n",
      "   society total_sqft  bath  balcony   price  \n",
      "0  Coomee        1056   2.0      1.0   39.07  \n",
      "1  Theanmp       2600   5.0      3.0  120.00  \n",
      "2      NaN       1440   2.0      3.0   62.00  \n",
      "3  Soiewre       1521   3.0      1.0   95.00  \n",
      "4      NaN       1200   2.0      1.0   51.00  \n",
      "5  DuenaTa       1170   2.0      1.0   38.00  \n",
      "6  Jaades        2732   4.0      NaN  204.00  \n",
      "7  Brway G       3300   4.0      NaN  600.00  \n",
      "8      NaN       1310   3.0      1.0   63.25  \n",
      "9      NaN       1020   6.0      NaN  370.00  \n"
     ]
    }
   ],
   "source": [
    "print(data.head(10))"
   ]
  },
  {
   "cell_type": "code",
   "execution_count": 58,
   "id": "6b90f530-f14c-413f-aa84-6cf8d6944f65",
   "metadata": {},
   "outputs": [
    {
     "name": "stdout",
     "output_type": "stream",
     "text": [
      "                  area_type   availability                  location  \\\n",
      "0      Super built-up  Area         19-Dec  Electronic City Phase II   \n",
      "1                Plot  Area  Ready To Move          Chikka Tirupathi   \n",
      "2            Built-up  Area  Ready To Move               Uttarahalli   \n",
      "3      Super built-up  Area  Ready To Move        Lingadheeranahalli   \n",
      "4      Super built-up  Area  Ready To Move                  Kothanur   \n",
      "...                     ...            ...                       ...   \n",
      "13315        Built-up  Area  Ready To Move                Whitefield   \n",
      "13316  Super built-up  Area  Ready To Move             Richards Town   \n",
      "13317        Built-up  Area  Ready To Move     Raja Rajeshwari Nagar   \n",
      "13318  Super built-up  Area         18-Jun           Padmanabhanagar   \n",
      "13319  Super built-up  Area  Ready To Move              Doddathoguru   \n",
      "\n",
      "            size              society total_sqft bath              balcony  \\\n",
      "0          2 BHK              Coomee        1056  2.0                  1.0   \n",
      "1      4 Bedroom              Theanmp       2600  5.0                  3.0   \n",
      "2          3 BHK  bhushan sanjay zade       1440  2.0                  3.0   \n",
      "3          3 BHK              Soiewre       1521  3.0                  1.0   \n",
      "4          2 BHK  bhushan sanjay zade       1200  2.0                  1.0   \n",
      "...          ...                  ...        ...  ...                  ...   \n",
      "13315  5 Bedroom              ArsiaEx       3453  4.0                  0.0   \n",
      "13316      4 BHK  bhushan sanjay zade       3600  5.0  bhushan sanjay zade   \n",
      "13317      2 BHK              Mahla T       1141  2.0                  1.0   \n",
      "13318      4 BHK              SollyCl       4689  4.0                  1.0   \n",
      "13319      1 BHK  bhushan sanjay zade        550  1.0                  1.0   \n",
      "\n",
      "        price  \n",
      "0       39.07  \n",
      "1      120.00  \n",
      "2       62.00  \n",
      "3       95.00  \n",
      "4       51.00  \n",
      "...       ...  \n",
      "13315  231.00  \n",
      "13316  400.00  \n",
      "13317   60.00  \n",
      "13318  488.00  \n",
      "13319   17.00  \n",
      "\n",
      "[13320 rows x 9 columns]\n"
     ]
    }
   ],
   "source": [
    "import numpy as np\n",
    "print(data.replace(np.nan,\"bhushan sanjay zade\"))"
   ]
  },
  {
   "cell_type": "code",
   "execution_count": 60,
   "id": "5ded6fd4-011d-4f4a-99a8-5b84a840f6eb",
   "metadata": {},
   "outputs": [
    {
     "name": "stdout",
     "output_type": "stream",
     "text": [
      "              area_type   availability                  location       size  \\\n",
      "0  Super built-up  Area         19-Dec  Electronic City Phase II      2 BHK   \n",
      "1            Plot  Area  Ready To Move          Chikka Tirupathi  4 Bedroom   \n",
      "2        Built-up  Area  Ready To Move               Uttarahalli      3 BHK   \n",
      "3  Super built-up  Area  Ready To Move        Lingadheeranahalli      3 BHK   \n",
      "4  Super built-up  Area  Ready To Move                  Kothanur      2 BHK   \n",
      "5  Super built-up  Area  Ready To Move                Whitefield      2 BHK   \n",
      "6  Super built-up  Area         18-May          Old Airport Road      4 BHK   \n",
      "7  Super built-up  Area  Ready To Move              Rajaji Nagar      4 BHK   \n",
      "8  Super built-up  Area  Ready To Move              Marathahalli      3 BHK   \n",
      "9            Plot  Area  Ready To Move              Gandhi Bazar  6 Bedroom   \n",
      "\n",
      "   society total_sqft  bath  balcony   price  \n",
      "0  Coomee        1056   2.0      1.0   39.07  \n",
      "1  Theanmp       2600   5.0      3.0  120.00  \n",
      "2      NaN       1440   2.0      3.0   62.00  \n",
      "3  Soiewre       1521   3.0      1.0   95.00  \n",
      "4      NaN       1200   2.0      1.0   51.00  \n",
      "5  DuenaTa       1170   2.0      1.0   38.00  \n",
      "6  Jaades        2732   4.0      NaN  204.00  \n",
      "7  Brway G       3300   4.0      NaN  600.00  \n",
      "8      NaN       1310   3.0      1.0   63.25  \n",
      "9      NaN       1020   6.0      NaN  370.00  \n"
     ]
    }
   ],
   "source": [
    "print(data.head(10))\n"
   ]
  },
  {
   "cell_type": "code",
   "execution_count": 61,
   "id": "2b5805b5-f926-410d-9a50-b1084a96bfdf",
   "metadata": {},
   "outputs": [
    {
     "name": "stdout",
     "output_type": "stream",
     "text": [
      "                  area_type   availability                  location  \\\n",
      "0      Super built-up  Area         19-Dec  Electronic City Phase II   \n",
      "1                Plot  Area  Ready To Move          Chikka Tirupathi   \n",
      "2            Built-up  Area  Ready To Move               Uttarahalli   \n",
      "3      Super built-up  Area  Ready To Move        Lingadheeranahalli   \n",
      "4      Super built-up  Area  Ready To Move                  Kothanur   \n",
      "...                     ...            ...                       ...   \n",
      "13315        Built-up  Area  Ready To Move                Whitefield   \n",
      "13316  Super built-up  Area  Ready To Move             Richards Town   \n",
      "13317        Built-up  Area  Ready To Move     Raja Rajeshwari Nagar   \n",
      "13318  Super built-up  Area         18-Jun           Padmanabhanagar   \n",
      "13319  Super built-up  Area  Ready To Move              Doddathoguru   \n",
      "\n",
      "            size  society total_sqft  bath  balcony   price  \n",
      "0          2 BHK  Coomee        1056   2.0      1.0   39.07  \n",
      "1      4 Bedroom  Theanmp       2600   5.0      3.0  120.00  \n",
      "2          3 BHK  Soiewre       1440   2.0      3.0   62.00  \n",
      "3          3 BHK  Soiewre       1521   3.0      1.0   95.00  \n",
      "4          2 BHK  DuenaTa       1200   2.0      1.0   51.00  \n",
      "...          ...      ...        ...   ...      ...     ...  \n",
      "13315  5 Bedroom  ArsiaEx       3453   4.0      0.0  231.00  \n",
      "13316      4 BHK  Mahla T       3600   5.0      1.0  400.00  \n",
      "13317      2 BHK  Mahla T       1141   2.0      1.0   60.00  \n",
      "13318      4 BHK  SollyCl       4689   4.0      1.0  488.00  \n",
      "13319      1 BHK      NaN        550   1.0      1.0   17.00  \n",
      "\n",
      "[13320 rows x 9 columns]\n"
     ]
    },
    {
     "name": "stderr",
     "output_type": "stream",
     "text": [
      "C:\\Users\\bhush\\AppData\\Local\\Temp\\ipykernel_21064\\2075060948.py:1: FutureWarning: DataFrame.fillna with 'method' is deprecated and will raise in a future version. Use obj.ffill() or obj.bfill() instead.\n",
      "  print(data.fillna(method=\"bfill\"))\n"
     ]
    }
   ],
   "source": [
    "print(data.fillna(method=\"bfill\"))"
   ]
  },
  {
   "cell_type": "code",
   "execution_count": 63,
   "id": "0de4fc7a-a05a-49a7-8d71-c6c80f77077e",
   "metadata": {},
   "outputs": [
    {
     "name": "stdout",
     "output_type": "stream",
     "text": [
      "<bound method DataFrame.isnull of                   area_type   availability                  location  \\\n",
      "0      Super built-up  Area         19-Dec  Electronic City Phase II   \n",
      "1                Plot  Area  Ready To Move          Chikka Tirupathi   \n",
      "2            Built-up  Area  Ready To Move               Uttarahalli   \n",
      "3      Super built-up  Area  Ready To Move        Lingadheeranahalli   \n",
      "4      Super built-up  Area  Ready To Move                  Kothanur   \n",
      "...                     ...            ...                       ...   \n",
      "13315        Built-up  Area  Ready To Move                Whitefield   \n",
      "13316  Super built-up  Area  Ready To Move             Richards Town   \n",
      "13317        Built-up  Area  Ready To Move     Raja Rajeshwari Nagar   \n",
      "13318  Super built-up  Area         18-Jun           Padmanabhanagar   \n",
      "13319  Super built-up  Area  Ready To Move              Doddathoguru   \n",
      "\n",
      "            size  society total_sqft  bath  balcony   price  \n",
      "0          2 BHK  Coomee        1056   2.0      1.0   39.07  \n",
      "1      4 Bedroom  Theanmp       2600   5.0      3.0  120.00  \n",
      "2          3 BHK      NaN       1440   2.0      3.0   62.00  \n",
      "3          3 BHK  Soiewre       1521   3.0      1.0   95.00  \n",
      "4          2 BHK      NaN       1200   2.0      1.0   51.00  \n",
      "...          ...      ...        ...   ...      ...     ...  \n",
      "13315  5 Bedroom  ArsiaEx       3453   4.0      0.0  231.00  \n",
      "13316      4 BHK      NaN       3600   5.0      NaN  400.00  \n",
      "13317      2 BHK  Mahla T       1141   2.0      1.0   60.00  \n",
      "13318      4 BHK  SollyCl       4689   4.0      1.0  488.00  \n",
      "13319      1 BHK      NaN        550   1.0      1.0   17.00  \n",
      "\n",
      "[13320 rows x 9 columns]>\n"
     ]
    }
   ],
   "source": [
    "print(data.isnull)"
   ]
  },
  {
   "cell_type": "code",
   "execution_count": null,
   "id": "7c734bb4-1db7-437d-aa24-c11eaea9dbd9",
   "metadata": {},
   "outputs": [],
   "source": []
  },
  {
   "cell_type": "code",
   "execution_count": 64,
   "id": "8cb974f4-290c-4463-9a1c-8a08a033fa79",
   "metadata": {},
   "outputs": [
    {
     "name": "stdout",
     "output_type": "stream",
     "text": [
      "       area_type  availability  location   size  society  total_sqft   bath  \\\n",
      "0          False         False     False  False    False       False  False   \n",
      "1          False         False     False  False    False       False  False   \n",
      "2          False         False     False  False     True       False  False   \n",
      "3          False         False     False  False    False       False  False   \n",
      "4          False         False     False  False     True       False  False   \n",
      "...          ...           ...       ...    ...      ...         ...    ...   \n",
      "13315      False         False     False  False    False       False  False   \n",
      "13316      False         False     False  False     True       False  False   \n",
      "13317      False         False     False  False    False       False  False   \n",
      "13318      False         False     False  False    False       False  False   \n",
      "13319      False         False     False  False     True       False  False   \n",
      "\n",
      "       balcony  price  \n",
      "0        False  False  \n",
      "1        False  False  \n",
      "2        False  False  \n",
      "3        False  False  \n",
      "4        False  False  \n",
      "...        ...    ...  \n",
      "13315    False  False  \n",
      "13316     True  False  \n",
      "13317    False  False  \n",
      "13318    False  False  \n",
      "13319    False  False  \n",
      "\n",
      "[13320 rows x 9 columns]\n"
     ]
    }
   ],
   "source": [
    "print(data.isnull())"
   ]
  },
  {
   "cell_type": "code",
   "execution_count": 66,
   "id": "48d351d1-9169-4420-9711-049ae3609db0",
   "metadata": {},
   "outputs": [
    {
     "name": "stdout",
     "output_type": "stream",
     "text": [
      "                  area_type   availability                  location  \\\n",
      "0      Super built-up  Area         19-Dec  Electronic City Phase II   \n",
      "1                Plot  Area  Ready To Move          Chikka Tirupathi   \n",
      "2            Built-up  Area  Ready To Move               Uttarahalli   \n",
      "3      Super built-up  Area  Ready To Move        Lingadheeranahalli   \n",
      "4      Super built-up  Area  Ready To Move                  Kothanur   \n",
      "...                     ...            ...                       ...   \n",
      "13315        Built-up  Area  Ready To Move                Whitefield   \n",
      "13316  Super built-up  Area  Ready To Move             Richards Town   \n",
      "13317        Built-up  Area  Ready To Move     Raja Rajeshwari Nagar   \n",
      "13318  Super built-up  Area         18-Jun           Padmanabhanagar   \n",
      "13319  Super built-up  Area  Ready To Move              Doddathoguru   \n",
      "\n",
      "            size  society total_sqft  bath  balcony   price  \n",
      "0          2 BHK  Coomee        1056   2.0      1.0   39.07  \n",
      "1      4 Bedroom  Theanmp       2600   5.0      3.0  120.00  \n",
      "2          3 BHK  Soiewre       1440   2.0      3.0   62.00  \n",
      "3          3 BHK  Soiewre       1521   3.0      1.0   95.00  \n",
      "4          2 BHK  DuenaTa       1200   2.0      1.0   51.00  \n",
      "...          ...      ...        ...   ...      ...     ...  \n",
      "13315  5 Bedroom  ArsiaEx       3453   4.0      0.0  231.00  \n",
      "13316      4 BHK  Mahla T       3600   5.0      1.0  400.00  \n",
      "13317      2 BHK  Mahla T       1141   2.0      1.0   60.00  \n",
      "13318      4 BHK  SollyCl       4689   4.0      1.0  488.00  \n",
      "13319      1 BHK      NaN        550   1.0      1.0   17.00  \n",
      "\n",
      "[13320 rows x 9 columns]\n"
     ]
    },
    {
     "name": "stderr",
     "output_type": "stream",
     "text": [
      "C:\\Users\\bhush\\AppData\\Local\\Temp\\ipykernel_21064\\2075060948.py:1: FutureWarning: DataFrame.fillna with 'method' is deprecated and will raise in a future version. Use obj.ffill() or obj.bfill() instead.\n",
      "  print(data.fillna(method=\"bfill\"))\n"
     ]
    }
   ],
   "source": [
    "print(data.fillna(method=\"bfill\"))"
   ]
  },
  {
   "cell_type": "code",
   "execution_count": 67,
   "id": "c8d4e46c-7fd1-4b96-a4d3-37fce60bf515",
   "metadata": {},
   "outputs": [
    {
     "name": "stdout",
     "output_type": "stream",
     "text": [
      "       area_type  availability  location   size  society  total_sqft   bath  \\\n",
      "0          False         False     False  False    False       False  False   \n",
      "1          False         False     False  False    False       False  False   \n",
      "2          False         False     False  False     True       False  False   \n",
      "3          False         False     False  False    False       False  False   \n",
      "4          False         False     False  False     True       False  False   \n",
      "...          ...           ...       ...    ...      ...         ...    ...   \n",
      "13315      False         False     False  False    False       False  False   \n",
      "13316      False         False     False  False     True       False  False   \n",
      "13317      False         False     False  False    False       False  False   \n",
      "13318      False         False     False  False    False       False  False   \n",
      "13319      False         False     False  False     True       False  False   \n",
      "\n",
      "       balcony  price  \n",
      "0        False  False  \n",
      "1        False  False  \n",
      "2        False  False  \n",
      "3        False  False  \n",
      "4        False  False  \n",
      "...        ...    ...  \n",
      "13315    False  False  \n",
      "13316     True  False  \n",
      "13317    False  False  \n",
      "13318    False  False  \n",
      "13319    False  False  \n",
      "\n",
      "[13320 rows x 9 columns]\n"
     ]
    }
   ],
   "source": [
    "print(data.isnull())"
   ]
  },
  {
   "cell_type": "code",
   "execution_count": 69,
   "id": "f95aeed7-e702-4600-8ddf-7a1e84aab6e1",
   "metadata": {},
   "outputs": [
    {
     "name": "stdout",
     "output_type": "stream",
     "text": [
      "                  area_type   availability                  location  \\\n",
      "0      Super built-up  Area         19-Dec  Electronic City Phase II   \n",
      "1                Plot  Area  Ready To Move          Chikka Tirupathi   \n",
      "2            Built-up  Area  Ready To Move               Uttarahalli   \n",
      "3      Super built-up  Area  Ready To Move        Lingadheeranahalli   \n",
      "4      Super built-up  Area  Ready To Move                  Kothanur   \n",
      "...                     ...            ...                       ...   \n",
      "13315        Built-up  Area  Ready To Move                Whitefield   \n",
      "13316  Super built-up  Area  Ready To Move             Richards Town   \n",
      "13317        Built-up  Area  Ready To Move     Raja Rajeshwari Nagar   \n",
      "13318  Super built-up  Area         18-Jun           Padmanabhanagar   \n",
      "13319  Super built-up  Area  Ready To Move              Doddathoguru   \n",
      "\n",
      "            size              society total_sqft  bath  balcony   price  \n",
      "0          2 BHK              Coomee        1056   2.0      1.0   39.07  \n",
      "1      4 Bedroom              Theanmp       2600   5.0      3.0  120.00  \n",
      "2          3 BHK  bhsuhamsanjay zacde       1440   2.0      3.0   62.00  \n",
      "3          3 BHK              Soiewre       1521   3.0      1.0   95.00  \n",
      "4          2 BHK  bhsuhamsanjay zacde       1200   2.0      1.0   51.00  \n",
      "...          ...                  ...        ...   ...      ...     ...  \n",
      "13315  5 Bedroom              ArsiaEx       3453   4.0      0.0  231.00  \n",
      "13316      4 BHK  bhsuhamsanjay zacde       3600   5.0      NaN  400.00  \n",
      "13317      2 BHK              Mahla T       1141   2.0      1.0   60.00  \n",
      "13318      4 BHK              SollyCl       4689   4.0      1.0  488.00  \n",
      "13319      1 BHK  bhsuhamsanjay zacde        550   1.0      1.0   17.00  \n",
      "\n",
      "[13320 rows x 9 columns]\n"
     ]
    }
   ],
   "source": [
    "import numpy as np\n",
    "data[\"society\"]=data[\"society\"].replace(np.nan,\"bhsuhamsanjay zacde\")\n",
    "print(data)"
   ]
  },
  {
   "cell_type": "code",
   "execution_count": 70,
   "id": "0838aad9-2cd4-46a0-9508-2a2ad8c99f9d",
   "metadata": {},
   "outputs": [],
   "source": [
    "import pandas as pd\n",
    "import numpy as np\n",
    "data=pd.read_csv(\"D:/05_DATA CLEANING AND PREPROCESSING/bengaluru_house_prices.csv\")"
   ]
  },
  {
   "cell_type": "code",
   "execution_count": 71,
   "id": "b7556ee9-2da3-472d-8999-10f42aaefc30",
   "metadata": {},
   "outputs": [
    {
     "name": "stdout",
     "output_type": "stream",
     "text": [
      "                  area_type   availability                  location  \\\n",
      "0      Super built-up  Area         19-Dec  Electronic City Phase II   \n",
      "1                Plot  Area  Ready To Move          Chikka Tirupathi   \n",
      "2            Built-up  Area  Ready To Move               Uttarahalli   \n",
      "3      Super built-up  Area  Ready To Move        Lingadheeranahalli   \n",
      "4      Super built-up  Area  Ready To Move                  Kothanur   \n",
      "...                     ...            ...                       ...   \n",
      "13315        Built-up  Area  Ready To Move                Whitefield   \n",
      "13316  Super built-up  Area  Ready To Move             Richards Town   \n",
      "13317        Built-up  Area  Ready To Move     Raja Rajeshwari Nagar   \n",
      "13318  Super built-up  Area         18-Jun           Padmanabhanagar   \n",
      "13319  Super built-up  Area  Ready To Move              Doddathoguru   \n",
      "\n",
      "            size                               society total_sqft bath  \\\n",
      "0          2 BHK                               Coomee        1056  2.0   \n",
      "1      4 Bedroom                               Theanmp       2600  5.0   \n",
      "2          3 BHK  bhuvgdjhhgfjshfjdsfghfadhfdkjhdksjhk       1440  2.0   \n",
      "3          3 BHK                               Soiewre       1521  3.0   \n",
      "4          2 BHK  bhuvgdjhhgfjshfjdsfghfadhfdkjhdksjhk       1200  2.0   \n",
      "...          ...                                   ...        ...  ...   \n",
      "13315  5 Bedroom                               ArsiaEx       3453  4.0   \n",
      "13316      4 BHK  bhuvgdjhhgfjshfjdsfghfadhfdkjhdksjhk       3600  5.0   \n",
      "13317      2 BHK                               Mahla T       1141  2.0   \n",
      "13318      4 BHK                               SollyCl       4689  4.0   \n",
      "13319      1 BHK  bhuvgdjhhgfjshfjdsfghfadhfdkjhdksjhk        550  1.0   \n",
      "\n",
      "                                    balcony   price  \n",
      "0                                       1.0   39.07  \n",
      "1                                       3.0  120.00  \n",
      "2                                       3.0   62.00  \n",
      "3                                       1.0   95.00  \n",
      "4                                       1.0   51.00  \n",
      "...                                     ...     ...  \n",
      "13315                                   0.0  231.00  \n",
      "13316  bhuvgdjhhgfjshfjdsfghfadhfdkjhdksjhk  400.00  \n",
      "13317                                   1.0   60.00  \n",
      "13318                                   1.0  488.00  \n",
      "13319                                   1.0   17.00  \n",
      "\n",
      "[13320 rows x 9 columns]\n"
     ]
    }
   ],
   "source": [
    "print(data.fillna(\"bhuvgdjhhgfjshfjdsfghfadhfdkjhdksjhk\"))"
   ]
  },
  {
   "cell_type": "code",
   "execution_count": null,
   "id": "3ecaea40-7f33-4ae5-bcdf-e94d5bbc8fad",
   "metadata": {},
   "outputs": [],
   "source": []
  }
 ],
 "metadata": {
  "kernelspec": {
   "display_name": "Python 3 (ipykernel)",
   "language": "python",
   "name": "python3"
  },
  "language_info": {
   "codemirror_mode": {
    "name": "ipython",
    "version": 3
   },
   "file_extension": ".py",
   "mimetype": "text/x-python",
   "name": "python",
   "nbconvert_exporter": "python",
   "pygments_lexer": "ipython3",
   "version": "3.13.0"
  }
 },
 "nbformat": 4,
 "nbformat_minor": 5
}
