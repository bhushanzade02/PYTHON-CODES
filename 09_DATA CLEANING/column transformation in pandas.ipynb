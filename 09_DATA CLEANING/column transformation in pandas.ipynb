{
 "cells": [
  {
   "cell_type": "code",
   "execution_count": 24,
   "id": "d3c150dd-a350-44b9-b9e4-0273392af9fd",
   "metadata": {},
   "outputs": [],
   "source": [
    "import pandas as pd\n",
    "import numpy as np\n",
    "df=pd.read_csv(\"D:/05_DATA CLEANING AND PREPROCESSING/bonus dataset.csv\")"
   ]
  },
  {
   "cell_type": "code",
   "execution_count": 25,
   "id": "f26ed5d4-c816-4caa-ab9f-19b15bd4098f",
   "metadata": {},
   "outputs": [
    {
     "name": "stdout",
     "output_type": "stream",
     "text": [
      "    First Name  Gender  Start Date Last Login Time  Salary  Bonus %  \\\n",
      "0      Douglas    Male    8/6/1993        12:42 PM   97308    6.945   \n",
      "1       Thomas    Male   3/31/1996         6:53 AM   61933    4.170   \n",
      "2        Maria  Female   4/23/1993        11:17 AM  130590   11.858   \n",
      "3        Jerry    Male    3/4/2005         1:00 PM  138705    9.340   \n",
      "4        Larry    Male   1/24/1998         4:47 PM  101004    1.389   \n",
      "..         ...     ...         ...             ...     ...      ...   \n",
      "995      Henry     NaN  11/23/2014         6:09 AM  132483   16.655   \n",
      "996    Phillip    Male   1/31/1984         6:30 AM   42392   19.675   \n",
      "997    Russell    Male   5/20/2013        12:39 PM   96914    1.421   \n",
      "998      Larry    Male   4/20/2013         4:45 PM   60500   11.985   \n",
      "999     Albert    Male   5/15/2012         6:24 PM  129949   10.169   \n",
      "\n",
      "    Senior Management                  Team  \n",
      "0                True             Marketing  \n",
      "1                True                   NaN  \n",
      "2               False               Finance  \n",
      "3                True               Finance  \n",
      "4                True       Client Services  \n",
      "..                ...                   ...  \n",
      "995             False          Distribution  \n",
      "996             False               Finance  \n",
      "997             False               Product  \n",
      "998             False  Business Development  \n",
      "999              True                 Sales  \n",
      "\n",
      "[1000 rows x 8 columns]\n"
     ]
    }
   ],
   "source": [
    "print(df)"
   ]
  },
  {
   "cell_type": "code",
   "execution_count": 30,
   "id": "6304c02b-c360-4434-85b1-8273e9d08228",
   "metadata": {},
   "outputs": [
    {
     "name": "stdout",
     "output_type": "stream",
     "text": [
      "  First Name  Gender  Start Date Last Login Time  Salary  Bonus %  \\\n",
      "0    Douglas    Male    8/6/1993        12:42 PM   97308    6.945   \n",
      "1     Thomas    Male   3/31/1996         6:53 AM   61933    4.170   \n",
      "2      Maria  Female   4/23/1993        11:17 AM  130590   11.858   \n",
      "3      Jerry    Male    3/4/2005         1:00 PM  138705    9.340   \n",
      "4      Larry    Male   1/24/1998         4:47 PM  101004    1.389   \n",
      "5     Dennis    Male   4/18/1987         1:35 AM  115163   10.125   \n",
      "6       Ruby  Female   8/17/1987         4:20 PM   65476   10.012   \n",
      "7        NaN  Female   7/20/2015        10:43 AM   45906   11.598   \n",
      "8     Angela  Female  11/22/2005         6:29 AM   95570   18.523   \n",
      "9    Frances  Female    8/8/2002         6:51 AM  139852    7.524   \n",
      "\n",
      "  Senior Management                  Team   getbonus  \n",
      "0              True             Marketing  yes bonus  \n",
      "1              True                   NaN  yes bonus  \n",
      "2             False               Finance  yes bonus  \n",
      "3              True               Finance  yes bonus  \n",
      "4              True       Client Services  yes bonus  \n",
      "5             False                 Legal  yes bonus  \n",
      "6              True               Product  yes bonus  \n",
      "7               NaN               Finance  yes bonus  \n",
      "8              True           Engineering  yes bonus  \n",
      "9              True  Business Development  yes bonus  \n"
     ]
    }
   ],
   "source": [
    "df.loc[(df[\"Bonus %\"])>0, \"getbonus\"]=\"no bonus\"\n",
    "df.loc[(df[\"Bonus %\"])<35, \"getbonus\"]=\"yes bonus\"\n",
    "print(df.head(10))"
   ]
  },
  {
   "cell_type": "code",
   "execution_count": null,
   "id": "3495c9ab-2889-4120-9c79-dd1b7f4cd86a",
   "metadata": {},
   "outputs": [],
   "source": []
  }
 ],
 "metadata": {
  "kernelspec": {
   "display_name": "Python 3 (ipykernel)",
   "language": "python",
   "name": "python3"
  },
  "language_info": {
   "codemirror_mode": {
    "name": "ipython",
    "version": 3
   },
   "file_extension": ".py",
   "mimetype": "text/x-python",
   "name": "python",
   "nbconvert_exporter": "python",
   "pygments_lexer": "ipython3",
   "version": "3.13.0"
  }
 },
 "nbformat": 4,
 "nbformat_minor": 5
}
