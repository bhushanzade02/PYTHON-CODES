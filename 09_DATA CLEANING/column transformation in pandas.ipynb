{
 "cells": [
  {
   "cell_type": "code",
   "execution_count": 24,
   "id": "d3c150dd-a350-44b9-b9e4-0273392af9fd",
   "metadata": {},
   "outputs": [],
   "source": [
    "import pandas as pd\n",
    "import numpy as np\n",
    "df=pd.read_csv(\"D:/05_DATA CLEANING AND PREPROCESSING/bonus dataset.csv\")"
   ]
  },
  {
   "cell_type": "code",
   "execution_count": 25,
   "id": "f26ed5d4-c816-4caa-ab9f-19b15bd4098f",
   "metadata": {},
   "outputs": [
    {
     "name": "stdout",
     "output_type": "stream",
     "text": [
      "    First Name  Gender  Start Date Last Login Time  Salary  Bonus %  \\\n",
      "0      Douglas    Male    8/6/1993        12:42 PM   97308    6.945   \n",
      "1       Thomas    Male   3/31/1996         6:53 AM   61933    4.170   \n",
      "2        Maria  Female   4/23/1993        11:17 AM  130590   11.858   \n",
      "3        Jerry    Male    3/4/2005         1:00 PM  138705    9.340   \n",
      "4        Larry    Male   1/24/1998         4:47 PM  101004    1.389   \n",
      "..         ...     ...         ...             ...     ...      ...   \n",
      "995      Henry     NaN  11/23/2014         6:09 AM  132483   16.655   \n",
      "996    Phillip    Male   1/31/1984         6:30 AM   42392   19.675   \n",
      "997    Russell    Male   5/20/2013        12:39 PM   96914    1.421   \n",
      "998      Larry    Male   4/20/2013         4:45 PM   60500   11.985   \n",
      "999     Albert    Male   5/15/2012         6:24 PM  129949   10.169   \n",
      "\n",
      "    Senior Management                  Team  \n",
      "0                True             Marketing  \n",
      "1                True                   NaN  \n",
      "2               False               Finance  \n",
      "3                True               Finance  \n",
      "4                True       Client Services  \n",
      "..                ...                   ...  \n",
      "995             False          Distribution  \n",
      "996             False               Finance  \n",
      "997             False               Product  \n",
      "998             False  Business Development  \n",
      "999              True                 Sales  \n",
      "\n",
      "[1000 rows x 8 columns]\n"
     ]
    }
   ],
   "source": [
    "print(df)"
   ]
  },
  {
   "cell_type": "code",
   "execution_count": 30,
   "id": "6304c02b-c360-4434-85b1-8273e9d08228",
   "metadata": {},
   "outputs": [
    {
     "name": "stdout",
     "output_type": "stream",
     "text": [
      "  First Name  Gender  Start Date Last Login Time  Salary  Bonus %  \\\n",
      "0    Douglas    Male    8/6/1993        12:42 PM   97308    6.945   \n",
      "1     Thomas    Male   3/31/1996         6:53 AM   61933    4.170   \n",
      "2      Maria  Female   4/23/1993        11:17 AM  130590   11.858   \n",
      "3      Jerry    Male    3/4/2005         1:00 PM  138705    9.340   \n",
      "4      Larry    Male   1/24/1998         4:47 PM  101004    1.389   \n",
      "5     Dennis    Male   4/18/1987         1:35 AM  115163   10.125   \n",
      "6       Ruby  Female   8/17/1987         4:20 PM   65476   10.012   \n",
      "7        NaN  Female   7/20/2015        10:43 AM   45906   11.598   \n",
      "8     Angela  Female  11/22/2005         6:29 AM   95570   18.523   \n",
      "9    Frances  Female    8/8/2002         6:51 AM  139852    7.524   \n",
      "\n",
      "  Senior Management                  Team   getbonus  \n",
      "0              True             Marketing  yes bonus  \n",
      "1              True                   NaN  yes bonus  \n",
      "2             False               Finance  yes bonus  \n",
      "3              True               Finance  yes bonus  \n",
      "4              True       Client Services  yes bonus  \n",
      "5             False                 Legal  yes bonus  \n",
      "6              True               Product  yes bonus  \n",
      "7               NaN               Finance  yes bonus  \n",
      "8              True           Engineering  yes bonus  \n",
      "9              True  Business Development  yes bonus  \n"
     ]
    }
   ],
   "source": [
    "df.loc[(df[\"Bonus %\"])>0, \"getbonus\"]=\"no bonus\"\n",
    "df.loc[(df[\"Bonus %\"])<35, \"getbonus\"]=\"yes bonus\"\n",
    "print(df.head(10))"
   ]
  },
  {
   "cell_type": "code",
   "execution_count": 1,
   "id": "3495c9ab-2889-4120-9c79-dd1b7f4cd86a",
   "metadata": {},
   "outputs": [],
   "source": [
    "import pandas as pd\n",
    "import numpy as np\n",
    "data=pd.read_csv(\"D:/05_DATA CLEANING AND PREPROCESSING/eMPLYOEE RAW.csv\")"
   ]
  },
  {
   "cell_type": "code",
   "execution_count": 2,
   "id": "bae58b19-1ff1-48d7-ab17-3ca460b727e7",
   "metadata": {},
   "outputs": [
    {
     "name": "stdout",
     "output_type": "stream",
     "text": [
      "   Education  JoiningYear       City  PaymentTier  Age  Gender EverBenched  \\\n",
      "0  Bachelors         2017  Bangalore            3   34    Male          No   \n",
      "1  Bachelors         2013       Pune            1   28  Female          No   \n",
      "2  Bachelors         2014  New Delhi            3   38  Female          No   \n",
      "3    Masters         2016  Bangalore            3   27    Male          No   \n",
      "4    Masters         2017       Pune            3   24    Male         Yes   \n",
      "5  Bachelors         2016  Bangalore            3   22    Male          No   \n",
      "6  Bachelors         2015  New Delhi            3   38    Male          No   \n",
      "7  Bachelors         2016  Bangalore            3   34  Female          No   \n",
      "8  Bachelors         2016       Pune            3   23    Male          No   \n",
      "9    Masters         2017  New Delhi            2   37    Male          No   \n",
      "\n",
      "   ExperienceInCurrentDomain  LeaveOrNot  \n",
      "0                          0           0  \n",
      "1                          3           1  \n",
      "2                          2           0  \n",
      "3                          5           1  \n",
      "4                          2           1  \n",
      "5                          0           0  \n",
      "6                          0           0  \n",
      "7                          2           1  \n",
      "8                          1           0  \n",
      "9                          2           0  \n"
     ]
    }
   ],
   "source": [
    "print(data.head(10))"
   ]
  },
  {
   "cell_type": "code",
   "execution_count": 6,
   "id": "19e8ff0c-da9a-4620-b602-7dd19060a4f5",
   "metadata": {},
   "outputs": [
    {
     "name": "stdout",
     "output_type": "stream",
     "text": [
      "      Education  JoiningYear       City  PaymentTier  Age  Gender EverBenched  \\\n",
      "0     Bachelors         2017  Bangalore            3   34    Male          No   \n",
      "1     Bachelors         2013       Pune            1   28  Female          No   \n",
      "2     Bachelors         2014  New Delhi            3   38  Female          No   \n",
      "3       Masters         2016  Bangalore            3   27    Male          No   \n",
      "4       Masters         2017       Pune            3   24    Male         Yes   \n",
      "...         ...          ...        ...          ...  ...     ...         ...   \n",
      "4648  Bachelors         2013  Bangalore            3   26  Female          No   \n",
      "4649    Masters         2013       Pune            2   37    Male          No   \n",
      "4650    Masters         2018  New Delhi            3   27    Male          No   \n",
      "4651  Bachelors         2012  Bangalore            3   30    Male         Yes   \n",
      "4652  Bachelors         2015  Bangalore            3   33    Male         Yes   \n",
      "\n",
      "      ExperienceInCurrentDomain  LeaveOrNot           EDU-age  \n",
      "0                             0           0    Bachelors Male  \n",
      "1                             3           1  Bachelors Female  \n",
      "2                             2           0  Bachelors Female  \n",
      "3                             5           1      Masters Male  \n",
      "4                             2           1      Masters Male  \n",
      "...                         ...         ...               ...  \n",
      "4648                          4           0  Bachelors Female  \n",
      "4649                          2           1      Masters Male  \n",
      "4650                          5           1      Masters Male  \n",
      "4651                          2           0    Bachelors Male  \n",
      "4652                          4           0    Bachelors Male  \n",
      "\n",
      "[4653 rows x 10 columns]\n"
     ]
    }
   ],
   "source": [
    "data[\"EDU-age\"]=data[\"Education\"]+\" \"+data[\"Gender\"]\n",
    "print(data)"
   ]
  },
  {
   "cell_type": "code",
   "execution_count": 10,
   "id": "87b77ff9-da67-4f6f-9e8f-377b3f60a5f5",
   "metadata": {},
   "outputs": [
    {
     "name": "stdout",
     "output_type": "stream",
     "text": [
      "      Education  JoiningYear       City  PaymentTier  Age  Gender EverBenched  \\\n",
      "0     Bachelors         2017  Bangalore            3   34    Male          No   \n",
      "1     Bachelors         2013       Pune            1   28  Female          No   \n",
      "2     Bachelors         2014  New Delhi            3   38  Female          No   \n",
      "3       Masters         2016  Bangalore            3   27    Male          No   \n",
      "4       Masters         2017       Pune            3   24    Male         Yes   \n",
      "...         ...          ...        ...          ...  ...     ...         ...   \n",
      "4648  Bachelors         2013  Bangalore            3   26  Female          No   \n",
      "4649    Masters         2013       Pune            2   37    Male          No   \n",
      "4650    Masters         2018  New Delhi            3   27    Male          No   \n",
      "4651  Bachelors         2012  Bangalore            3   30    Male         Yes   \n",
      "4652  Bachelors         2015  Bangalore            3   33    Male         Yes   \n",
      "\n",
      "      ExperienceInCurrentDomain  LeaveOrNot           EDU-age  \n",
      "0                             0           0    bachelors Male  \n",
      "1                             3           1  bachelors Female  \n",
      "2                             2           0  bachelors Female  \n",
      "3                             5           1      masters Male  \n",
      "4                             2           1      masters Male  \n",
      "...                         ...         ...               ...  \n",
      "4648                          4           0  bachelors Female  \n",
      "4649                          2           1      masters Male  \n",
      "4650                          5           1      masters Male  \n",
      "4651                          2           0    bachelors Male  \n",
      "4652                          4           0    bachelors Male  \n",
      "\n",
      "[4653 rows x 10 columns]\n"
     ]
    }
   ],
   "source": [
    "\n",
    "\n",
    "data[\"EDU-age\"]=data[\"Education\"].str.lower()+\" \"+data[\"Gender\"].str.capitalize()\n",
    "print(data)"
   ]
  },
  {
   "cell_type": "code",
   "execution_count": 17,
   "id": "90853bd0-4ff2-4aa2-9d98-766658998948",
   "metadata": {},
   "outputs": [
    {
     "name": "stdout",
     "output_type": "stream",
     "text": [
      "   ID  Experience_Years  Age  Gender   Salary\n",
      "0   1                 5   28  Female   250000\n",
      "1   2                 1   21    Male    50000\n",
      "2   3                 3   23  Female   170000\n",
      "3   4                 2   22    Male    25000\n",
      "4   5                 1   17    Male    10000\n",
      "5   6                25   62    Male  5001000\n",
      "6   7                19   54  Female   800000\n",
      "7   8                 2   21  Female     9000\n",
      "8   9                10   36  Female    61500\n",
      "9  10                15   54  Female   650000\n"
     ]
    }
   ],
   "source": [
    "import pandas as pd\n",
    "import numpy as np\n",
    "data=pd.read_csv(\"D:/05_DATA CLEANING AND PREPROCESSING/Employee_Salary_Dataset.csv\")\n",
    "print(data.head(10))"
   ]
  },
  {
   "cell_type": "code",
   "execution_count": 18,
   "id": "72cf28ff-507e-482e-b541-c21610a7f9ec",
   "metadata": {},
   "outputs": [
    {
     "name": "stdout",
     "output_type": "stream",
     "text": [
      "   ID  Experience_Years  Age  Gender   Salary\n",
      "0   1                 5   28  Female   250000\n",
      "1   2                 1   21    Male    50000\n",
      "2   3                 3   23  Female   170000\n",
      "3   4                 2   22    Male    25000\n",
      "4   5                 1   17    Male    10000\n",
      "5   6                25   62    Male  5001000\n",
      "6   7                19   54  Female   800000\n",
      "7   8                 2   21  Female     9000\n",
      "8   9                10   36  Female    61500\n",
      "9  10                15   54  Female   650000\n",
      "   ID  Experience_Years  Age  Gender   Salary      Bonus\n",
      "0   1                 5   28  Female   250000    50000.0\n",
      "1   2                 1   21    Male    50000    10000.0\n",
      "2   3                 3   23  Female   170000    34000.0\n",
      "3   4                 2   22    Male    25000     5000.0\n",
      "4   5                 1   17    Male    10000     2000.0\n",
      "5   6                25   62    Male  5001000  1000200.0\n",
      "6   7                19   54  Female   800000   160000.0\n",
      "7   8                 2   21  Female     9000     1800.0\n",
      "8   9                10   36  Female    61500    12300.0\n",
      "9  10                15   54  Female   650000   130000.0\n"
     ]
    }
   ],
   "source": [
    "print(data.head(10))\n",
    "\n",
    "data[\"Bonus\"]=(data[\"Salary\"]/100)*20\n",
    "print(data.head(10))"
   ]
  },
  {
   "cell_type": "markdown",
   "id": "7c75c5c5-5b52-4528-b8f1-2936bf6ca72e",
   "metadata": {},
   "source": [
    "### map shorts mmonths"
   ]
  },
  {
   "cell_type": "markdown",
   "id": "2687f55c-e33b-47af-8fef-8e7fa27b820c",
   "metadata": {},
   "source": [
    "### prcatice"
   ]
  },
  {
   "cell_type": "code",
   "execution_count": 25,
   "id": "5cf91bdb-c913-4b16-bda0-82624903b332",
   "metadata": {},
   "outputs": [
    {
     "name": "stdout",
     "output_type": "stream",
     "text": [
      "     Months\n",
      "0   janaury\n",
      "1  february\n",
      "2     March\n",
      "3     April\n",
      "     Months Short_months\n",
      "0   janaury          jan\n",
      "1  february          feb\n",
      "2     March          Mar\n",
      "3     April          Apr\n"
     ]
    }
   ],
   "source": [
    "data={\"Months\":[\"janaury\",\"february\",\"March\",\"April\"]}\n",
    "\n",
    "\n",
    "a=pd.DataFrame(data)\n",
    "print(a)\n",
    "\n",
    "def extract(value):\n",
    "    return value[0:3]\n",
    "\n",
    "\n",
    "a[\"Short_months\"]= a[\"Months\"].map(extract)\n",
    "print(a)"
   ]
  },
  {
   "cell_type": "code",
   "execution_count": null,
   "id": "8ad6e23f-3304-4417-8b2a-c617876c1516",
   "metadata": {},
   "outputs": [],
   "source": []
  }
 ],
 "metadata": {
  "kernelspec": {
   "display_name": "Python 3 (ipykernel)",
   "language": "python",
   "name": "python3"
  },
  "language_info": {
   "codemirror_mode": {
    "name": "ipython",
    "version": 3
   },
   "file_extension": ".py",
   "mimetype": "text/x-python",
   "name": "python",
   "nbconvert_exporter": "python",
   "pygments_lexer": "ipython3",
   "version": "3.13.0"
  }
 },
 "nbformat": 4,
 "nbformat_minor": 5
}
