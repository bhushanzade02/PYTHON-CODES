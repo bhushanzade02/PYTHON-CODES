{
 "cells": [
  {
   "cell_type": "markdown",
   "id": "1b5e6138-f5d9-45fc-bb64-a6798ed4151d",
   "metadata": {},
   "source": [
    "## column transformation in pandas"
   ]
  },
  {
   "cell_type": "code",
   "execution_count": 2,
   "id": "15a1d58c-bbb7-43e8-8971-33ec28277da3",
   "metadata": {},
   "outputs": [],
   "source": [
    "import pandas as pd \n",
    "data=pd.read_csv(\"D:/05_DATA CLEANING AND PREPROCESSING/Employee_Salary_Dataset.csv\")"
   ]
  },
  {
   "cell_type": "code",
   "execution_count": 3,
   "id": "ef613b84-7f41-4073-8608-71caae29300b",
   "metadata": {},
   "outputs": [
    {
     "name": "stdout",
     "output_type": "stream",
     "text": [
      "    ID  Experience_Years  Age  Gender    Salary\n",
      "0    1                 5   28  Female    250000\n",
      "1    2                 1   21    Male     50000\n",
      "2    3                 3   23  Female    170000\n",
      "3    4                 2   22    Male     25000\n",
      "4    5                 1   17    Male     10000\n",
      "5    6                25   62    Male   5001000\n",
      "6    7                19   54  Female    800000\n",
      "7    8                 2   21  Female      9000\n",
      "8    9                10   36  Female     61500\n",
      "9   10                15   54  Female    650000\n",
      "10  11                 4   26  Female    250000\n",
      "11  12                 6   29    Male   1400000\n",
      "12  13                14   39    Male   6000050\n",
      "13  14                11   40    Male    220100\n",
      "14  15                 2   23    Male      7500\n",
      "15  16                 4   27  Female     87000\n",
      "16  17                10   34  Female    930000\n",
      "17  18                15   54  Female   7900000\n",
      "18  19                 2   21    Male     15000\n",
      "19  20                10   36    Male    330000\n",
      "20  21                15   54    Male   6570000\n",
      "21  22                 4   26    Male     25000\n",
      "22  23                 5   29    Male   6845000\n",
      "23  24                 1   21  Female      6000\n",
      "24  25                 4   23  Female      8900\n",
      "25  26                 3   22  Female     20000\n",
      "26  27                 1   18    Male      3000\n",
      "27  28                27   62  Female  10000000\n",
      "28  29                19   54  Female   5000000\n",
      "29  30                 2   21  Female      6100\n",
      "30  31                10   34    Male     80000\n",
      "31  32                15   54    Male    900000\n",
      "32  33                20   55  Female   1540000\n",
      "33  34                19   53  Female   9300000\n",
      "34  35                16   49    Male   7600000\n"
     ]
    }
   ],
   "source": [
    "print(data)"
   ]
  },
  {
   "cell_type": "code",
   "execution_count": null,
   "id": "27fa3b51-dba8-4b16-8f9d-b3c1aa3f327b",
   "metadata": {},
   "outputs": [],
   "source": []
  }
 ],
 "metadata": {
  "kernelspec": {
   "display_name": "Python 3 (ipykernel)",
   "language": "python",
   "name": "python3"
  },
  "language_info": {
   "codemirror_mode": {
    "name": "ipython",
    "version": 3
   },
   "file_extension": ".py",
   "mimetype": "text/x-python",
   "name": "python",
   "nbconvert_exporter": "python",
   "pygments_lexer": "ipython3",
   "version": "3.13.0"
  }
 },
 "nbformat": 4,
 "nbformat_minor": 5
}
