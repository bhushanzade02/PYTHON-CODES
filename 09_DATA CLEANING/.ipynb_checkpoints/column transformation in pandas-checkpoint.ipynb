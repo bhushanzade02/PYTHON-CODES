{
 "cells": [
  {
   "cell_type": "code",
   "execution_count": 1,
   "id": "d3c150dd-a350-44b9-b9e4-0273392af9fd",
   "metadata": {},
   "outputs": [],
   "source": [
    "import pandas as pd\n",
    "import numpy as np\n",
    "data=pd.read_csv(\"D:/05_DATA CLEANING AND PREPROCESSING/employee_records.csv\")"
   ]
  },
  {
   "cell_type": "code",
   "execution_count": 3,
   "id": "f26ed5d4-c816-4caa-ab9f-19b15bd4098f",
   "metadata": {},
   "outputs": [
    {
     "name": "stdout",
     "output_type": "stream",
     "text": [
      "      employee_id              name  \\\n",
      "0          396941      Tammy Valdez   \n",
      "1          289507  Debbie Castaneda   \n",
      "2          500857   James Rodriguez   \n",
      "3          501196      Hunter Brown   \n",
      "4          325944    Jamie Williams   \n",
      "...           ...               ...   \n",
      "1995       994876      Michael Beck   \n",
      "1996       996490  Alexandra Fuller   \n",
      "1997       409079     Juan Campbell   \n",
      "1998       329310    Jessica Howard   \n",
      "1999       461268       Albert Lang   \n",
      "\n",
      "                                             job_title       department  \\\n",
      "0     Administrator, charities/voluntary organisations    supply-chains   \n",
      "1                  Designer, blown glass/stained glass     deliverables   \n",
      "2                            Psychologist, counselling            users   \n",
      "3                                       Data scientist     action-items   \n",
      "4                                   Production manager      communities   \n",
      "...                                                ...              ...   \n",
      "1995                           Human resources officer  functionalities   \n",
      "1996                              Merchandiser, retail     applications   \n",
      "1997                  Training and development officer  functionalities   \n",
      "1998                                Press photographer       e-business   \n",
      "1999                                   Mining engineer            users   \n",
      "\n",
      "                                 email           phone_number date_of_hiring  \\\n",
      "0                 oanderson@gibson.com      512-507-0524x1231     2019-05-12   \n",
      "1        davidbrown@krueger-harper.com    (590)110-8719x53241     2013-12-18   \n",
      "2             laurenwilliams@knapp.com     (983)416-3026x6694     2014-05-31   \n",
      "3              kimberly31@anderson.com           300-921-0488     2022-02-03   \n",
      "4                    david13@smith.com     741.564.4209x04454     2021-11-23   \n",
      "...                                ...                    ...            ...   \n",
      "1995  nicholsonjoseph@hood-spencer.com    +1-690-355-9016x164     2021-06-03   \n",
      "1996   caroline74@rush-blankenship.com          (150)181-0844     2018-01-30   \n",
      "1997             anthony31@alvarez.biz  001-117-571-6559x6177     2014-12-04   \n",
      "1998             joshua51@mitchell.net           273.080.8744     2019-03-02   \n",
      "1999  kathyfrye@washington-johnson.net        +1-934-378-1416     2014-09-16   \n",
      "\n",
      "      salary  \n",
      "0      77744  \n",
      "1      85059  \n",
      "2      86053  \n",
      "3      59217  \n",
      "4      62276  \n",
      "...      ...  \n",
      "1995   97006  \n",
      "1996   58635  \n",
      "1997  136633  \n",
      "1998  124931  \n",
      "1999  104141  \n",
      "\n",
      "[2000 rows x 8 columns]\n"
     ]
    }
   ],
   "source": [
    "print(data)"
   ]
  },
  {
   "cell_type": "code",
   "execution_count": null,
   "id": "6304c02b-c360-4434-85b1-8273e9d08228",
   "metadata": {},
   "outputs": [],
   "source": []
  }
 ],
 "metadata": {
  "kernelspec": {
   "display_name": "Python 3 (ipykernel)",
   "language": "python",
   "name": "python3"
  },
  "language_info": {
   "codemirror_mode": {
    "name": "ipython",
    "version": 3
   },
   "file_extension": ".py",
   "mimetype": "text/x-python",
   "name": "python",
   "nbconvert_exporter": "python",
   "pygments_lexer": "ipython3",
   "version": "3.13.0"
  }
 },
 "nbformat": 4,
 "nbformat_minor": 5
}
