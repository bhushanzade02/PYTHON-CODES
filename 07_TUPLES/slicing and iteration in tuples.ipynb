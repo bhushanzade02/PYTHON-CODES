{
 "cells": [
  {
   "cell_type": "markdown",
   "id": "62789225-94d0-438c-af4a-6bd891f5a9a7",
   "metadata": {},
   "source": [
    "# Tuples"
   ]
  },
  {
   "cell_type": "code",
   "execution_count": 9,
   "id": "ef684590-8795-4754-b1fa-b03db69d44a4",
   "metadata": {},
   "outputs": [
    {
     "name": "stdout",
     "output_type": "stream",
     "text": [
      "<class 'tuple'>\n"
     ]
    }
   ],
   "source": [
    "a=\"apples\",\"MAngoes\",\"banana\"\n",
    "print(type(a))"
   ]
  },
  {
   "cell_type": "code",
   "execution_count": 3,
   "id": "71018b88-a1de-4843-98ef-a5699690961d",
   "metadata": {},
   "outputs": [
    {
     "name": "stdout",
     "output_type": "stream",
     "text": [
      "<class 'tuple'>\n"
     ]
    }
   ],
   "source": [
    "b=\"ironman\",\n",
    "print(type(b))"
   ]
  },
  {
   "cell_type": "markdown",
   "id": "5973dc1b-42ea-4f3d-8b93-25c3dc98a336",
   "metadata": {},
   "source": [
    "## Slicing"
   ]
  },
  {
   "cell_type": "code",
   "execution_count": 11,
   "id": "4a6d9184-82b2-4625-a730-98a5066c0b8a",
   "metadata": {},
   "outputs": [
    {
     "name": "stdout",
     "output_type": "stream",
     "text": [
      "('vivo', 'nokia')\n",
      "('oneplus', 'vivo', 'redmi')\n",
      "('redmi', 'samsung', 'nokia')\n",
      "('vivo', 'samsung')\n",
      "('nokia', 'samsung', 'redmi', 'vivo', 'oneplus')\n",
      "('redmi', 'vivo', 'oneplus')\n"
     ]
    }
   ],
   "source": [
    "a=\"oneplus\",\"vivo\",\"redmi\",\"samsung\",\"nokia\"\n",
    "print(a[1::3])\n",
    "print(a[:3])\n",
    "print(a[2:])\n",
    "print(a[1::2])\n",
    "print(a[::-1])\n",
    "print(a[2::-1])"
   ]
  },
  {
   "cell_type": "markdown",
   "id": "6d47c54e-a595-43d8-8348-de56d7c3a079",
   "metadata": {},
   "source": [
    "\n",
    "## iteration"
   ]
  },
  {
   "cell_type": "code",
   "execution_count": 12,
   "id": "694468d6-9515-4cf1-aa9d-edaf1c38c32b",
   "metadata": {},
   "outputs": [
    {
     "name": "stdout",
     "output_type": "stream",
     "text": [
      "oneplus\n",
      "vivo\n",
      "redmi\n",
      "samsung\n",
      "nokia\n"
     ]
    }
   ],
   "source": [
    "for i in a:\n",
    "    print(i)"
   ]
  },
  {
   "cell_type": "code",
   "execution_count": 13,
   "id": "22608540-dde4-4cbc-b448-e9667d02ac07",
   "metadata": {},
   "outputs": [
    {
     "name": "stdout",
     "output_type": "stream",
     "text": [
      "oneplus\n",
      "vivo\n",
      "redmi\n",
      "samsung\n",
      "nokia\n"
     ]
    }
   ],
   "source": [
    "for i in range(len(a)):\n",
    "    print(a[i])\n"
   ]
  },
  {
   "cell_type": "code",
   "execution_count": 16,
   "id": "174e5667-0ac8-472b-90ec-1b6a9c3affe7",
   "metadata": {},
   "outputs": [
    {
     "name": "stdout",
     "output_type": "stream",
     "text": [
      "oneplus\n",
      "vivo\n",
      "redmi\n",
      "samsung\n",
      "nokia\n"
     ]
    }
   ],
   "source": [
    "i=0\n",
    "while i<(len(a)):\n",
    "    print(a[i])\n",
    "    i+=1\n",
    "\n"
   ]
  },
  {
   "cell_type": "code",
   "execution_count": null,
   "id": "59a6f40b-76f7-4974-8407-140759dc24cb",
   "metadata": {},
   "outputs": [],
   "source": []
  }
 ],
 "metadata": {
  "kernelspec": {
   "display_name": "Python 3 (ipykernel)",
   "language": "python",
   "name": "python3"
  },
  "language_info": {
   "codemirror_mode": {
    "name": "ipython",
    "version": 3
   },
   "file_extension": ".py",
   "mimetype": "text/x-python",
   "name": "python",
   "nbconvert_exporter": "python",
   "pygments_lexer": "ipython3",
   "version": "3.13.0"
  }
 },
 "nbformat": 4,
 "nbformat_minor": 5
}
