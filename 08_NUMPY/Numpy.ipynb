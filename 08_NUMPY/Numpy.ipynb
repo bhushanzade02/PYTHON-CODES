{
 "cells": [
  {
   "cell_type": "code",
   "execution_count": 7,
   "id": "7a4a4ac9-ea86-40ef-b9b2-b6174e6374f9",
   "metadata": {},
   "outputs": [
    {
     "name": "stdout",
     "output_type": "stream",
     "text": [
      "[12 35 57 77]\n",
      "<class 'numpy.ndarray'>\n"
     ]
    }
   ],
   "source": [
    "import numpy as np\n",
    "arr=np.array([12,35,57,77])\n",
    "print(arr)\n",
    "print(type(arr))"
   ]
  },
  {
   "cell_type": "code",
   "execution_count": 10,
   "id": "14bc0b02-0518-4ca8-9d10-f59a89f41858",
   "metadata": {},
   "outputs": [
    {
     "name": "stdout",
     "output_type": "stream",
     "text": [
      "[[12 13 14 15]\n",
      " [16 17 18 19]\n",
      " [20 21 22 23]]\n"
     ]
    }
   ],
   "source": [
    "#2d array\n",
    "import numpy as np\n",
    "arr=np.array([[12,13,14,15],[16,17,18,19],[20,21,22,23]])\n",
    "print(arr)"
   ]
  },
  {
   "cell_type": "code",
   "execution_count": 1,
   "id": "7f20f09e-3da6-44c5-aea2-b0abca749674",
   "metadata": {},
   "outputs": [
    {
     "name": "stdout",
     "output_type": "stream",
     "text": [
      "[20 40 60 80 90]\n"
     ]
    }
   ],
   "source": [
    "import numpy as np \n",
    "a=np.array([20,40,60,80])\n",
    "print(np.append(a,90))"
   ]
  },
  {
   "cell_type": "code",
   "execution_count": 2,
   "id": "3ebbffbe-1a6b-470e-9b59-10015a3f1846",
   "metadata": {},
   "outputs": [
    {
     "name": "stdout",
     "output_type": "stream",
     "text": [
      "[ 20  40  60  80  90 100]\n"
     ]
    }
   ],
   "source": [
    "import numpy as np \n",
    "a=np.array([[20,40],[60,80]])\n",
    "print(np.append(a,[90,100]))"
   ]
  },
  {
   "cell_type": "code",
   "execution_count": 3,
   "id": "fecc078a-df72-4c7b-bca7-0cd868dbf841",
   "metadata": {},
   "outputs": [
    {
     "name": "stdout",
     "output_type": "stream",
     "text": [
      "[20 40 60 80 90]\n"
     ]
    }
   ],
   "source": [
    "import numpy as np \n",
    "a=np.array([[20,40],[60,80]])\n",
    "print(np.append(a,90))"
   ]
  },
  {
   "cell_type": "markdown",
   "id": "51bbe94a-08fe-4323-b31f-5b387519bc4e",
   "metadata": {},
   "source": [
    "## NP.INSERT"
   ]
  },
  {
   "cell_type": "code",
   "execution_count": 4,
   "id": "f50a95cf-f92e-44cf-a326-169d340acf71",
   "metadata": {},
   "outputs": [
    {
     "name": "stdout",
     "output_type": "stream",
     "text": [
      "[ 20  40  60  80  90 100]\n"
     ]
    }
   ],
   "source": [
    "import numpy as np\n",
    "a=np.array([20,40,60,80])\n",
    "print(np.append(a,[90,100]))"
   ]
  },
  {
   "cell_type": "code",
   "execution_count": 6,
   "id": "127c1961-ccc2-4444-a8fe-aced73b9024b",
   "metadata": {},
   "outputs": [
    {
     "name": "stdout",
     "output_type": "stream",
     "text": [
      "[20 88 40 60 80]\n"
     ]
    }
   ],
   "source": [
    "print(np.insert(a,1,88))"
   ]
  },
  {
   "cell_type": "code",
   "execution_count": 18,
   "id": "458b2b82-8b64-4226-8e78-75723b2d6377",
   "metadata": {},
   "outputs": [],
   "source": [
    "import numpy as np\n",
    "a=np.array([[20,40],[60,80]])"
   ]
  },
  {
   "cell_type": "code",
   "execution_count": 19,
   "id": "b0e96484-6fa7-4c1e-9e48-39e8a8311c1a",
   "metadata": {},
   "outputs": [
    {
     "name": "stdout",
     "output_type": "stream",
     "text": [
      "[[20 50 40]\n",
      " [60 60 80]]\n"
     ]
    }
   ],
   "source": [
    "print(np.insert(a,1,[50,60], axis=1))"
   ]
  },
  {
   "cell_type": "code",
   "execution_count": 20,
   "id": "69a31195-919b-4168-a680-d60aa27be2ed",
   "metadata": {},
   "outputs": [
    {
     "name": "stdout",
     "output_type": "stream",
     "text": [
      "[[20 40]\n",
      " [50 60]\n",
      " [60 80]]\n"
     ]
    }
   ],
   "source": [
    "print(np.insert(a,1,[50,60],axis=0))"
   ]
  },
  {
   "cell_type": "code",
   "execution_count": 26,
   "id": "48499562-a796-4fc0-a4b6-1289b582bdaa",
   "metadata": {},
   "outputs": [
    {
     "name": "stdout",
     "output_type": "stream",
     "text": [
      "[[20 40]\n",
      " [50 50]\n",
      " [60 80]\n",
      " [50 50]]\n"
     ]
    }
   ],
   "source": [
    "print(np.insert(a,[1,2],[50],axis=0))"
   ]
  },
  {
   "cell_type": "raw",
   "id": "c73d0c2e-d48f-41bf-9936-23eb96af3c83",
   "metadata": {},
   "source": [
    "print(a)"
   ]
  },
  {
   "cell_type": "code",
   "execution_count": 2,
   "id": "4b3cf65b-f074-46ee-bf8f-a08dc300a378",
   "metadata": {},
   "outputs": [],
   "source": [
    "import numpy as np\n",
    "a=np.array([[20,40],[60,80]])"
   ]
  },
  {
   "cell_type": "code",
   "execution_count": 28,
   "id": "ee8c6c9b-34b2-48a6-aef7-6c91aa397d0a",
   "metadata": {},
   "outputs": [
    {
     "name": "stdout",
     "output_type": "stream",
     "text": [
      "[[20 40]\n",
      " [60 80]]\n"
     ]
    }
   ],
   "source": [
    "print(a)"
   ]
  },
  {
   "cell_type": "code",
   "execution_count": 29,
   "id": "8f065980-c7df-470c-afd0-d81002798b96",
   "metadata": {},
   "outputs": [
    {
     "name": "stdout",
     "output_type": "stream",
     "text": [
      "[20 60 80]\n"
     ]
    }
   ],
   "source": [
    "print(np.delete(a,1))"
   ]
  },
  {
   "cell_type": "code",
   "execution_count": 3,
   "id": "4b5a9bfc-4ac9-4c56-9560-070d8f084496",
   "metadata": {},
   "outputs": [
    {
     "name": "stdout",
     "output_type": "stream",
     "text": [
      "[[20 40]\n",
      " [60 80]]\n"
     ]
    }
   ],
   "source": [
    "print(a)"
   ]
  },
  {
   "cell_type": "code",
   "execution_count": 10,
   "id": "b0fb7a4d-116f-43f1-afb1-080933f2249f",
   "metadata": {},
   "outputs": [
    {
     "name": "stdout",
     "output_type": "stream",
     "text": [
      "[[20 40]\n",
      " [60 80]]\n",
      "\n",
      "[[20 40]]\n"
     ]
    }
   ],
   "source": [
    "print(a)\n",
    "print()\n",
    "print(np.delete(a,1, axis =0))"
   ]
  },
  {
   "cell_type": "markdown",
   "id": "4a21c20b-d9ee-48e4-8170-ab63b20808b4",
   "metadata": {},
   "source": [
    "## sort "
   ]
  },
  {
   "cell_type": "code",
   "execution_count": 12,
   "id": "066fe1bf-99fb-4045-9df4-54f4d2b61ffd",
   "metadata": {},
   "outputs": [
    {
     "name": "stdout",
     "output_type": "stream",
     "text": [
      "[[ 4  7  8  9 12]\n",
      " [ 1  2  2  5  8]]\n"
     ]
    }
   ],
   "source": [
    "import numpy as np\n",
    "arr= np.array([[7,8,4,12,9],[2,8,5,1,2]])\n",
    "print(np.sort(arr))"
   ]
  },
  {
   "cell_type": "markdown",
   "id": "3a4bc5e7-7293-4d7b-af77-e832cee4822f",
   "metadata": {},
   "source": [
    "## Search"
   ]
  },
  {
   "cell_type": "code",
   "execution_count": 13,
   "id": "2c08ba42-772c-43d7-aed9-d3b2f8507358",
   "metadata": {},
   "outputs": [
    {
     "name": "stdout",
     "output_type": "stream",
     "text": [
      "(array([1]),)\n"
     ]
    }
   ],
   "source": [
    "arr=np.array([3,4,7,1,8])\n",
    "s=np.where(arr == 4)\n",
    "print(s)"
   ]
  },
  {
   "cell_type": "code",
   "execution_count": 21,
   "id": "02fa8f7c-d660-4a64-a0ed-133b60e8ba83",
   "metadata": {},
   "outputs": [
    {
     "name": "stdout",
     "output_type": "stream",
     "text": [
      "(array([1, 4]),)\n"
     ]
    }
   ],
   "source": [
    "arr=np.array([3,4,7,1,8])\n",
    "s=np.where(arr %2==0)\n",
    "print(s)\n"
   ]
  },
  {
   "cell_type": "markdown",
   "id": "a6517a23-3148-49ba-804f-b5b655d4cc7d",
   "metadata": {},
   "source": [
    "## Filters"
   ]
  },
  {
   "cell_type": "code",
   "execution_count": null,
   "id": "4388b095-a76b-49d7-8970-8525fa610c5f",
   "metadata": {},
   "outputs": [],
   "source": [
    "arr =np.array([20,30,40,60])\n",
    "fa=[True,False,True,False]\n",
    "new=arr[fa]\n",
    "print(new)"
   ]
  },
  {
   "cell_type": "code",
   "execution_count": 26,
   "id": "302fe169-c941-44e3-8504-8dfd230de658",
   "metadata": {},
   "outputs": [
    {
     "name": "stdout",
     "output_type": "stream",
     "text": [
      "[20]\n"
     ]
    }
   ],
   "source": [
    "arr =np.array([20,30,40,60])\n",
    "fa=[True,False,False,False]\n",
    "new=arr[fa]\n",
    "print(new)"
   ]
  },
  {
   "cell_type": "code",
   "execution_count": 29,
   "id": "e5302eaa-c1f4-4346-a54e-2ef8339763b7",
   "metadata": {},
   "outputs": [
    {
     "name": "stdout",
     "output_type": "stream",
     "text": [
      "[]\n"
     ]
    }
   ],
   "source": [
    "arr =np.array([20,30,40,60])\n",
    "fa=arr>35\n",
    "new=arr[fa]\n",
    "print(new)"
   ]
  },
  {
   "cell_type": "code",
   "execution_count": 41,
   "id": "67fc41ba-a5a6-428c-a582-0195d7949fe2",
   "metadata": {},
   "outputs": [
    {
     "name": "stdout",
     "output_type": "stream",
     "text": [
      "[3]\n"
     ]
    }
   ],
   "source": [
    "arr =np.array([2,3,4,6])\n",
    "fa=arr%2==1\n",
    "new=arr[fa]\n",
    "print(new)"
   ]
  },
  {
   "cell_type": "markdown",
   "id": "25d79a36-d896-40d6-827a-8e7f50048afd",
   "metadata": {},
   "source": [
    "## agreagrate function in array"
   ]
  },
  {
   "cell_type": "code",
   "execution_count": 48,
   "id": "cabd0504-64f7-4186-beb3-8e41d4de3c12",
   "metadata": {},
   "outputs": [
    {
     "name": "stdout",
     "output_type": "stream",
     "text": [
      "190\n",
      "20\n",
      "70\n",
      "47.5\n",
      "[ 20  60 120 190]\n",
      "[     20     800   48000 3360000]\n"
     ]
    }
   ],
   "source": [
    "import numpy as np\n",
    "a= np.array([20,40,60,70])\n",
    "print(np.sum(a))\n",
    "print(np.min(a))\n",
    "print(np.max(a))\n",
    "print(np.mean(a))\n",
    "print(np.cumsum(a))\n",
    "print(np.cumprod(a))"
   ]
  },
  {
   "cell_type": "code",
   "execution_count": 52,
   "id": "e67e49c3-8172-41db-afef-121f08b87a70",
   "metadata": {},
   "outputs": [
    {
     "name": "stdout",
     "output_type": "stream",
     "text": [
      "[100 150 199 200 250 130] \n",
      " [10 50 30 40 30 10]\n",
      "31270\n"
     ]
    }
   ],
   "source": [
    " a= [100,150,199,200,250,130]\n",
    "b=[10,50,30,40,30,10]\n",
    "price=np.array(a)\n",
    "quantity=np.array(b)\n",
    "print(price,\"\\n\",quantity)\n",
    "c=np.cumprod([price,quantity], axis =0)\n",
    "print(c[1].sum())"
   ]
  },
  {
   "cell_type": "markdown",
   "id": "48bc3db7-adc9-40b5-9a89-90a39cb82255",
   "metadata": {},
   "source": [
    "## statistcical function in array"
   ]
  },
  {
   "cell_type": "code",
   "execution_count": 5,
   "id": "2deb058b-b084-41d8-97c5-70fe04ab9c52",
   "metadata": {},
   "outputs": [
    {
     "name": "stdout",
     "output_type": "stream",
     "text": [
      "202.25\n",
      "194.0\n",
      "200\n",
      "55.68157235567257\n",
      "3100.4375\n"
     ]
    }
   ],
   "source": [
    "import numpy as np\n",
    "import statistics as stats\n",
    "bak_food= [200,300,150,130,200,280,170,188]\n",
    "a= np.array(bak_food)\n",
    "print(np.mean(bak_food))\n",
    "print(np.median(bak_food))\n",
    "print(stats.mode(bak_food))\n",
    "print(np.std(bak_food))\n",
    "print(np.var(bak_food))"
   ]
  },
  {
   "cell_type": "code",
   "execution_count": 9,
   "id": "2501bd1a-ec99-4c88-bd52-b261f6964e70",
   "metadata": {},
   "outputs": [
    {
     "name": "stdout",
     "output_type": "stream",
     "text": [
      "[[1.         0.99015454]\n",
      " [0.99015454 1.        ]]\n"
     ]
    }
   ],
   "source": [
    "toba_consum=[30,50,10,30,50,40]\n",
    "deaths=[100,120,70,100,120,112]\n",
    "print(np.corrcoef([toba_consum,deaths]))"
   ]
  },
  {
   "cell_type": "markdown",
   "id": "297260f0-ff98-471b-8f0c-1e2fc44f7397",
   "metadata": {},
   "source": [
    "## strongly negative values"
   ]
  },
  {
   "cell_type": "code",
   "execution_count": 10,
   "id": "644b4ab7-66ef-402a-83ba-408632f2e4eb",
   "metadata": {},
   "outputs": [
    {
     "name": "stdout",
     "output_type": "stream",
     "text": [
      "[[ 1.         -0.66621445]\n",
      " [-0.66621445  1.        ]]\n"
     ]
    }
   ],
   "source": [
    "#strongly negative values\n",
    "price=[300,100,350,150,200]\n",
    "sales=[10,20,7,17,3]\n",
    "\n",
    "print(np.corrcoef([price,sales]))"
   ]
  },
  {
   "cell_type": "code",
   "execution_count": null,
   "id": "2f546cb9-6436-4f4f-a045-50463e8f71a8",
   "metadata": {},
   "outputs": [],
   "source": []
  }
 ],
 "metadata": {
  "kernelspec": {
   "display_name": "Python 3 (ipykernel)",
   "language": "python",
   "name": "python3"
  },
  "language_info": {
   "codemirror_mode": {
    "name": "ipython",
    "version": 3
   },
   "file_extension": ".py",
   "mimetype": "text/x-python",
   "name": "python",
   "nbconvert_exporter": "python",
   "pygments_lexer": "ipython3",
   "version": "3.13.0"
  }
 },
 "nbformat": 4,
 "nbformat_minor": 5
}
