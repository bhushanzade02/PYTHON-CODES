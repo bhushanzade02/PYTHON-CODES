{
 "cells": [
  {
   "cell_type": "markdown",
   "id": "528d79c9-1e74-4ac8-b380-61e41755c030",
   "metadata": {},
   "source": [
    "# loops Pattern\n"
   ]
  },
  {
   "cell_type": "code",
   "execution_count": 5,
   "id": "8f15fbb1-3f02-42a8-895f-779068f1d17f",
   "metadata": {},
   "outputs": [
    {
     "name": "stdout",
     "output_type": "stream",
     "text": [
      "1\n",
      "12\n",
      "123\n",
      "1234\n",
      "12345\n"
     ]
    }
   ],
   "source": [
    "for i in range (1,6):\n",
    " for j in range(1,i+1):\n",
    "     print(j,end=\"\")\n",
    " print()"
   ]
  },
  {
   "cell_type": "code",
   "execution_count": 8,
   "id": "302499b0-baad-4281-956c-213efa9422d0",
   "metadata": {},
   "outputs": [
    {
     "name": "stdout",
     "output_type": "stream",
     "text": [
      "1\n",
      "12\n",
      "123\n",
      "1234\n",
      "12345\n"
     ]
    }
   ],
   "source": [
    "for i in range (1,6):\n",
    "    for j in range (1,i+1):\n",
    "        print(j,end=\"\")\n",
    "    print()"
   ]
  },
  {
   "cell_type": "markdown",
   "id": "86b1bf25-417f-41b1-ac99-d87b748dab11",
   "metadata": {},
   "source": [
    "# loops with conditional statement \n"
   ]
  },
  {
   "cell_type": "markdown",
   "id": "8b80f7e2-0e45-494f-807d-6fefbc7d6b7b",
   "metadata": {},
   "source": [
    "### example 1"
   ]
  },
  {
   "cell_type": "code",
   "execution_count": 9,
   "id": "c932e7cd-eb51-424d-be96-92de2b4711ca",
   "metadata": {},
   "outputs": [
    {
     "name": "stdout",
     "output_type": "stream",
     "text": [
      "1\n",
      "2\n",
      "this id my fav number\n",
      "4\n",
      "5\n",
      "6\n",
      "7\n",
      "8\n",
      "9\n"
     ]
    }
   ],
   "source": [
    "for i in range (1,10):\n",
    "    if i==3:\n",
    "        print(\"this id my fav number\")\n",
    "    else:\n",
    "        print(i)"
   ]
  },
  {
   "cell_type": "markdown",
   "id": "7168dcf4-bdfb-4024-9be3-90000b35e867",
   "metadata": {},
   "source": [
    "### example 2"
   ]
  },
  {
   "cell_type": "code",
   "execution_count": 15,
   "id": "c9478d9b-14b2-408d-9026-0b46635bf740",
   "metadata": {
    "scrolled": true
   },
   "outputs": [
    {
     "name": "stdout",
     "output_type": "stream",
     "text": [
      "24\n",
      "48\n",
      "72\n",
      "96\n"
     ]
    }
   ],
   "source": [
    "for i in range (1,100):\n",
    "    if i%8==0 and i%12==0:\n",
    "        print(i)"
   ]
  },
  {
   "cell_type": "markdown",
   "id": "8d7cef6c-6daa-4f34-acfc-fa402d0a5dec",
   "metadata": {},
   "source": [
    "### while loop with if -else conditional statement"
   ]
  },
  {
   "cell_type": "code",
   "execution_count": 23,
   "id": "b9cd9f19-55dc-49cd-bab9-f84980efb676",
   "metadata": {},
   "outputs": [
    {
     "name": "stdout",
     "output_type": "stream",
     "text": [
      "1\n",
      "2\n",
      "3\n",
      "this is my fav song\n",
      "5\n",
      "6\n",
      "7\n",
      "8\n",
      "9\n",
      "10\n"
     ]
    }
   ],
   "source": [
    "n=1\n",
    "\n",
    "while n<=10:\n",
    "    if n==4:\n",
    "        print(\"this is my fav song\")\n",
    "    else:\n",
    "        print(n)\n",
    "    n+=1"
   ]
  },
  {
   "cell_type": "markdown",
   "id": "6005af3c-a422-4d7e-89d4-7cae96623d3c",
   "metadata": {},
   "source": [
    "# continue Statement "
   ]
  },
  {
   "cell_type": "markdown",
   "id": "3bfafc81-ee1e-4e76-b24b-c027c49077e0",
   "metadata": {},
   "source": [
    "### skip the no 5 using continue statement"
   ]
  },
  {
   "cell_type": "code",
   "execution_count": 25,
   "id": "b4f07961-8807-4beb-9a64-1f3de69c291c",
   "metadata": {},
   "outputs": [
    {
     "name": "stdout",
     "output_type": "stream",
     "text": [
      "1\n",
      "2\n",
      "3\n",
      "4\n",
      "6\n",
      "7\n",
      "8\n",
      "9\n",
      "10\n"
     ]
    }
   ],
   "source": [
    "for i in range (1,11):\n",
    "    if i==5:\n",
    "        continue\n",
    "    else:\n",
    "        print(i)"
   ]
  },
  {
   "cell_type": "markdown",
   "id": "a65700c3-09c4-4132-89cf-6f925c7546d0",
   "metadata": {},
   "source": [
    "# Break Statement"
   ]
  },
  {
   "cell_type": "code",
   "execution_count": 29,
   "id": "21fabb72-0ac7-450b-9e96-c970a03f0724",
   "metadata": {},
   "outputs": [
    {
     "name": "stdout",
     "output_type": "stream",
     "text": [
      "1\n",
      "2\n",
      "3\n",
      "4\n",
      "5\n",
      "6\n",
      "7\n"
     ]
    }
   ],
   "source": [
    "for i in range(1,16):\n",
    "    if i ==8:\n",
    "        break\n",
    "    else:\n",
    "        print(i)"
   ]
  },
  {
   "cell_type": "markdown",
   "id": "eb315308-6e0d-4b28-ae55-ab8d09710b43",
   "metadata": {},
   "source": [
    "## problems"
   ]
  },
  {
   "cell_type": "code",
   "execution_count": 34,
   "id": "c9e1df35-31de-45c3-9bbb-30254e0d8b8b",
   "metadata": {},
   "outputs": [
    {
     "name": "stdout",
     "output_type": "stream",
     "text": [
      "650\n"
     ]
    }
   ],
   "source": [
    "sum=0\n",
    "for i in range(0,51):\n",
    "    if i%2==0:\n",
    "        sum=sum+i\n",
    "print(sum)\n",
    "        "
   ]
  },
  {
   "cell_type": "code",
   "execution_count": 35,
   "id": "43be3213-c10a-4fd4-a08f-76aa0d1d27a9",
   "metadata": {},
   "outputs": [
    {
     "name": "stdout",
     "output_type": "stream",
     "text": [
      "1 1\n",
      "2 4\n",
      "3 9\n",
      "4 16\n",
      "5 25\n",
      "6 36\n",
      "7 49\n",
      "8 64\n",
      "9 81\n",
      "10 100\n",
      "11 121\n",
      "12 144\n",
      "13 169\n",
      "14 196\n",
      "15 225\n"
     ]
    }
   ],
   "source": [
    "for i in range (1,16):\n",
    "    print(i,i*i)"
   ]
  },
  {
   "cell_type": "code",
   "execution_count": 46,
   "id": "d000ecd0-cee9-44d5-82e9-a59400025c14",
   "metadata": {},
   "outputs": [
    {
     "name": "stdout",
     "output_type": "stream",
     "text": [
      "100\n"
     ]
    }
   ],
   "source": [
    "sum=0\n",
    "n=0\n",
    "while n<=20:\n",
    "    if n%2!=0:\n",
    "        sum+=n\n",
    "    n+=1\n",
    "print(sum)"
   ]
  },
  {
   "cell_type": "code",
   "execution_count": 61,
   "id": "1cfd035b-bafb-4d8c-a1d3-cc88abc37a75",
   "metadata": {},
   "outputs": [
    {
     "ename": "TypeError",
     "evalue": "'int' object is not callable",
     "output_type": "error",
     "traceback": [
      "\u001b[1;31m---------------------------------------------------------------------------\u001b[0m",
      "\u001b[1;31mTypeError\u001b[0m                                 Traceback (most recent call last)",
      "Cell \u001b[1;32mIn[61], line 3\u001b[0m\n\u001b[0;32m      1\u001b[0m \u001b[38;5;28;01mfor\u001b[39;00m i \u001b[38;5;129;01min\u001b[39;00m \u001b[38;5;28mrange\u001b[39m(\u001b[38;5;241m1\u001b[39m,\u001b[38;5;241m101\u001b[39m):\n\u001b[0;32m      2\u001b[0m     \u001b[38;5;28;01mif\u001b[39;00m i\u001b[38;5;241m%\u001b[39m\u001b[38;5;241m8\u001b[39m\u001b[38;5;241m==\u001b[39m\u001b[38;5;241m0\u001b[39m \u001b[38;5;129;01mand\u001b[39;00m i\u001b[38;5;241m%\u001b[39m\u001b[38;5;241m12\u001b[39m\u001b[38;5;241m==\u001b[39m\u001b[38;5;241m0\u001b[39m:\n\u001b[1;32m----> 3\u001b[0m         \u001b[38;5;28;43mprint\u001b[39;49m\u001b[43m(\u001b[49m\u001b[43mi\u001b[49m\u001b[43m)\u001b[49m\n",
      "\u001b[1;31mTypeError\u001b[0m: 'int' object is not callable"
     ]
    }
   ],
   "source": [
    "for i in range(1,101):\n",
    "    if i%8==0 and i%12==0:\n",
    "        print(i)"
   ]
  },
  {
   "cell_type": "markdown",
   "id": "a2bcd449-adff-405d-a04b-ffb07e1f9e7d",
   "metadata": {},
   "source": [
    "### PROBLEM SOLVING"
   ]
  },
  {
   "cell_type": "code",
   "execution_count": 60,
   "id": "09c413e1-bd1e-4875-b521-b9276ba42bcf",
   "metadata": {},
   "outputs": [
    {
     "ename": "TypeError",
     "evalue": "'int' object is not callable",
     "output_type": "error",
     "traceback": [
      "\u001b[1;31m---------------------------------------------------------------------------\u001b[0m",
      "\u001b[1;31mTypeError\u001b[0m                                 Traceback (most recent call last)",
      "Cell \u001b[1;32mIn[60], line 2\u001b[0m\n\u001b[0;32m      1\u001b[0m a\u001b[38;5;241m=\u001b[39m\u001b[38;5;241m6\u001b[39m\n\u001b[1;32m----> 2\u001b[0m \u001b[38;5;28;43mprint\u001b[39;49m\u001b[43m(\u001b[49m\u001b[43ma\u001b[49m\u001b[43m)\u001b[49m\n",
      "\u001b[1;31mTypeError\u001b[0m: 'int' object is not callable"
     ]
    }
   ],
   "source": [
    "a=6\n",
    "print(a)"
   ]
  },
  {
   "cell_type": "code",
   "execution_count": null,
   "id": "deaef625-6dbb-4074-a161-7c7c8e0242d5",
   "metadata": {},
   "outputs": [],
   "source": []
  }
 ],
 "metadata": {
  "kernelspec": {
   "display_name": "Python 3 (ipykernel)",
   "language": "python",
   "name": "python3"
  },
  "language_info": {
   "codemirror_mode": {
    "name": "ipython",
    "version": 3
   },
   "file_extension": ".py",
   "mimetype": "text/x-python",
   "name": "python",
   "nbconvert_exporter": "python",
   "pygments_lexer": "ipython3",
   "version": "3.13.0"
  }
 },
 "nbformat": 4,
 "nbformat_minor": 5
}
