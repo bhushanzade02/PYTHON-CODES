{
 "cells": [
  {
   "cell_type": "markdown",
   "id": "e278876b-4261-411a-a539-34c6cb7d529d",
   "metadata": {},
   "source": [
    "## local And Global Variable"
   ]
  },
  {
   "cell_type": "code",
   "execution_count": 3,
   "id": "bd16e7ed-e029-48d5-aa5a-b9974921f86e",
   "metadata": {},
   "outputs": [
    {
     "name": "stdout",
     "output_type": "stream",
     "text": [
      "first variable x 24\n",
      "25\n",
      "24\n"
     ]
    }
   ],
   "source": [
    "x=24\n",
    "print(\"first variable x\",x)\n",
    "def hello():\n",
    "    x=25\n",
    "    return x\n",
    "print(hello())\n",
    "print(x)"
   ]
  },
  {
   "cell_type": "code",
   "execution_count": 5,
   "id": "8af9b164-6726-4aba-8096-e5249d16ab96",
   "metadata": {},
   "outputs": [
    {
     "name": "stdout",
     "output_type": "stream",
     "text": [
      "first variable x 24\n",
      "25\n",
      "25\n"
     ]
    }
   ],
   "source": [
    "x=24\n",
    "print(\"first variable x\",x)\n",
    "def hello():\n",
    "    global x\n",
    "    x = 25\n",
    "    return x\n",
    "print(hello())\n",
    "print(x)"
   ]
  },
  {
   "cell_type": "code",
   "execution_count": null,
   "id": "eecd2c31-0abb-480f-872f-c0aa86eb7961",
   "metadata": {},
   "outputs": [],
   "source": []
  }
 ],
 "metadata": {
  "kernelspec": {
   "display_name": "Python 3 (ipykernel)",
   "language": "python",
   "name": "python3"
  },
  "language_info": {
   "codemirror_mode": {
    "name": "ipython",
    "version": 3
   },
   "file_extension": ".py",
   "mimetype": "text/x-python",
   "name": "python",
   "nbconvert_exporter": "python",
   "pygments_lexer": "ipython3",
   "version": "3.13.0"
  }
 },
 "nbformat": 4,
 "nbformat_minor": 5
}
