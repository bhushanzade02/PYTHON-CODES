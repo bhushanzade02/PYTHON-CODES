{
 "cells": [
  {
   "cell_type": "markdown",
   "id": "60f5ea9e-d81d-4cb8-8401-c4cc8804daa8",
   "metadata": {},
   "source": [
    "## Lambda FUnction"
   ]
  },
  {
   "cell_type": "code",
   "execution_count": 2,
   "id": "ee0d50eb-eca9-46fd-8032-51be72de9a6a",
   "metadata": {},
   "outputs": [
    {
     "name": "stdout",
     "output_type": "stream",
     "text": [
      "30\n"
     ]
    }
   ],
   "source": [
    "a = lambda b: b*5\n",
    "print(a(6))"
   ]
  },
  {
   "cell_type": "code",
   "execution_count": 3,
   "id": "e24dc280-9ef4-4f6d-9f22-98ebdee5e7c6",
   "metadata": {},
   "outputs": [
    {
     "name": "stdout",
     "output_type": "stream",
     "text": [
      "42\n"
     ]
    }
   ],
   "source": [
    "a = lambda a,b,c: (a+b)*c\n",
    "print(a(2,5,6))"
   ]
  },
  {
   "cell_type": "code",
   "execution_count": null,
   "id": "40a67e13-1d05-41d2-9cfd-98d2b973c5e3",
   "metadata": {},
   "outputs": [],
   "source": []
  }
 ],
 "metadata": {
  "kernelspec": {
   "display_name": "Python 3 (ipykernel)",
   "language": "python",
   "name": "python3"
  },
  "language_info": {
   "codemirror_mode": {
    "name": "ipython",
    "version": 3
   },
   "file_extension": ".py",
   "mimetype": "text/x-python",
   "name": "python",
   "nbconvert_exporter": "python",
   "pygments_lexer": "ipython3",
   "version": "3.13.0"
  }
 },
 "nbformat": 4,
 "nbformat_minor": 5
}
