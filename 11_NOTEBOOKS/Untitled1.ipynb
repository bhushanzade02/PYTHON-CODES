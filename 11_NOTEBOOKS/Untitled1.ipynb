{
 "cells": [
  {
   "cell_type": "code",
   "execution_count": 1,
   "id": "8bf9189e-e4a1-4f6b-ae40-27638cb7bd28",
   "metadata": {},
   "outputs": [],
   "source": []
  },
  {
   "cell_type": "code",
   "execution_count": null,
   "id": "1ba05dfd-f38c-474f-8dac-14cc90e16371",
   "metadata": {},
   "outputs": [],
   "source": []
  },
  {
   "cell_type": "markdown",
   "id": "4936c4d4-9342-46b7-9c85-93b4017f45d9",
   "metadata": {},
   "source": [
    "# Heading 1"
   ]
  },
  {
   "cell_type": "markdown",
   "id": "ca6e9dae-1019-41a7-8033-e30c663ff3d6",
   "metadata": {},
   "source": [
    "# Heading 1\n"
   ]
  },
  {
   "cell_type": "code",
   "execution_count": null,
   "id": "f5da2548-8481-463c-aea9-752eec8f63db",
   "metadata": {},
   "outputs": [],
   "source": [
    "# BHUSHAN"
   ]
  }
 ],
 "metadata": {
  "kernelspec": {
   "display_name": "Python 3 (ipykernel)",
   "language": "python",
   "name": "python3"
  },
  "language_info": {
   "codemirror_mode": {
    "name": "ipython",
    "version": 3
   },
   "file_extension": ".py",
   "mimetype": "text/x-python",
   "name": "python",
   "nbconvert_exporter": "python",
   "pygments_lexer": "ipython3",
   "version": "3.13.0"
  }
 },
 "nbformat": 4,
 "nbformat_minor": 5
}
