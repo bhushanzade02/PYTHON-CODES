{
 "cells": [
  {
   "cell_type": "code",
   "execution_count": 1,
   "id": "df742db6-d3a2-45ef-931e-a905e8b2b6b9",
   "metadata": {},
   "outputs": [],
   "source": [
    "whdbjwhd"
   ]
  },
  {
   "cell_type": "code",
   "execution_count": null,
   "id": "292b5c0d-198b-4d2f-a209-7c12fa18f985",
   "metadata": {},
   "outputs": [],
   "source": []
  },
  {
   "cell_type": "markdown",
   "id": "1acbc7f9-7b23-444e-9e7a-14074dc36c35",
   "metadata": {},
   "source": [
    "###marks\n"
   ]
  }
 ],
 "metadata": {
  "kernelspec": {
   "display_name": "Python 3 (ipykernel)",
   "language": "python",
   "name": "python3"
  },
  "language_info": {
   "codemirror_mode": {
    "name": "ipython",
    "version": 3
   },
   "file_extension": ".py",
   "mimetype": "text/x-python",
   "name": "python",
   "nbconvert_exporter": "python",
   "pygments_lexer": "ipython3",
   "version": "3.13.0"
  }
 },
 "nbformat": 4,
 "nbformat_minor": 5
}
