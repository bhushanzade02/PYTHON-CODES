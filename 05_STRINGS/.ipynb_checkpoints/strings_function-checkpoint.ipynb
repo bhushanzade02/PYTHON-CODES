{
 "cells": [
  {
   "cell_type": "code",
   "execution_count": 1,
   "id": "1370982d-bb5b-4be2-abc8-7fea9ab9fb4e",
   "metadata": {},
   "outputs": [],
   "source": [
    "a = \"hello\"\n",
    "b = \"123hello\"\n",
    "c = \"123456\"\n",
    "d =\"HELLO every0ne\"\n",
    "e = \"\"\n",
    "f =\"hello 123\"\n",
    "g = \"1.234\"\n",
    "H=\"Harry Potter And The Goblet Of Fire\""
   ]
  },
  {
   "cell_type": "markdown",
   "id": "1ebb8609-2785-4d10-94c0-4521b0c4f582",
   "metadata": {},
   "source": [
    "## isalnum"
   ]
  },
  {
   "cell_type": "code",
   "execution_count": 16,
   "id": "cdd6a630-fcd8-4bb2-9e66-906fadf9a0ab",
   "metadata": {},
   "outputs": [
    {
     "name": "stdout",
     "output_type": "stream",
     "text": [
      "True\n",
      "True\n",
      "True\n",
      "False\n",
      "False\n",
      "False\n",
      "False\n",
      "False\n"
     ]
    }
   ],
   "source": [
    "print(a.isalnum())\n",
    "print(b.isalnum())\n",
    "print(c.isalnum())\n",
    "print(d.isalnum())\n",
    "print(e.isalnum())\n",
    "print(f.isalnum())\n",
    "print(g.isalnum())\n",
    "print(H.isalnum())"
   ]
  },
  {
   "cell_type": "markdown",
   "id": "57fc6cc1-35db-4882-974e-aa3f3eab26f5",
   "metadata": {},
   "source": [
    "## isalpha"
   ]
  },
  {
   "cell_type": "code",
   "execution_count": 22,
   "id": "fee1f203-bef3-4a76-9378-f01fa5ee6fae",
   "metadata": {},
   "outputs": [
    {
     "name": "stdout",
     "output_type": "stream",
     "text": [
      "True\n",
      "True\n",
      "False\n",
      "False\n",
      "False\n",
      "False\n",
      "False\n"
     ]
    }
   ],
   "source": [
    "print(a.isalpha())\n",
    "print(a.isalpha())\n",
    "print(c.isalpha())\n",
    "print(d.isalpha())\n",
    "print(e.isalpha())\n",
    "print(g.isalpha())\n",
    "print(H.isalpha())"
   ]
  },
  {
   "cell_type": "raw",
   "id": "8a07bb38-6961-46fe-87d3-67d616d4cca4",
   "metadata": {},
   "source": [
    "##a = \"hello\"\n",
    "b = \"123hello\"\n",
    "c = \"123456\"\n",
    "d =\"HELLO every0ne\"\n",
    "e = \"\"\n",
    "f =\"hello 123\"\n",
    "g = \"1.234\"\n",
    "H=\"Harry Potter And The Goblet Of Fire\"##"
   ]
  },
  {
   "cell_type": "code",
   "execution_count": 26,
   "id": "d89a0ec7-336d-494f-bc6c-db12a6260061",
   "metadata": {},
   "outputs": [
    {
     "name": "stdout",
     "output_type": "stream",
     "text": [
      "False\n",
      "False\n",
      "True\n",
      "False\n",
      "False\n",
      "False\n"
     ]
    }
   ],
   "source": [
    "print(a.isdecimal())\n",
    "print(b.isdecimal())\n",
    "print(c.isdecimal())\n",
    "print(e.isdecimal())\n",
    "print(g.isdecimal())\n",
    "print(H.isdecimal())"
   ]
  },
  {
   "cell_type": "raw",
   "id": "e98e17b7-5985-494f-ad0c-c34df205df48",
   "metadata": {},
   "source": [
    "a = \"hello\"\n",
    "b = \"123hello\"\n",
    "c = \"123456\"\n",
    "d =\"HELLO every0ne\"\n",
    "e = \"\"\n",
    "f =\"hello 123\"\n",
    "g = \"1.234\"\n",
    "H=\"Harry Potter And The Goblet Of Fire\""
   ]
  },
  {
   "cell_type": "code",
   "execution_count": 29,
   "id": "363162c4-fbe4-415f-8882-d3343cb1d3c1",
   "metadata": {},
   "outputs": [
    {
     "name": "stdout",
     "output_type": "stream",
     "text": [
      "False\n",
      "False\n",
      "True\n",
      "False\n",
      "False\n",
      "False\n",
      "False\n",
      "<built-in method isdigit of str object at 0x0000020FF6400DF0>\n"
     ]
    }
   ],
   "source": [
    "print(a.isdigit())\n",
    "print(b.isdigit())\n",
    "print(c.isdigit())\n",
    "print(d.isdigit())\n",
    "print(e.isdigit())\n",
    "print(f.isdigit())\n",
    "print(g.isdigit())\n",
    "print(H.isdigit)"
   ]
  },
  {
   "cell_type": "code",
   "execution_count": 31,
   "id": "1e87be5c-a20b-46f5-84a0-3be4e9476d38",
   "metadata": {},
   "outputs": [
    {
     "name": "stdout",
     "output_type": "stream",
     "text": [
      "False\n",
      "False\n",
      "True\n",
      "False\n",
      "False\n",
      "False\n",
      "False\n",
      "False\n"
     ]
    }
   ],
   "source": [
    "print(a.isnumeric())\n",
    "print(b.isnumeric())\n",
    "print(c.isnumeric())\n",
    "print(d.isnumeric())\n",
    "print(e.isnumeric())\n",
    "print(f.isnumeric())\n",
    "print(g.isnumeric())\n",
    "print(H.isnumeric())"
   ]
  },
  {
   "cell_type": "code",
   "execution_count": 32,
   "id": "dbf60343-2584-42d6-a379-720e9aa2d92a",
   "metadata": {},
   "outputs": [
    {
     "name": "stdout",
     "output_type": "stream",
     "text": [
      "hello\n"
     ]
    }
   ],
   "source": [
    "print(a.lower())"
   ]
  },
  {
   "cell_type": "code",
   "execution_count": 33,
   "id": "8a7ca9a5-6c66-45d2-8557-a0f58e866eef",
   "metadata": {},
   "outputs": [
    {
     "name": "stdout",
     "output_type": "stream",
     "text": [
      "HELLO\n"
     ]
    }
   ],
   "source": [
    "print(a.upper())"
   ]
  },
  {
   "cell_type": "code",
   "execution_count": 37,
   "id": "0227140c-226d-4f4e-8947-8c136891481e",
   "metadata": {},
   "outputs": [
    {
     "name": "stdout",
     "output_type": "stream",
     "text": [
      "False\n",
      "<built-in method isspace of str object at 0x00007FF9115E36C0>\n"
     ]
    }
   ],
   "source": [
    "print(a.isspace())\n",
    "print(e.isspace)"
   ]
  },
  {
   "cell_type": "code",
   "execution_count": 39,
   "id": "fe2d5f78-ea24-4fcd-8d08-5cab207897c9",
   "metadata": {},
   "outputs": [
    {
     "name": "stdout",
     "output_type": "stream",
     "text": [
      "False\n",
      "True\n"
     ]
    }
   ],
   "source": [
    "print(a.istitle())\n",
    "print(H.istitle())"
   ]
  },
  {
   "cell_type": "code",
   "execution_count": null,
   "id": "1666fb62-8f56-4df8-85ee-b8eee4dae242",
   "metadata": {},
   "outputs": [],
   "source": []
  }
 ],
 "metadata": {
  "kernelspec": {
   "display_name": "Python 3 (ipykernel)",
   "language": "python",
   "name": "python3"
  },
  "language_info": {
   "codemirror_mode": {
    "name": "ipython",
    "version": 3
   },
   "file_extension": ".py",
   "mimetype": "text/x-python",
   "name": "python",
   "nbconvert_exporter": "python",
   "pygments_lexer": "ipython3",
   "version": "3.13.0"
  }
 },
 "nbformat": 4,
 "nbformat_minor": 5
}
