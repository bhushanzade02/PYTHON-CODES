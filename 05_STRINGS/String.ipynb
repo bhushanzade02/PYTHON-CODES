{
 "cells": [
  {
   "cell_type": "markdown",
   "id": "5490006c-a69b-4d0f-913f-39dec8fa2aa4",
   "metadata": {},
   "source": [
    "## lenth find"
   ]
  },
  {
   "cell_type": "code",
   "execution_count": 1,
   "id": "867f979f-f790-489d-99ca-07ba9222c2f6",
   "metadata": {},
   "outputs": [
    {
     "name": "stdout",
     "output_type": "stream",
     "text": [
      "19\n"
     ]
    }
   ],
   "source": [
    "a=\"Bhushan Sanajy Zade\"\n",
    "print(len(a))"
   ]
  },
  {
   "cell_type": "markdown",
   "id": "e1641ea2-9654-4e4b-9a19-5e88a6acb39f",
   "metadata": {},
   "source": [
    "## count"
   ]
  },
  {
   "cell_type": "code",
   "execution_count": 2,
   "id": "e985e919-0e69-40d8-9bb4-322715b32aab",
   "metadata": {},
   "outputs": [
    {
     "name": "stdout",
     "output_type": "stream",
     "text": [
      "2\n"
     ]
    }
   ],
   "source": [
    "a=\"hello world\"\n",
    "print(a.count(\"o\"))"
   ]
  },
  {
   "cell_type": "markdown",
   "id": "03637d66-51d7-48dd-a1e3-9e7f55e1922c",
   "metadata": {},
   "source": [
    "## upper"
   ]
  },
  {
   "cell_type": "code",
   "execution_count": 6,
   "id": "24166535-10bd-4f5d-9f36-71b0393aea59",
   "metadata": {},
   "outputs": [
    {
     "name": "stdout",
     "output_type": "stream",
     "text": [
      "HELLO WORLD\n"
     ]
    }
   ],
   "source": [
    "a=\"hello world\"\n",
    "print(a.upper())"
   ]
  },
  {
   "cell_type": "markdown",
   "id": "3367a48f-b87a-44e5-9c1b-bef95521dd14",
   "metadata": {},
   "source": [
    "## lower"
   ]
  },
  {
   "cell_type": "code",
   "execution_count": 10,
   "id": "0cf2cf62-f4a6-4976-b036-fd0a37998cdc",
   "metadata": {},
   "outputs": [
    {
     "name": "stdout",
     "output_type": "stream",
     "text": [
      "bhushan sanjay zade\n"
     ]
    }
   ],
   "source": [
    "a=\"BHUSHAN SANJAY ZADE\"\n",
    "print(a.lower())"
   ]
  },
  {
   "cell_type": "markdown",
   "id": "67a47401-0b35-4b69-acb2-1710f8fd909d",
   "metadata": {},
   "source": [
    "## index"
   ]
  },
  {
   "cell_type": "code",
   "execution_count": 13,
   "id": "304179b5-a78a-4051-8dab-07b965298e49",
   "metadata": {},
   "outputs": [
    {
     "name": "stdout",
     "output_type": "stream",
     "text": [
      "8\n"
     ]
    }
   ],
   "source": [
    "a=\"one two three four\"\n",
    "print(a.index(\"three\"))"
   ]
  },
  {
   "cell_type": "markdown",
   "id": "bb05037d-d3d1-4128-9714-45f93852e8fd",
   "metadata": {},
   "source": [
    "## captiliaze"
   ]
  },
  {
   "cell_type": "code",
   "execution_count": 17,
   "id": "c86c65b0-8f79-45ed-9f51-22adc989b7e5",
   "metadata": {},
   "outputs": [
    {
     "name": "stdout",
     "output_type": "stream",
     "text": [
      "Bhsuhzade\n"
     ]
    }
   ],
   "source": [
    "a = \"bhsuhzade\"\n",
    "print(a.capitalize())\n"
   ]
  },
  {
   "cell_type": "code",
   "execution_count": 19,
   "id": "d49d8c43-7270-4ce7-be50-63b9c6a1631c",
   "metadata": {},
   "outputs": [
    {
     "name": "stdout",
     "output_type": "stream",
     "text": [
      "9\n"
     ]
    }
   ],
   "source": [
    "a = \"hekllo i amm melody\"\n",
    "print(a.find(\"amm\"))"
   ]
  },
  {
   "cell_type": "markdown",
   "id": "a513377c-de1a-48e6-8909-969ff7c3e60e",
   "metadata": {},
   "source": [
    "## format"
   ]
  },
  {
   "cell_type": "code",
   "execution_count": 25,
   "id": "dd7fab78-5dbd-45fd-ac91-5c358bcffce2",
   "metadata": {},
   "outputs": [
    {
     "name": "stdout",
     "output_type": "stream",
     "text": [
      "my name us ALICEand i am 57 year old\n"
     ]
    }
   ],
   "source": [
    "name = \"ALICE\" \n",
    "age=57\n",
    "result= \"my name us {}and i am {} year old\".format(name,age)\n",
    "print(result)"
   ]
  },
  {
   "cell_type": "markdown",
   "id": "c702bada-4610-4202-ba6e-245563dc2724",
   "metadata": {},
   "source": [
    "## find"
   ]
  },
  {
   "cell_type": "code",
   "execution_count": 28,
   "id": "af5d3a19-6b21-4b46-bb77-ff114f41d73f",
   "metadata": {},
   "outputs": [
    {
     "name": "stdout",
     "output_type": "stream",
     "text": [
      "2\n"
     ]
    }
   ],
   "source": [
    "a=\" my name is bhushan i am 3 years old boy\"\n",
    "print(a.find(\"y\"))"
   ]
  },
  {
   "cell_type": "markdown",
   "id": "0eb1d47a-e7c5-4e0f-8655-c412bfbef9bb",
   "metadata": {},
   "source": [
    "## center"
   ]
  },
  {
   "cell_type": "code",
   "execution_count": 32,
   "id": "fc06006d-38bc-49b0-bcb9-0c16ea4a1bc6",
   "metadata": {},
   "outputs": [
    {
     "name": "stdout",
     "output_type": "stream",
     "text": [
      "**********************************************Bhushan***********************************************\n"
     ]
    }
   ],
   "source": [
    "z=\"Bhushan\"\n",
    "print(z.center(100,\"*\"))"
   ]
  },
  {
   "cell_type": "markdown",
   "id": "5f771e13-e3c5-4269-9881-26a985cf6062",
   "metadata": {},
   "source": [
    "## casefold"
   ]
  },
  {
   "cell_type": "code",
   "execution_count": 36,
   "id": "311ea7d0-81ab-4337-b6ca-05a26e08bdee",
   "metadata": {},
   "outputs": [
    {
     "name": "stdout",
     "output_type": "stream",
     "text": [
      "my name is dell i am doing some computaionak work\n"
     ]
    }
   ],
   "source": [
    "text=\"My name is dell I am doing some computaionak work\"\n",
    "print(text.casefold())"
   ]
  },
  {
   "cell_type": "code",
   "execution_count": null,
   "id": "b1088405-969b-42fa-9c50-3ef9cb25dd0f",
   "metadata": {},
   "outputs": [],
   "source": []
  }
 ],
 "metadata": {
  "kernelspec": {
   "display_name": "Python 3 (ipykernel)",
   "language": "python",
   "name": "python3"
  },
  "language_info": {
   "codemirror_mode": {
    "name": "ipython",
    "version": 3
   },
   "file_extension": ".py",
   "mimetype": "text/x-python",
   "name": "python",
   "nbconvert_exporter": "python",
   "pygments_lexer": "ipython3",
   "version": "3.13.0"
  }
 },
 "nbformat": 4,
 "nbformat_minor": 5
}
