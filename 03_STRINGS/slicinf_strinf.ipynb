{
 "cells": [
  {
   "cell_type": "code",
   "execution_count": 8,
   "id": "27beebc1-e238-4d58-bfec-7683902c1baa",
   "metadata": {},
   "outputs": [],
   "source": [
    "a = \"Why fit in, when you are Born to stand out!\""
   ]
  },
  {
   "cell_type": "code",
   "execution_count": 9,
   "id": "2f5370d3-f189-415f-b653-8851d7bb92a8",
   "metadata": {},
   "outputs": [
    {
     "name": "stdout",
     "output_type": "stream",
     "text": [
      "Why fit in, when you are Born to stand out!\n"
     ]
    }
   ],
   "source": [
    "print(a)"
   ]
  },
  {
   "cell_type": "code",
   "execution_count": 10,
   "id": "75c861ad-c2c2-4b0e-adf0-902d0b187dd2",
   "metadata": {},
   "outputs": [
    {
     "name": "stdout",
     "output_type": "stream",
     "text": [
      "43\n"
     ]
    }
   ],
   "source": [
    "print(len(a))"
   ]
  },
  {
   "cell_type": "code",
   "execution_count": 11,
   "id": "4191f66f-93b2-4662-bc9e-ecca9877a6a4",
   "metadata": {},
   "outputs": [
    {
     "name": "stdout",
     "output_type": "stream",
     "text": [
      "4\n"
     ]
    }
   ],
   "source": [
    "print(a.count(\"o\"))"
   ]
  },
  {
   "cell_type": "code",
   "execution_count": 12,
   "id": "b431af49-8254-4320-ab25-ed0373548f50",
   "metadata": {},
   "outputs": [
    {
     "name": "stdout",
     "output_type": "stream",
     "text": [
      "why fit in, when you are born to stand out!\n"
     ]
    }
   ],
   "source": [
    "print(a.lower())"
   ]
  },
  {
   "cell_type": "code",
   "execution_count": 13,
   "id": "16c0aa31-4a6f-4812-a3d0-5983827114fe",
   "metadata": {},
   "outputs": [
    {
     "name": "stdout",
     "output_type": "stream",
     "text": [
      "WHY FIT IN, WHEN YOU ARE BORN TO STAND OUT!\n"
     ]
    }
   ],
   "source": [
    "print(a.upper())"
   ]
  },
  {
   "cell_type": "code",
   "execution_count": 14,
   "id": "fa50238b-13eb-466f-896e-63ecd88b8665",
   "metadata": {},
   "outputs": [
    {
     "name": "stdout",
     "output_type": "stream",
     "text": [
      "Why Fit In, When You Are Born To Stand Out!\n"
     ]
    }
   ],
   "source": [
    "print(a.title())"
   ]
  },
  {
   "cell_type": "code",
   "execution_count": 16,
   "id": "5db40412-cb10-4b8a-bc83-957ae45c6db2",
   "metadata": {},
   "outputs": [
    {
     "name": "stdout",
     "output_type": "stream",
     "text": [
      "4\n"
     ]
    }
   ],
   "source": [
    "print(a.index(\"fit in\"))"
   ]
  },
  {
   "cell_type": "code",
   "execution_count": 18,
   "id": "451ca90a-585c-4f5c-8e26-718e27622ff1",
   "metadata": {},
   "outputs": [
    {
     "name": "stdout",
     "output_type": "stream",
     "text": [
      "4\n"
     ]
    }
   ],
   "source": [
    "print(a.rfind(\"fit in\"))"
   ]
  },
  {
   "cell_type": "code",
   "execution_count": 23,
   "id": "a8cec427-7021-4a93-be2b-9dccc4fd78b0",
   "metadata": {},
   "outputs": [],
   "source": [
    "A=\"OOTD.YOLO.ASAP.BRB.GTG.OTW\""
   ]
  },
  {
   "cell_type": "code",
   "execution_count": 24,
   "id": "7ce6823c-6d5c-4c8d-8b73-509797152709",
   "metadata": {},
   "outputs": [
    {
     "name": "stdout",
     "output_type": "stream",
     "text": [
      "OOTD.YOLO.ASAP.BRB.GTG.OTW\n"
     ]
    }
   ],
   "source": [
    "print(A)"
   ]
  },
  {
   "cell_type": "code",
   "execution_count": 25,
   "id": "dccc1610-33c8-4c62-ab75-363b3369fc2a",
   "metadata": {},
   "outputs": [
    {
     "name": "stdout",
     "output_type": "stream",
     "text": [
      "['OOTD', 'YOLO', 'ASAP', 'BRB', 'GTG', 'OTW']\n"
     ]
    }
   ],
   "source": [
    "print(A.split(\".\"))"
   ]
  },
  {
   "cell_type": "code",
   "execution_count": 27,
   "id": "977108d3-837e-4334-bdb9-6314f10ac638",
   "metadata": {},
   "outputs": [
    {
     "name": "stdout",
     "output_type": "stream",
     "text": [
      "OOTD.YOLO.ASAP.BRB.GTG.OTW\n"
     ]
    }
   ],
   "source": [
    "b=sorted(A)\n",
    "print(A)"
   ]
  },
  {
   "cell_type": "code",
   "execution_count": 28,
   "id": "05430695-9062-4c39-a7a2-f439c7251732",
   "metadata": {},
   "outputs": [
    {
     "name": "stdout",
     "output_type": "stream",
     "text": [
      "hllo\n"
     ]
    }
   ],
   "source": [
    "c=\"hello\"\n",
    "d=c.replace(\"e\",\"\")\n",
    "print(d)"
   ]
  },
  {
   "cell_type": "code",
   "execution_count": 30,
   "id": "f2cbe293-dcee-40eb-8171-88da596abeba",
   "metadata": {},
   "outputs": [
    {
     "name": "stdout",
     "output_type": "stream",
     "text": [
      "FRIENDS\n"
     ]
    }
   ],
   "source": [
    "e=\"F.R.I.E.N.D.S\"\n",
    "f=e.replace(\".\",\"\")\n",
    "print(f)"
   ]
  },
  {
   "cell_type": "code",
   "execution_count": 32,
   "id": "cf64c7a1-ab1f-44c8-bd93-e3027ebb0fb5",
   "metadata": {},
   "outputs": [
    {
     "name": "stdout",
     "output_type": "stream",
     "text": [
      "3\n"
     ]
    }
   ],
   "source": [
    "g=\"she sells seashells on the sea sea shores\"\n",
    "b=g.count(\"sea\")\n",
    "print(b)\n"
   ]
  },
  {
   "cell_type": "code",
   "execution_count": 43,
   "id": "041d29a2-6aa0-49b7-8a01-303cd1ddd9b3",
   "metadata": {},
   "outputs": [
    {
     "name": "stdin",
     "output_type": "stream",
     "text": [
      " harry potter\n"
     ]
    },
    {
     "name": "stdout",
     "output_type": "stream",
     "text": [
      "harry potter\n"
     ]
    }
   ],
   "source": [
    "a=input(\"\")\n",
    "print(a)"
   ]
  },
  {
   "cell_type": "code",
   "execution_count": 44,
   "id": "1d58c67d-c62a-401f-a3cf-f5d681c2092e",
   "metadata": {},
   "outputs": [
    {
     "name": "stdout",
     "output_type": "stream",
     "text": [
      "rettop yrrah\n"
     ]
    }
   ],
   "source": [
    "print(a[::-1])"
   ]
  },
  {
   "cell_type": "code",
   "execution_count": 55,
   "id": "a252c5f3-2b29-4c46-8e74-b9aca32f0cf0",
   "metadata": {},
   "outputs": [
    {
     "name": "stdin",
     "output_type": "stream",
     "text": [
      " 272684\n"
     ]
    },
    {
     "name": "stdout",
     "output_type": "stream",
     "text": [
      "True\n",
      "it is a digit\n"
     ]
    }
   ],
   "source": [
    "x=input(\"\")\n",
    "b=(x.isdigit())\n",
    "print(b)\n",
    "if b==True:\n",
    "    print(\"it is a digit\")\n",
    "else:\n",
    "    print(\"it is not a digit\")"
   ]
  },
  {
   "cell_type": "code",
   "execution_count": 60,
   "id": "ca3f1390-abc4-45ca-9699-ffcddc44b6f2",
   "metadata": {},
   "outputs": [
    {
     "name": "stdin",
     "output_type": "stream",
     "text": [
      " iti\n"
     ]
    },
    {
     "name": "stdout",
     "output_type": "stream",
     "text": [
      "it is a palindrome\n"
     ]
    }
   ],
   "source": [
    "a=input(\"\")\n",
    "if a == a[::-1]:\n",
    "    print(\"it is a palindrome\")\n",
    "else:\n",
    "    print(\"it is not a palindrome\")"
   ]
  },
  {
   "cell_type": "code",
   "execution_count": 75,
   "id": "6447a889-9a66-40ad-82c1-689b67a9234a",
   "metadata": {},
   "outputs": [
    {
     "name": "stdout",
     "output_type": "stream",
     "text": [
      "2\n"
     ]
    }
   ],
   "source": [
    "a=\"hello\"\n",
    "vowels=0\n",
    "for i in a:\n",
    "    if i==\"a\" or i==\"e\" or i==\"i\" or i==\"o\" or i==\"u\":\n",
    "        vowels +=1\n",
    "print(vowels)"
   ]
  },
  {
   "cell_type": "code",
   "execution_count": null,
   "id": "bcdf0b01-a1a9-465c-bbbb-7ebc2154b294",
   "metadata": {},
   "outputs": [],
   "source": []
  }
 ],
 "metadata": {
  "kernelspec": {
   "display_name": "Python 3 (ipykernel)",
   "language": "python",
   "name": "python3"
  },
  "language_info": {
   "codemirror_mode": {
    "name": "ipython",
    "version": 3
   },
   "file_extension": ".py",
   "mimetype": "text/x-python",
   "name": "python",
   "nbconvert_exporter": "python",
   "pygments_lexer": "ipython3",
   "version": "3.13.0"
  }
 },
 "nbformat": 4,
 "nbformat_minor": 5
}
